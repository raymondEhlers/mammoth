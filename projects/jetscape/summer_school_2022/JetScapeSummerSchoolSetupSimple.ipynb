{
 "cells": [
  {
   "cell_type": "markdown",
   "metadata": {},
   "source": [
    "# Model prediction maker"
   ]
  },
  {
   "cell_type": "markdown",
   "metadata": {},
   "source": [
    "Model setup is as follows: we have dijet asymmetry data prepared, where the asymmetry AJ is defined as the difference between the two jets divided by the sum. Specifically,\n",
    "\n",
    "$$A_{\\mathrm{j}} = \\frac{p_{\\mathrm{T, 1}} - p_{\\mathrm{T, 2}}}{p_{\\mathrm{T, 1}} + p_{\\mathrm{T, 2}}}$$\n",
    "\n",
    "We will construct a model to describe the energy loss observed in the dijet asymmetry.  For this model, we consider back-to-back dijets.  Each jet can lose energy, and the lost energy is parameterized as\n",
    "\n",
    "$$ \\Delta p_{\\mathrm{T}} / p_{\\mathrm{T}} \\sim A \\times Gaus(1, 1)$$\n",
    "\n",
    "In addition to the energy loss contribution, we have extra \"apparent\" smearing on the AJ coming from the fact that we have other processes going on in the events (three jets etc).  It is parameterized as a Gaussian smearing on AJ with width B. So there are three total parameters: A and B.\n",
    "\n",
    "The measurement is done in two bins of centrality.  One in central event, where (A, B) are all relevant, and another one in very peripheral event, where only the parameter (B) is relevant.\n",
    "\n",
    "The goal here in this notebook is to make the inputs needed for Bayesian inference to learn about A and B from the provided data"
   ]
  },
  {
   "cell_type": "code",
   "execution_count": 1,
   "metadata": {},
   "outputs": [],
   "source": [
    "from pathlib import Path\n",
    "\n",
    "import numpy as np\n",
    "\n",
    "folder = Path('input/AJExample/')\n",
    "folder.mkdir(parents=True, exist_ok=True)"
   ]
  },
  {
   "cell_type": "code",
   "execution_count": 2,
   "metadata": {},
   "outputs": [],
   "source": [
    "DataXMin        = 0.000\n",
    "DataXMax        = 1.000\n",
    "DataXBin        = 0.050\n",
    "\n",
    "DataNBin        = int((DataXMax - DataXMin) / DataXBin)\n",
    "\n",
    "# how many design points do you want to generate?\n",
    "NDesign         = 40\n",
    "\n",
    "# What is the upper parameter range (one each for A, B)?\n",
    "# The lower range for each parameter is 0 by construction.\n",
    "# Hint: start with a large-range guess!  Then we can come back and reduce range\n",
    "ParameterRanges = [0.3, 0.3]"
   ]
  },
  {
   "cell_type": "markdown",
   "metadata": {},
   "source": [
    "## The \"prediction\" function\n",
    "\n",
    "Let's write a function, where we do the required smearing, make a histogram on the final AJ, and return the prediction"
   ]
  },
  {
   "cell_type": "code",
   "execution_count": 3,
   "metadata": {},
   "outputs": [],
   "source": [
    "def Predict(A, B, N = 100000):\n",
    "    print(\"Running prediction with\", A, B)\n",
    "    \n",
    "    Hist = np.zeros(DataNBin)\n",
    "    \n",
    "    for i in range(N):\n",
    "        # Jet 1 and jet 2 PT (J1 and J2) after quenching.\n",
    "        # Assuming initial energy is 100 GeV, and (delta PT / PT) ~ gaus(A, B), calculate the final energy\n",
    "        # Jet PT = 100 GeV * (?)\n",
    "        # Note that the initial energy cancels out in AJ\n",
    "        # Useful function: np.random.normal(1, 2) gives you a random sampling with gaussian mean 1 and sigma 2\n",
    "        J1 = 100 * (1 - A * np.random.normal(1, 1))\n",
    "        J2 = 100 * (1 - A * np.random.normal(1, 1))\n",
    "        # Calculate AJ from the PTs\n",
    "        AJ = (J1 - J2) / (J1 + J2)\n",
    "        # Adding extra gaussian smearing from parameter C\n",
    "        AJ = AJ + np.random.normal(0, B)\n",
    "        # AJ is defined to be leading - subleading -> positive!\n",
    "        AJ = np.abs(AJ)\n",
    "\n",
    "        # put things into bins\n",
    "        Bin = int((AJ - DataXMin) / DataXBin)\n",
    "        if Bin < 0:   # underflow\n",
    "            Bin = 0\n",
    "        if Bin >= DataNBin:   # overflow\n",
    "            continue\n",
    "            # Bin = DataNBin - 1\n",
    "        \n",
    "        Hist[Bin] = Hist[Bin] + 1\n",
    "        \n",
    "    return Hist / N"
   ]
  },
  {
   "cell_type": "markdown",
   "metadata": {},
   "source": [
    "### Test the prediction (cross check for yourself)"
   ]
  },
  {
   "cell_type": "code",
   "execution_count": 4,
   "metadata": {},
   "outputs": [
    {
     "name": "stdout",
     "output_type": "stream",
     "text": [
      "Running prediction with 0.2 0.1\n"
     ]
    },
    {
     "data": {
      "text/plain": [
       "array([1.9343e-01, 1.8071e-01, 1.6028e-01, 1.3167e-01, 1.0427e-01,\n",
       "       7.8980e-02, 5.3920e-02, 3.6330e-02, 2.4160e-02, 1.5070e-02,\n",
       "       9.2600e-03, 5.2700e-03, 3.0400e-03, 1.5700e-03, 9.2000e-04,\n",
       "       5.0000e-04, 2.5000e-04, 2.4000e-04, 6.0000e-05, 1.0000e-05])"
      ]
     },
     "execution_count": 4,
     "metadata": {},
     "output_type": "execute_result"
    }
   ],
   "source": [
    "# Test predicting one point - to see if the output makes sense or not\n",
    "# Once you are happy, we move on!\n",
    "example_prediction = Predict(0.2, 0.1)\n",
    "example_prediction"
   ]
  },
  {
   "cell_type": "code",
   "execution_count": 5,
   "metadata": {},
   "outputs": [
    {
     "data": {
      "text/plain": [
       "[<matplotlib.lines.Line2D at 0x7f9cfc0e2710>]"
      ]
     },
     "execution_count": 5,
     "metadata": {},
     "output_type": "execute_result"
    },
    {
     "data": {
      "image/png": "[encoded data removed]",
      "text/plain": [
       "<Figure size 360x360 with 1 Axes>"
      ]
     },
     "metadata": {
      "needs_background": "light"
     },
     "output_type": "display_data"
    }
   ],
   "source": [
    "# Alternatively (or in addition), plot the AJ distribution for our single point\n",
    "import matplotlib.pyplot as plt\n",
    "fig, ax = plt.subplots(figsize=(5,5))\n",
    "ax.plot(np.arange(DataXMin, DataXMax, DataXBin) + (DataXBin / 2), example_prediction, marker=\"o\", linestyle=\"\")"
   ]
  },
  {
   "cell_type": "markdown",
   "metadata": {},
   "source": [
    "## Making the design points\n",
    "\n",
    "Let's start with a very simple random array :D\n",
    "\n",
    "In reality we would use something more complicated to distribute the points better, but let's start simple.  Fancy stuff is just a better way to achieve the same purpose."
   ]
  },
  {
   "cell_type": "code",
   "execution_count": 6,
   "metadata": {},
   "outputs": [],
   "source": [
    "Design = np.random.rand(NDesign, 2) * ParameterRanges"
   ]
  },
  {
   "cell_type": "markdown",
   "metadata": {},
   "source": [
    "## Preparing the model predictions\n",
    "\n",
    "Let's loop over the design points, and call the predict function we just wrote to make a big table!\n",
    "\n",
    "This step takes a while, like a few minutes.  Please be patient."
   ]
  },
  {
   "cell_type": "code",
   "execution_count": 7,
   "metadata": {},
   "outputs": [
    {
     "name": "stdout",
     "output_type": "stream",
     "text": [
      "Running prediction with 0.18362857682471684 0.2542275396393057\n",
      "Running prediction with 0.21206301145756093 0.15188898999739897\n",
      "Running prediction with 0.27670523832373306 0.149900205452692\n",
      "Running prediction with 0.23845111934452148 0.04923206560412998\n",
      "Running prediction with 0.0942790002697786 0.057780995743843475\n",
      "Running prediction with 0.29504003914393745 0.09366046994416402\n",
      "Running prediction with 0.18124492840241904 0.015565415721694419\n",
      "Running prediction with 0.10190839789931015 0.19464117226907118\n",
      "Running prediction with 0.2538109051903424 0.25739032141953383\n",
      "Running prediction with 0.2890751074811381 0.013299268931887454\n",
      "Running prediction with 0.21686534113975836 0.04422892733944771\n",
      "Running prediction with 0.23790543987171103 0.2417491268209972\n",
      "Running prediction with 0.1727888774922525 0.02872051249804347\n",
      "Running prediction with 0.16803976315141056 0.1613350517361802\n",
      "Running prediction with 0.07005702093317338 0.20933093357628973\n",
      "Running prediction with 0.08532590940728667 0.2832470203299554\n",
      "Running prediction with 0.033539042361243644 0.10438081265912388\n",
      "Running prediction with 0.10279069527717404 0.26913207833061875\n",
      "Running prediction with 0.21126511201119488 0.29571910131566637\n",
      "Running prediction with 0.15799917496854693 0.21194590736586022\n",
      "Running prediction with 0.17504498043396785 0.09815214332515357\n",
      "Running prediction with 0.24108648711660868 0.2748622639379967\n",
      "Running prediction with 0.17239898631427036 0.18945057049061584\n",
      "Running prediction with 0.23256522470709012 0.11089953039324899\n",
      "Running prediction with 0.017686668958458152 0.1398028152645743\n",
      "Running prediction with 0.22106978345646186 0.2624145537947889\n",
      "Running prediction with 0.22326966768906145 0.002372765527259668\n",
      "Running prediction with 0.10874827090256468 0.2278223818874654\n",
      "Running prediction with 0.2678179751256506 0.06761357783736695\n",
      "Running prediction with 0.29981905884513604 0.27356298816749913\n",
      "Running prediction with 0.14116942150050465 0.07909431313864396\n",
      "Running prediction with 0.20970319645223204 0.19583388194767362\n",
      "Running prediction with 0.2409727736052788 0.24747485232022576\n",
      "Running prediction with 0.22003692475113817 0.11005728083267113\n",
      "Running prediction with 0.05380600398136751 0.02228891684763451\n",
      "Running prediction with 0.22790537052601437 0.22170744868875733\n",
      "Running prediction with 0.1983443929983976 0.29285270870644287\n",
      "Running prediction with 0.184047526236307 0.2887916216134256\n",
      "Running prediction with 0.04186100856232914 0.16303784989684258\n",
      "Running prediction with 0.2708950466171404 0.033594039026709654\n",
      "Running prediction with 0 0.2542275396393057\n",
      "Running prediction with 0 0.15188898999739897\n",
      "Running prediction with 0 0.149900205452692\n",
      "Running prediction with 0 0.04923206560412998\n",
      "Running prediction with 0 0.057780995743843475\n",
      "Running prediction with 0 0.09366046994416402\n",
      "Running prediction with 0 0.015565415721694419\n",
      "Running prediction with 0 0.19464117226907118\n",
      "Running prediction with 0 0.25739032141953383\n",
      "Running prediction with 0 0.013299268931887454\n",
      "Running prediction with 0 0.04422892733944771\n",
      "Running prediction with 0 0.2417491268209972\n",
      "Running prediction with 0 0.02872051249804347\n",
      "Running prediction with 0 0.1613350517361802\n",
      "Running prediction with 0 0.20933093357628973\n",
      "Running prediction with 0 0.2832470203299554\n",
      "Running prediction with 0 0.10438081265912388\n",
      "Running prediction with 0 0.26913207833061875\n",
      "Running prediction with 0 0.29571910131566637\n",
      "Running prediction with 0 0.21194590736586022\n",
      "Running prediction with 0 0.09815214332515357\n",
      "Running prediction with 0 0.2748622639379967\n",
      "Running prediction with 0 0.18945057049061584\n",
      "Running prediction with 0 0.11089953039324899\n",
      "Running prediction with 0 0.1398028152645743\n",
      "Running prediction with 0 0.2624145537947889\n",
      "Running prediction with 0 0.002372765527259668\n",
      "Running prediction with 0 0.2278223818874654\n",
      "Running prediction with 0 0.06761357783736695\n",
      "Running prediction with 0 0.27356298816749913\n",
      "Running prediction with 0 0.07909431313864396\n",
      "Running prediction with 0 0.19583388194767362\n",
      "Running prediction with 0 0.24747485232022576\n",
      "Running prediction with 0 0.11005728083267113\n",
      "Running prediction with 0 0.02228891684763451\n",
      "Running prediction with 0 0.22170744868875733\n",
      "Running prediction with 0 0.29285270870644287\n",
      "Running prediction with 0 0.2887916216134256\n",
      "Running prediction with 0 0.16303784989684258\n",
      "Running prediction with 0 0.033594039026709654\n"
     ]
    }
   ],
   "source": [
    "# Generate prediction for \"central\" data\n",
    "Y1 = [Predict(i[0], i[1]) for i in Design]\n",
    "# Generate prediction for \"peripheral\" data.  Note here A and B are irrelevant.  So we set them to 0\n",
    "Y2 = [Predict(0, i[1]) for i in Design]"
   ]
  },
  {
   "cell_type": "markdown",
   "metadata": {},
   "source": [
    "## Write everything out"
   ]
  },
  {
   "cell_type": "code",
   "execution_count": 8,
   "metadata": {},
   "outputs": [],
   "source": [
    "with open(Folder + 'Prediction_Selection1.dat', 'w') as f:\n",
    "    f.write('# Version 1.0\\n')\n",
    "    f.write('# Data Data_Selection1.dat\\n')\n",
    "    f.write('# Design Design.dat\\n')\n",
    "    np.savetxt(f, np.transpose(Y1))"
   ]
  },
  {
   "cell_type": "code",
   "execution_count": 9,
   "metadata": {},
   "outputs": [],
   "source": [
    "with open(Folder + 'Prediction_Selection2.dat', 'w') as f:\n",
    "    f.write('# Version 1.0\\n')\n",
    "    f.write('# Data Data_Selection2.dat\\n')\n",
    "    f.write('# Design Design.dat\\n')\n",
    "    np.savetxt(f, np.transpose(Y2))"
   ]
  },
  {
   "cell_type": "code",
   "execution_count": 10,
   "metadata": {},
   "outputs": [],
   "source": [
    "with open(Folder + 'Design.dat', 'w') as f:\n",
    "    f.write('# Version 1.0\\n')\n",
    "    f.write('# Parameter A B\\n')\n",
    "    np.savetxt(f, Design)"
   ]
  },
  {
   "cell_type": "markdown",
   "metadata": {},
   "source": [
    "## Making fake data"
   ]
  },
  {
   "cell_type": "code",
   "execution_count": 11,
   "metadata": {},
   "outputs": [
    {
     "name": "stdout",
     "output_type": "stream",
     "text": [
      "Running prediction with 0.25 0.1\n",
      "Running prediction with 0 0.1\n"
     ]
    }
   ],
   "source": [
    "Truth = [0.20, 0.10]\n",
    "\n",
    "DataY1 = Predict(Truth[0], Truth[1], N = 100000)\n",
    "DataY2 = Predict(0, Truth[1], N = 100000)"
   ]
  },
  {
   "cell_type": "code",
   "execution_count": 12,
   "metadata": {},
   "outputs": [],
   "source": [
    "XMin = np.array(range(0, DataNBin)) * DataXBin\n",
    "XMax = np.array(range(1, DataNBin + 1)) * DataXBin\n",
    "\n",
    "Stat = 0.001\n",
    "Sys = 0.010\n",
    "\n",
    "Data1 = np.zeros((DataNBin, 7))\n",
    "Data2 = np.zeros((DataNBin, 7))\n",
    "\n",
    "Data1[:,0] = XMin\n",
    "Data1[:,1] = XMax\n",
    "Data1[:,2] = DataY1\n",
    "Data1[:,3] = Stat\n",
    "Data1[:,4] = Stat\n",
    "Data1[:,5] = Sys\n",
    "Data1[:,6] = Sys\n",
    "\n",
    "Data2[:,0] = XMin\n",
    "Data2[:,1] = XMax\n",
    "Data2[:,2] = DataY2\n",
    "Data2[:,3] = Stat\n",
    "Data2[:,4] = Stat\n",
    "Data2[:,5] = Sys\n",
    "Data2[:,6] = Sys"
   ]
  },
  {
   "cell_type": "code",
   "execution_count": 13,
   "metadata": {},
   "outputs": [],
   "source": [
    "with open(Folder + 'Data_Selection1.dat', 'w') as f:\n",
    "    f.write('# Version 1.0\\n')\n",
    "    f.write('# DOI None\\n')\n",
    "    f.write('# Source None\\n')\n",
    "    f.write('# Experiment JetScape\\n')\n",
    "    f.write('# System PbPb5020\\n')\n",
    "    f.write('# Centrality 0to10\\n')\n",
    "    f.write('# XY AJ DNDAJ\\n')\n",
    "    f.write('# Label xmin xmax y stat,low stat,high sys,low sys,high\\n')\n",
    "    np.savetxt(f, Data1)\n",
    "    \n",
    "with open(Folder + 'Data_Selection2.dat', 'w') as f:\n",
    "    f.write('# Version 1.0\\n')\n",
    "    f.write('# DOI None\\n')\n",
    "    f.write('# Source None\\n')\n",
    "    f.write('# Experiment JetScape\\n')\n",
    "    f.write('# System PbPb5020\\n')\n",
    "    f.write('# Centrality 70to90\\n')\n",
    "    f.write('# XY AJ DNDAJ\\n')\n",
    "    f.write('# Label xmin xmax y stat,low stat,high sys,low sys,high\\n')\n",
    "    np.savetxt(f, Data2)"
   ]
  },
  {
   "cell_type": "code",
   "execution_count": null,
   "metadata": {},
   "outputs": [],
   "source": []
  },
  {
   "cell_type": "code",
   "execution_count": null,
   "metadata": {},
   "outputs": [],
   "source": []
  }
 ],
 "metadata": {
  "kernelspec": {
   "display_name": "Python 3.10.5 ('.venv': poetry)",
   "language": "python",
   "name": "python3"
  },
  "language_info": {
   "codemirror_mode": {
    "name": "ipython",
    "version": 3
   },
   "file_extension": ".py",
   "mimetype": "text/x-python",
   "name": "python",
   "nbconvert_exporter": "python",
   "pygments_lexer": "ipython3",
   "version": "3.10.5"
  },
  "vscode": {
   "interpreter": {
    "hash": "1d65bb7f5f25d512d5b31173bad01016a3b501790a1361b769a5765daf7b2eab"
   }
  }
 },
 "nbformat": 4,
 "nbformat_minor": 4
}
