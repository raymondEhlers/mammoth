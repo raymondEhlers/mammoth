{
 "cells": [
  {
   "cell_type": "markdown",
   "metadata": {},
   "source": [
    "# Model prediction maker"
   ]
  },
  {
   "cell_type": "markdown",
   "metadata": {},
   "source": [
    "Model setup is as follows: we have dijet asymmetry data prepared, where the asymmetry AJ is defined as the difference between the two jets divided by the sum. Specifically,\n",
    "\n",
    "$$A_{\\mathrm{j}} = \\frac{p_{\\mathrm{T, 1}} - p_{\\mathrm{T, 2}}}{p_{\\mathrm{T, 1}} + p_{\\mathrm{T, 2}}}$$\n",
    "\n",
    "We will construct a model to describe the energy loss observed in the dijet asymmetry.  For this model, we consider back-to-back dijets.  Each jet can lose energy, and the lost energy is parameterized as\n",
    "\n",
    "$$ \\Delta p_{\\mathrm{T}} / p_{\\mathrm{T}} \\sim A \\times Gaus(1, B)$$\n",
    "\n",
    "In addition to the energy loss contribution, we have extra \"apparent\" smearing on the AJ coming from the fact that we have other processes going on in the events (three jets etc).  It is parameterized as a Gaussian smearing on AJ with width C. So there are three total parameters: A, B, and C.\n",
    "\n",
    "The measurement is done in two bins of centrality.  One in central event, where (A, B, C) are all relevant, and another one in very peripheral event, where only the parameter (C) is relevant.\n",
    "\n",
    "The goal here in this notebook is to make the inputs needed for Bayesian inference to learn about A, B and C from the provided data"
   ]
  },
  {
   "cell_type": "code",
   "execution_count": 1,
   "metadata": {},
   "outputs": [],
   "source": [
    "from pathlib import Path\n",
    "\n",
    "import numpy as np\n",
    "\n",
    "folder = Path('input/XJGammaToy/')\n",
    "folder.mkdir(parents=True, exist_ok=True)"
   ]
  },
  {
   "cell_type": "code",
   "execution_count": 329,
   "metadata": {},
   "outputs": [],
   "source": [
    "# xj or Aj\n",
    "#DataXMin        = 0.000\n",
    "#DataXMax        = 1.000\n",
    "#DataXBin        = 0.050\n",
    "# xj gamma\n",
    "DataXMin        = 0.000\n",
    "DataXMax        = 2.000\n",
    "DataXBin        = 0.125\n",
    "\n",
    "DataNBin        = int((DataXMax - DataXMin) / DataXBin)\n",
    "\n",
    "# how many design points do you want to generate?\n",
    "NDesign         = 100\n",
    "\n",
    "# What is the upper parameter range (one each for A, B, C)?\n",
    "# The lower range for each parameter is 0 by construction.\n",
    "# Hint: start with a large-range guess!  Then we can come back and reduce range\n",
    "#ParameterRanges = [(0, 1.0), (0.0, 1.0), (-0.5, 1.5), (0.1, 1.0)]\n",
    "ParameterRanges = [(0.025, 0.6), (0.025, 1.0), (0.025, 1.0), (0.1, 1.0)]"
   ]
  },
  {
   "cell_type": "markdown",
   "metadata": {},
   "source": [
    "## The \"prediction\" function\n",
    "\n",
    "Let's write a function, where we do the required smearing, make a histogram on the final AJ, and return the prediction"
   ]
  },
  {
   "cell_type": "code",
   "execution_count": 3,
   "metadata": {},
   "outputs": [],
   "source": [
    "\n",
    "import numpy.typing as npt\n"
   ]
  },
  {
   "cell_type": "code",
   "execution_count": 148,
   "metadata": {},
   "outputs": [],
   "source": [
    "def Predict(A, B, C, N = 100000):\n",
    "    print(\"Running prediction with\", A, B, C)\n",
    "    \n",
    "    Hist = np.zeros(DataNBin)\n",
    "    \n",
    "    for i in range(N):\n",
    "        # Jet 1 and jet 2 PT (J1 and J2) after quenching.\n",
    "        # Assuming initial energy is 100 GeV, and (delta PT / PT) ~ gaus(A, B), calculate the final energy\n",
    "        # Jet PT = 100 GeV * (?)\n",
    "        # Note that the initial energy cancels out in AJ\n",
    "        # Useful function: np.random.normal(1, 2) gives you a random sampling with gaussian mean 1 and sigma 2\n",
    "        J1 = 100 * (1 - A * np.random.normal(1, B))\n",
    "        J2 = 100 * (1 - A * np.random.normal(1, B))\n",
    "        # Calculate AJ from the PTs\n",
    "        AJ = (J1 - J2) / (J1 + J2)\n",
    "        # Adding extra gaussian smearing from parameter C\n",
    "        AJ = AJ + np.random.normal(0, C)\n",
    "        # AJ is defined to be leading - subleading -> positive!\n",
    "        AJ = np.abs(AJ)\n",
    "\n",
    "        # put things into bins\n",
    "        Bin = int((AJ - DataXMin) / DataXBin)\n",
    "        if Bin < 0:   # underflow\n",
    "            Bin = 0\n",
    "        if Bin >= DataNBin:   # overflow\n",
    "            continue\n",
    "            # Bin = DataNBin - 1\n",
    "        \n",
    "        Hist[Bin] = Hist[Bin] + 1\n",
    "        \n",
    "    return Hist / N\n",
    "\n",
    "def predict_xjgamma(A: float, B: float, C: float, D: float, E: float, F: float, N: int = 100000) -> npt.NDArray[np.float64]:\n",
    "    print(f\"Running xj_gamma prediction with {A}, {B}, {C}, {D}\")\n",
    "    \n",
    "    hist = np.zeros(DataNBin)\n",
    "    \n",
    "    for i in range(N):\n",
    "        # Jet 1 and jet 2 PT (J1 and J2) after quenching.\n",
    "        # Assuming initial energy is 100 GeV, and (delta PT / PT) ~ gaus(A, B), calculate the final energy\n",
    "        # Jet PT = 100 GeV * (?)\n",
    "        # Note that the initial energy cancels out in AJ\n",
    "        # Useful function: np.random.normal(1, 2) gives you a random sampling with gaussian mean 1 and sigma 2\n",
    "        J1 = 100 * (1 - A * np.random.normal(0.1, B))\n",
    "        #J2 = 100 * (1 - np.random.normal(A, B))\n",
    "        J2 = 100 * (1 - C * np.random.normal(0.01, D))\n",
    "        # Calculate AJ from the PTs\n",
    "        XJ = J1 / J2\n",
    "        # Adding extra gaussian smearing from parameter C\n",
    "        XJ = XJ + np.random.normal(E, F)\n",
    "        # AJ is defined to be leading - subleading -> positive!\n",
    "        #AJ = np.abs(AJ)\n",
    "\n",
    "        # put things into bins\n",
    "        Bin = int((XJ - DataXMin) / DataXBin)\n",
    "        if Bin < 0:   # underflow\n",
    "            Bin = 0\n",
    "        if Bin >= DataNBin:   # overflow\n",
    "            continue\n",
    "            # Bin = DataNBin - 1\n",
    "        \n",
    "        hist[Bin] = hist[Bin] + 1\n",
    "        \n",
    "    return hist / N\n",
    "\n",
    "def predict_xj(A: float, B: float, C: float, D: float, N: int = 100000) -> npt.NDArray[np.float64]:\n",
    "    print(f\"Running xj prediction with {A}, {B}, {C}, {D}\")\n",
    "    \n",
    "    hist = np.zeros(DataNBin)\n",
    "    \n",
    "    for i in range(N):\n",
    "        # Jet 1 and jet 2 PT (J1 and J2) after quenching.\n",
    "        # Assuming initial energy is 100 GeV, and (delta PT / PT) ~ gaus(A, B), calculate the final energy\n",
    "        # Jet PT = 100 GeV * (?)\n",
    "        # Note that the initial energy cancels out in AJ\n",
    "        # Useful function: np.random.normal(1, 2) gives you a random sampling with gaussian mean 1 and sigma 2\n",
    "        #J1 = 100 * (1 - A * np.random.normal(1, B))\n",
    "        #J2 = 100 * (1 - A * np.random.normal(1, B))\n",
    "        J1 = 100 * (1 - np.abs(np.random.normal(A, B)))\n",
    "        #J2 = 100 * (1 - np.random.normal(A, B))\n",
    "        J2 = 100 * (1 - np.abs(np.random.normal(A, B)))\n",
    "        if J1 > J2:\n",
    "            J1, J2 = J2, J1\n",
    "        # Calculate XJ from the PTs\n",
    "        XJ = J1 / J2\n",
    "        # Adding extra gaussian smearing from parameter C\n",
    "        #XJ = XJ + np.random.normal(0.7, D)\n",
    "        XJ = XJ + np.random.normal(0.8, D)\n",
    "        # AJ is defined to be leading - subleading -> positive!\n",
    "        # OVERFLOW IS THE ISSUE! Too broad!\n",
    "        if XJ > 2:\n",
    "            XJ = 2\n",
    "        if XJ > 1:\n",
    "            print(XJ)\n",
    "            XJ = XJ - 2 * (XJ - 1)\n",
    "            print(XJ)\n",
    "        #AJ = np.abs(AJ)\n",
    "\n",
    "        # put things into bins\n",
    "        Bin = int((XJ - DataXMin) / DataXBin)\n",
    "        #if Bin == 0:\n",
    "        #    print(J1, J2)\n",
    "        if Bin < 0:   # underflow\n",
    "            Bin = 0\n",
    "        if Bin >= DataNBin:   # overflow\n",
    "            continue\n",
    "            # Bin = DataNBin - 1\n",
    "        \n",
    "        hist[Bin] = hist[Bin] + 1\n",
    "        \n",
    "    return hist / N\n",
    "\n",
    "\n",
    "def predict_xjgamma_smeared(A: float, B: float, C: float, D: float, N: int = 100000) -> npt.NDArray[np.float64]:\n",
    "    print(f\"Running xj_gamma smeared prediction with {A}, {B}, {C}, {D}\")\n",
    "    \n",
    "    bins = np.linspace(DataXMin, DataXMax, int((DataXMax - DataXMin) / DataXBin) + 1)\n",
    "    hists = []\n",
    "    #hist = np.zeros(DataNBin)\n",
    "    \n",
    "    xj_values = []\n",
    "    for i in range(N):\n",
    "        # Jet 1 and jet 2 PT (J1 and J2) after quenching.\n",
    "        # Assuming initial energy is 100 GeV, and (delta PT / PT) ~ gaus(A, B), calculate the final energy\n",
    "        # Jet PT = 100 GeV * (?)\n",
    "        # Note that the initial energy cancels out in AJ\n",
    "        # Useful function: np.random.normal(1, 2) gives you a random sampling with gaussian mean 1 and sigma 2\n",
    "        #J1 = 100 * (1 - np.random.normal(A, B))\n",
    "        J1 = 100 * (1 - np.random.normal(A, B))\n",
    "        #J2 = 100 * (1 - np.random.normal(A, B))\n",
    "        J2 = 100\n",
    "        # Calculate AJ from the PTs\n",
    "        XJ = J1 / J2\n",
    "        # Adding extra gaussian smearing from parameter C\n",
    "        smear = np.random.normal(C, D)\n",
    "        xj_original = XJ\n",
    "        XJ = XJ + smear\n",
    "        # XJ must be positive definition. If the smearing is too large, set to 0\n",
    "        if XJ < 0:\n",
    "            XJ = 0\n",
    "        # AJ is defined to be leading - subleading -> positive!\n",
    "        #AJ = np.abs(AJ)\n",
    "\n",
    "        h, _ = np.histogram(a=XJ, bins=bins)\n",
    "        print(f\"{h}\")\n",
    "        hists.append(h / h.sum())\n",
    "\n",
    "        ## put things into bins\n",
    "        #Bin = int((XJ - DataXMin) / DataXBin)\n",
    "        #if Bin == 0:\n",
    "        #    pass\n",
    "        #    #print(f\"{J1=}, {J2=}, {XJ=}, {smear=}, {xj_original=}\")\n",
    "        #if Bin < 0:   # underflow\n",
    "        #    Bin = 0\n",
    "        #if Bin >= DataNBin:   # overflow\n",
    "        #    continue\n",
    "        #    # Bin = DataNBin - 1\n",
    "        \n",
    "        #hist[Bin] = hist[Bin] + 1\n",
    "        \n",
    "    #return hist / N\n",
    "    return hists[0] if len(hists) == 1 else hists"
   ]
  },
  {
   "cell_type": "code",
   "execution_count": 150,
   "metadata": {},
   "outputs": [
    {
     "ename": "SyntaxError",
     "evalue": "invalid syntax (3310563197.py, line 40)",
     "output_type": "error",
     "traceback": [
      "\u001b[0;36m  Input \u001b[0;32mIn [150]\u001b[0;36m\u001b[0m\n\u001b[0;31m    np.histogram2d(x=XJ, y=bins=(bins, ))\u001b[0m\n\u001b[0m                               ^\u001b[0m\n\u001b[0;31mSyntaxError\u001b[0m\u001b[0;31m:\u001b[0m invalid syntax\n"
     ]
    }
   ],
   "source": [
    "def predict_xjgamma_smeared_full(A: float, B: float, C: float, D: float, N: int = 100000) -> npt.NDArray[np.float64]:\n",
    "    print(f\"Running xj_gamma smeared prediction with {A}, {B}, {C}, {D}\")\n",
    "    \n",
    "    # Jet 1 and jet 2 PT (J1 and J2) after quenching.\n",
    "    # Assuming initial energy is 100 GeV, and (delta PT / PT) ~ gaus(A, B), calculate the final energy\n",
    "    # Jet PT = 100 GeV * (?)\n",
    "    # Note that the initial energy cancels out in AJ\n",
    "    # Useful function: np.random.normal(1, 2) gives you a random sampling with gaussian mean 1 and sigma 2\n",
    "    #J1 = 100 * (1 - np.random.normal(A, B))\n",
    "    J1 = 100 * (1 - np.random.normal(A, B, size=(N, len(A))))\n",
    "    #J2 = 100 * (1 - np.random.normal(A, B))\n",
    "    J2 = 100\n",
    "    # Calculate AJ from the PTs\n",
    "    XJ = J1 / J2\n",
    "    # Adding extra gaussian smearing from parameter C\n",
    "    smear = np.random.normal(C, D, size=(N, len(A)))\n",
    "    xj_original = XJ\n",
    "    XJ = XJ + smear\n",
    "    # XJ must be positive definition. If the smearing is too large, set to 0\n",
    "    _mask = (XJ < 0)\n",
    "    XJ[_mask] = 0\n",
    "    # AJ is defined to be leading - subleading -> positive!\n",
    "    #AJ = np.abs(AJ)\n",
    "\n",
    "    # put things into bins\n",
    "    bins = np.linspace(DataXMin, DataXMax, int((DataXMax - DataXMin) / DataXBin) + 1)\n",
    "    #Bin = int((XJ - DataXMin) / DataXBin)\n",
    "    #if Bin == 0:\n",
    "    #    pass\n",
    "    #    #print(f\"{J1=}, {J2=}, {XJ=}, {smear=}, {xj_original=}\")\n",
    "    #if Bin < 0:   # underflow\n",
    "    #    Bin = 0\n",
    "    #if Bin >= DataNBin:   # overflow\n",
    "    #    continue\n",
    "    #    # Bin = DataNBin - 1\n",
    "    \n",
    "    #hist[Bin] = hist[Bin] + 1\n",
    "\n",
    "    h, _ = []\n",
    "    np.histogram2d(x=XJ, y=bins=(bins, ))\n",
    "   \n",
    "    #return hist / N\n",
    "    return h / h.sum()"
   ]
  },
  {
   "cell_type": "code",
   "execution_count": 334,
   "metadata": {},
   "outputs": [],
   "source": [
    "def predict_xjgamma_smeared_fix(A: float, B: float, C: float, D: float, n_samples: int = 100000) -> npt.NDArray[np.float64]:\n",
    "    print(f\"Running xj_gamma smeared prediction with {A}, {B}, {C}, {D}\")\n",
    "    \n",
    "    bins = np.linspace(DataXMin, DataXMax, int((DataXMax - DataXMin) / DataXBin) + 1)\n",
    "    #hists = []\n",
    "    #hist = np.zeros(DataNBin)\n",
    "\n",
    "    # Jet 1 and jet 2 PT (J1 and J2) after quenching.\n",
    "    # Assuming initial energy is 100 GeV, and (delta PT / PT) ~ gaus(A, B), calculate the final energy\n",
    "    # Jet PT = 100 GeV * (?)\n",
    "    # Note that the initial energy cancels out in AJ\n",
    "    # Useful function: np.random.normal(1, 2) gives you a random sampling with gaussian mean 1 and sigma 2\n",
    "    #J1 = 100 * (1 - np.random.normal(A, B))\n",
    "    J1 = 100 * (1 - np.random.normal(A, B, size=n_samples))\n",
    "    #J2 = 100 * (1 - np.random.normal(A, B))\n",
    "    J2 = 100\n",
    "    # Calculate AJ from the PTs\n",
    "    XJ = J1 / J2\n",
    "    # Adding extra gaussian smearing from parameter C\n",
    "    smear = np.random.normal(C, D, size=n_samples)\n",
    "    xj_original = XJ\n",
    "    #XJ = XJ - smear\n",
    "    XJ = XJ + smear\n",
    "    # XJ must be positive definition. If the smearing is too large, we leave them below 0\n",
    "    # and they are subsequently ignored in the histogramming\n",
    "    #_mask = (XJ < 0)\n",
    "    #XJ[_mask] = 0\n",
    "    # AJ is defined to be leading - subleading -> positive!\n",
    "    #AJ = np.abs(AJ)\n",
    "\n",
    "    #print(f\"{smear=}, {xj_original=}\")\n",
    "    #return XJ\n",
    "    h, _ = np.histogram(a=XJ, bins=bins)\n",
    "    #print(f\"{h=}\")\n",
    "    #hists.append(h / h.sum())\n",
    "\n",
    "    ## put things into bins\n",
    "    #Bin = int((XJ - DataXMin) / DataXBin)\n",
    "    #if Bin == 0:\n",
    "    #    pass\n",
    "    #    #print(f\"{J1=}, {J2=}, {XJ=}, {smear=}, {xj_original=}\")\n",
    "    #if Bin < 0:   # underflow\n",
    "    #    Bin = 0\n",
    "    #if Bin >= DataNBin:   # overflow\n",
    "    #    continue\n",
    "    #    # Bin = DataNBin - 1\n",
    "    \n",
    "    #hist[Bin] = hist[Bin] + 1\n",
    "        \n",
    "    #return hist / N\n",
    "    #return hists[0] if len(hists) == 1 else hists\n",
    "    return h / h.sum()"
   ]
  },
  {
   "cell_type": "markdown",
   "metadata": {},
   "source": [
    "### Test the prediction (cross check for yourself)"
   ]
  },
  {
   "cell_type": "code",
   "execution_count": 228,
   "metadata": {},
   "outputs": [
    {
     "name": "stdout",
     "output_type": "stream",
     "text": [
      "Running xj_gamma smeared prediction with 1, 0, 1.7160803566985545, 0.142\n"
     ]
    },
    {
     "data": {
      "text/plain": [
       "array([0.00000000e+00, 0.00000000e+00, 0.00000000e+00, 0.00000000e+00,\n",
       "       0.00000000e+00, 0.00000000e+00, 0.00000000e+00, 0.00000000e+00,\n",
       "       2.04867655e-05, 5.63386053e-04, 7.79521429e-03, 5.67278538e-02,\n",
       "       2.01774154e-01, 3.41780710e-01, 2.79705810e-01, 1.11632385e-01])"
      ]
     },
     "execution_count": 228,
     "metadata": {},
     "output_type": "execute_result"
    }
   ],
   "source": [
    "# Test predicting one point - to see if the output makes sense or not\n",
    "# Once you are happy, we move on!\n",
    "#example_prediction = predict_xjgamma(1, 0.25, 0, 0, 0, 0.3)\n",
    "#example_prediction = predict_xj(0.1, 0.3, 1, 1.5)\n",
    "example_prediction = predict_xjgamma_smeared_fix(1, 0, 1.71608035669855451, 0.142)\n",
    "example_prediction"
   ]
  },
  {
   "cell_type": "code",
   "execution_count": 229,
   "metadata": {},
   "outputs": [
    {
     "data": {
      "text/plain": [
       "0.0"
      ]
     },
     "execution_count": 229,
     "metadata": {},
     "output_type": "execute_result"
    }
   ],
   "source": [
    "example_prediction.min()"
   ]
  },
  {
   "cell_type": "code",
   "execution_count": 335,
   "metadata": {},
   "outputs": [
    {
     "name": "stdout",
     "output_type": "stream",
     "text": [
      "Running xj_gamma smeared prediction with 0.05, 0.3, -0.1, 0.3\n"
     ]
    },
    {
     "data": {
      "text/plain": [
       "[<matplotlib.lines.Line2D at 0x16a727670>]"
      ]
     },
     "execution_count": 335,
     "metadata": {},
     "output_type": "execute_result"
    },
    {
     "data": {
      "image/png": "[encoded data removed]",
      "text/plain": [
       "<Figure size 360x360 with 1 Axes>"
      ]
     },
     "metadata": {
      "needs_background": "light"
     },
     "output_type": "display_data"
    }
   ],
   "source": [
    "# Alternatively (or in addition), plot the AJ distribution for our single point\n",
    "import matplotlib.pyplot as plt\n",
    "#example_prediction = predict_xj(0.3, 0.3, 0, 0.3)\n",
    "#example_prediction = predict_xjgamma_smeared(0.2, 0.6, 0.2, 0.3)\n",
    "example_prediction = predict_xjgamma_smeared_fix(0.05, 0.3, -0.1, 0.3)\n",
    "fig, ax = plt.subplots(figsize=(5,5))\n",
    "ax.plot(np.arange(DataXMin, DataXMax, DataXBin) + (DataXBin / 2), example_prediction, marker=\"o\", linestyle=\"\")"
   ]
  },
  {
   "cell_type": "code",
   "execution_count": 20,
   "metadata": {},
   "outputs": [],
   "source": [
    "# Test"
   ]
  },
  {
   "cell_type": "code",
   "execution_count": 19,
   "metadata": {},
   "outputs": [
    {
     "name": "stdout",
     "output_type": "stream",
     "text": [
      "Requirement already satisfied: ipywidgets in /Users/REhlers/software/dev/mammoth/.venv/lib/python3.10/site-packages (7.7.1)\n",
      "Requirement already satisfied: jupyterlab-widgets>=1.0.0 in /Users/REhlers/software/dev/mammoth/.venv/lib/python3.10/site-packages (from ipywidgets) (1.1.1)\n",
      "Requirement already satisfied: ipython-genutils~=0.2.0 in /Users/REhlers/software/dev/mammoth/.venv/lib/python3.10/site-packages (from ipywidgets) (0.2.0)\n",
      "Requirement already satisfied: ipykernel>=4.5.1 in /Users/REhlers/software/dev/mammoth/.venv/lib/python3.10/site-packages (from ipywidgets) (6.15.1)\n",
      "Requirement already satisfied: widgetsnbextension~=3.6.0 in /Users/REhlers/software/dev/mammoth/.venv/lib/python3.10/site-packages (from ipywidgets) (3.6.1)\n",
      "Requirement already satisfied: traitlets>=4.3.1 in /Users/REhlers/software/dev/mammoth/.venv/lib/python3.10/site-packages (from ipywidgets) (5.3.0)\n",
      "Requirement already satisfied: ipython>=4.0.0 in /Users/REhlers/software/dev/mammoth/.venv/lib/python3.10/site-packages (from ipywidgets) (8.4.0)\n",
      "Requirement already satisfied: appnope in /Users/REhlers/software/dev/mammoth/.venv/lib/python3.10/site-packages (from ipykernel>=4.5.1->ipywidgets) (0.1.3)\n",
      "Requirement already satisfied: matplotlib-inline>=0.1 in /Users/REhlers/software/dev/mammoth/.venv/lib/python3.10/site-packages (from ipykernel>=4.5.1->ipywidgets) (0.1.3)\n",
      "Requirement already satisfied: debugpy>=1.0 in /Users/REhlers/software/dev/mammoth/.venv/lib/python3.10/site-packages (from ipykernel>=4.5.1->ipywidgets) (1.6.2)\n",
      "Requirement already satisfied: jupyter-client>=6.1.12 in /Users/REhlers/software/dev/mammoth/.venv/lib/python3.10/site-packages (from ipykernel>=4.5.1->ipywidgets) (7.3.4)\n",
      "Requirement already satisfied: nest-asyncio in /Users/REhlers/software/dev/mammoth/.venv/lib/python3.10/site-packages (from ipykernel>=4.5.1->ipywidgets) (1.5.5)\n",
      "Requirement already satisfied: tornado>=6.1 in /Users/REhlers/software/dev/mammoth/.venv/lib/python3.10/site-packages (from ipykernel>=4.5.1->ipywidgets) (6.2)\n",
      "Requirement already satisfied: packaging in /Users/REhlers/software/dev/mammoth/.venv/lib/python3.10/site-packages (from ipykernel>=4.5.1->ipywidgets) (21.3)\n",
      "Requirement already satisfied: psutil in /Users/REhlers/software/dev/mammoth/.venv/lib/python3.10/site-packages (from ipykernel>=4.5.1->ipywidgets) (5.9.1)\n",
      "Requirement already satisfied: pyzmq>=17 in /Users/REhlers/software/dev/mammoth/.venv/lib/python3.10/site-packages (from ipykernel>=4.5.1->ipywidgets) (23.2.0)\n",
      "Requirement already satisfied: backcall in /Users/REhlers/software/dev/mammoth/.venv/lib/python3.10/site-packages (from ipython>=4.0.0->ipywidgets) (0.2.0)\n",
      "Requirement already satisfied: pickleshare in /Users/REhlers/software/dev/mammoth/.venv/lib/python3.10/site-packages (from ipython>=4.0.0->ipywidgets) (0.7.5)\n",
      "Requirement already satisfied: pexpect>4.3 in /Users/REhlers/software/dev/mammoth/.venv/lib/python3.10/site-packages (from ipython>=4.0.0->ipywidgets) (4.8.0)\n",
      "Requirement already satisfied: setuptools>=18.5 in /Users/REhlers/software/dev/mammoth/.venv/lib/python3.10/site-packages (from ipython>=4.0.0->ipywidgets) (62.1.0)\n",
      "Requirement already satisfied: stack-data in /Users/REhlers/software/dev/mammoth/.venv/lib/python3.10/site-packages (from ipython>=4.0.0->ipywidgets) (0.3.0)\n",
      "Requirement already satisfied: decorator in /Users/REhlers/software/dev/mammoth/.venv/lib/python3.10/site-packages (from ipython>=4.0.0->ipywidgets) (5.1.1)\n",
      "Requirement already satisfied: pygments>=2.4.0 in /Users/REhlers/software/dev/mammoth/.venv/lib/python3.10/site-packages (from ipython>=4.0.0->ipywidgets) (2.12.0)\n",
      "Requirement already satisfied: jedi>=0.16 in /Users/REhlers/software/dev/mammoth/.venv/lib/python3.10/site-packages (from ipython>=4.0.0->ipywidgets) (0.18.1)\n",
      "Requirement already satisfied: prompt-toolkit!=3.0.0,!=3.0.1,<3.1.0,>=2.0.0 in /Users/REhlers/software/dev/mammoth/.venv/lib/python3.10/site-packages (from ipython>=4.0.0->ipywidgets) (3.0.30)\n",
      "Requirement already satisfied: notebook>=4.4.1 in /Users/REhlers/software/dev/mammoth/.venv/lib/python3.10/site-packages (from widgetsnbextension~=3.6.0->ipywidgets) (6.4.12)\n",
      "Requirement already satisfied: parso<0.9.0,>=0.8.0 in /Users/REhlers/software/dev/mammoth/.venv/lib/python3.10/site-packages (from jedi>=0.16->ipython>=4.0.0->ipywidgets) (0.8.3)\n",
      "Requirement already satisfied: python-dateutil>=2.8.2 in /Users/REhlers/software/dev/mammoth/.venv/lib/python3.10/site-packages (from jupyter-client>=6.1.12->ipykernel>=4.5.1->ipywidgets) (2.8.2)\n",
      "Requirement already satisfied: jupyter-core>=4.9.2 in /Users/REhlers/software/dev/mammoth/.venv/lib/python3.10/site-packages (from jupyter-client>=6.1.12->ipykernel>=4.5.1->ipywidgets) (4.11.1)\n",
      "Requirement already satisfied: entrypoints in /Users/REhlers/software/dev/mammoth/.venv/lib/python3.10/site-packages (from jupyter-client>=6.1.12->ipykernel>=4.5.1->ipywidgets) (0.4)\n",
      "Requirement already satisfied: nbconvert>=5 in /Users/REhlers/software/dev/mammoth/.venv/lib/python3.10/site-packages (from notebook>=4.4.1->widgetsnbextension~=3.6.0->ipywidgets) (6.5.0)\n",
      "Requirement already satisfied: argon2-cffi in /Users/REhlers/software/dev/mammoth/.venv/lib/python3.10/site-packages (from notebook>=4.4.1->widgetsnbextension~=3.6.0->ipywidgets) (21.3.0)\n",
      "Requirement already satisfied: prometheus-client in /Users/REhlers/software/dev/mammoth/.venv/lib/python3.10/site-packages (from notebook>=4.4.1->widgetsnbextension~=3.6.0->ipywidgets) (0.14.1)\n",
      "Requirement already satisfied: Send2Trash>=1.8.0 in /Users/REhlers/software/dev/mammoth/.venv/lib/python3.10/site-packages (from notebook>=4.4.1->widgetsnbextension~=3.6.0->ipywidgets) (1.8.0)\n",
      "Requirement already satisfied: jinja2 in /Users/REhlers/software/dev/mammoth/.venv/lib/python3.10/site-packages (from notebook>=4.4.1->widgetsnbextension~=3.6.0->ipywidgets) (3.1.2)\n",
      "Requirement already satisfied: nbformat in /Users/REhlers/software/dev/mammoth/.venv/lib/python3.10/site-packages (from notebook>=4.4.1->widgetsnbextension~=3.6.0->ipywidgets) (5.4.0)\n",
      "Requirement already satisfied: terminado>=0.8.3 in /Users/REhlers/software/dev/mammoth/.venv/lib/python3.10/site-packages (from notebook>=4.4.1->widgetsnbextension~=3.6.0->ipywidgets) (0.15.0)\n",
      "Requirement already satisfied: ptyprocess>=0.5 in /Users/REhlers/software/dev/mammoth/.venv/lib/python3.10/site-packages (from pexpect>4.3->ipython>=4.0.0->ipywidgets) (0.7.0)\n",
      "Requirement already satisfied: wcwidth in /Users/REhlers/software/dev/mammoth/.venv/lib/python3.10/site-packages (from prompt-toolkit!=3.0.0,!=3.0.1,<3.1.0,>=2.0.0->ipython>=4.0.0->ipywidgets) (0.2.5)\n",
      "Requirement already satisfied: pyparsing!=3.0.5,>=2.0.2 in /Users/REhlers/software/dev/mammoth/.venv/lib/python3.10/site-packages (from packaging->ipykernel>=4.5.1->ipywidgets) (3.0.9)\n",
      "Requirement already satisfied: executing in /Users/REhlers/software/dev/mammoth/.venv/lib/python3.10/site-packages (from stack-data->ipython>=4.0.0->ipywidgets) (0.8.3)\n",
      "Requirement already satisfied: asttokens in /Users/REhlers/software/dev/mammoth/.venv/lib/python3.10/site-packages (from stack-data->ipython>=4.0.0->ipywidgets) (2.0.5)\n",
      "Requirement already satisfied: pure-eval in /Users/REhlers/software/dev/mammoth/.venv/lib/python3.10/site-packages (from stack-data->ipython>=4.0.0->ipywidgets) (0.2.2)\n",
      "Requirement already satisfied: nbclient>=0.5.0 in /Users/REhlers/software/dev/mammoth/.venv/lib/python3.10/site-packages (from nbconvert>=5->notebook>=4.4.1->widgetsnbextension~=3.6.0->ipywidgets) (0.6.6)\n",
      "Requirement already satisfied: tinycss2 in /Users/REhlers/software/dev/mammoth/.venv/lib/python3.10/site-packages (from nbconvert>=5->notebook>=4.4.1->widgetsnbextension~=3.6.0->ipywidgets) (1.1.1)\n",
      "Requirement already satisfied: defusedxml in /Users/REhlers/software/dev/mammoth/.venv/lib/python3.10/site-packages (from nbconvert>=5->notebook>=4.4.1->widgetsnbextension~=3.6.0->ipywidgets) (0.7.1)\n",
      "Requirement already satisfied: bleach in /Users/REhlers/software/dev/mammoth/.venv/lib/python3.10/site-packages (from nbconvert>=5->notebook>=4.4.1->widgetsnbextension~=3.6.0->ipywidgets) (5.0.1)\n",
      "Requirement already satisfied: beautifulsoup4 in /Users/REhlers/software/dev/mammoth/.venv/lib/python3.10/site-packages (from nbconvert>=5->notebook>=4.4.1->widgetsnbextension~=3.6.0->ipywidgets) (4.11.1)\n",
      "Requirement already satisfied: mistune<2,>=0.8.1 in /Users/REhlers/software/dev/mammoth/.venv/lib/python3.10/site-packages (from nbconvert>=5->notebook>=4.4.1->widgetsnbextension~=3.6.0->ipywidgets) (0.8.4)\n",
      "Requirement already satisfied: pandocfilters>=1.4.1 in /Users/REhlers/software/dev/mammoth/.venv/lib/python3.10/site-packages (from nbconvert>=5->notebook>=4.4.1->widgetsnbextension~=3.6.0->ipywidgets) (1.5.0)\n",
      "Requirement already satisfied: MarkupSafe>=2.0 in /Users/REhlers/software/dev/mammoth/.venv/lib/python3.10/site-packages (from nbconvert>=5->notebook>=4.4.1->widgetsnbextension~=3.6.0->ipywidgets) (2.1.1)\n",
      "Requirement already satisfied: jupyterlab-pygments in /Users/REhlers/software/dev/mammoth/.venv/lib/python3.10/site-packages (from nbconvert>=5->notebook>=4.4.1->widgetsnbextension~=3.6.0->ipywidgets) (0.2.2)\n",
      "Requirement already satisfied: fastjsonschema in /Users/REhlers/software/dev/mammoth/.venv/lib/python3.10/site-packages (from nbformat->notebook>=4.4.1->widgetsnbextension~=3.6.0->ipywidgets) (2.16.1)\n",
      "Requirement already satisfied: jsonschema>=2.6 in /Users/REhlers/software/dev/mammoth/.venv/lib/python3.10/site-packages (from nbformat->notebook>=4.4.1->widgetsnbextension~=3.6.0->ipywidgets) (4.9.1)\n",
      "Requirement already satisfied: six>=1.5 in /Users/REhlers/software/dev/mammoth/.venv/lib/python3.10/site-packages (from python-dateutil>=2.8.2->jupyter-client>=6.1.12->ipykernel>=4.5.1->ipywidgets) (1.16.0)\n",
      "Requirement already satisfied: argon2-cffi-bindings in /Users/REhlers/software/dev/mammoth/.venv/lib/python3.10/site-packages (from argon2-cffi->notebook>=4.4.1->widgetsnbextension~=3.6.0->ipywidgets) (21.2.0)\n",
      "Requirement already satisfied: pyrsistent!=0.17.0,!=0.17.1,!=0.17.2,>=0.14.0 in /Users/REhlers/software/dev/mammoth/.venv/lib/python3.10/site-packages (from jsonschema>=2.6->nbformat->notebook>=4.4.1->widgetsnbextension~=3.6.0->ipywidgets) (0.18.1)\n",
      "Requirement already satisfied: attrs>=17.4.0 in /Users/REhlers/software/dev/mammoth/.venv/lib/python3.10/site-packages (from jsonschema>=2.6->nbformat->notebook>=4.4.1->widgetsnbextension~=3.6.0->ipywidgets) (21.4.0)\n",
      "Requirement already satisfied: cffi>=1.0.1 in /Users/REhlers/software/dev/mammoth/.venv/lib/python3.10/site-packages (from argon2-cffi-bindings->argon2-cffi->notebook>=4.4.1->widgetsnbextension~=3.6.0->ipywidgets) (1.15.1)\n",
      "Requirement already satisfied: soupsieve>1.2 in /Users/REhlers/software/dev/mammoth/.venv/lib/python3.10/site-packages (from beautifulsoup4->nbconvert>=5->notebook>=4.4.1->widgetsnbextension~=3.6.0->ipywidgets) (2.3.2.post1)\n",
      "Requirement already satisfied: webencodings in /Users/REhlers/software/dev/mammoth/.venv/lib/python3.10/site-packages (from bleach->nbconvert>=5->notebook>=4.4.1->widgetsnbextension~=3.6.0->ipywidgets) (0.5.1)\n",
      "Requirement already satisfied: pycparser in /Users/REhlers/software/dev/mammoth/.venv/lib/python3.10/site-packages (from cffi>=1.0.1->argon2-cffi-bindings->argon2-cffi->notebook>=4.4.1->widgetsnbextension~=3.6.0->ipywidgets) (2.21)\n",
      "\u001b[33mWARNING: Error parsing requirements for mammoth: Invalid URL: external/pachyderm\u001b[0m\u001b[33m\n",
      "\u001b[0m"
     ]
    }
   ],
   "source": [
    "!pip install ipywidgets"
   ]
  },
  {
   "cell_type": "code",
   "execution_count": 8,
   "metadata": {},
   "outputs": [
    {
     "name": "stdout",
     "output_type": "stream",
     "text": [
      "Collecting ipympl\n",
      "  Downloading ipympl-0.9.1-py2.py3-none-any.whl (508 kB)\n",
      "\u001b[2K     \u001b[90m━━━━━━━━━━━━━━━━━━━━━━━━━━━━━━━━━━━━━━━\u001b[0m \u001b[32m508.1/508.1 kB\u001b[0m \u001b[31m4.1 MB/s\u001b[0m eta \u001b[36m0:00:00\u001b[0m00:01\u001b[0m00:01\u001b[0m\n",
      "\u001b[?25hRequirement already satisfied: matplotlib<4,>=3.4.0 in /Users/REhlers/software/dev/mammoth/.venv/lib/python3.10/site-packages (from ipympl) (3.5.2)\n",
      "Requirement already satisfied: traitlets<6 in /Users/REhlers/software/dev/mammoth/.venv/lib/python3.10/site-packages (from ipympl) (5.3.0)\n",
      "Requirement already satisfied: ipython<9 in /Users/REhlers/software/dev/mammoth/.venv/lib/python3.10/site-packages (from ipympl) (8.4.0)\n",
      "Requirement already satisfied: ipython-genutils in /Users/REhlers/software/dev/mammoth/.venv/lib/python3.10/site-packages (from ipympl) (0.2.0)\n",
      "Requirement already satisfied: ipywidgets<8,>=7.6.0 in /Users/REhlers/software/dev/mammoth/.venv/lib/python3.10/site-packages (from ipympl) (7.7.1)\n",
      "Requirement already satisfied: numpy in /Users/REhlers/software/dev/mammoth/.venv/lib/python3.10/site-packages (from ipympl) (1.22.4)\n",
      "Requirement already satisfied: pillow in /Users/REhlers/software/dev/mammoth/.venv/lib/python3.10/site-packages (from ipympl) (9.2.0)\n",
      "Requirement already satisfied: appnope in /Users/REhlers/software/dev/mammoth/.venv/lib/python3.10/site-packages (from ipython<9->ipympl) (0.1.3)\n",
      "Requirement already satisfied: backcall in /Users/REhlers/software/dev/mammoth/.venv/lib/python3.10/site-packages (from ipython<9->ipympl) (0.2.0)\n",
      "Requirement already satisfied: matplotlib-inline in /Users/REhlers/software/dev/mammoth/.venv/lib/python3.10/site-packages (from ipython<9->ipympl) (0.1.3)\n",
      "Requirement already satisfied: decorator in /Users/REhlers/software/dev/mammoth/.venv/lib/python3.10/site-packages (from ipython<9->ipympl) (5.1.1)\n",
      "Requirement already satisfied: prompt-toolkit!=3.0.0,!=3.0.1,<3.1.0,>=2.0.0 in /Users/REhlers/software/dev/mammoth/.venv/lib/python3.10/site-packages (from ipython<9->ipympl) (3.0.30)\n",
      "Requirement already satisfied: stack-data in /Users/REhlers/software/dev/mammoth/.venv/lib/python3.10/site-packages (from ipython<9->ipympl) (0.3.0)\n",
      "Requirement already satisfied: pexpect>4.3 in /Users/REhlers/software/dev/mammoth/.venv/lib/python3.10/site-packages (from ipython<9->ipympl) (4.8.0)\n",
      "Requirement already satisfied: pygments>=2.4.0 in /Users/REhlers/software/dev/mammoth/.venv/lib/python3.10/site-packages (from ipython<9->ipympl) (2.12.0)\n",
      "Requirement already satisfied: pickleshare in /Users/REhlers/software/dev/mammoth/.venv/lib/python3.10/site-packages (from ipython<9->ipympl) (0.7.5)\n",
      "Requirement already satisfied: jedi>=0.16 in /Users/REhlers/software/dev/mammoth/.venv/lib/python3.10/site-packages (from ipython<9->ipympl) (0.18.1)\n",
      "Requirement already satisfied: setuptools>=18.5 in /Users/REhlers/software/dev/mammoth/.venv/lib/python3.10/site-packages (from ipython<9->ipympl) (62.1.0)\n",
      "Requirement already satisfied: ipykernel>=4.5.1 in /Users/REhlers/software/dev/mammoth/.venv/lib/python3.10/site-packages (from ipywidgets<8,>=7.6.0->ipympl) (6.15.1)\n",
      "Requirement already satisfied: jupyterlab-widgets>=1.0.0 in /Users/REhlers/software/dev/mammoth/.venv/lib/python3.10/site-packages (from ipywidgets<8,>=7.6.0->ipympl) (1.1.1)\n",
      "Requirement already satisfied: widgetsnbextension~=3.6.0 in /Users/REhlers/software/dev/mammoth/.venv/lib/python3.10/site-packages (from ipywidgets<8,>=7.6.0->ipympl) (3.6.1)\n",
      "Requirement already satisfied: pyparsing>=2.2.1 in /Users/REhlers/software/dev/mammoth/.venv/lib/python3.10/site-packages (from matplotlib<4,>=3.4.0->ipympl) (3.0.9)\n",
      "Requirement already satisfied: cycler>=0.10 in /Users/REhlers/software/dev/mammoth/.venv/lib/python3.10/site-packages (from matplotlib<4,>=3.4.0->ipympl) (0.11.0)\n",
      "Requirement already satisfied: python-dateutil>=2.7 in /Users/REhlers/software/dev/mammoth/.venv/lib/python3.10/site-packages (from matplotlib<4,>=3.4.0->ipympl) (2.8.2)\n",
      "Requirement already satisfied: fonttools>=4.22.0 in /Users/REhlers/software/dev/mammoth/.venv/lib/python3.10/site-packages (from matplotlib<4,>=3.4.0->ipympl) (4.34.4)\n",
      "Requirement already satisfied: packaging>=20.0 in /Users/REhlers/software/dev/mammoth/.venv/lib/python3.10/site-packages (from matplotlib<4,>=3.4.0->ipympl) (21.3)\n",
      "Requirement already satisfied: kiwisolver>=1.0.1 in /Users/REhlers/software/dev/mammoth/.venv/lib/python3.10/site-packages (from matplotlib<4,>=3.4.0->ipympl) (1.4.4)\n",
      "Requirement already satisfied: jupyter-client>=6.1.12 in /Users/REhlers/software/dev/mammoth/.venv/lib/python3.10/site-packages (from ipykernel>=4.5.1->ipywidgets<8,>=7.6.0->ipympl) (7.3.4)\n",
      "Requirement already satisfied: psutil in /Users/REhlers/software/dev/mammoth/.venv/lib/python3.10/site-packages (from ipykernel>=4.5.1->ipywidgets<8,>=7.6.0->ipympl) (5.9.1)\n",
      "Requirement already satisfied: tornado>=6.1 in /Users/REhlers/software/dev/mammoth/.venv/lib/python3.10/site-packages (from ipykernel>=4.5.1->ipywidgets<8,>=7.6.0->ipympl) (6.2)\n",
      "Requirement already satisfied: nest-asyncio in /Users/REhlers/software/dev/mammoth/.venv/lib/python3.10/site-packages (from ipykernel>=4.5.1->ipywidgets<8,>=7.6.0->ipympl) (1.5.5)\n",
      "Requirement already satisfied: pyzmq>=17 in /Users/REhlers/software/dev/mammoth/.venv/lib/python3.10/site-packages (from ipykernel>=4.5.1->ipywidgets<8,>=7.6.0->ipympl) (23.2.0)\n",
      "Requirement already satisfied: debugpy>=1.0 in /Users/REhlers/software/dev/mammoth/.venv/lib/python3.10/site-packages (from ipykernel>=4.5.1->ipywidgets<8,>=7.6.0->ipympl) (1.6.2)\n",
      "Requirement already satisfied: parso<0.9.0,>=0.8.0 in /Users/REhlers/software/dev/mammoth/.venv/lib/python3.10/site-packages (from jedi>=0.16->ipython<9->ipympl) (0.8.3)\n",
      "Requirement already satisfied: ptyprocess>=0.5 in /Users/REhlers/software/dev/mammoth/.venv/lib/python3.10/site-packages (from pexpect>4.3->ipython<9->ipympl) (0.7.0)\n",
      "Requirement already satisfied: wcwidth in /Users/REhlers/software/dev/mammoth/.venv/lib/python3.10/site-packages (from prompt-toolkit!=3.0.0,!=3.0.1,<3.1.0,>=2.0.0->ipython<9->ipympl) (0.2.5)\n",
      "Requirement already satisfied: six>=1.5 in /Users/REhlers/software/dev/mammoth/.venv/lib/python3.10/site-packages (from python-dateutil>=2.7->matplotlib<4,>=3.4.0->ipympl) (1.16.0)\n",
      "Requirement already satisfied: notebook>=4.4.1 in /Users/REhlers/software/dev/mammoth/.venv/lib/python3.10/site-packages (from widgetsnbextension~=3.6.0->ipywidgets<8,>=7.6.0->ipympl) (6.4.12)\n",
      "Requirement already satisfied: asttokens in /Users/REhlers/software/dev/mammoth/.venv/lib/python3.10/site-packages (from stack-data->ipython<9->ipympl) (2.0.5)\n",
      "Requirement already satisfied: pure-eval in /Users/REhlers/software/dev/mammoth/.venv/lib/python3.10/site-packages (from stack-data->ipython<9->ipympl) (0.2.2)\n",
      "Requirement already satisfied: executing in /Users/REhlers/software/dev/mammoth/.venv/lib/python3.10/site-packages (from stack-data->ipython<9->ipympl) (0.8.3)\n",
      "Requirement already satisfied: jupyter-core>=4.9.2 in /Users/REhlers/software/dev/mammoth/.venv/lib/python3.10/site-packages (from jupyter-client>=6.1.12->ipykernel>=4.5.1->ipywidgets<8,>=7.6.0->ipympl) (4.11.1)\n",
      "Requirement already satisfied: entrypoints in /Users/REhlers/software/dev/mammoth/.venv/lib/python3.10/site-packages (from jupyter-client>=6.1.12->ipykernel>=4.5.1->ipywidgets<8,>=7.6.0->ipympl) (0.4)\n",
      "Requirement already satisfied: jinja2 in /Users/REhlers/software/dev/mammoth/.venv/lib/python3.10/site-packages (from notebook>=4.4.1->widgetsnbextension~=3.6.0->ipywidgets<8,>=7.6.0->ipympl) (3.1.2)\n",
      "Requirement already satisfied: nbconvert>=5 in /Users/REhlers/software/dev/mammoth/.venv/lib/python3.10/site-packages (from notebook>=4.4.1->widgetsnbextension~=3.6.0->ipywidgets<8,>=7.6.0->ipympl) (6.5.0)\n",
      "Requirement already satisfied: argon2-cffi in /Users/REhlers/software/dev/mammoth/.venv/lib/python3.10/site-packages (from notebook>=4.4.1->widgetsnbextension~=3.6.0->ipywidgets<8,>=7.6.0->ipympl) (21.3.0)\n",
      "Requirement already satisfied: Send2Trash>=1.8.0 in /Users/REhlers/software/dev/mammoth/.venv/lib/python3.10/site-packages (from notebook>=4.4.1->widgetsnbextension~=3.6.0->ipywidgets<8,>=7.6.0->ipympl) (1.8.0)\n",
      "Requirement already satisfied: terminado>=0.8.3 in /Users/REhlers/software/dev/mammoth/.venv/lib/python3.10/site-packages (from notebook>=4.4.1->widgetsnbextension~=3.6.0->ipywidgets<8,>=7.6.0->ipympl) (0.15.0)\n",
      "Requirement already satisfied: prometheus-client in /Users/REhlers/software/dev/mammoth/.venv/lib/python3.10/site-packages (from notebook>=4.4.1->widgetsnbextension~=3.6.0->ipywidgets<8,>=7.6.0->ipympl) (0.14.1)\n",
      "Requirement already satisfied: nbformat in /Users/REhlers/software/dev/mammoth/.venv/lib/python3.10/site-packages (from notebook>=4.4.1->widgetsnbextension~=3.6.0->ipywidgets<8,>=7.6.0->ipympl) (5.4.0)\n",
      "Requirement already satisfied: pandocfilters>=1.4.1 in /Users/REhlers/software/dev/mammoth/.venv/lib/python3.10/site-packages (from nbconvert>=5->notebook>=4.4.1->widgetsnbextension~=3.6.0->ipywidgets<8,>=7.6.0->ipympl) (1.5.0)\n",
      "Requirement already satisfied: mistune<2,>=0.8.1 in /Users/REhlers/software/dev/mammoth/.venv/lib/python3.10/site-packages (from nbconvert>=5->notebook>=4.4.1->widgetsnbextension~=3.6.0->ipywidgets<8,>=7.6.0->ipympl) (0.8.4)\n",
      "Requirement already satisfied: beautifulsoup4 in /Users/REhlers/software/dev/mammoth/.venv/lib/python3.10/site-packages (from nbconvert>=5->notebook>=4.4.1->widgetsnbextension~=3.6.0->ipywidgets<8,>=7.6.0->ipympl) (4.11.1)\n",
      "Requirement already satisfied: bleach in /Users/REhlers/software/dev/mammoth/.venv/lib/python3.10/site-packages (from nbconvert>=5->notebook>=4.4.1->widgetsnbextension~=3.6.0->ipywidgets<8,>=7.6.0->ipympl) (5.0.1)\n",
      "Requirement already satisfied: tinycss2 in /Users/REhlers/software/dev/mammoth/.venv/lib/python3.10/site-packages (from nbconvert>=5->notebook>=4.4.1->widgetsnbextension~=3.6.0->ipywidgets<8,>=7.6.0->ipympl) (1.1.1)\n",
      "Requirement already satisfied: nbclient>=0.5.0 in /Users/REhlers/software/dev/mammoth/.venv/lib/python3.10/site-packages (from nbconvert>=5->notebook>=4.4.1->widgetsnbextension~=3.6.0->ipywidgets<8,>=7.6.0->ipympl) (0.6.6)\n",
      "Requirement already satisfied: MarkupSafe>=2.0 in /Users/REhlers/software/dev/mammoth/.venv/lib/python3.10/site-packages (from nbconvert>=5->notebook>=4.4.1->widgetsnbextension~=3.6.0->ipywidgets<8,>=7.6.0->ipympl) (2.1.1)\n",
      "Requirement already satisfied: defusedxml in /Users/REhlers/software/dev/mammoth/.venv/lib/python3.10/site-packages (from nbconvert>=5->notebook>=4.4.1->widgetsnbextension~=3.6.0->ipywidgets<8,>=7.6.0->ipympl) (0.7.1)\n",
      "Requirement already satisfied: jupyterlab-pygments in /Users/REhlers/software/dev/mammoth/.venv/lib/python3.10/site-packages (from nbconvert>=5->notebook>=4.4.1->widgetsnbextension~=3.6.0->ipywidgets<8,>=7.6.0->ipympl) (0.2.2)\n",
      "Requirement already satisfied: jsonschema>=2.6 in /Users/REhlers/software/dev/mammoth/.venv/lib/python3.10/site-packages (from nbformat->notebook>=4.4.1->widgetsnbextension~=3.6.0->ipywidgets<8,>=7.6.0->ipympl) (4.9.1)\n",
      "Requirement already satisfied: fastjsonschema in /Users/REhlers/software/dev/mammoth/.venv/lib/python3.10/site-packages (from nbformat->notebook>=4.4.1->widgetsnbextension~=3.6.0->ipywidgets<8,>=7.6.0->ipympl) (2.16.1)\n",
      "Requirement already satisfied: argon2-cffi-bindings in /Users/REhlers/software/dev/mammoth/.venv/lib/python3.10/site-packages (from argon2-cffi->notebook>=4.4.1->widgetsnbextension~=3.6.0->ipywidgets<8,>=7.6.0->ipympl) (21.2.0)\n",
      "Requirement already satisfied: attrs>=17.4.0 in /Users/REhlers/software/dev/mammoth/.venv/lib/python3.10/site-packages (from jsonschema>=2.6->nbformat->notebook>=4.4.1->widgetsnbextension~=3.6.0->ipywidgets<8,>=7.6.0->ipympl) (21.4.0)\n",
      "Requirement already satisfied: pyrsistent!=0.17.0,!=0.17.1,!=0.17.2,>=0.14.0 in /Users/REhlers/software/dev/mammoth/.venv/lib/python3.10/site-packages (from jsonschema>=2.6->nbformat->notebook>=4.4.1->widgetsnbextension~=3.6.0->ipywidgets<8,>=7.6.0->ipympl) (0.18.1)\n",
      "Requirement already satisfied: cffi>=1.0.1 in /Users/REhlers/software/dev/mammoth/.venv/lib/python3.10/site-packages (from argon2-cffi-bindings->argon2-cffi->notebook>=4.4.1->widgetsnbextension~=3.6.0->ipywidgets<8,>=7.6.0->ipympl) (1.15.1)\n",
      "Requirement already satisfied: soupsieve>1.2 in /Users/REhlers/software/dev/mammoth/.venv/lib/python3.10/site-packages (from beautifulsoup4->nbconvert>=5->notebook>=4.4.1->widgetsnbextension~=3.6.0->ipywidgets<8,>=7.6.0->ipympl) (2.3.2.post1)\n",
      "Requirement already satisfied: webencodings in /Users/REhlers/software/dev/mammoth/.venv/lib/python3.10/site-packages (from bleach->nbconvert>=5->notebook>=4.4.1->widgetsnbextension~=3.6.0->ipywidgets<8,>=7.6.0->ipympl) (0.5.1)\n",
      "Requirement already satisfied: pycparser in /Users/REhlers/software/dev/mammoth/.venv/lib/python3.10/site-packages (from cffi>=1.0.1->argon2-cffi-bindings->argon2-cffi->notebook>=4.4.1->widgetsnbextension~=3.6.0->ipywidgets<8,>=7.6.0->ipympl) (2.21)\n",
      "\u001b[33mWARNING: Error parsing requirements for mammoth: Invalid URL: external/pachyderm\u001b[0m\u001b[33m\n",
      "\u001b[0mInstalling collected packages: ipympl\n",
      "Successfully installed ipympl-0.9.1\n",
      "Note: you may need to restart the kernel to use updated packages.\n"
     ]
    }
   ],
   "source": [
    "%pip install ipympl"
   ]
  },
  {
   "cell_type": "code",
   "execution_count": 7,
   "metadata": {},
   "outputs": [],
   "source": [
    "_x = np.arange(DataXMin, DataXMax, DataXBin) + (DataXBin / 2)"
   ]
  },
  {
   "cell_type": "code",
   "execution_count": 9,
   "metadata": {},
   "outputs": [
    {
     "name": "stdout",
     "output_type": "stream",
     "text": [
      "Running xj prediction with 0.1, 0.3, 1, 0.3\n"
     ]
    },
    {
     "data": {
      "image/png": "[encoded data removed]",
      "text/plain": [
       "<Figure size 432x288 with 1 Axes>"
      ]
     },
     "metadata": {
      "needs_background": "light"
     },
     "output_type": "display_data"
    },
    {
     "data": {
      "application/vnd.jupyter.widget-view+json": {
       "model_id": "f7c5653ac1b54b46827b6eb7cd8b11aa",
       "version_major": 2,
       "version_minor": 0
      },
      "text/plain": [
       "interactive(children=(FloatSlider(value=1.0, description='A', max=1.0), FloatSlider(value=0.0, description='B'…"
      ]
     },
     "metadata": {},
     "output_type": "display_data"
    },
    {
     "data": {
      "text/plain": [
       "<function __main__.update(A=1, B=0, C=0)>"
      ]
     },
     "execution_count": 9,
     "metadata": {},
     "output_type": "execute_result"
    }
   ],
   "source": [
    "from ipywidgets import *\n",
    "import numpy as np\n",
    "import matplotlib.pyplot as plt\n",
    "\n",
    "fig = plt.figure()\n",
    "ax = fig.add_subplot(1, 1, 1)\n",
    "line, = ax.plot(_x, predict_xj(A=0.1, B=0.3, C=1, D=0.3))\n",
    "\n",
    "def update(A = 1, B = 0, C = 0):\n",
    "    line.set_ydata(f(x,A,B,C))\n",
    "    fig.canvas.draw_idle()\n",
    "    \n",
    "interact(update, A = (0,1,0.1), B = (0,1,0.1), C = (1,1,0.1), D = (1,1,0.1))"
   ]
  },
  {
   "cell_type": "code",
   "execution_count": 74,
   "metadata": {},
   "outputs": [],
   "source": [
    "from typing import Union\n",
    "import numpy.typing as npt\n",
    "_x = np.linspace(0, 2, 20)\n",
    "\n",
    "def gaussian(\n",
    "    x: Union[npt.NDArray[np.float64], float], mean: float, sigma: float\n",
    ") -> Union[npt.NDArray[np.float64], float]:\n",
    "     r\"\"\"Normalized gaussian.\n",
    "\n",
    "     .. math::\n",
    "\n",
    "         f = 1 / \\sqrt{2 * \\pi * \\sigma^{2}} * \\exp{-\\frac{(x - \\mu)^{2}}{(2 * \\sigma^{2}}}\n",
    "\n",
    "     Args:\n",
    "         x: Value(s) where the gaussian should be evaluated.\n",
    "         mean: Mean of the gaussian distribution.\n",
    "         sigma: Width of the gaussian distribution.\n",
    "     Returns:\n",
    "         Calculated gaussian value(s).\n",
    "     \"\"\"\n",
    "     return 1.0 / np.sqrt(2 * np.pi * np.square(sigma)) * np.exp(-1.0 / 2.0 * np.square((x - mean) / sigma))  # type: ignore\n",
    "\n",
    "def extended_gaussian(\n",
    "    x: Union[npt.NDArray[np.float64], float], mean: float, sigma: float, amplitude: float\n",
    ") -> Union[npt.NDArray[np.float64], float]:\n",
    "    r\"\"\"Extended gaussian.\n",
    "\n",
    "    .. math::\n",
    "\n",
    "        f = A / \\sqrt{2 * \\pi * \\sigma^{2}} * \\exp{-\\frac{(x - \\mu)^{2}}{(2 * \\sigma^{2}}}\n",
    "\n",
    "    Args:\n",
    "        x: Value(s) where the gaussian should be evaluated.\n",
    "        mean: Mean of the gaussian distribution.\n",
    "        sigma: Width of the gaussian distribution.\n",
    "        amplitude: Amplitude of the gaussian.\n",
    "    Returns:\n",
    "        Calculated gaussian value(s).\n",
    "    \"\"\"\n",
    "    return amplitude / np.sqrt(2 * np.pi * np.square(sigma)) * np.exp(-1.0 / 2.0 * np.square((x - mean) / sigma))  # type: ignore\n",
    "\n",
    "def test_func(x: npt.NDArray[np.float64], a: float, b: float, c: float, d: float, e: float) -> float:\n",
    "    return e*(1-gaussian(x, a, b)) - gaussian(x, c, d)"
   ]
  },
  {
   "cell_type": "code",
   "execution_count": 83,
   "metadata": {},
   "outputs": [
    {
     "data": {
      "text/plain": [
       "[<matplotlib.lines.Line2D at 0x15095d8a0>]"
      ]
     },
     "execution_count": 83,
     "metadata": {},
     "output_type": "execute_result"
    },
    {
     "data": {
      "image/png": "[encoded data removed]",
      "text/plain": [
       "<Figure size 432x288 with 1 Axes>"
      ]
     },
     "metadata": {
      "needs_background": "light"
     },
     "output_type": "display_data"
    }
   ],
   "source": [
    "_x = np.arange(DataXMin, DataXMax, DataXBin) + (DataXBin / 2)\n",
    "fig, ax = plt.subplots()\n",
    "ax.plot(_x, extended_gaussian(_x, 1, 0.1, 1) + extended_gaussian(_x, 1, 0.8, 3), marker=\"o\", alpha=0.5)\n",
    "ax.plot(_x, extended_gaussian(_x, 1, 0.1, 1), marker=\"o\", alpha=0.5)\n",
    "ax.plot(_x, extended_gaussian(_x, 1, 0.8, 3), marker=\"o\", alpha=0.5)\n",
    "#ax.plot(_x, extended_gaussian(_x, 1, 1, 5), marker=\"o\", alpha=0.5)\n",
    "ax.plot(_x, 5*gaussian(_x, 1, 1), marker=\"s\", alpha=0.5)"
   ]
  },
  {
   "cell_type": "markdown",
   "metadata": {},
   "source": [
    "## Making the design points\n",
    "\n",
    "Let's start with a very simple random array :D\n",
    "\n",
    "In reality we would use something more complicated to distribute the points better, but let's start simple.  Fancy stuff is just a better way to achieve the same purpose."
   ]
  },
  {
   "cell_type": "code",
   "execution_count": 336,
   "metadata": {},
   "outputs": [],
   "source": [
    "#Design = np.random.rand(NDesign, 3) * ParameterRanges\n",
    "design = np.array([\n",
    "    np.random.uniform(low=p[0], high=p[1], size=NDesign)\n",
    "    for p in ParameterRanges\n",
    "]).T"
   ]
  },
  {
   "cell_type": "code",
   "execution_count": 269,
   "metadata": {},
   "outputs": [
    {
     "data": {
      "text/plain": [
       "[0.8418076768382686,\n",
       " 0.6675401283237032,\n",
       " 0.35585796422338656,\n",
       " 0.26206165468690934,\n",
       " 0.7490293340728149,\n",
       " 0.1813195814092926,\n",
       " 0.9439442203653641,\n",
       " 0.2528063816210909,\n",
       " 0.11203354249697262,\n",
       " 0.17123836211860055,\n",
       " 0.18814163616438828,\n",
       " 0.22747208699084465,\n",
       " 0.1749882261739455,\n",
       " 0.844959455241212,\n",
       " 0.5243801405673154,\n",
       " 0.583568958473568,\n",
       " 0.40703756710050043,\n",
       " 0.7242440406856373,\n",
       " 0.4630807739117485,\n",
       " 0.5357903145624118,\n",
       " 0.20544222648647592,\n",
       " 0.7933854127380611,\n",
       " 0.71171157431941,\n",
       " 0.4301975233729217,\n",
       " 0.9091373857207646,\n",
       " 0.565559571087707,\n",
       " 0.8238777532266158,\n",
       " 0.9306740891138262,\n",
       " 0.532034337675418,\n",
       " 0.7473996858981004,\n",
       " 0.1820456689931098,\n",
       " 0.9191858762472903,\n",
       " 0.20995309191176015,\n",
       " 0.7493472666156697,\n",
       " 0.410702938733025,\n",
       " 0.17031310192335725,\n",
       " 0.6612560557793011,\n",
       " 0.65407508415022,\n",
       " 0.7176427524766039,\n",
       " 0.5808378979905828,\n",
       " 0.5344734817491408,\n",
       " 0.1260309747290559,\n",
       " 0.4336633345755164,\n",
       " 0.9107891074781718,\n",
       " 0.2316557401987921,\n",
       " 0.29087856049017735,\n",
       " 0.14741280110290278,\n",
       " 0.601453436206615,\n",
       " 0.3956312380658016,\n",
       " 0.3991144172168142,\n",
       " 0.09742172655676684,\n",
       " 0.03316884019569466,\n",
       " 0.9373756474566444,\n",
       " 0.4924391970595997,\n",
       " 0.5078330095988104,\n",
       " 0.9185310471641244,\n",
       " 0.49515326506477564,\n",
       " 0.561424811463811,\n",
       " 0.9526429176344905,\n",
       " 0.1520075464330407,\n",
       " 0.697999459512666,\n",
       " 0.6539212716420328,\n",
       " 0.1227979714445786,\n",
       " 0.7165212177417432,\n",
       " 0.4121684244979291,\n",
       " 0.2857556027686228,\n",
       " 0.4953983013855071,\n",
       " 0.3050567888856026,\n",
       " 0.7734054205711192,\n",
       " 0.9324965269887447,\n",
       " 0.6463034795139303,\n",
       " 0.2861932838871637,\n",
       " 0.4835389955368793,\n",
       " 0.3755913026986877,\n",
       " 0.8873747056185882,\n",
       " 0.7431482438495889,\n",
       " 0.05671464259116121,\n",
       " 0.7389134802209714,\n",
       " 0.5436273988513959,\n",
       " 0.55778218780557,\n",
       " 0.8808289030035847,\n",
       " 0.5131152725713577,\n",
       " 0.29372960447315044,\n",
       " 0.9414775937983999,\n",
       " 0.9954702366561553,\n",
       " 0.8924176903043988,\n",
       " 0.3688339272753971,\n",
       " 0.8081190718150438,\n",
       " 0.4061999875624669,\n",
       " 0.894100108974961,\n",
       " 0.21856974089073355,\n",
       " 0.6310065551198571,\n",
       " 0.715086380577105,\n",
       " 0.32865897473018924,\n",
       " 0.7721666313360269,\n",
       " 0.5149004338389473,\n",
       " 0.15308583781390028,\n",
       " 0.556381655735795,\n",
       " 0.03616399860368391,\n",
       " 0.2993069727523022]"
      ]
     },
     "execution_count": 269,
     "metadata": {},
     "output_type": "execute_result"
    }
   ],
   "source": [
    "design[:, 0].tolist()"
   ]
  },
  {
   "cell_type": "code",
   "execution_count": 112,
   "metadata": {},
   "outputs": [
    {
     "data": {
      "text/plain": [
       "True"
      ]
     },
     "execution_count": 112,
     "metadata": {},
     "output_type": "execute_result"
    }
   ],
   "source": [
    "def f(x, y):\n",
    "    return x + y\n",
    "\n",
    "my_x = np.random.rand(10)\n",
    "my_y = np.random.rand(10)\n",
    "np.allclose(f(my_x, my_y), my_x + my_y)"
   ]
  },
  {
   "cell_type": "code",
   "execution_count": 189,
   "metadata": {},
   "outputs": [
    {
     "name": "stdout",
     "output_type": "stream",
     "text": [
      "Running xj_gamma smeared prediction with 0.8738962830511595, 0.22552394537576326, 1.3309290665636784, 0.16876124901680922\n",
      "Running xj_gamma smeared prediction with 0.23455061024535961, 0.7321936221638388, 1.9554885747352362, 0.5707665599111862\n",
      "Running xj_gamma smeared prediction with 0.38600208435586614, 0.35407247928133634, 0.9789516483111371, 0.5806717030769735\n",
      "Running xj_gamma smeared prediction with 0.6157171038353664, 0.7080809479119221, 0.17616464498289686, 0.45505605419301\n",
      "Running xj_gamma smeared prediction with 0.6459869471336911, 0.6622992489880575, 1.5940636362653149, 0.7863611129096495\n",
      "Running xj_gamma smeared prediction with 0.5693736776322035, 0.9303509396164098, 0.38685851494283496, 0.9113680409097555\n",
      "Running xj_gamma smeared prediction with 0.6628513850892666, 0.29593943240539244, -0.824471764747082, 0.4022407870518928\n",
      "Running xj_gamma smeared prediction with 0.12598401440212859, 0.8181927236098873, -0.22644604201197793, 0.7174009621200287\n",
      "Running xj_gamma smeared prediction with 0.4157129339160679, 0.4846844319335166, 1.9841827020448588, 0.5038050441441284\n",
      "Running xj_gamma smeared prediction with 0.36122510201736224, 0.7041755842961782, 1.1774435237657221, 0.2284159950643122\n",
      "Running xj_gamma smeared prediction with 0.1400774098510924, 0.8544489495210237, 0.7291868899733971, 0.44756746849851536\n",
      "Running xj_gamma smeared prediction with 0.09099829693800221, 0.981978154668656, -0.8737173573541056, 0.7719456671915738\n",
      "Running xj_gamma smeared prediction with 0.9397952070971215, 0.4262707330443307, 1.3957990115953192, 0.9816827043290881\n",
      "Running xj_gamma smeared prediction with 0.12535363311539083, 0.45604598062544044, 0.4406353613037921, 0.20497290998744822\n",
      "Running xj_gamma smeared prediction with 0.6580934804405271, 0.7747976026078085, 1.130742068423774, 0.1976710851893616\n",
      "Running xj_gamma smeared prediction with 0.5174822793600219, 0.35459286410965085, -0.336548507783223, 0.4016640738691316\n",
      "Running xj_gamma smeared prediction with 0.7128678801121564, 0.4508604207164578, -0.8554907525525135, 0.22926926642875345\n",
      "Running xj_gamma smeared prediction with 0.06982011001420751, 0.8343713079671208, -0.44513670099324, 0.4588638805898637\n",
      "Running xj_gamma smeared prediction with 0.9198317337557508, 0.44423298416446144, -0.5061853875108644, 0.9113253855303175\n",
      "Running xj_gamma smeared prediction with 0.14184261426514055, 0.0728290102326401, 1.3813136446178298, 0.3513779773698147\n",
      "Running xj_gamma smeared prediction with 0.46510359159615045, 0.7568606632226984, 1.7160803566985545, 0.14244135165614213\n",
      "Running xj_gamma smeared prediction with 0.5092223455923228, 0.8310219193194628, 1.6005270199172372, 0.8390525047890058\n",
      "Running xj_gamma smeared prediction with 0.23839745441014804, 0.0866630827508662, -0.6924146992356676, 0.7428181450541147\n",
      "Running xj_gamma smeared prediction with 0.8571031798997982, 0.9161716398720894, -0.7858830865023578, 0.08520136082392216\n",
      "Running xj_gamma smeared prediction with 0.6116968496560886, 0.7458057326240256, 0.6512426616093023, 0.2464286030490026\n",
      "Running xj_gamma smeared prediction with 0.47798830860259656, 0.6792941003766797, 1.313161257548288, 0.8318581722272137\n",
      "Running xj_gamma smeared prediction with 0.7557776988011933, 0.8419517429210851, 0.8250936157772935, 0.06547206032778108\n",
      "Running xj_gamma smeared prediction with 0.14369068730721402, 0.24594647458477026, 1.4701285930354584, 0.36355806667951984\n",
      "Running xj_gamma smeared prediction with 0.1441352650888108, 0.11448868676794788, -0.7819920105537768, 0.5447902906385291\n",
      "Running xj_gamma smeared prediction with 0.6506073485454048, 0.3730654673793894, 0.4921835616531296, 0.8369990832322075\n",
      "Running xj_gamma smeared prediction with 0.2452746069574543, 0.8210214401656071, -0.4230971019996702, 0.5590955952153043\n",
      "Running xj_gamma smeared prediction with 0.4009669075688236, 0.6502527767948274, 0.8943813904097286, 0.8291439739219371\n",
      "Running xj_gamma smeared prediction with 0.1092189582009514, 0.34385392094081835, 1.5725985030823257, 0.15921227351289646\n",
      "Running xj_gamma smeared prediction with 0.655810942344045, 0.7342965350712187, -0.3717263985977397, 0.21427841627378008\n",
      "Running xj_gamma smeared prediction with 0.7718358259630345, 0.05188793354553134, 0.10143649676947808, 0.9223850043839738\n",
      "Running xj_gamma smeared prediction with 0.5432913437779803, 0.3924986485125507, 1.4774857294677743, 0.7522581706548283\n",
      "Running xj_gamma smeared prediction with 0.41034202993989766, 0.4522767011997042, 1.6951747882925483, 0.4834044510531821\n",
      "Running xj_gamma smeared prediction with 0.2815842241201558, 0.36993988618394447, 1.6835262987061173, 0.5735322055465921\n",
      "Running xj_gamma smeared prediction with 0.2128037080345735, 0.1785379990293754, 1.4698627461420402, 0.6938822539345179\n",
      "Running xj_gamma smeared prediction with 0.45135673034698365, 0.12448647626540532, 1.7547870087467894, 0.4451048203519856\n"
     ]
    }
   ],
   "source": [
    "Y1 = np.array([\n",
    "    #np.vectorize(predict_xjgamma_smeared_fix)(A=design[0, :], B=design[1, :], C=design[2, :], D=design[3, :]) for d in design\n",
    "    predict_xjgamma_smeared_fix(A=d[0], B=d[1], C=d[2], D=d[3]) for d in design.T\n",
    "])"
   ]
  },
  {
   "cell_type": "code",
   "execution_count": 190,
   "metadata": {},
   "outputs": [
    {
     "data": {
      "text/plain": [
       "array([0.00000000e+00, 2.05535059e-05, 1.02767530e-05, 4.11070118e-05,\n",
       "       2.05535059e-04, 7.60479719e-04, 2.44586720e-03, 6.83404072e-03,\n",
       "       1.49218453e-02, 2.83021776e-02, 5.22161818e-02, 8.00147985e-02,\n",
       "       1.10444264e-01, 1.36423896e-01, 1.44378102e-01, 1.36465003e-01,\n",
       "       1.13054559e-01, 8.48859794e-02, 5.68098903e-02, 3.17654434e-02])"
      ]
     },
     "execution_count": 190,
     "metadata": {},
     "output_type": "execute_result"
    }
   ],
   "source": [
    "Y1[0]"
   ]
  },
  {
   "cell_type": "code",
   "execution_count": 270,
   "metadata": {},
   "outputs": [
    {
     "name": "stdout",
     "output_type": "stream",
     "text": [
      "Running xj_gamma smeared prediction with 0.2993069727523022, 0.28584026000298, 0.7389127546530276, 0.36174604754038964\n"
     ]
    },
    {
     "data": {
      "text/plain": [
       "array([0.0012632 , 0.00276324, 0.00624831, 0.01167328, 0.01980511,\n",
       "       0.03312506, 0.04877966, 0.06738924, 0.08597627, 0.10511594,\n",
       "       0.11824416, 0.12082694, 0.11897726, 0.1044054 , 0.08661915,\n",
       "       0.06878778])"
      ]
     },
     "execution_count": 270,
     "metadata": {},
     "output_type": "execute_result"
    }
   ],
   "source": [
    "predict_xjgamma_smeared_fix(A=design[-1, 0], B=design[-1, 1], C=design[-1, 2], D=design[-1, 3])"
   ]
  },
  {
   "cell_type": "markdown",
   "metadata": {},
   "source": [
    "## Preparing the model predictions\n",
    "\n",
    "Let's loop over the design points, and call the predict function we just wrote to make a big table!\n",
    "\n",
    "This step takes a while, like a few minutes.  Please be patient."
   ]
  },
  {
   "cell_type": "code",
   "execution_count": 337,
   "metadata": {},
   "outputs": [
    {
     "name": "stdout",
     "output_type": "stream",
     "text": [
      "Running xj_gamma smeared prediction with 0.33659099250285485, 0.6245987649684359, 0.2438762056678217, 0.7917545836773627\n",
      "Running xj_gamma smeared prediction with 0.22914511118438366, 0.3639975491490404, 0.08886370857304823, 0.3691745547312514\n",
      "Running xj_gamma smeared prediction with 0.20385872622051943, 0.7706277531605967, 0.14576987182086393, 0.7200561139714041\n",
      "Running xj_gamma smeared prediction with 0.5766608155927255, 0.7264180302818821, 0.7159985423588875, 0.3650475274553525\n",
      "Running xj_gamma smeared prediction with 0.07317385339282823, 0.18898338439897544, 0.46271925374321954, 0.4833634014711803\n",
      "Running xj_gamma smeared prediction with 0.5266216450861394, 0.506384998339114, 0.278675403417923, 0.7501023010342446\n",
      "Running xj_gamma smeared prediction with 0.4112279815226642, 0.16135724975479881, 0.06382576639087198, 0.8590046972159678\n",
      "Running xj_gamma smeared prediction with 0.1819998600540135, 0.43341829872492715, 0.5227901198522258, 0.7834679727304477\n",
      "Running xj_gamma smeared prediction with 0.4542269080339905, 0.04100354022891127, 0.17849171244968448, 0.4306847770643719\n",
      "Running xj_gamma smeared prediction with 0.5171348406424955, 0.5700266361192313, 0.4205047701734796, 0.6923517619959813\n",
      "Running xj_gamma smeared prediction with 0.4751705565014205, 0.6714890787078638, 0.7923615604115298, 0.9285953856015092\n",
      "Running xj_gamma smeared prediction with 0.06194263409159991, 0.15220810498068235, 0.7913566122289369, 0.20577128296973293\n",
      "Running xj_gamma smeared prediction with 0.4149307650252641, 0.04095121894154248, 0.09391438143041067, 0.2655780073760573\n",
      "Running xj_gamma smeared prediction with 0.060619604207589856, 0.25987465744508764, 0.8180642453979041, 0.8975170423721328\n",
      "Running xj_gamma smeared prediction with 0.48275635609090667, 0.866136301172778, 0.13235730512245975, 0.5087192407170861\n",
      "Running xj_gamma smeared prediction with 0.3898223507792198, 0.5864429337694771, 0.7371393330977773, 0.36533261642951786\n",
      "Running xj_gamma smeared prediction with 0.3452611095047886, 0.7878348255935614, 0.9883531798418743, 0.896429485548532\n",
      "Running xj_gamma smeared prediction with 0.13171130667388123, 0.24208198570075917, 0.6644079278969367, 0.32846303107468794\n",
      "Running xj_gamma smeared prediction with 0.03796061478742561, 0.5098173504988229, 0.3158839800215817, 0.9823493915410952\n",
      "Running xj_gamma smeared prediction with 0.035521830940527854, 0.7483452334791385, 0.3048638788230465, 0.5178751753121136\n",
      "Running xj_gamma smeared prediction with 0.13955956158191077, 0.03379727422940975, 0.03669933087677405, 0.8938616220577107\n",
      "Running xj_gamma smeared prediction with 0.4555557804296293, 0.8819663422133226, 0.4208478404753114, 0.6356174194836658\n",
      "Running xj_gamma smeared prediction with 0.09661216731321265, 0.30433978648301896, 0.5615046439302922, 0.1117192286717234\n",
      "Running xj_gamma smeared prediction with 0.33987617951757665, 0.4005044818436139, 0.7219784115244383, 0.5290273341012117\n",
      "Running xj_gamma smeared prediction with 0.08180538890085276, 0.7623393532531354, 0.05475860495298353, 0.14142282465650907\n",
      "Running xj_gamma smeared prediction with 0.05218096501813611, 0.20307924488287227, 0.17291065145307322, 0.970633177447747\n",
      "Running xj_gamma smeared prediction with 0.29967697731000104, 0.5673176792547271, 0.9482095830922, 0.5456663990995664\n",
      "Running xj_gamma smeared prediction with 0.3800933983305331, 0.897281456693331, 0.7458002755530215, 0.8933219491175474\n",
      "Running xj_gamma smeared prediction with 0.4773823097481097, 0.40835397508694204, 0.35757839266473385, 0.6399569570512004\n",
      "Running xj_gamma smeared prediction with 0.4420634377121204, 0.4574141487144742, 0.3243012755812087, 0.7731540061442989\n",
      "Running xj_gamma smeared prediction with 0.23562592497946713, 0.3805262932203637, 0.13227035089627368, 0.7987676341546025\n",
      "Running xj_gamma smeared prediction with 0.07829411988024668, 0.1725319447507855, 0.1886476251803705, 0.6399908771580537\n",
      "Running xj_gamma smeared prediction with 0.39380919729320285, 0.06817312807743175, 0.894299893034048, 0.5660209736222469\n",
      "Running xj_gamma smeared prediction with 0.3550227387164974, 0.1813297669934173, 0.10800401738967441, 0.1394693592464071\n",
      "Running xj_gamma smeared prediction with 0.5305587973249036, 0.7748975981417978, 0.025037598916429937, 0.8747472091947799\n",
      "Running xj_gamma smeared prediction with 0.3021524002680396, 0.7101268663723536, 0.6005950509348885, 0.15857119005030582\n",
      "Running xj_gamma smeared prediction with 0.5202050193562177, 0.5935297408929492, 0.7752273301699387, 0.8655140470612543\n",
      "Running xj_gamma smeared prediction with 0.5712152718480683, 0.07862769371158197, 0.29596016398197506, 0.18892586708207326\n",
      "Running xj_gamma smeared prediction with 0.3720100566641185, 0.9346374979240235, 0.7568809210997091, 0.6821272244744134\n",
      "Running xj_gamma smeared prediction with 0.5067505357150496, 0.598169114662186, 0.8865763194743232, 0.6794620532193895\n",
      "Running xj_gamma smeared prediction with 0.16363989729486944, 0.04487004006481579, 0.7709698456357689, 0.890545838786477\n",
      "Running xj_gamma smeared prediction with 0.31389009427862574, 0.3759284014824263, 0.575956218545857, 0.48531425858663335\n",
      "Running xj_gamma smeared prediction with 0.49737580838837714, 0.8824607098919147, 0.10920791662771079, 0.9335340852775307\n",
      "Running xj_gamma smeared prediction with 0.15979211568614785, 0.8739295529172038, 0.13178059427507605, 0.45954383979399904\n",
      "Running xj_gamma smeared prediction with 0.378857576493495, 0.33617528199563906, 0.08599787027403905, 0.9433535710565515\n",
      "Running xj_gamma smeared prediction with 0.5812766673328168, 0.22900721677715605, 0.49167462032004483, 0.8936682077814138\n",
      "Running xj_gamma smeared prediction with 0.4893182413144447, 0.22397141244545896, 0.7116204487524203, 0.5741971726592114\n",
      "Running xj_gamma smeared prediction with 0.33978419315958786, 0.5480852279409398, 0.2410771107823661, 0.9611471892985398\n",
      "Running xj_gamma smeared prediction with 0.3351398382912741, 0.23171267832782622, 0.8259995227073303, 0.884884601111581\n",
      "Running xj_gamma smeared prediction with 0.057620212939143316, 0.13848364760063403, 0.545956721410392, 0.17657124624769266\n",
      "Running xj_gamma smeared prediction with 0.18901623851151525, 0.711957719139263, 0.4686612810036141, 0.3839269717458571\n",
      "Running xj_gamma smeared prediction with 0.2303299784636016, 0.5302806869454538, 0.6391678304594439, 0.7495998520697493\n",
      "Running xj_gamma smeared prediction with 0.5425102870474653, 0.7977448756149845, 0.2986846218522704, 0.7614308969930916\n",
      "Running xj_gamma smeared prediction with 0.1763542883017259, 0.789359850181296, 0.4517413303321618, 0.3439454623982379\n",
      "Running xj_gamma smeared prediction with 0.5134862706138024, 0.40960076670073875, 0.9738067999506996, 0.6764745507225096\n",
      "Running xj_gamma smeared prediction with 0.23271761161397436, 0.18170179819091015, 0.24886630108491067, 0.7202483543860831\n",
      "Running xj_gamma smeared prediction with 0.14504819384770662, 0.11955761969435094, 0.3342562456201271, 0.21308058368598495\n",
      "Running xj_gamma smeared prediction with 0.522806927369583, 0.18597566490161802, 0.9355857972412889, 0.16950810882000772\n",
      "Running xj_gamma smeared prediction with 0.16918068658932817, 0.04787746668913872, 0.1370373018264254, 0.5837729805326636\n",
      "Running xj_gamma smeared prediction with 0.5547883724578554, 0.6449174913616929, 0.576904521389514, 0.6830348986053475\n",
      "Running xj_gamma smeared prediction with 0.32030737839937734, 0.3935275375095276, 0.5920535583852304, 0.5500770987515563\n",
      "Running xj_gamma smeared prediction with 0.30695337777820303, 0.55146592730964, 0.3932041136465202, 0.828824757559453\n",
      "Running xj_gamma smeared prediction with 0.536787228323104, 0.8710255597978285, 0.7185391275530859, 0.45740420104749113\n",
      "Running xj_gamma smeared prediction with 0.13048537718262798, 0.18323157317898867, 0.5859348003921513, 0.6863308570658888\n",
      "Running xj_gamma smeared prediction with 0.47267129726308127, 0.25245107620300994, 0.31515465786680463, 0.6627475962834777\n",
      "Running xj_gamma smeared prediction with 0.11576604488538378, 0.3665290394807489, 0.7367428542539816, 0.5392999546024008\n",
      "Running xj_gamma smeared prediction with 0.46534779670495363, 0.8197979018877263, 0.3063269147624451, 0.4505925275313287\n",
      "Running xj_gamma smeared prediction with 0.2570785101706039, 0.24663004907713382, 0.9807156870298965, 0.13502329701809335\n",
      "Running xj_gamma smeared prediction with 0.5140286796711416, 0.5956873397427396, 0.9565334360583407, 0.12918974274437947\n",
      "Running xj_gamma smeared prediction with 0.5116324711376636, 0.9230585053597109, 0.45442769878762757, 0.5519111376102821\n",
      "Running xj_gamma smeared prediction with 0.24541744307386804, 0.6140743769929172, 0.9363072671158669, 0.9858621184693519\n",
      "Running xj_gamma smeared prediction with 0.31607828504301716, 0.21370081873601693, 0.5567817111729783, 0.18884180142501272\n",
      "Running xj_gamma smeared prediction with 0.035792271323646735, 0.29273401545902444, 0.5237008603791384, 0.9668352410252607\n",
      "Running xj_gamma smeared prediction with 0.29961160828714056, 0.9979699643017267, 0.8148330406242946, 0.6398883914325018\n",
      "Running xj_gamma smeared prediction with 0.39623985141323026, 0.7884160618292242, 0.710118983847826, 0.7339444073681274\n",
      "Running xj_gamma smeared prediction with 0.4817104877015565, 0.3131652312000005, 0.5233415537803503, 0.7837723497647815\n",
      "Running xj_gamma smeared prediction with 0.5319800451611528, 0.1799932685970998, 0.8329441738575852, 0.31742373032242843\n",
      "Running xj_gamma smeared prediction with 0.43482041666559745, 0.3048105567397091, 0.5107223847672249, 0.18467317477235656\n",
      "Running xj_gamma smeared prediction with 0.4695528146935915, 0.45731496918314274, 0.7210139988400913, 0.8305298445011534\n",
      "Running xj_gamma smeared prediction with 0.592510458361492, 0.6455851669365306, 0.7294376699108475, 0.9934324272868841\n",
      "Running xj_gamma smeared prediction with 0.06641617678685319, 0.8396782125004826, 0.4666623584958622, 0.8642193422332641\n",
      "Running xj_gamma smeared prediction with 0.5803662178984869, 0.06629428718177341, 0.7114007772986066, 0.3186933771726363\n",
      "Running xj_gamma smeared prediction with 0.4778196038956187, 0.8842206320992693, 0.126462668801986, 0.17928606042662965\n",
      "Running xj_gamma smeared prediction with 0.2426026816187086, 0.2550886141699749, 0.7787561676702119, 0.21603304135537899\n",
      "Running xj_gamma smeared prediction with 0.5294573471539813, 0.9108535295566396, 0.46400807785441234, 0.811601940433436\n",
      "Running xj_gamma smeared prediction with 0.15743900714436346, 0.07515211222812695, 0.624147476181807, 0.7351098458170253\n",
      "Running xj_gamma smeared prediction with 0.11351986570984904, 0.8869830986829957, 0.07853437304712581, 0.49478306418338913\n",
      "Running xj_gamma smeared prediction with 0.25846179013628023, 0.16352105459574764, 0.0837155824432478, 0.5770604870172671\n",
      "Running xj_gamma smeared prediction with 0.40269359234024366, 0.5819314855810094, 0.7060568240345352, 0.8384434658788441\n",
      "Running xj_gamma smeared prediction with 0.03204938476324443, 0.9342608481011672, 0.05795311156275848, 0.3524706397827714\n",
      "Running xj_gamma smeared prediction with 0.1295911715199538, 0.32605920497422586, 0.7834790778168008, 0.22038767750280608\n",
      "Running xj_gamma smeared prediction with 0.1282866462555265, 0.7770898315336471, 0.5047495412943445, 0.9958072658997075\n",
      "Running xj_gamma smeared prediction with 0.4508963961831809, 0.6862334173488855, 0.05649153038569693, 0.3269970867576069\n",
      "Running xj_gamma smeared prediction with 0.34187072203870594, 0.5167807076277015, 0.37947624046226897, 0.966651951635501\n",
      "Running xj_gamma smeared prediction with 0.26613475452559365, 0.9694957914270174, 0.6678327129762879, 0.22922954288492062\n",
      "Running xj_gamma smeared prediction with 0.3093476541798924, 0.05837337149021538, 0.16999269286998298, 0.3588542666423774\n",
      "Running xj_gamma smeared prediction with 0.5840409219012852, 0.37130142466230026, 0.32289714053975954, 0.9013022568771373\n",
      "Running xj_gamma smeared prediction with 0.09822441608558383, 0.9269630265494284, 0.2659953363992079, 0.14926700827109335\n",
      "Running xj_gamma smeared prediction with 0.04961231921505857, 0.902222815659448, 0.1421343834810542, 0.9971167638881742\n",
      "Running xj_gamma smeared prediction with 0.24753956250448048, 0.23445010839335226, 0.8438809564429014, 0.24104881547368837\n",
      "Running xj_gamma smeared prediction with 1, 0.02, 0.2438762056678217, 0.7917545836773627\n",
      "Running xj_gamma smeared prediction with 1, 0.02, 0.08886370857304823, 0.3691745547312514\n",
      "Running xj_gamma smeared prediction with 1, 0.02, 0.14576987182086393, 0.7200561139714041\n",
      "Running xj_gamma smeared prediction with 1, 0.02, 0.7159985423588875, 0.3650475274553525\n",
      "Running xj_gamma smeared prediction with 1, 0.02, 0.46271925374321954, 0.4833634014711803\n",
      "Running xj_gamma smeared prediction with 1, 0.02, 0.278675403417923, 0.7501023010342446\n",
      "Running xj_gamma smeared prediction with 1, 0.02, 0.06382576639087198, 0.8590046972159678\n",
      "Running xj_gamma smeared prediction with 1, 0.02, 0.5227901198522258, 0.7834679727304477\n",
      "Running xj_gamma smeared prediction with 1, 0.02, 0.17849171244968448, 0.4306847770643719\n",
      "Running xj_gamma smeared prediction with 1, 0.02, 0.4205047701734796, 0.6923517619959813\n",
      "Running xj_gamma smeared prediction with 1, 0.02, 0.7923615604115298, 0.9285953856015092\n",
      "Running xj_gamma smeared prediction with 1, 0.02, 0.7913566122289369, 0.20577128296973293\n",
      "Running xj_gamma smeared prediction with 1, 0.02, 0.09391438143041067, 0.2655780073760573\n",
      "Running xj_gamma smeared prediction with 1, 0.02, 0.8180642453979041, 0.8975170423721328\n",
      "Running xj_gamma smeared prediction with 1, 0.02, 0.13235730512245975, 0.5087192407170861\n",
      "Running xj_gamma smeared prediction with 1, 0.02, 0.7371393330977773, 0.36533261642951786\n",
      "Running xj_gamma smeared prediction with 1, 0.02, 0.9883531798418743, 0.896429485548532\n",
      "Running xj_gamma smeared prediction with 1, 0.02, 0.6644079278969367, 0.32846303107468794\n",
      "Running xj_gamma smeared prediction with 1, 0.02, 0.3158839800215817, 0.9823493915410952\n",
      "Running xj_gamma smeared prediction with 1, 0.02, 0.3048638788230465, 0.5178751753121136\n",
      "Running xj_gamma smeared prediction with 1, 0.02, 0.03669933087677405, 0.8938616220577107\n",
      "Running xj_gamma smeared prediction with 1, 0.02, 0.4208478404753114, 0.6356174194836658\n",
      "Running xj_gamma smeared prediction with 1, 0.02, 0.5615046439302922, 0.1117192286717234\n",
      "Running xj_gamma smeared prediction with 1, 0.02, 0.7219784115244383, 0.5290273341012117\n",
      "Running xj_gamma smeared prediction with 1, 0.02, 0.05475860495298353, 0.14142282465650907\n",
      "Running xj_gamma smeared prediction with 1, 0.02, 0.17291065145307322, 0.970633177447747\n",
      "Running xj_gamma smeared prediction with 1, 0.02, 0.9482095830922, 0.5456663990995664\n",
      "Running xj_gamma smeared prediction with 1, 0.02, 0.7458002755530215, 0.8933219491175474\n",
      "Running xj_gamma smeared prediction with 1, 0.02, 0.35757839266473385, 0.6399569570512004\n",
      "Running xj_gamma smeared prediction with 1, 0.02, 0.3243012755812087, 0.7731540061442989\n",
      "Running xj_gamma smeared prediction with 1, 0.02, 0.13227035089627368, 0.7987676341546025\n",
      "Running xj_gamma smeared prediction with 1, 0.02, 0.1886476251803705, 0.6399908771580537\n",
      "Running xj_gamma smeared prediction with 1, 0.02, 0.894299893034048, 0.5660209736222469\n",
      "Running xj_gamma smeared prediction with 1, 0.02, 0.10800401738967441, 0.1394693592464071\n",
      "Running xj_gamma smeared prediction with 1, 0.02, 0.025037598916429937, 0.8747472091947799\n",
      "Running xj_gamma smeared prediction with 1, 0.02, 0.6005950509348885, 0.15857119005030582\n",
      "Running xj_gamma smeared prediction with 1, 0.02, 0.7752273301699387, 0.8655140470612543\n",
      "Running xj_gamma smeared prediction with 1, 0.02, 0.29596016398197506, 0.18892586708207326\n",
      "Running xj_gamma smeared prediction with 1, 0.02, 0.7568809210997091, 0.6821272244744134\n",
      "Running xj_gamma smeared prediction with 1, 0.02, 0.8865763194743232, 0.6794620532193895\n",
      "Running xj_gamma smeared prediction with 1, 0.02, 0.7709698456357689, 0.890545838786477\n",
      "Running xj_gamma smeared prediction with 1, 0.02, 0.575956218545857, 0.48531425858663335\n",
      "Running xj_gamma smeared prediction with 1, 0.02, 0.10920791662771079, 0.9335340852775307\n",
      "Running xj_gamma smeared prediction with 1, 0.02, 0.13178059427507605, 0.45954383979399904\n",
      "Running xj_gamma smeared prediction with 1, 0.02, 0.08599787027403905, 0.9433535710565515\n",
      "Running xj_gamma smeared prediction with 1, 0.02, 0.49167462032004483, 0.8936682077814138\n",
      "Running xj_gamma smeared prediction with 1, 0.02, 0.7116204487524203, 0.5741971726592114\n",
      "Running xj_gamma smeared prediction with 1, 0.02, 0.2410771107823661, 0.9611471892985398\n",
      "Running xj_gamma smeared prediction with 1, 0.02, 0.8259995227073303, 0.884884601111581\n",
      "Running xj_gamma smeared prediction with 1, 0.02, 0.545956721410392, 0.17657124624769266\n",
      "Running xj_gamma smeared prediction with 1, 0.02, 0.4686612810036141, 0.3839269717458571\n",
      "Running xj_gamma smeared prediction with 1, 0.02, 0.6391678304594439, 0.7495998520697493\n",
      "Running xj_gamma smeared prediction with 1, 0.02, 0.2986846218522704, 0.7614308969930916\n",
      "Running xj_gamma smeared prediction with 1, 0.02, 0.4517413303321618, 0.3439454623982379\n",
      "Running xj_gamma smeared prediction with 1, 0.02, 0.9738067999506996, 0.6764745507225096\n",
      "Running xj_gamma smeared prediction with 1, 0.02, 0.24886630108491067, 0.7202483543860831\n",
      "Running xj_gamma smeared prediction with 1, 0.02, 0.3342562456201271, 0.21308058368598495\n",
      "Running xj_gamma smeared prediction with 1, 0.02, 0.9355857972412889, 0.16950810882000772\n",
      "Running xj_gamma smeared prediction with 1, 0.02, 0.1370373018264254, 0.5837729805326636\n",
      "Running xj_gamma smeared prediction with 1, 0.02, 0.576904521389514, 0.6830348986053475\n",
      "Running xj_gamma smeared prediction with 1, 0.02, 0.5920535583852304, 0.5500770987515563\n",
      "Running xj_gamma smeared prediction with 1, 0.02, 0.3932041136465202, 0.828824757559453\n",
      "Running xj_gamma smeared prediction with 1, 0.02, 0.7185391275530859, 0.45740420104749113\n",
      "Running xj_gamma smeared prediction with 1, 0.02, 0.5859348003921513, 0.6863308570658888\n",
      "Running xj_gamma smeared prediction with 1, 0.02, 0.31515465786680463, 0.6627475962834777\n",
      "Running xj_gamma smeared prediction with 1, 0.02, 0.7367428542539816, 0.5392999546024008\n",
      "Running xj_gamma smeared prediction with 1, 0.02, 0.3063269147624451, 0.4505925275313287\n",
      "Running xj_gamma smeared prediction with 1, 0.02, 0.9807156870298965, 0.13502329701809335\n",
      "Running xj_gamma smeared prediction with 1, 0.02, 0.9565334360583407, 0.12918974274437947\n",
      "Running xj_gamma smeared prediction with 1, 0.02, 0.45442769878762757, 0.5519111376102821\n",
      "Running xj_gamma smeared prediction with 1, 0.02, 0.9363072671158669, 0.9858621184693519\n",
      "Running xj_gamma smeared prediction with 1, 0.02, 0.5567817111729783, 0.18884180142501272\n",
      "Running xj_gamma smeared prediction with 1, 0.02, 0.5237008603791384, 0.9668352410252607\n",
      "Running xj_gamma smeared prediction with 1, 0.02, 0.8148330406242946, 0.6398883914325018\n",
      "Running xj_gamma smeared prediction with 1, 0.02, 0.710118983847826, 0.7339444073681274\n",
      "Running xj_gamma smeared prediction with 1, 0.02, 0.5233415537803503, 0.7837723497647815\n",
      "Running xj_gamma smeared prediction with 1, 0.02, 0.8329441738575852, 0.31742373032242843\n",
      "Running xj_gamma smeared prediction with 1, 0.02, 0.5107223847672249, 0.18467317477235656\n",
      "Running xj_gamma smeared prediction with 1, 0.02, 0.7210139988400913, 0.8305298445011534\n",
      "Running xj_gamma smeared prediction with 1, 0.02, 0.7294376699108475, 0.9934324272868841\n",
      "Running xj_gamma smeared prediction with 1, 0.02, 0.4666623584958622, 0.8642193422332641\n",
      "Running xj_gamma smeared prediction with 1, 0.02, 0.7114007772986066, 0.3186933771726363\n",
      "Running xj_gamma smeared prediction with 1, 0.02, 0.126462668801986, 0.17928606042662965\n",
      "Running xj_gamma smeared prediction with 1, 0.02, 0.7787561676702119, 0.21603304135537899\n",
      "Running xj_gamma smeared prediction with 1, 0.02, 0.46400807785441234, 0.811601940433436\n",
      "Running xj_gamma smeared prediction with 1, 0.02, 0.624147476181807, 0.7351098458170253\n",
      "Running xj_gamma smeared prediction with 1, 0.02, 0.07853437304712581, 0.49478306418338913\n",
      "Running xj_gamma smeared prediction with 1, 0.02, 0.0837155824432478, 0.5770604870172671\n",
      "Running xj_gamma smeared prediction with 1, 0.02, 0.7060568240345352, 0.8384434658788441\n",
      "Running xj_gamma smeared prediction with 1, 0.02, 0.05795311156275848, 0.3524706397827714\n",
      "Running xj_gamma smeared prediction with 1, 0.02, 0.7834790778168008, 0.22038767750280608\n",
      "Running xj_gamma smeared prediction with 1, 0.02, 0.5047495412943445, 0.9958072658997075\n",
      "Running xj_gamma smeared prediction with 1, 0.02, 0.05649153038569693, 0.3269970867576069\n",
      "Running xj_gamma smeared prediction with 1, 0.02, 0.37947624046226897, 0.966651951635501\n",
      "Running xj_gamma smeared prediction with 1, 0.02, 0.6678327129762879, 0.22922954288492062\n",
      "Running xj_gamma smeared prediction with 1, 0.02, 0.16999269286998298, 0.3588542666423774\n",
      "Running xj_gamma smeared prediction with 1, 0.02, 0.32289714053975954, 0.9013022568771373\n",
      "Running xj_gamma smeared prediction with 1, 0.02, 0.2659953363992079, 0.14926700827109335\n",
      "Running xj_gamma smeared prediction with 1, 0.02, 0.1421343834810542, 0.9971167638881742\n",
      "Running xj_gamma smeared prediction with 1, 0.02, 0.8438809564429014, 0.24104881547368837\n"
     ]
    }
   ],
   "source": [
    "# Generate prediction for \"central\" data\n",
    "#Y1 = [predict_xjgamma_smeared(i[0], i[1], i[2]) for i in design]\n",
    "Y1 = np.array([\n",
    "    predict_xjgamma_smeared_fix(A=d[0], B=d[1], C=d[2], D=d[3]) for d in design\n",
    "])\n",
    "# Generate prediction for \"peripheral\" data.  Note here A and B are irrelevant.  So we set them to 0\n",
    "#Y2 = [predict_xjgamma_smeared(0, 0, i[2]) for i in design]\n",
    "Y2 = np.array([\n",
    "    # A = 1 so that the XJ cancels out to 0, and then it's just the second term that dominates\n",
    "    predict_xjgamma_smeared_fix(A=1, B=0.02, C=d[2], D=d[3]) for d in design\n",
    "])"
   ]
  },
  {
   "cell_type": "code",
   "execution_count": 325,
   "metadata": {},
   "outputs": [
    {
     "name": "stdout",
     "output_type": "stream",
     "text": [
      "Running xj_gamma smeared prediction with 1, 0.02, 0.905518200719223, 0.06683268397009126\n",
      "Running xj_gamma smeared prediction with 1, 0.02, 0.9577448981595271, 0.5503305687895597\n",
      "Running xj_gamma smeared prediction with 1, 0.02, 0.08336681295616799, 0.9058218822377103\n",
      "Running xj_gamma smeared prediction with 1, 0.02, 0.35278485458757786, 0.28861321660735423\n"
     ]
    },
    {
     "name": "stderr",
     "output_type": "stream",
     "text": [
      "/var/folders/s4/zc_9tsr13mvbdxfpt284svpm0000gp/T/ipykernel_21164/4213019536.py:51: RuntimeWarning: invalid value encountered in true_divide\n",
      "  return h / h.sum()\n"
     ]
    }
   ],
   "source": [
    "Y2 = np.array([\n",
    "    # A = 1 so that the XJ cancels out to 0, and then it's just the second term that dominates\n",
    "    predict_xjgamma_smeared_fix(A=1, B=0.02, C=d[2], D=d[3]) for d in design[26:30]\n",
    "])\n",
    "#Y2"
   ]
  },
  {
   "cell_type": "markdown",
   "metadata": {},
   "source": [
    "## Write everything out"
   ]
  },
  {
   "cell_type": "code",
   "execution_count": 338,
   "metadata": {},
   "outputs": [],
   "source": [
    "with open(folder / 'Prediction_Selection1.dat', 'w') as f:\n",
    "    f.write('# Version 1.0\\n')\n",
    "    f.write('# Data Data_Selection1.dat\\n')\n",
    "    f.write('# Design Design.dat\\n')\n",
    "    np.savetxt(f, np.transpose(Y1))"
   ]
  },
  {
   "cell_type": "code",
   "execution_count": 339,
   "metadata": {},
   "outputs": [],
   "source": [
    "with open(folder / 'Prediction_Selection2.dat', 'w') as f:\n",
    "    f.write('# Version 1.0\\n')\n",
    "    f.write('# Data Data_Selection2.dat\\n')\n",
    "    f.write('# Design Design.dat\\n')\n",
    "    np.savetxt(f, np.transpose(Y2))"
   ]
  },
  {
   "cell_type": "code",
   "execution_count": 340,
   "metadata": {},
   "outputs": [],
   "source": [
    "with open(folder / 'Design.dat', 'w') as f:\n",
    "    f.write('# Version 1.0\\n')\n",
    "    f.write(f'# Parameter {\" \".join(\"A B C D E F G H I J K L\".split()[:design.shape[1]])}\\n')\n",
    "    np.savetxt(f, design)"
   ]
  },
  {
   "cell_type": "markdown",
   "metadata": {},
   "source": [
    "## Making fake data"
   ]
  },
  {
   "cell_type": "code",
   "execution_count": 11,
   "metadata": {},
   "outputs": [
    {
     "name": "stdout",
     "output_type": "stream",
     "text": [
      "Running prediction with 0.5 0.25 0.1\n",
      "Running prediction with 0 0 0.1\n"
     ]
    }
   ],
   "source": [
    "Truth = [0.50, 0.25, 0.10]\n",
    "\n",
    "DataY1 = Predict(Truth[0], Truth[1], Truth[2], N = 100000)\n",
    "DataY2 = Predict(0, 0, Truth[2], N = 100000)"
   ]
  },
  {
   "cell_type": "code",
   "execution_count": 12,
   "metadata": {},
   "outputs": [],
   "source": [
    "XMin = np.array(range(0, DataNBin)) * DataXBin\n",
    "XMax = np.array(range(1, DataNBin + 1)) * DataXBin\n",
    "\n",
    "Stat = 0.001\n",
    "Sys = 0.010\n",
    "\n",
    "Data1 = np.zeros((DataNBin, 7))\n",
    "Data2 = np.zeros((DataNBin, 7))\n",
    "\n",
    "Data1[:,0] = XMin\n",
    "Data1[:,1] = XMax\n",
    "Data1[:,2] = DataY1\n",
    "Data1[:,3] = Stat\n",
    "Data1[:,4] = Stat\n",
    "Data1[:,5] = Sys\n",
    "Data1[:,6] = Sys\n",
    "\n",
    "Data2[:,0] = XMin\n",
    "Data2[:,1] = XMax\n",
    "Data2[:,2] = DataY2\n",
    "Data2[:,3] = Stat\n",
    "Data2[:,4] = Stat\n",
    "Data2[:,5] = Sys\n",
    "Data2[:,6] = Sys"
   ]
  },
  {
   "cell_type": "code",
   "execution_count": 13,
   "metadata": {},
   "outputs": [],
   "source": [
    "with open(folder / 'Data_Selection1.dat', 'w') as f:\n",
    "    f.write('# Version 1.0\\n')\n",
    "    f.write('# DOI None\\n')\n",
    "    f.write('# Source None\\n')\n",
    "    f.write('# Experiment JetScape\\n')\n",
    "    f.write('# System PbPb5020\\n')\n",
    "    f.write('# Centrality 0to10\\n')\n",
    "    f.write('# XY AJ DNDAJ\\n')\n",
    "    f.write('# Label xmin xmax y stat,low stat,high sys,low sys,high\\n')\n",
    "    np.savetxt(f, Data1)\n",
    "    \n",
    "with open(folder / 'Data_Selection2.dat', 'w') as f:\n",
    "    f.write('# Version 1.0\\n')\n",
    "    f.write('# DOI None\\n')\n",
    "    f.write('# Source None\\n')\n",
    "    f.write('# Experiment JetScape\\n')\n",
    "    f.write('# System PbPb5020\\n')\n",
    "    f.write('# Centrality 70to90\\n')\n",
    "    f.write('# XY AJ DNDAJ\\n')\n",
    "    f.write('# Label xmin xmax y stat,low stat,high sys,low sys,high\\n')\n",
    "    np.savetxt(f, Data2)"
   ]
  },
  {
   "cell_type": "code",
   "execution_count": null,
   "metadata": {},
   "outputs": [],
   "source": []
  },
  {
   "cell_type": "code",
   "execution_count": null,
   "metadata": {},
   "outputs": [],
   "source": []
  }
 ],
 "metadata": {
  "kernelspec": {
   "display_name": "Python 3.10.5 ('.venv': poetry)",
   "language": "python",
   "name": "python3"
  },
  "language_info": {
   "codemirror_mode": {
    "name": "ipython",
    "version": 3
   },
   "file_extension": ".py",
   "mimetype": "text/x-python",
   "name": "python",
   "nbconvert_exporter": "python",
   "pygments_lexer": "ipython3",
   "version": "3.10.5"
  },
  "vscode": {
   "interpreter": {
    "hash": "1d65bb7f5f25d512d5b31173bad01016a3b501790a1361b769a5765daf7b2eab"
   }
  }
 },
 "nbformat": 4,
 "nbformat_minor": 4
}
