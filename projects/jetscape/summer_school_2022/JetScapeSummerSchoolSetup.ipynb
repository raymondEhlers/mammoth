{
 "cells": [
  {
   "cell_type": "markdown",
   "metadata": {},
   "source": [
    "# Model prediction maker"
   ]
  },
  {
   "cell_type": "markdown",
   "metadata": {},
   "source": [
    "Model setup is as follows: we have dijet asymmetry data prepared, where the asymmetry AJ is defined as the difference between the two jets divided by the sum. Specifically,\n",
    "\n",
    "$$A_{\\mathrm{j}} = \\frac{p_{\\mathrm{T, 1}} - p_{\\mathrm{T, 2}}}{p_{\\mathrm{T, 1}} + p_{\\mathrm{T, 2}}}$$\n",
    "\n",
    "We will construct a model to describe the energy loss observed in the dijet asymmetry.  For this model, we consider back-to-back dijets.  Each jet can lose energy, and the lost energy is parameterized as\n",
    "\n",
    "$$ \\Delta p_{\\mathrm{T}} / p_{\\mathrm{T}} \\sim A \\times Gaus(1, B)$$\n",
    "\n",
    "In addition to the energy loss contribution, we have extra \"apparent\" smearing on the AJ coming from the fact that we have other processes going on in the events (three jets etc).  It is parameterized as a Gaussian smearing on AJ with width C. So there are three total parameters: A, B, and C.\n",
    "\n",
    "The measurement is done in two bins of centrality.  One in central event, where (A, B, C) are all relevant, and another one in very peripheral event, where only the parameter (C) is relevant.\n",
    "\n",
    "The goal here in this notebook is to make the inputs needed for Bayesian inference to learn about A, B and C from the provided data"
   ]
  },
  {
   "cell_type": "code",
   "execution_count": 1,
   "metadata": {},
   "outputs": [],
   "source": [
    "from pathlib import Path\n",
    "\n",
    "import numpy as np\n",
    "\n",
    "folder = Path('input/XJGammaToy/')\n",
    "folder.mkdir(parents=True, exist_ok=True)"
   ]
  },
  {
   "cell_type": "code",
   "execution_count": 276,
   "metadata": {},
   "outputs": [],
   "source": [
    "# xj or Aj\n",
    "#DataXMin        = 0.000\n",
    "#DataXMax        = 1.000\n",
    "#DataXBin        = 0.050\n",
    "# xj gamma\n",
    "DataXMin        = 0.000\n",
    "DataXMax        = 2.000\n",
    "DataXBin        = 0.125\n",
    "\n",
    "DataNBin        = int((DataXMax - DataXMin) / DataXBin)\n",
    "\n",
    "# how many design points do you want to generate?\n",
    "NDesign         = 100\n",
    "\n",
    "# What is the upper parameter range (one each for A, B, C)?\n",
    "# The lower range for each parameter is 0 by construction.\n",
    "# Hint: start with a large-range guess!  Then we can come back and reduce range\n",
    "#ParameterRanges = [(0, 1.0), (0.0, 1.0), (-0.5, 1.5), (0.1, 1.0)]\n",
    "ParameterRanges = [(0, 1.0), (0.0, 1.0), (0, 1.5), (0.1, 1.0)]"
   ]
  },
  {
   "cell_type": "markdown",
   "metadata": {},
   "source": [
    "## The \"prediction\" function\n",
    "\n",
    "Let's write a function, where we do the required smearing, make a histogram on the final AJ, and return the prediction"
   ]
  },
  {
   "cell_type": "code",
   "execution_count": 3,
   "metadata": {},
   "outputs": [],
   "source": [
    "\n",
    "import numpy.typing as npt\n"
   ]
  },
  {
   "cell_type": "code",
   "execution_count": 148,
   "metadata": {},
   "outputs": [],
   "source": [
    "def Predict(A, B, C, N = 100000):\n",
    "    print(\"Running prediction with\", A, B, C)\n",
    "    \n",
    "    Hist = np.zeros(DataNBin)\n",
    "    \n",
    "    for i in range(N):\n",
    "        # Jet 1 and jet 2 PT (J1 and J2) after quenching.\n",
    "        # Assuming initial energy is 100 GeV, and (delta PT / PT) ~ gaus(A, B), calculate the final energy\n",
    "        # Jet PT = 100 GeV * (?)\n",
    "        # Note that the initial energy cancels out in AJ\n",
    "        # Useful function: np.random.normal(1, 2) gives you a random sampling with gaussian mean 1 and sigma 2\n",
    "        J1 = 100 * (1 - A * np.random.normal(1, B))\n",
    "        J2 = 100 * (1 - A * np.random.normal(1, B))\n",
    "        # Calculate AJ from the PTs\n",
    "        AJ = (J1 - J2) / (J1 + J2)\n",
    "        # Adding extra gaussian smearing from parameter C\n",
    "        AJ = AJ + np.random.normal(0, C)\n",
    "        # AJ is defined to be leading - subleading -> positive!\n",
    "        AJ = np.abs(AJ)\n",
    "\n",
    "        # put things into bins\n",
    "        Bin = int((AJ - DataXMin) / DataXBin)\n",
    "        if Bin < 0:   # underflow\n",
    "            Bin = 0\n",
    "        if Bin >= DataNBin:   # overflow\n",
    "            continue\n",
    "            # Bin = DataNBin - 1\n",
    "        \n",
    "        Hist[Bin] = Hist[Bin] + 1\n",
    "        \n",
    "    return Hist / N\n",
    "\n",
    "def predict_xjgamma(A: float, B: float, C: float, D: float, E: float, F: float, N: int = 100000) -> npt.NDArray[np.float64]:\n",
    "    print(f\"Running xj_gamma prediction with {A}, {B}, {C}, {D}\")\n",
    "    \n",
    "    hist = np.zeros(DataNBin)\n",
    "    \n",
    "    for i in range(N):\n",
    "        # Jet 1 and jet 2 PT (J1 and J2) after quenching.\n",
    "        # Assuming initial energy is 100 GeV, and (delta PT / PT) ~ gaus(A, B), calculate the final energy\n",
    "        # Jet PT = 100 GeV * (?)\n",
    "        # Note that the initial energy cancels out in AJ\n",
    "        # Useful function: np.random.normal(1, 2) gives you a random sampling with gaussian mean 1 and sigma 2\n",
    "        J1 = 100 * (1 - A * np.random.normal(0.1, B))\n",
    "        #J2 = 100 * (1 - np.random.normal(A, B))\n",
    "        J2 = 100 * (1 - C * np.random.normal(0.01, D))\n",
    "        # Calculate AJ from the PTs\n",
    "        XJ = J1 / J2\n",
    "        # Adding extra gaussian smearing from parameter C\n",
    "        XJ = XJ + np.random.normal(E, F)\n",
    "        # AJ is defined to be leading - subleading -> positive!\n",
    "        #AJ = np.abs(AJ)\n",
    "\n",
    "        # put things into bins\n",
    "        Bin = int((XJ - DataXMin) / DataXBin)\n",
    "        if Bin < 0:   # underflow\n",
    "            Bin = 0\n",
    "        if Bin >= DataNBin:   # overflow\n",
    "            continue\n",
    "            # Bin = DataNBin - 1\n",
    "        \n",
    "        hist[Bin] = hist[Bin] + 1\n",
    "        \n",
    "    return hist / N\n",
    "\n",
    "def predict_xj(A: float, B: float, C: float, D: float, N: int = 100000) -> npt.NDArray[np.float64]:\n",
    "    print(f\"Running xj prediction with {A}, {B}, {C}, {D}\")\n",
    "    \n",
    "    hist = np.zeros(DataNBin)\n",
    "    \n",
    "    for i in range(N):\n",
    "        # Jet 1 and jet 2 PT (J1 and J2) after quenching.\n",
    "        # Assuming initial energy is 100 GeV, and (delta PT / PT) ~ gaus(A, B), calculate the final energy\n",
    "        # Jet PT = 100 GeV * (?)\n",
    "        # Note that the initial energy cancels out in AJ\n",
    "        # Useful function: np.random.normal(1, 2) gives you a random sampling with gaussian mean 1 and sigma 2\n",
    "        #J1 = 100 * (1 - A * np.random.normal(1, B))\n",
    "        #J2 = 100 * (1 - A * np.random.normal(1, B))\n",
    "        J1 = 100 * (1 - np.abs(np.random.normal(A, B)))\n",
    "        #J2 = 100 * (1 - np.random.normal(A, B))\n",
    "        J2 = 100 * (1 - np.abs(np.random.normal(A, B)))\n",
    "        if J1 > J2:\n",
    "            J1, J2 = J2, J1\n",
    "        # Calculate XJ from the PTs\n",
    "        XJ = J1 / J2\n",
    "        # Adding extra gaussian smearing from parameter C\n",
    "        #XJ = XJ + np.random.normal(0.7, D)\n",
    "        XJ = XJ + np.random.normal(0.8, D)\n",
    "        # AJ is defined to be leading - subleading -> positive!\n",
    "        # OVERFLOW IS THE ISSUE! Too broad!\n",
    "        if XJ > 2:\n",
    "            XJ = 2\n",
    "        if XJ > 1:\n",
    "            print(XJ)\n",
    "            XJ = XJ - 2 * (XJ - 1)\n",
    "            print(XJ)\n",
    "        #AJ = np.abs(AJ)\n",
    "\n",
    "        # put things into bins\n",
    "        Bin = int((XJ - DataXMin) / DataXBin)\n",
    "        #if Bin == 0:\n",
    "        #    print(J1, J2)\n",
    "        if Bin < 0:   # underflow\n",
    "            Bin = 0\n",
    "        if Bin >= DataNBin:   # overflow\n",
    "            continue\n",
    "            # Bin = DataNBin - 1\n",
    "        \n",
    "        hist[Bin] = hist[Bin] + 1\n",
    "        \n",
    "    return hist / N\n",
    "\n",
    "\n",
    "def predict_xjgamma_smeared(A: float, B: float, C: float, D: float, N: int = 100000) -> npt.NDArray[np.float64]:\n",
    "    print(f\"Running xj_gamma smeared prediction with {A}, {B}, {C}, {D}\")\n",
    "    \n",
    "    bins = np.linspace(DataXMin, DataXMax, int((DataXMax - DataXMin) / DataXBin) + 1)\n",
    "    hists = []\n",
    "    #hist = np.zeros(DataNBin)\n",
    "    \n",
    "    xj_values = []\n",
    "    for i in range(N):\n",
    "        # Jet 1 and jet 2 PT (J1 and J2) after quenching.\n",
    "        # Assuming initial energy is 100 GeV, and (delta PT / PT) ~ gaus(A, B), calculate the final energy\n",
    "        # Jet PT = 100 GeV * (?)\n",
    "        # Note that the initial energy cancels out in AJ\n",
    "        # Useful function: np.random.normal(1, 2) gives you a random sampling with gaussian mean 1 and sigma 2\n",
    "        #J1 = 100 * (1 - np.random.normal(A, B))\n",
    "        J1 = 100 * (1 - np.random.normal(A, B))\n",
    "        #J2 = 100 * (1 - np.random.normal(A, B))\n",
    "        J2 = 100\n",
    "        # Calculate AJ from the PTs\n",
    "        XJ = J1 / J2\n",
    "        # Adding extra gaussian smearing from parameter C\n",
    "        smear = np.random.normal(C, D)\n",
    "        xj_original = XJ\n",
    "        XJ = XJ + smear\n",
    "        # XJ must be positive definition. If the smearing is too large, set to 0\n",
    "        if XJ < 0:\n",
    "            XJ = 0\n",
    "        # AJ is defined to be leading - subleading -> positive!\n",
    "        #AJ = np.abs(AJ)\n",
    "\n",
    "        h, _ = np.histogram(a=XJ, bins=bins)\n",
    "        print(f\"{h}\")\n",
    "        hists.append(h / h.sum())\n",
    "\n",
    "        ## put things into bins\n",
    "        #Bin = int((XJ - DataXMin) / DataXBin)\n",
    "        #if Bin == 0:\n",
    "        #    pass\n",
    "        #    #print(f\"{J1=}, {J2=}, {XJ=}, {smear=}, {xj_original=}\")\n",
    "        #if Bin < 0:   # underflow\n",
    "        #    Bin = 0\n",
    "        #if Bin >= DataNBin:   # overflow\n",
    "        #    continue\n",
    "        #    # Bin = DataNBin - 1\n",
    "        \n",
    "        #hist[Bin] = hist[Bin] + 1\n",
    "        \n",
    "    #return hist / N\n",
    "    return hists[0] if len(hists) == 1 else hists"
   ]
  },
  {
   "cell_type": "code",
   "execution_count": 150,
   "metadata": {},
   "outputs": [
    {
     "ename": "SyntaxError",
     "evalue": "invalid syntax (3310563197.py, line 40)",
     "output_type": "error",
     "traceback": [
      "\u001b[0;36m  Input \u001b[0;32mIn [150]\u001b[0;36m\u001b[0m\n\u001b[0;31m    np.histogram2d(x=XJ, y=bins=(bins, ))\u001b[0m\n\u001b[0m                               ^\u001b[0m\n\u001b[0;31mSyntaxError\u001b[0m\u001b[0;31m:\u001b[0m invalid syntax\n"
     ]
    }
   ],
   "source": [
    "def predict_xjgamma_smeared_full(A: float, B: float, C: float, D: float, N: int = 100000) -> npt.NDArray[np.float64]:\n",
    "    print(f\"Running xj_gamma smeared prediction with {A}, {B}, {C}, {D}\")\n",
    "    \n",
    "    # Jet 1 and jet 2 PT (J1 and J2) after quenching.\n",
    "    # Assuming initial energy is 100 GeV, and (delta PT / PT) ~ gaus(A, B), calculate the final energy\n",
    "    # Jet PT = 100 GeV * (?)\n",
    "    # Note that the initial energy cancels out in AJ\n",
    "    # Useful function: np.random.normal(1, 2) gives you a random sampling with gaussian mean 1 and sigma 2\n",
    "    #J1 = 100 * (1 - np.random.normal(A, B))\n",
    "    J1 = 100 * (1 - np.random.normal(A, B, size=(N, len(A))))\n",
    "    #J2 = 100 * (1 - np.random.normal(A, B))\n",
    "    J2 = 100\n",
    "    # Calculate AJ from the PTs\n",
    "    XJ = J1 / J2\n",
    "    # Adding extra gaussian smearing from parameter C\n",
    "    smear = np.random.normal(C, D, size=(N, len(A)))\n",
    "    xj_original = XJ\n",
    "    XJ = XJ + smear\n",
    "    # XJ must be positive definition. If the smearing is too large, set to 0\n",
    "    _mask = (XJ < 0)\n",
    "    XJ[_mask] = 0\n",
    "    # AJ is defined to be leading - subleading -> positive!\n",
    "    #AJ = np.abs(AJ)\n",
    "\n",
    "    # put things into bins\n",
    "    bins = np.linspace(DataXMin, DataXMax, int((DataXMax - DataXMin) / DataXBin) + 1)\n",
    "    #Bin = int((XJ - DataXMin) / DataXBin)\n",
    "    #if Bin == 0:\n",
    "    #    pass\n",
    "    #    #print(f\"{J1=}, {J2=}, {XJ=}, {smear=}, {xj_original=}\")\n",
    "    #if Bin < 0:   # underflow\n",
    "    #    Bin = 0\n",
    "    #if Bin >= DataNBin:   # overflow\n",
    "    #    continue\n",
    "    #    # Bin = DataNBin - 1\n",
    "    \n",
    "    #hist[Bin] = hist[Bin] + 1\n",
    "\n",
    "    h, _ = []\n",
    "    np.histogram2d(x=XJ, y=bins=(bins, ))\n",
    "   \n",
    "    #return hist / N\n",
    "    return h / h.sum()"
   ]
  },
  {
   "cell_type": "code",
   "execution_count": 277,
   "metadata": {},
   "outputs": [],
   "source": [
    "def predict_xjgamma_smeared_fix(A: float, B: float, C: float, D: float, n_samples: int = 100000) -> npt.NDArray[np.float64]:\n",
    "    print(f\"Running xj_gamma smeared prediction with {A}, {B}, {C}, {D}\")\n",
    "    \n",
    "    bins = np.linspace(DataXMin, DataXMax, int((DataXMax - DataXMin) / DataXBin) + 1)\n",
    "    #hists = []\n",
    "    #hist = np.zeros(DataNBin)\n",
    "\n",
    "    # Jet 1 and jet 2 PT (J1 and J2) after quenching.\n",
    "    # Assuming initial energy is 100 GeV, and (delta PT / PT) ~ gaus(A, B), calculate the final energy\n",
    "    # Jet PT = 100 GeV * (?)\n",
    "    # Note that the initial energy cancels out in AJ\n",
    "    # Useful function: np.random.normal(1, 2) gives you a random sampling with gaussian mean 1 and sigma 2\n",
    "    #J1 = 100 * (1 - np.random.normal(A, B))\n",
    "    J1 = 100 * (1 - np.random.normal(A, B, size=n_samples))\n",
    "    #J2 = 100 * (1 - np.random.normal(A, B))\n",
    "    J2 = 100\n",
    "    # Calculate AJ from the PTs\n",
    "    XJ = J1 / J2\n",
    "    # Adding extra gaussian smearing from parameter C\n",
    "    smear = np.random.normal(C, D, size=n_samples)\n",
    "    xj_original = XJ\n",
    "    XJ = XJ + smear\n",
    "    # XJ must be positive definition. If the smearing is too large, we leave them below 0\n",
    "    # and they are subsequently ignored in the histogramming\n",
    "    #_mask = (XJ < 0)\n",
    "    #XJ[_mask] = 0\n",
    "    # AJ is defined to be leading - subleading -> positive!\n",
    "    #AJ = np.abs(AJ)\n",
    "\n",
    "    #print(f\"{smear=}, {xj_original=}\")\n",
    "    #return XJ\n",
    "    h, _ = np.histogram(a=XJ, bins=bins)\n",
    "    #print(f\"{h=}\")\n",
    "    #hists.append(h / h.sum())\n",
    "\n",
    "    ## put things into bins\n",
    "    #Bin = int((XJ - DataXMin) / DataXBin)\n",
    "    #if Bin == 0:\n",
    "    #    pass\n",
    "    #    #print(f\"{J1=}, {J2=}, {XJ=}, {smear=}, {xj_original=}\")\n",
    "    #if Bin < 0:   # underflow\n",
    "    #    Bin = 0\n",
    "    #if Bin >= DataNBin:   # overflow\n",
    "    #    continue\n",
    "    #    # Bin = DataNBin - 1\n",
    "    \n",
    "    #hist[Bin] = hist[Bin] + 1\n",
    "        \n",
    "    #return hist / N\n",
    "    #return hists[0] if len(hists) == 1 else hists\n",
    "    return h / h.sum()"
   ]
  },
  {
   "cell_type": "markdown",
   "metadata": {},
   "source": [
    "### Test the prediction (cross check for yourself)"
   ]
  },
  {
   "cell_type": "code",
   "execution_count": 228,
   "metadata": {},
   "outputs": [
    {
     "name": "stdout",
     "output_type": "stream",
     "text": [
      "Running xj_gamma smeared prediction with 1, 0, 1.7160803566985545, 0.142\n"
     ]
    },
    {
     "data": {
      "text/plain": [
       "array([0.00000000e+00, 0.00000000e+00, 0.00000000e+00, 0.00000000e+00,\n",
       "       0.00000000e+00, 0.00000000e+00, 0.00000000e+00, 0.00000000e+00,\n",
       "       2.04867655e-05, 5.63386053e-04, 7.79521429e-03, 5.67278538e-02,\n",
       "       2.01774154e-01, 3.41780710e-01, 2.79705810e-01, 1.11632385e-01])"
      ]
     },
     "execution_count": 228,
     "metadata": {},
     "output_type": "execute_result"
    }
   ],
   "source": [
    "# Test predicting one point - to see if the output makes sense or not\n",
    "# Once you are happy, we move on!\n",
    "#example_prediction = predict_xjgamma(1, 0.25, 0, 0, 0, 0.3)\n",
    "#example_prediction = predict_xj(0.1, 0.3, 1, 1.5)\n",
    "example_prediction = predict_xjgamma_smeared_fix(1, 0, 1.71608035669855451, 0.142)\n",
    "example_prediction"
   ]
  },
  {
   "cell_type": "code",
   "execution_count": 229,
   "metadata": {},
   "outputs": [
    {
     "data": {
      "text/plain": [
       "0.0"
      ]
     },
     "execution_count": 229,
     "metadata": {},
     "output_type": "execute_result"
    }
   ],
   "source": [
    "example_prediction.min()"
   ]
  },
  {
   "cell_type": "code",
   "execution_count": 227,
   "metadata": {},
   "outputs": [
    {
     "name": "stdout",
     "output_type": "stream",
     "text": [
      "Running xj_gamma smeared prediction with 0.05, 0.3, -0.1, 0.3\n"
     ]
    },
    {
     "data": {
      "text/plain": [
       "[<matplotlib.lines.Line2D at 0x155ec6140>]"
      ]
     },
     "execution_count": 227,
     "metadata": {},
     "output_type": "execute_result"
    },
    {
     "data": {
      "image/png": "[encoded data removed]",
      "text/plain": [
       "<Figure size 360x360 with 1 Axes>"
      ]
     },
     "metadata": {
      "needs_background": "light"
     },
     "output_type": "display_data"
    }
   ],
   "source": [
    "# Alternatively (or in addition), plot the AJ distribution for our single point\n",
    "import matplotlib.pyplot as plt\n",
    "#example_prediction = predict_xj(0.3, 0.3, 0, 0.3)\n",
    "#example_prediction = predict_xjgamma_smeared(0.2, 0.6, 0.2, 0.3)\n",
    "example_prediction = predict_xjgamma_smeared_fix(0.05, 0.3, -0.1, 0.3)\n",
    "fig, ax = plt.subplots(figsize=(5,5))\n",
    "ax.plot(np.arange(DataXMin, DataXMax, DataXBin) + (DataXBin / 2), example_prediction, marker=\"o\", linestyle=\"\")"
   ]
  },
  {
   "cell_type": "code",
   "execution_count": 20,
   "metadata": {},
   "outputs": [],
   "source": [
    "# Test"
   ]
  },
  {
   "cell_type": "code",
   "execution_count": 19,
   "metadata": {},
   "outputs": [
    {
     "name": "stdout",
     "output_type": "stream",
     "text": [
      "Requirement already satisfied: ipywidgets in /Users/REhlers/software/dev/mammoth/.venv/lib/python3.10/site-packages (7.7.1)\n",
      "Requirement already satisfied: jupyterlab-widgets>=1.0.0 in /Users/REhlers/software/dev/mammoth/.venv/lib/python3.10/site-packages (from ipywidgets) (1.1.1)\n",
      "Requirement already satisfied: ipython-genutils~=0.2.0 in /Users/REhlers/software/dev/mammoth/.venv/lib/python3.10/site-packages (from ipywidgets) (0.2.0)\n",
      "Requirement already satisfied: ipykernel>=4.5.1 in /Users/REhlers/software/dev/mammoth/.venv/lib/python3.10/site-packages (from ipywidgets) (6.15.1)\n",
      "Requirement already satisfied: widgetsnbextension~=3.6.0 in /Users/REhlers/software/dev/mammoth/.venv/lib/python3.10/site-packages (from ipywidgets) (3.6.1)\n",
      "Requirement already satisfied: traitlets>=4.3.1 in /Users/REhlers/software/dev/mammoth/.venv/lib/python3.10/site-packages (from ipywidgets) (5.3.0)\n",
      "Requirement already satisfied: ipython>=4.0.0 in /Users/REhlers/software/dev/mammoth/.venv/lib/python3.10/site-packages (from ipywidgets) (8.4.0)\n",
      "Requirement already satisfied: appnope in /Users/REhlers/software/dev/mammoth/.venv/lib/python3.10/site-packages (from ipykernel>=4.5.1->ipywidgets) (0.1.3)\n",
      "Requirement already satisfied: matplotlib-inline>=0.1 in /Users/REhlers/software/dev/mammoth/.venv/lib/python3.10/site-packages (from ipykernel>=4.5.1->ipywidgets) (0.1.3)\n",
      "Requirement already satisfied: debugpy>=1.0 in /Users/REhlers/software/dev/mammoth/.venv/lib/python3.10/site-packages (from ipykernel>=4.5.1->ipywidgets) (1.6.2)\n",
      "Requirement already satisfied: jupyter-client>=6.1.12 in /Users/REhlers/software/dev/mammoth/.venv/lib/python3.10/site-packages (from ipykernel>=4.5.1->ipywidgets) (7.3.4)\n",
      "Requirement already satisfied: nest-asyncio in /Users/REhlers/software/dev/mammoth/.venv/lib/python3.10/site-packages (from ipykernel>=4.5.1->ipywidgets) (1.5.5)\n",
      "Requirement already satisfied: tornado>=6.1 in /Users/REhlers/software/dev/mammoth/.venv/lib/python3.10/site-packages (from ipykernel>=4.5.1->ipywidgets) (6.2)\n",
      "Requirement already satisfied: packaging in /Users/REhlers/software/dev/mammoth/.venv/lib/python3.10/site-packages (from ipykernel>=4.5.1->ipywidgets) (21.3)\n",
      "Requirement already satisfied: psutil in /Users/REhlers/software/dev/mammoth/.venv/lib/python3.10/site-packages (from ipykernel>=4.5.1->ipywidgets) (5.9.1)\n",
      "Requirement already satisfied: pyzmq>=17 in /Users/REhlers/software/dev/mammoth/.venv/lib/python3.10/site-packages (from ipykernel>=4.5.1->ipywidgets) (23.2.0)\n",
      "Requirement already satisfied: backcall in /Users/REhlers/software/dev/mammoth/.venv/lib/python3.10/site-packages (from ipython>=4.0.0->ipywidgets) (0.2.0)\n",
      "Requirement already satisfied: pickleshare in /Users/REhlers/software/dev/mammoth/.venv/lib/python3.10/site-packages (from ipython>=4.0.0->ipywidgets) (0.7.5)\n",
      "Requirement already satisfied: pexpect>4.3 in /Users/REhlers/software/dev/mammoth/.venv/lib/python3.10/site-packages (from ipython>=4.0.0->ipywidgets) (4.8.0)\n",
      "Requirement already satisfied: setuptools>=18.5 in /Users/REhlers/software/dev/mammoth/.venv/lib/python3.10/site-packages (from ipython>=4.0.0->ipywidgets) (62.1.0)\n",
      "Requirement already satisfied: stack-data in /Users/REhlers/software/dev/mammoth/.venv/lib/python3.10/site-packages (from ipython>=4.0.0->ipywidgets) (0.3.0)\n",
      "Requirement already satisfied: decorator in /Users/REhlers/software/dev/mammoth/.venv/lib/python3.10/site-packages (from ipython>=4.0.0->ipywidgets) (5.1.1)\n",
      "Requirement already satisfied: pygments>=2.4.0 in /Users/REhlers/software/dev/mammoth/.venv/lib/python3.10/site-packages (from ipython>=4.0.0->ipywidgets) (2.12.0)\n",
      "Requirement already satisfied: jedi>=0.16 in /Users/REhlers/software/dev/mammoth/.venv/lib/python3.10/site-packages (from ipython>=4.0.0->ipywidgets) (0.18.1)\n",
      "Requirement already satisfied: prompt-toolkit!=3.0.0,!=3.0.1,<3.1.0,>=2.0.0 in /Users/REhlers/software/dev/mammoth/.venv/lib/python3.10/site-packages (from ipython>=4.0.0->ipywidgets) (3.0.30)\n",
      "Requirement already satisfied: notebook>=4.4.1 in /Users/REhlers/software/dev/mammoth/.venv/lib/python3.10/site-packages (from widgetsnbextension~=3.6.0->ipywidgets) (6.4.12)\n",
      "Requirement already satisfied: parso<0.9.0,>=0.8.0 in /Users/REhlers/software/dev/mammoth/.venv/lib/python3.10/site-packages (from jedi>=0.16->ipython>=4.0.0->ipywidgets) (0.8.3)\n",
      "Requirement already satisfied: python-dateutil>=2.8.2 in /Users/REhlers/software/dev/mammoth/.venv/lib/python3.10/site-packages (from jupyter-client>=6.1.12->ipykernel>=4.5.1->ipywidgets) (2.8.2)\n",
      "Requirement already satisfied: jupyter-core>=4.9.2 in /Users/REhlers/software/dev/mammoth/.venv/lib/python3.10/site-packages (from jupyter-client>=6.1.12->ipykernel>=4.5.1->ipywidgets) (4.11.1)\n",
      "Requirement already satisfied: entrypoints in /Users/REhlers/software/dev/mammoth/.venv/lib/python3.10/site-packages (from jupyter-client>=6.1.12->ipykernel>=4.5.1->ipywidgets) (0.4)\n",
      "Requirement already satisfied: nbconvert>=5 in /Users/REhlers/software/dev/mammoth/.venv/lib/python3.10/site-packages (from notebook>=4.4.1->widgetsnbextension~=3.6.0->ipywidgets) (6.5.0)\n",
      "Requirement already satisfied: argon2-cffi in /Users/REhlers/software/dev/mammoth/.venv/lib/python3.10/site-packages (from notebook>=4.4.1->widgetsnbextension~=3.6.0->ipywidgets) (21.3.0)\n",
      "Requirement already satisfied: prometheus-client in /Users/REhlers/software/dev/mammoth/.venv/lib/python3.10/site-packages (from notebook>=4.4.1->widgetsnbextension~=3.6.0->ipywidgets) (0.14.1)\n",
      "Requirement already satisfied: Send2Trash>=1.8.0 in /Users/REhlers/software/dev/mammoth/.venv/lib/python3.10/site-packages (from notebook>=4.4.1->widgetsnbextension~=3.6.0->ipywidgets) (1.8.0)\n",
      "Requirement already satisfied: jinja2 in /Users/REhlers/software/dev/mammoth/.venv/lib/python3.10/site-packages (from notebook>=4.4.1->widgetsnbextension~=3.6.0->ipywidgets) (3.1.2)\n",
      "Requirement already satisfied: nbformat in /Users/REhlers/software/dev/mammoth/.venv/lib/python3.10/site-packages (from notebook>=4.4.1->widgetsnbextension~=3.6.0->ipywidgets) (5.4.0)\n",
      "Requirement already satisfied: terminado>=0.8.3 in /Users/REhlers/software/dev/mammoth/.venv/lib/python3.10/site-packages (from notebook>=4.4.1->widgetsnbextension~=3.6.0->ipywidgets) (0.15.0)\n",
      "Requirement already satisfied: ptyprocess>=0.5 in /Users/REhlers/software/dev/mammoth/.venv/lib/python3.10/site-packages (from pexpect>4.3->ipython>=4.0.0->ipywidgets) (0.7.0)\n",
      "Requirement already satisfied: wcwidth in /Users/REhlers/software/dev/mammoth/.venv/lib/python3.10/site-packages (from prompt-toolkit!=3.0.0,!=3.0.1,<3.1.0,>=2.0.0->ipython>=4.0.0->ipywidgets) (0.2.5)\n",
      "Requirement already satisfied: pyparsing!=3.0.5,>=2.0.2 in /Users/REhlers/software/dev/mammoth/.venv/lib/python3.10/site-packages (from packaging->ipykernel>=4.5.1->ipywidgets) (3.0.9)\n",
      "Requirement already satisfied: executing in /Users/REhlers/software/dev/mammoth/.venv/lib/python3.10/site-packages (from stack-data->ipython>=4.0.0->ipywidgets) (0.8.3)\n",
      "Requirement already satisfied: asttokens in /Users/REhlers/software/dev/mammoth/.venv/lib/python3.10/site-packages (from stack-data->ipython>=4.0.0->ipywidgets) (2.0.5)\n",
      "Requirement already satisfied: pure-eval in /Users/REhlers/software/dev/mammoth/.venv/lib/python3.10/site-packages (from stack-data->ipython>=4.0.0->ipywidgets) (0.2.2)\n",
      "Requirement already satisfied: nbclient>=0.5.0 in /Users/REhlers/software/dev/mammoth/.venv/lib/python3.10/site-packages (from nbconvert>=5->notebook>=4.4.1->widgetsnbextension~=3.6.0->ipywidgets) (0.6.6)\n",
      "Requirement already satisfied: tinycss2 in /Users/REhlers/software/dev/mammoth/.venv/lib/python3.10/site-packages (from nbconvert>=5->notebook>=4.4.1->widgetsnbextension~=3.6.0->ipywidgets) (1.1.1)\n",
      "Requirement already satisfied: defusedxml in /Users/REhlers/software/dev/mammoth/.venv/lib/python3.10/site-packages (from nbconvert>=5->notebook>=4.4.1->widgetsnbextension~=3.6.0->ipywidgets) (0.7.1)\n",
      "Requirement already satisfied: bleach in /Users/REhlers/software/dev/mammoth/.venv/lib/python3.10/site-packages (from nbconvert>=5->notebook>=4.4.1->widgetsnbextension~=3.6.0->ipywidgets) (5.0.1)\n",
      "Requirement already satisfied: beautifulsoup4 in /Users/REhlers/software/dev/mammoth/.venv/lib/python3.10/site-packages (from nbconvert>=5->notebook>=4.4.1->widgetsnbextension~=3.6.0->ipywidgets) (4.11.1)\n",
      "Requirement already satisfied: mistune<2,>=0.8.1 in /Users/REhlers/software/dev/mammoth/.venv/lib/python3.10/site-packages (from nbconvert>=5->notebook>=4.4.1->widgetsnbextension~=3.6.0->ipywidgets) (0.8.4)\n",
      "Requirement already satisfied: pandocfilters>=1.4.1 in /Users/REhlers/software/dev/mammoth/.venv/lib/python3.10/site-packages (from nbconvert>=5->notebook>=4.4.1->widgetsnbextension~=3.6.0->ipywidgets) (1.5.0)\n",
      "Requirement already satisfied: MarkupSafe>=2.0 in /Users/REhlers/software/dev/mammoth/.venv/lib/python3.10/site-packages (from nbconvert>=5->notebook>=4.4.1->widgetsnbextension~=3.6.0->ipywidgets) (2.1.1)\n",
      "Requirement already satisfied: jupyterlab-pygments in /Users/REhlers/software/dev/mammoth/.venv/lib/python3.10/site-packages (from nbconvert>=5->notebook>=4.4.1->widgetsnbextension~=3.6.0->ipywidgets) (0.2.2)\n",
      "Requirement already satisfied: fastjsonschema in /Users/REhlers/software/dev/mammoth/.venv/lib/python3.10/site-packages (from nbformat->notebook>=4.4.1->widgetsnbextension~=3.6.0->ipywidgets) (2.16.1)\n",
      "Requirement already satisfied: jsonschema>=2.6 in /Users/REhlers/software/dev/mammoth/.venv/lib/python3.10/site-packages (from nbformat->notebook>=4.4.1->widgetsnbextension~=3.6.0->ipywidgets) (4.9.1)\n",
      "Requirement already satisfied: six>=1.5 in /Users/REhlers/software/dev/mammoth/.venv/lib/python3.10/site-packages (from python-dateutil>=2.8.2->jupyter-client>=6.1.12->ipykernel>=4.5.1->ipywidgets) (1.16.0)\n",
      "Requirement already satisfied: argon2-cffi-bindings in /Users/REhlers/software/dev/mammoth/.venv/lib/python3.10/site-packages (from argon2-cffi->notebook>=4.4.1->widgetsnbextension~=3.6.0->ipywidgets) (21.2.0)\n",
      "Requirement already satisfied: pyrsistent!=0.17.0,!=0.17.1,!=0.17.2,>=0.14.0 in /Users/REhlers/software/dev/mammoth/.venv/lib/python3.10/site-packages (from jsonschema>=2.6->nbformat->notebook>=4.4.1->widgetsnbextension~=3.6.0->ipywidgets) (0.18.1)\n",
      "Requirement already satisfied: attrs>=17.4.0 in /Users/REhlers/software/dev/mammoth/.venv/lib/python3.10/site-packages (from jsonschema>=2.6->nbformat->notebook>=4.4.1->widgetsnbextension~=3.6.0->ipywidgets) (21.4.0)\n",
      "Requirement already satisfied: cffi>=1.0.1 in /Users/REhlers/software/dev/mammoth/.venv/lib/python3.10/site-packages (from argon2-cffi-bindings->argon2-cffi->notebook>=4.4.1->widgetsnbextension~=3.6.0->ipywidgets) (1.15.1)\n",
      "Requirement already satisfied: soupsieve>1.2 in /Users/REhlers/software/dev/mammoth/.venv/lib/python3.10/site-packages (from beautifulsoup4->nbconvert>=5->notebook>=4.4.1->widgetsnbextension~=3.6.0->ipywidgets) (2.3.2.post1)\n",
      "Requirement already satisfied: webencodings in /Users/REhlers/software/dev/mammoth/.venv/lib/python3.10/site-packages (from bleach->nbconvert>=5->notebook>=4.4.1->widgetsnbextension~=3.6.0->ipywidgets) (0.5.1)\n",
      "Requirement already satisfied: pycparser in /Users/REhlers/software/dev/mammoth/.venv/lib/python3.10/site-packages (from cffi>=1.0.1->argon2-cffi-bindings->argon2-cffi->notebook>=4.4.1->widgetsnbextension~=3.6.0->ipywidgets) (2.21)\n",
      "\u001b[33mWARNING: Error parsing requirements for mammoth: Invalid URL: external/pachyderm\u001b[0m\u001b[33m\n",
      "\u001b[0m"
     ]
    }
   ],
   "source": [
    "!pip install ipywidgets"
   ]
  },
  {
   "cell_type": "code",
   "execution_count": 8,
   "metadata": {},
   "outputs": [
    {
     "name": "stdout",
     "output_type": "stream",
     "text": [
      "Collecting ipympl\n",
      "  Downloading ipympl-0.9.1-py2.py3-none-any.whl (508 kB)\n",
      "\u001b[2K     \u001b[90m━━━━━━━━━━━━━━━━━━━━━━━━━━━━━━━━━━━━━━━\u001b[0m \u001b[32m508.1/508.1 kB\u001b[0m \u001b[31m4.1 MB/s\u001b[0m eta \u001b[36m0:00:00\u001b[0m00:01\u001b[0m00:01\u001b[0m\n",
      "\u001b[?25hRequirement already satisfied: matplotlib<4,>=3.4.0 in /Users/REhlers/software/dev/mammoth/.venv/lib/python3.10/site-packages (from ipympl) (3.5.2)\n",
      "Requirement already satisfied: traitlets<6 in /Users/REhlers/software/dev/mammoth/.venv/lib/python3.10/site-packages (from ipympl) (5.3.0)\n",
      "Requirement already satisfied: ipython<9 in /Users/REhlers/software/dev/mammoth/.venv/lib/python3.10/site-packages (from ipympl) (8.4.0)\n",
      "Requirement already satisfied: ipython-genutils in /Users/REhlers/software/dev/mammoth/.venv/lib/python3.10/site-packages (from ipympl) (0.2.0)\n",
      "Requirement already satisfied: ipywidgets<8,>=7.6.0 in /Users/REhlers/software/dev/mammoth/.venv/lib/python3.10/site-packages (from ipympl) (7.7.1)\n",
      "Requirement already satisfied: numpy in /Users/REhlers/software/dev/mammoth/.venv/lib/python3.10/site-packages (from ipympl) (1.22.4)\n",
      "Requirement already satisfied: pillow in /Users/REhlers/software/dev/mammoth/.venv/lib/python3.10/site-packages (from ipympl) (9.2.0)\n",
      "Requirement already satisfied: appnope in /Users/REhlers/software/dev/mammoth/.venv/lib/python3.10/site-packages (from ipython<9->ipympl) (0.1.3)\n",
      "Requirement already satisfied: backcall in /Users/REhlers/software/dev/mammoth/.venv/lib/python3.10/site-packages (from ipython<9->ipympl) (0.2.0)\n",
      "Requirement already satisfied: matplotlib-inline in /Users/REhlers/software/dev/mammoth/.venv/lib/python3.10/site-packages (from ipython<9->ipympl) (0.1.3)\n",
      "Requirement already satisfied: decorator in /Users/REhlers/software/dev/mammoth/.venv/lib/python3.10/site-packages (from ipython<9->ipympl) (5.1.1)\n",
      "Requirement already satisfied: prompt-toolkit!=3.0.0,!=3.0.1,<3.1.0,>=2.0.0 in /Users/REhlers/software/dev/mammoth/.venv/lib/python3.10/site-packages (from ipython<9->ipympl) (3.0.30)\n",
      "Requirement already satisfied: stack-data in /Users/REhlers/software/dev/mammoth/.venv/lib/python3.10/site-packages (from ipython<9->ipympl) (0.3.0)\n",
      "Requirement already satisfied: pexpect>4.3 in /Users/REhlers/software/dev/mammoth/.venv/lib/python3.10/site-packages (from ipython<9->ipympl) (4.8.0)\n",
      "Requirement already satisfied: pygments>=2.4.0 in /Users/REhlers/software/dev/mammoth/.venv/lib/python3.10/site-packages (from ipython<9->ipympl) (2.12.0)\n",
      "Requirement already satisfied: pickleshare in /Users/REhlers/software/dev/mammoth/.venv/lib/python3.10/site-packages (from ipython<9->ipympl) (0.7.5)\n",
      "Requirement already satisfied: jedi>=0.16 in /Users/REhlers/software/dev/mammoth/.venv/lib/python3.10/site-packages (from ipython<9->ipympl) (0.18.1)\n",
      "Requirement already satisfied: setuptools>=18.5 in /Users/REhlers/software/dev/mammoth/.venv/lib/python3.10/site-packages (from ipython<9->ipympl) (62.1.0)\n",
      "Requirement already satisfied: ipykernel>=4.5.1 in /Users/REhlers/software/dev/mammoth/.venv/lib/python3.10/site-packages (from ipywidgets<8,>=7.6.0->ipympl) (6.15.1)\n",
      "Requirement already satisfied: jupyterlab-widgets>=1.0.0 in /Users/REhlers/software/dev/mammoth/.venv/lib/python3.10/site-packages (from ipywidgets<8,>=7.6.0->ipympl) (1.1.1)\n",
      "Requirement already satisfied: widgetsnbextension~=3.6.0 in /Users/REhlers/software/dev/mammoth/.venv/lib/python3.10/site-packages (from ipywidgets<8,>=7.6.0->ipympl) (3.6.1)\n",
      "Requirement already satisfied: pyparsing>=2.2.1 in /Users/REhlers/software/dev/mammoth/.venv/lib/python3.10/site-packages (from matplotlib<4,>=3.4.0->ipympl) (3.0.9)\n",
      "Requirement already satisfied: cycler>=0.10 in /Users/REhlers/software/dev/mammoth/.venv/lib/python3.10/site-packages (from matplotlib<4,>=3.4.0->ipympl) (0.11.0)\n",
      "Requirement already satisfied: python-dateutil>=2.7 in /Users/REhlers/software/dev/mammoth/.venv/lib/python3.10/site-packages (from matplotlib<4,>=3.4.0->ipympl) (2.8.2)\n",
      "Requirement already satisfied: fonttools>=4.22.0 in /Users/REhlers/software/dev/mammoth/.venv/lib/python3.10/site-packages (from matplotlib<4,>=3.4.0->ipympl) (4.34.4)\n",
      "Requirement already satisfied: packaging>=20.0 in /Users/REhlers/software/dev/mammoth/.venv/lib/python3.10/site-packages (from matplotlib<4,>=3.4.0->ipympl) (21.3)\n",
      "Requirement already satisfied: kiwisolver>=1.0.1 in /Users/REhlers/software/dev/mammoth/.venv/lib/python3.10/site-packages (from matplotlib<4,>=3.4.0->ipympl) (1.4.4)\n",
      "Requirement already satisfied: jupyter-client>=6.1.12 in /Users/REhlers/software/dev/mammoth/.venv/lib/python3.10/site-packages (from ipykernel>=4.5.1->ipywidgets<8,>=7.6.0->ipympl) (7.3.4)\n",
      "Requirement already satisfied: psutil in /Users/REhlers/software/dev/mammoth/.venv/lib/python3.10/site-packages (from ipykernel>=4.5.1->ipywidgets<8,>=7.6.0->ipympl) (5.9.1)\n",
      "Requirement already satisfied: tornado>=6.1 in /Users/REhlers/software/dev/mammoth/.venv/lib/python3.10/site-packages (from ipykernel>=4.5.1->ipywidgets<8,>=7.6.0->ipympl) (6.2)\n",
      "Requirement already satisfied: nest-asyncio in /Users/REhlers/software/dev/mammoth/.venv/lib/python3.10/site-packages (from ipykernel>=4.5.1->ipywidgets<8,>=7.6.0->ipympl) (1.5.5)\n",
      "Requirement already satisfied: pyzmq>=17 in /Users/REhlers/software/dev/mammoth/.venv/lib/python3.10/site-packages (from ipykernel>=4.5.1->ipywidgets<8,>=7.6.0->ipympl) (23.2.0)\n",
      "Requirement already satisfied: debugpy>=1.0 in /Users/REhlers/software/dev/mammoth/.venv/lib/python3.10/site-packages (from ipykernel>=4.5.1->ipywidgets<8,>=7.6.0->ipympl) (1.6.2)\n",
      "Requirement already satisfied: parso<0.9.0,>=0.8.0 in /Users/REhlers/software/dev/mammoth/.venv/lib/python3.10/site-packages (from jedi>=0.16->ipython<9->ipympl) (0.8.3)\n",
      "Requirement already satisfied: ptyprocess>=0.5 in /Users/REhlers/software/dev/mammoth/.venv/lib/python3.10/site-packages (from pexpect>4.3->ipython<9->ipympl) (0.7.0)\n",
      "Requirement already satisfied: wcwidth in /Users/REhlers/software/dev/mammoth/.venv/lib/python3.10/site-packages (from prompt-toolkit!=3.0.0,!=3.0.1,<3.1.0,>=2.0.0->ipython<9->ipympl) (0.2.5)\n",
      "Requirement already satisfied: six>=1.5 in /Users/REhlers/software/dev/mammoth/.venv/lib/python3.10/site-packages (from python-dateutil>=2.7->matplotlib<4,>=3.4.0->ipympl) (1.16.0)\n",
      "Requirement already satisfied: notebook>=4.4.1 in /Users/REhlers/software/dev/mammoth/.venv/lib/python3.10/site-packages (from widgetsnbextension~=3.6.0->ipywidgets<8,>=7.6.0->ipympl) (6.4.12)\n",
      "Requirement already satisfied: asttokens in /Users/REhlers/software/dev/mammoth/.venv/lib/python3.10/site-packages (from stack-data->ipython<9->ipympl) (2.0.5)\n",
      "Requirement already satisfied: pure-eval in /Users/REhlers/software/dev/mammoth/.venv/lib/python3.10/site-packages (from stack-data->ipython<9->ipympl) (0.2.2)\n",
      "Requirement already satisfied: executing in /Users/REhlers/software/dev/mammoth/.venv/lib/python3.10/site-packages (from stack-data->ipython<9->ipympl) (0.8.3)\n",
      "Requirement already satisfied: jupyter-core>=4.9.2 in /Users/REhlers/software/dev/mammoth/.venv/lib/python3.10/site-packages (from jupyter-client>=6.1.12->ipykernel>=4.5.1->ipywidgets<8,>=7.6.0->ipympl) (4.11.1)\n",
      "Requirement already satisfied: entrypoints in /Users/REhlers/software/dev/mammoth/.venv/lib/python3.10/site-packages (from jupyter-client>=6.1.12->ipykernel>=4.5.1->ipywidgets<8,>=7.6.0->ipympl) (0.4)\n",
      "Requirement already satisfied: jinja2 in /Users/REhlers/software/dev/mammoth/.venv/lib/python3.10/site-packages (from notebook>=4.4.1->widgetsnbextension~=3.6.0->ipywidgets<8,>=7.6.0->ipympl) (3.1.2)\n",
      "Requirement already satisfied: nbconvert>=5 in /Users/REhlers/software/dev/mammoth/.venv/lib/python3.10/site-packages (from notebook>=4.4.1->widgetsnbextension~=3.6.0->ipywidgets<8,>=7.6.0->ipympl) (6.5.0)\n",
      "Requirement already satisfied: argon2-cffi in /Users/REhlers/software/dev/mammoth/.venv/lib/python3.10/site-packages (from notebook>=4.4.1->widgetsnbextension~=3.6.0->ipywidgets<8,>=7.6.0->ipympl) (21.3.0)\n",
      "Requirement already satisfied: Send2Trash>=1.8.0 in /Users/REhlers/software/dev/mammoth/.venv/lib/python3.10/site-packages (from notebook>=4.4.1->widgetsnbextension~=3.6.0->ipywidgets<8,>=7.6.0->ipympl) (1.8.0)\n",
      "Requirement already satisfied: terminado>=0.8.3 in /Users/REhlers/software/dev/mammoth/.venv/lib/python3.10/site-packages (from notebook>=4.4.1->widgetsnbextension~=3.6.0->ipywidgets<8,>=7.6.0->ipympl) (0.15.0)\n",
      "Requirement already satisfied: prometheus-client in /Users/REhlers/software/dev/mammoth/.venv/lib/python3.10/site-packages (from notebook>=4.4.1->widgetsnbextension~=3.6.0->ipywidgets<8,>=7.6.0->ipympl) (0.14.1)\n",
      "Requirement already satisfied: nbformat in /Users/REhlers/software/dev/mammoth/.venv/lib/python3.10/site-packages (from notebook>=4.4.1->widgetsnbextension~=3.6.0->ipywidgets<8,>=7.6.0->ipympl) (5.4.0)\n",
      "Requirement already satisfied: pandocfilters>=1.4.1 in /Users/REhlers/software/dev/mammoth/.venv/lib/python3.10/site-packages (from nbconvert>=5->notebook>=4.4.1->widgetsnbextension~=3.6.0->ipywidgets<8,>=7.6.0->ipympl) (1.5.0)\n",
      "Requirement already satisfied: mistune<2,>=0.8.1 in /Users/REhlers/software/dev/mammoth/.venv/lib/python3.10/site-packages (from nbconvert>=5->notebook>=4.4.1->widgetsnbextension~=3.6.0->ipywidgets<8,>=7.6.0->ipympl) (0.8.4)\n",
      "Requirement already satisfied: beautifulsoup4 in /Users/REhlers/software/dev/mammoth/.venv/lib/python3.10/site-packages (from nbconvert>=5->notebook>=4.4.1->widgetsnbextension~=3.6.0->ipywidgets<8,>=7.6.0->ipympl) (4.11.1)\n",
      "Requirement already satisfied: bleach in /Users/REhlers/software/dev/mammoth/.venv/lib/python3.10/site-packages (from nbconvert>=5->notebook>=4.4.1->widgetsnbextension~=3.6.0->ipywidgets<8,>=7.6.0->ipympl) (5.0.1)\n",
      "Requirement already satisfied: tinycss2 in /Users/REhlers/software/dev/mammoth/.venv/lib/python3.10/site-packages (from nbconvert>=5->notebook>=4.4.1->widgetsnbextension~=3.6.0->ipywidgets<8,>=7.6.0->ipympl) (1.1.1)\n",
      "Requirement already satisfied: nbclient>=0.5.0 in /Users/REhlers/software/dev/mammoth/.venv/lib/python3.10/site-packages (from nbconvert>=5->notebook>=4.4.1->widgetsnbextension~=3.6.0->ipywidgets<8,>=7.6.0->ipympl) (0.6.6)\n",
      "Requirement already satisfied: MarkupSafe>=2.0 in /Users/REhlers/software/dev/mammoth/.venv/lib/python3.10/site-packages (from nbconvert>=5->notebook>=4.4.1->widgetsnbextension~=3.6.0->ipywidgets<8,>=7.6.0->ipympl) (2.1.1)\n",
      "Requirement already satisfied: defusedxml in /Users/REhlers/software/dev/mammoth/.venv/lib/python3.10/site-packages (from nbconvert>=5->notebook>=4.4.1->widgetsnbextension~=3.6.0->ipywidgets<8,>=7.6.0->ipympl) (0.7.1)\n",
      "Requirement already satisfied: jupyterlab-pygments in /Users/REhlers/software/dev/mammoth/.venv/lib/python3.10/site-packages (from nbconvert>=5->notebook>=4.4.1->widgetsnbextension~=3.6.0->ipywidgets<8,>=7.6.0->ipympl) (0.2.2)\n",
      "Requirement already satisfied: jsonschema>=2.6 in /Users/REhlers/software/dev/mammoth/.venv/lib/python3.10/site-packages (from nbformat->notebook>=4.4.1->widgetsnbextension~=3.6.0->ipywidgets<8,>=7.6.0->ipympl) (4.9.1)\n",
      "Requirement already satisfied: fastjsonschema in /Users/REhlers/software/dev/mammoth/.venv/lib/python3.10/site-packages (from nbformat->notebook>=4.4.1->widgetsnbextension~=3.6.0->ipywidgets<8,>=7.6.0->ipympl) (2.16.1)\n",
      "Requirement already satisfied: argon2-cffi-bindings in /Users/REhlers/software/dev/mammoth/.venv/lib/python3.10/site-packages (from argon2-cffi->notebook>=4.4.1->widgetsnbextension~=3.6.0->ipywidgets<8,>=7.6.0->ipympl) (21.2.0)\n",
      "Requirement already satisfied: attrs>=17.4.0 in /Users/REhlers/software/dev/mammoth/.venv/lib/python3.10/site-packages (from jsonschema>=2.6->nbformat->notebook>=4.4.1->widgetsnbextension~=3.6.0->ipywidgets<8,>=7.6.0->ipympl) (21.4.0)\n",
      "Requirement already satisfied: pyrsistent!=0.17.0,!=0.17.1,!=0.17.2,>=0.14.0 in /Users/REhlers/software/dev/mammoth/.venv/lib/python3.10/site-packages (from jsonschema>=2.6->nbformat->notebook>=4.4.1->widgetsnbextension~=3.6.0->ipywidgets<8,>=7.6.0->ipympl) (0.18.1)\n",
      "Requirement already satisfied: cffi>=1.0.1 in /Users/REhlers/software/dev/mammoth/.venv/lib/python3.10/site-packages (from argon2-cffi-bindings->argon2-cffi->notebook>=4.4.1->widgetsnbextension~=3.6.0->ipywidgets<8,>=7.6.0->ipympl) (1.15.1)\n",
      "Requirement already satisfied: soupsieve>1.2 in /Users/REhlers/software/dev/mammoth/.venv/lib/python3.10/site-packages (from beautifulsoup4->nbconvert>=5->notebook>=4.4.1->widgetsnbextension~=3.6.0->ipywidgets<8,>=7.6.0->ipympl) (2.3.2.post1)\n",
      "Requirement already satisfied: webencodings in /Users/REhlers/software/dev/mammoth/.venv/lib/python3.10/site-packages (from bleach->nbconvert>=5->notebook>=4.4.1->widgetsnbextension~=3.6.0->ipywidgets<8,>=7.6.0->ipympl) (0.5.1)\n",
      "Requirement already satisfied: pycparser in /Users/REhlers/software/dev/mammoth/.venv/lib/python3.10/site-packages (from cffi>=1.0.1->argon2-cffi-bindings->argon2-cffi->notebook>=4.4.1->widgetsnbextension~=3.6.0->ipywidgets<8,>=7.6.0->ipympl) (2.21)\n",
      "\u001b[33mWARNING: Error parsing requirements for mammoth: Invalid URL: external/pachyderm\u001b[0m\u001b[33m\n",
      "\u001b[0mInstalling collected packages: ipympl\n",
      "Successfully installed ipympl-0.9.1\n",
      "Note: you may need to restart the kernel to use updated packages.\n"
     ]
    }
   ],
   "source": [
    "%pip install ipympl"
   ]
  },
  {
   "cell_type": "code",
   "execution_count": 7,
   "metadata": {},
   "outputs": [],
   "source": [
    "_x = np.arange(DataXMin, DataXMax, DataXBin) + (DataXBin / 2)"
   ]
  },
  {
   "cell_type": "code",
   "execution_count": 9,
   "metadata": {},
   "outputs": [
    {
     "name": "stdout",
     "output_type": "stream",
     "text": [
      "Running xj prediction with 0.1, 0.3, 1, 0.3\n"
     ]
    },
    {
     "data": {
      "image/png": "[encoded data removed]",
      "text/plain": [
       "<Figure size 432x288 with 1 Axes>"
      ]
     },
     "metadata": {
      "needs_background": "light"
     },
     "output_type": "display_data"
    },
    {
     "data": {
      "application/vnd.jupyter.widget-view+json": {
       "model_id": "f7c5653ac1b54b46827b6eb7cd8b11aa",
       "version_major": 2,
       "version_minor": 0
      },
      "text/plain": [
       "interactive(children=(FloatSlider(value=1.0, description='A', max=1.0), FloatSlider(value=0.0, description='B'…"
      ]
     },
     "metadata": {},
     "output_type": "display_data"
    },
    {
     "data": {
      "text/plain": [
       "<function __main__.update(A=1, B=0, C=0)>"
      ]
     },
     "execution_count": 9,
     "metadata": {},
     "output_type": "execute_result"
    }
   ],
   "source": [
    "from ipywidgets import *\n",
    "import numpy as np\n",
    "import matplotlib.pyplot as plt\n",
    "\n",
    "fig = plt.figure()\n",
    "ax = fig.add_subplot(1, 1, 1)\n",
    "line, = ax.plot(_x, predict_xj(A=0.1, B=0.3, C=1, D=0.3))\n",
    "\n",
    "def update(A = 1, B = 0, C = 0):\n",
    "    line.set_ydata(f(x,A,B,C))\n",
    "    fig.canvas.draw_idle()\n",
    "    \n",
    "interact(update, A = (0,1,0.1), B = (0,1,0.1), C = (1,1,0.1), D = (1,1,0.1))"
   ]
  },
  {
   "cell_type": "code",
   "execution_count": 74,
   "metadata": {},
   "outputs": [],
   "source": [
    "from typing import Union\n",
    "import numpy.typing as npt\n",
    "_x = np.linspace(0, 2, 20)\n",
    "\n",
    "def gaussian(\n",
    "    x: Union[npt.NDArray[np.float64], float], mean: float, sigma: float\n",
    ") -> Union[npt.NDArray[np.float64], float]:\n",
    "     r\"\"\"Normalized gaussian.\n",
    "\n",
    "     .. math::\n",
    "\n",
    "         f = 1 / \\sqrt{2 * \\pi * \\sigma^{2}} * \\exp{-\\frac{(x - \\mu)^{2}}{(2 * \\sigma^{2}}}\n",
    "\n",
    "     Args:\n",
    "         x: Value(s) where the gaussian should be evaluated.\n",
    "         mean: Mean of the gaussian distribution.\n",
    "         sigma: Width of the gaussian distribution.\n",
    "     Returns:\n",
    "         Calculated gaussian value(s).\n",
    "     \"\"\"\n",
    "     return 1.0 / np.sqrt(2 * np.pi * np.square(sigma)) * np.exp(-1.0 / 2.0 * np.square((x - mean) / sigma))  # type: ignore\n",
    "\n",
    "def extended_gaussian(\n",
    "    x: Union[npt.NDArray[np.float64], float], mean: float, sigma: float, amplitude: float\n",
    ") -> Union[npt.NDArray[np.float64], float]:\n",
    "    r\"\"\"Extended gaussian.\n",
    "\n",
    "    .. math::\n",
    "\n",
    "        f = A / \\sqrt{2 * \\pi * \\sigma^{2}} * \\exp{-\\frac{(x - \\mu)^{2}}{(2 * \\sigma^{2}}}\n",
    "\n",
    "    Args:\n",
    "        x: Value(s) where the gaussian should be evaluated.\n",
    "        mean: Mean of the gaussian distribution.\n",
    "        sigma: Width of the gaussian distribution.\n",
    "        amplitude: Amplitude of the gaussian.\n",
    "    Returns:\n",
    "        Calculated gaussian value(s).\n",
    "    \"\"\"\n",
    "    return amplitude / np.sqrt(2 * np.pi * np.square(sigma)) * np.exp(-1.0 / 2.0 * np.square((x - mean) / sigma))  # type: ignore\n",
    "\n",
    "def test_func(x: npt.NDArray[np.float64], a: float, b: float, c: float, d: float, e: float) -> float:\n",
    "    return e*(1-gaussian(x, a, b)) - gaussian(x, c, d)"
   ]
  },
  {
   "cell_type": "code",
   "execution_count": 83,
   "metadata": {},
   "outputs": [
    {
     "data": {
      "text/plain": [
       "[<matplotlib.lines.Line2D at 0x15095d8a0>]"
      ]
     },
     "execution_count": 83,
     "metadata": {},
     "output_type": "execute_result"
    },
    {
     "data": {
      "image/png": "[encoded data removed]",
      "text/plain": [
       "<Figure size 432x288 with 1 Axes>"
      ]
     },
     "metadata": {
      "needs_background": "light"
     },
     "output_type": "display_data"
    }
   ],
   "source": [
    "_x = np.arange(DataXMin, DataXMax, DataXBin) + (DataXBin / 2)\n",
    "fig, ax = plt.subplots()\n",
    "ax.plot(_x, extended_gaussian(_x, 1, 0.1, 1) + extended_gaussian(_x, 1, 0.8, 3), marker=\"o\", alpha=0.5)\n",
    "ax.plot(_x, extended_gaussian(_x, 1, 0.1, 1), marker=\"o\", alpha=0.5)\n",
    "ax.plot(_x, extended_gaussian(_x, 1, 0.8, 3), marker=\"o\", alpha=0.5)\n",
    "#ax.plot(_x, extended_gaussian(_x, 1, 1, 5), marker=\"o\", alpha=0.5)\n",
    "ax.plot(_x, 5*gaussian(_x, 1, 1), marker=\"s\", alpha=0.5)"
   ]
  },
  {
   "cell_type": "markdown",
   "metadata": {},
   "source": [
    "## Making the design points\n",
    "\n",
    "Let's start with a very simple random array :D\n",
    "\n",
    "In reality we would use something more complicated to distribute the points better, but let's start simple.  Fancy stuff is just a better way to achieve the same purpose."
   ]
  },
  {
   "cell_type": "code",
   "execution_count": 278,
   "metadata": {},
   "outputs": [],
   "source": [
    "#Design = np.random.rand(NDesign, 3) * ParameterRanges\n",
    "design = np.array([\n",
    "    np.random.uniform(low=p[0], high=p[1], size=NDesign)\n",
    "    for p in ParameterRanges\n",
    "]).T"
   ]
  },
  {
   "cell_type": "code",
   "execution_count": 269,
   "metadata": {},
   "outputs": [
    {
     "data": {
      "text/plain": [
       "[0.8418076768382686,\n",
       " 0.6675401283237032,\n",
       " 0.35585796422338656,\n",
       " 0.26206165468690934,\n",
       " 0.7490293340728149,\n",
       " 0.1813195814092926,\n",
       " 0.9439442203653641,\n",
       " 0.2528063816210909,\n",
       " 0.11203354249697262,\n",
       " 0.17123836211860055,\n",
       " 0.18814163616438828,\n",
       " 0.22747208699084465,\n",
       " 0.1749882261739455,\n",
       " 0.844959455241212,\n",
       " 0.5243801405673154,\n",
       " 0.583568958473568,\n",
       " 0.40703756710050043,\n",
       " 0.7242440406856373,\n",
       " 0.4630807739117485,\n",
       " 0.5357903145624118,\n",
       " 0.20544222648647592,\n",
       " 0.7933854127380611,\n",
       " 0.71171157431941,\n",
       " 0.4301975233729217,\n",
       " 0.9091373857207646,\n",
       " 0.565559571087707,\n",
       " 0.8238777532266158,\n",
       " 0.9306740891138262,\n",
       " 0.532034337675418,\n",
       " 0.7473996858981004,\n",
       " 0.1820456689931098,\n",
       " 0.9191858762472903,\n",
       " 0.20995309191176015,\n",
       " 0.7493472666156697,\n",
       " 0.410702938733025,\n",
       " 0.17031310192335725,\n",
       " 0.6612560557793011,\n",
       " 0.65407508415022,\n",
       " 0.7176427524766039,\n",
       " 0.5808378979905828,\n",
       " 0.5344734817491408,\n",
       " 0.1260309747290559,\n",
       " 0.4336633345755164,\n",
       " 0.9107891074781718,\n",
       " 0.2316557401987921,\n",
       " 0.29087856049017735,\n",
       " 0.14741280110290278,\n",
       " 0.601453436206615,\n",
       " 0.3956312380658016,\n",
       " 0.3991144172168142,\n",
       " 0.09742172655676684,\n",
       " 0.03316884019569466,\n",
       " 0.9373756474566444,\n",
       " 0.4924391970595997,\n",
       " 0.5078330095988104,\n",
       " 0.9185310471641244,\n",
       " 0.49515326506477564,\n",
       " 0.561424811463811,\n",
       " 0.9526429176344905,\n",
       " 0.1520075464330407,\n",
       " 0.697999459512666,\n",
       " 0.6539212716420328,\n",
       " 0.1227979714445786,\n",
       " 0.7165212177417432,\n",
       " 0.4121684244979291,\n",
       " 0.2857556027686228,\n",
       " 0.4953983013855071,\n",
       " 0.3050567888856026,\n",
       " 0.7734054205711192,\n",
       " 0.9324965269887447,\n",
       " 0.6463034795139303,\n",
       " 0.2861932838871637,\n",
       " 0.4835389955368793,\n",
       " 0.3755913026986877,\n",
       " 0.8873747056185882,\n",
       " 0.7431482438495889,\n",
       " 0.05671464259116121,\n",
       " 0.7389134802209714,\n",
       " 0.5436273988513959,\n",
       " 0.55778218780557,\n",
       " 0.8808289030035847,\n",
       " 0.5131152725713577,\n",
       " 0.29372960447315044,\n",
       " 0.9414775937983999,\n",
       " 0.9954702366561553,\n",
       " 0.8924176903043988,\n",
       " 0.3688339272753971,\n",
       " 0.8081190718150438,\n",
       " 0.4061999875624669,\n",
       " 0.894100108974961,\n",
       " 0.21856974089073355,\n",
       " 0.6310065551198571,\n",
       " 0.715086380577105,\n",
       " 0.32865897473018924,\n",
       " 0.7721666313360269,\n",
       " 0.5149004338389473,\n",
       " 0.15308583781390028,\n",
       " 0.556381655735795,\n",
       " 0.03616399860368391,\n",
       " 0.2993069727523022]"
      ]
     },
     "execution_count": 269,
     "metadata": {},
     "output_type": "execute_result"
    }
   ],
   "source": [
    "design[:, 0].tolist()"
   ]
  },
  {
   "cell_type": "code",
   "execution_count": 112,
   "metadata": {},
   "outputs": [
    {
     "data": {
      "text/plain": [
       "True"
      ]
     },
     "execution_count": 112,
     "metadata": {},
     "output_type": "execute_result"
    }
   ],
   "source": [
    "def f(x, y):\n",
    "    return x + y\n",
    "\n",
    "my_x = np.random.rand(10)\n",
    "my_y = np.random.rand(10)\n",
    "np.allclose(f(my_x, my_y), my_x + my_y)"
   ]
  },
  {
   "cell_type": "code",
   "execution_count": 189,
   "metadata": {},
   "outputs": [
    {
     "name": "stdout",
     "output_type": "stream",
     "text": [
      "Running xj_gamma smeared prediction with 0.8738962830511595, 0.22552394537576326, 1.3309290665636784, 0.16876124901680922\n",
      "Running xj_gamma smeared prediction with 0.23455061024535961, 0.7321936221638388, 1.9554885747352362, 0.5707665599111862\n",
      "Running xj_gamma smeared prediction with 0.38600208435586614, 0.35407247928133634, 0.9789516483111371, 0.5806717030769735\n",
      "Running xj_gamma smeared prediction with 0.6157171038353664, 0.7080809479119221, 0.17616464498289686, 0.45505605419301\n",
      "Running xj_gamma smeared prediction with 0.6459869471336911, 0.6622992489880575, 1.5940636362653149, 0.7863611129096495\n",
      "Running xj_gamma smeared prediction with 0.5693736776322035, 0.9303509396164098, 0.38685851494283496, 0.9113680409097555\n",
      "Running xj_gamma smeared prediction with 0.6628513850892666, 0.29593943240539244, -0.824471764747082, 0.4022407870518928\n",
      "Running xj_gamma smeared prediction with 0.12598401440212859, 0.8181927236098873, -0.22644604201197793, 0.7174009621200287\n",
      "Running xj_gamma smeared prediction with 0.4157129339160679, 0.4846844319335166, 1.9841827020448588, 0.5038050441441284\n",
      "Running xj_gamma smeared prediction with 0.36122510201736224, 0.7041755842961782, 1.1774435237657221, 0.2284159950643122\n",
      "Running xj_gamma smeared prediction with 0.1400774098510924, 0.8544489495210237, 0.7291868899733971, 0.44756746849851536\n",
      "Running xj_gamma smeared prediction with 0.09099829693800221, 0.981978154668656, -0.8737173573541056, 0.7719456671915738\n",
      "Running xj_gamma smeared prediction with 0.9397952070971215, 0.4262707330443307, 1.3957990115953192, 0.9816827043290881\n",
      "Running xj_gamma smeared prediction with 0.12535363311539083, 0.45604598062544044, 0.4406353613037921, 0.20497290998744822\n",
      "Running xj_gamma smeared prediction with 0.6580934804405271, 0.7747976026078085, 1.130742068423774, 0.1976710851893616\n",
      "Running xj_gamma smeared prediction with 0.5174822793600219, 0.35459286410965085, -0.336548507783223, 0.4016640738691316\n",
      "Running xj_gamma smeared prediction with 0.7128678801121564, 0.4508604207164578, -0.8554907525525135, 0.22926926642875345\n",
      "Running xj_gamma smeared prediction with 0.06982011001420751, 0.8343713079671208, -0.44513670099324, 0.4588638805898637\n",
      "Running xj_gamma smeared prediction with 0.9198317337557508, 0.44423298416446144, -0.5061853875108644, 0.9113253855303175\n",
      "Running xj_gamma smeared prediction with 0.14184261426514055, 0.0728290102326401, 1.3813136446178298, 0.3513779773698147\n",
      "Running xj_gamma smeared prediction with 0.46510359159615045, 0.7568606632226984, 1.7160803566985545, 0.14244135165614213\n",
      "Running xj_gamma smeared prediction with 0.5092223455923228, 0.8310219193194628, 1.6005270199172372, 0.8390525047890058\n",
      "Running xj_gamma smeared prediction with 0.23839745441014804, 0.0866630827508662, -0.6924146992356676, 0.7428181450541147\n",
      "Running xj_gamma smeared prediction with 0.8571031798997982, 0.9161716398720894, -0.7858830865023578, 0.08520136082392216\n",
      "Running xj_gamma smeared prediction with 0.6116968496560886, 0.7458057326240256, 0.6512426616093023, 0.2464286030490026\n",
      "Running xj_gamma smeared prediction with 0.47798830860259656, 0.6792941003766797, 1.313161257548288, 0.8318581722272137\n",
      "Running xj_gamma smeared prediction with 0.7557776988011933, 0.8419517429210851, 0.8250936157772935, 0.06547206032778108\n",
      "Running xj_gamma smeared prediction with 0.14369068730721402, 0.24594647458477026, 1.4701285930354584, 0.36355806667951984\n",
      "Running xj_gamma smeared prediction with 0.1441352650888108, 0.11448868676794788, -0.7819920105537768, 0.5447902906385291\n",
      "Running xj_gamma smeared prediction with 0.6506073485454048, 0.3730654673793894, 0.4921835616531296, 0.8369990832322075\n",
      "Running xj_gamma smeared prediction with 0.2452746069574543, 0.8210214401656071, -0.4230971019996702, 0.5590955952153043\n",
      "Running xj_gamma smeared prediction with 0.4009669075688236, 0.6502527767948274, 0.8943813904097286, 0.8291439739219371\n",
      "Running xj_gamma smeared prediction with 0.1092189582009514, 0.34385392094081835, 1.5725985030823257, 0.15921227351289646\n",
      "Running xj_gamma smeared prediction with 0.655810942344045, 0.7342965350712187, -0.3717263985977397, 0.21427841627378008\n",
      "Running xj_gamma smeared prediction with 0.7718358259630345, 0.05188793354553134, 0.10143649676947808, 0.9223850043839738\n",
      "Running xj_gamma smeared prediction with 0.5432913437779803, 0.3924986485125507, 1.4774857294677743, 0.7522581706548283\n",
      "Running xj_gamma smeared prediction with 0.41034202993989766, 0.4522767011997042, 1.6951747882925483, 0.4834044510531821\n",
      "Running xj_gamma smeared prediction with 0.2815842241201558, 0.36993988618394447, 1.6835262987061173, 0.5735322055465921\n",
      "Running xj_gamma smeared prediction with 0.2128037080345735, 0.1785379990293754, 1.4698627461420402, 0.6938822539345179\n",
      "Running xj_gamma smeared prediction with 0.45135673034698365, 0.12448647626540532, 1.7547870087467894, 0.4451048203519856\n"
     ]
    }
   ],
   "source": [
    "Y1 = np.array([\n",
    "    #np.vectorize(predict_xjgamma_smeared_fix)(A=design[0, :], B=design[1, :], C=design[2, :], D=design[3, :]) for d in design\n",
    "    predict_xjgamma_smeared_fix(A=d[0], B=d[1], C=d[2], D=d[3]) for d in design.T\n",
    "])"
   ]
  },
  {
   "cell_type": "code",
   "execution_count": 190,
   "metadata": {},
   "outputs": [
    {
     "data": {
      "text/plain": [
       "array([0.00000000e+00, 2.05535059e-05, 1.02767530e-05, 4.11070118e-05,\n",
       "       2.05535059e-04, 7.60479719e-04, 2.44586720e-03, 6.83404072e-03,\n",
       "       1.49218453e-02, 2.83021776e-02, 5.22161818e-02, 8.00147985e-02,\n",
       "       1.10444264e-01, 1.36423896e-01, 1.44378102e-01, 1.36465003e-01,\n",
       "       1.13054559e-01, 8.48859794e-02, 5.68098903e-02, 3.17654434e-02])"
      ]
     },
     "execution_count": 190,
     "metadata": {},
     "output_type": "execute_result"
    }
   ],
   "source": [
    "Y1[0]"
   ]
  },
  {
   "cell_type": "code",
   "execution_count": 270,
   "metadata": {},
   "outputs": [
    {
     "name": "stdout",
     "output_type": "stream",
     "text": [
      "Running xj_gamma smeared prediction with 0.2993069727523022, 0.28584026000298, 0.7389127546530276, 0.36174604754038964\n"
     ]
    },
    {
     "data": {
      "text/plain": [
       "array([0.0012632 , 0.00276324, 0.00624831, 0.01167328, 0.01980511,\n",
       "       0.03312506, 0.04877966, 0.06738924, 0.08597627, 0.10511594,\n",
       "       0.11824416, 0.12082694, 0.11897726, 0.1044054 , 0.08661915,\n",
       "       0.06878778])"
      ]
     },
     "execution_count": 270,
     "metadata": {},
     "output_type": "execute_result"
    }
   ],
   "source": [
    "predict_xjgamma_smeared_fix(A=design[-1, 0], B=design[-1, 1], C=design[-1, 2], D=design[-1, 3])"
   ]
  },
  {
   "cell_type": "markdown",
   "metadata": {},
   "source": [
    "## Preparing the model predictions\n",
    "\n",
    "Let's loop over the design points, and call the predict function we just wrote to make a big table!\n",
    "\n",
    "This step takes a while, like a few minutes.  Please be patient."
   ]
  },
  {
   "cell_type": "code",
   "execution_count": 279,
   "metadata": {},
   "outputs": [
    {
     "name": "stdout",
     "output_type": "stream",
     "text": [
      "Running xj_gamma smeared prediction with 0.37359778368993635, 0.8930993572564337, 0.7132575511504808, 0.8448114395492224\n",
      "Running xj_gamma smeared prediction with 0.749400028572315, 0.0006269062900189359, 0.6018643818586611, 0.7416165787071818\n",
      "Running xj_gamma smeared prediction with 0.795123851871947, 0.09760763324300548, 0.9160296723574891, 0.5798558394314414\n",
      "Running xj_gamma smeared prediction with 0.7461174399845691, 0.7178097640772001, 1.1443592751329608, 0.297217935896983\n",
      "Running xj_gamma smeared prediction with 0.9809181830228657, 0.7001541655728573, 1.4709692114800377, 0.21570629951189652\n",
      "Running xj_gamma smeared prediction with 0.46077934448615576, 0.09380414520703362, 0.6826875863994895, 0.22783082354618717\n",
      "Running xj_gamma smeared prediction with 0.5056464424225896, 0.20665204633632706, 0.6166403111234023, 0.4961654171431369\n",
      "Running xj_gamma smeared prediction with 0.05769909246664473, 0.6973329995736378, 0.9664841313008198, 0.26716845946293544\n",
      "Running xj_gamma smeared prediction with 0.22054238842216056, 0.5625700551332831, 1.0890284158367352, 0.13180330262722162\n",
      "Running xj_gamma smeared prediction with 0.6636341909134488, 0.3720567608901405, 0.22293476307784327, 0.1633651060656473\n",
      "Running xj_gamma smeared prediction with 0.598370436761241, 0.8591971224356859, 1.2504738195625777, 0.7296578993194167\n",
      "Running xj_gamma smeared prediction with 0.48602542323935227, 0.5069066606635592, 0.984092638260716, 0.5683027156699902\n",
      "Running xj_gamma smeared prediction with 0.5527923692340715, 0.24178820841506365, 0.49901259947095905, 0.34178822763955785\n",
      "Running xj_gamma smeared prediction with 0.43447498028832177, 0.8117629520034756, 0.9932890402126748, 0.969735700818648\n",
      "Running xj_gamma smeared prediction with 0.9968403108583144, 0.9408632062945197, 0.46610245609564016, 0.7997632206534351\n",
      "Running xj_gamma smeared prediction with 0.1409159814666877, 0.41911209017238504, 0.4616287671732443, 0.6956594516084214\n",
      "Running xj_gamma smeared prediction with 0.1333583851320448, 0.8005280009897778, 0.7830293888849497, 0.48701683802424356\n",
      "Running xj_gamma smeared prediction with 0.30867256536030097, 0.7823464928575051, 0.45884875260030356, 0.8218632483077202\n",
      "Running xj_gamma smeared prediction with 0.5247835570272109, 0.6493467628533645, 1.4393694422971621, 0.18974328381128547\n",
      "Running xj_gamma smeared prediction with 0.19936974203568703, 0.6403222706821445, 0.17563625120539417, 0.529849320912456\n",
      "Running xj_gamma smeared prediction with 0.3160398146504003, 0.43801041709795885, 1.4584093687395512, 0.9490422581447046\n",
      "Running xj_gamma smeared prediction with 0.5875353174507222, 0.9694701147232005, 0.6590834685592963, 0.20691581781736462\n",
      "Running xj_gamma smeared prediction with 0.4371812686532257, 0.8186731014894154, 0.47144883482836586, 0.7065193794371097\n",
      "Running xj_gamma smeared prediction with 0.6775276170893906, 0.6498975251215044, 1.063337236769269, 0.8720786458534144\n",
      "Running xj_gamma smeared prediction with 0.6098482700536554, 0.3415526836817304, 0.43668435968017577, 0.8227886945948035\n",
      "Running xj_gamma smeared prediction with 0.7991958574403493, 0.7467636120785591, 1.36271366008172, 0.26791550211117265\n",
      "Running xj_gamma smeared prediction with 0.7058073602165023, 0.17415857760289488, 0.2697577165222446, 0.9677092167940694\n",
      "Running xj_gamma smeared prediction with 0.46506196125671306, 0.15623347101417595, 0.8348333251859663, 0.4853843671916376\n",
      "Running xj_gamma smeared prediction with 0.6766657069656272, 0.11617064313757741, 1.3769681573241357, 0.6044083789575393\n",
      "Running xj_gamma smeared prediction with 0.0334841871081647, 0.5904269497903727, 1.4591156080548786, 0.8196474861245392\n",
      "Running xj_gamma smeared prediction with 0.7948674399355101, 0.9733369646902685, 0.6295364748808001, 0.4407580242329102\n",
      "Running xj_gamma smeared prediction with 0.20322026042424735, 0.10567439403555334, 0.3814449111393461, 0.48247493766521055\n",
      "Running xj_gamma smeared prediction with 0.1401737546576387, 0.9486710776176903, 0.07472421334211726, 0.31326969463268406\n",
      "Running xj_gamma smeared prediction with 0.27215791898610997, 0.02019740656162239, 1.1350346217041207, 0.2942111369413723\n",
      "Running xj_gamma smeared prediction with 0.3245852283261387, 0.09960305477674247, 1.4762434585256419, 0.5602123521855363\n",
      "Running xj_gamma smeared prediction with 0.5110972339491325, 0.3010035798279974, 0.9797668369253105, 0.813110245255692\n",
      "Running xj_gamma smeared prediction with 0.4332814911566637, 0.4971361364815663, 0.051799977019567234, 0.21462997200775047\n",
      "Running xj_gamma smeared prediction with 0.20323397366172502, 0.4905255401321954, 0.8515216978712832, 0.13065800796324878\n",
      "Running xj_gamma smeared prediction with 0.6843014129094748, 0.7658471505144957, 1.0817847925862272, 0.904167306533333\n",
      "Running xj_gamma smeared prediction with 0.20822649471890542, 0.2706465328060037, 0.1298161202557896, 0.10267634954321653\n",
      "Running xj_gamma smeared prediction with 0.18911379451593147, 0.2678278699032818, 1.168505480276044, 0.1893306998305173\n",
      "Running xj_gamma smeared prediction with 0.007811868040797587, 0.1449121719707781, 0.7050199656928104, 0.40686555372892963\n",
      "Running xj_gamma smeared prediction with 0.0696446467796572, 0.76353348373298, 0.8829015424004205, 0.26020797271721285\n",
      "Running xj_gamma smeared prediction with 0.16446192761735356, 0.07579964446081566, 0.3535952655883991, 0.8860311401655219\n",
      "Running xj_gamma smeared prediction with 0.421316030085378, 0.5841534134204158, 0.8573970939299789, 0.770707956128232\n",
      "Running xj_gamma smeared prediction with 0.03701879546742748, 0.8622531767916262, 1.1080604660966444, 0.7380268648883511\n",
      "Running xj_gamma smeared prediction with 0.8723319346368149, 0.38495590642986255, 1.3165570606526584, 0.17159052252241322\n",
      "Running xj_gamma smeared prediction with 0.9016764295316264, 0.0006652201392568502, 1.2741248219362815, 0.6961831208279571\n",
      "Running xj_gamma smeared prediction with 0.004698672108216617, 0.3300869110462572, 0.9230524075795115, 0.9782454284582675\n",
      "Running xj_gamma smeared prediction with 0.6523656730899227, 0.7546788259691317, 1.191865464849421, 0.41847697634444736\n",
      "Running xj_gamma smeared prediction with 0.21418692099891978, 0.29726856260606394, 1.043333765398696, 0.32063713885517625\n",
      "Running xj_gamma smeared prediction with 0.4198916503525959, 0.18169510375398945, 1.075930566372684, 0.29272405697326986\n",
      "Running xj_gamma smeared prediction with 0.3365749040194834, 0.4924342076222815, 0.5655551673171948, 0.8594597864796095\n",
      "Running xj_gamma smeared prediction with 0.5738296013586235, 0.4439061785388675, 0.11734470663171703, 0.8554243579529996\n",
      "Running xj_gamma smeared prediction with 0.5288482742011877, 0.7112215783811107, 0.018229641519639794, 0.4578609879153347\n",
      "Running xj_gamma smeared prediction with 0.0461377702312914, 0.8959654059066238, 0.38953045916507223, 0.25479142037869545\n",
      "Running xj_gamma smeared prediction with 0.8685606114066522, 0.8397111851032615, 0.49576929368546147, 0.921977042021817\n",
      "Running xj_gamma smeared prediction with 0.3658053599606441, 0.5895496823728971, 1.1244530914961808, 0.6568973448994255\n",
      "Running xj_gamma smeared prediction with 0.8723849629178458, 0.4825688525135039, 0.6447928513545956, 0.9901183215515971\n",
      "Running xj_gamma smeared prediction with 0.5924013028200493, 0.6677844209297744, 0.5082500276135261, 0.8090923325403946\n",
      "Running xj_gamma smeared prediction with 0.41558890953981054, 0.6671129655080212, 0.14902099296452548, 0.9732804886070151\n",
      "Running xj_gamma smeared prediction with 0.3501359352494514, 0.06928508618118256, 1.0417405139077809, 0.8045015968052797\n",
      "Running xj_gamma smeared prediction with 0.019010325284273488, 0.8493973683081768, 1.1023218421283825, 0.10726017434218779\n",
      "Running xj_gamma smeared prediction with 0.8198962579808917, 0.4162450082542156, 0.9726941730086156, 0.16776951768824988\n",
      "Running xj_gamma smeared prediction with 0.9503931087867149, 0.7850097656854577, 1.0736556537150825, 0.24581315355814481\n",
      "Running xj_gamma smeared prediction with 0.8604325346907747, 0.07439855736401413, 0.178561241019967, 0.11383503553592501\n",
      "Running xj_gamma smeared prediction with 0.046723918474192994, 0.5214550381739907, 0.7525096300011478, 0.8922662249231902\n",
      "Running xj_gamma smeared prediction with 0.24912919938999367, 0.4733722659230367, 0.1136047042653579, 0.5053776745546018\n",
      "Running xj_gamma smeared prediction with 0.0502148282959789, 0.18423852425313714, 1.0755187888045292, 0.4824203463184571\n",
      "Running xj_gamma smeared prediction with 0.7949070233543707, 0.0015911995775497179, 1.0111738152050074, 0.9336475569709428\n",
      "Running xj_gamma smeared prediction with 0.16946264756943918, 0.5436002301250599, 0.11786282655523028, 0.7277748358957192\n",
      "Running xj_gamma smeared prediction with 0.3071825524821984, 0.15964592557630208, 0.7232138301714883, 0.14213507435684414\n",
      "Running xj_gamma smeared prediction with 0.41792079490151435, 0.2075288679766305, 1.4330414053902396, 0.8326131306894401\n",
      "Running xj_gamma smeared prediction with 0.7467575652056312, 0.4099124417967198, 0.6540054521824767, 0.4436917307055611\n",
      "Running xj_gamma smeared prediction with 0.7161476148431041, 0.2800904946182924, 0.7943600047733144, 0.9769443225392005\n",
      "Running xj_gamma smeared prediction with 0.6935284141109411, 0.07841776443890236, 1.169352648246785, 0.7527425355812452\n",
      "Running xj_gamma smeared prediction with 0.33389479043404346, 0.5915162322773158, 1.1742199723108768, 0.6989244548216952\n",
      "Running xj_gamma smeared prediction with 0.05545190805768507, 0.042177941651968975, 0.06356161437292207, 0.1212057328063971\n",
      "Running xj_gamma smeared prediction with 0.7894809638860167, 0.9031003915735899, 0.005305476814492505, 0.7199673190308967\n",
      "Running xj_gamma smeared prediction with 0.42584712788287415, 0.07205168125197792, 0.9709611962404803, 0.7184933105057917\n",
      "Running xj_gamma smeared prediction with 0.7205104520247836, 0.42718418356797616, 0.4092308577628908, 0.3147011811512393\n",
      "Running xj_gamma smeared prediction with 0.929039917821276, 0.14162642653272872, 1.3614145275075473, 0.8699412396164091\n",
      "Running xj_gamma smeared prediction with 0.10032537694492016, 0.5836296908719008, 1.414702119810126, 0.8241898040875899\n",
      "Running xj_gamma smeared prediction with 0.42257904544753744, 0.9841399470584601, 1.3958769563665148, 0.2596843825745491\n",
      "Running xj_gamma smeared prediction with 0.7616063645558918, 0.9993036394228078, 0.18920622205581472, 0.7231772303784713\n",
      "Running xj_gamma smeared prediction with 0.9543520104459065, 0.8195562697660363, 0.7620466458785494, 0.6161850459488956\n",
      "Running xj_gamma smeared prediction with 0.3386960070538426, 0.676538197335759, 0.19314772091775645, 0.9206191191692452\n",
      "Running xj_gamma smeared prediction with 0.6829347554916542, 0.5629534185628003, 1.384776977177841, 0.2813156162097563\n",
      "Running xj_gamma smeared prediction with 0.36760864649478897, 0.18816466766170326, 0.11051008801641854, 0.4364402097343225\n",
      "Running xj_gamma smeared prediction with 0.18530241872654174, 0.3125978417958979, 0.17951206032390343, 0.3034340387178466\n",
      "Running xj_gamma smeared prediction with 0.26473083885711846, 0.9422460626505406, 0.8815423622257428, 0.464849743332428\n",
      "Running xj_gamma smeared prediction with 0.007493159999251597, 0.2616330261612041, 0.2823935348917901, 0.8791251357762031\n",
      "Running xj_gamma smeared prediction with 0.7678499898502842, 0.7754447030362719, 1.1563729886812317, 0.8019321743691323\n",
      "Running xj_gamma smeared prediction with 0.5100463159900445, 0.691645439229396, 0.18925101712423448, 0.7300585917999585\n",
      "Running xj_gamma smeared prediction with 0.6754370243744967, 0.22675194949212585, 1.3568638724173985, 0.784273612332534\n",
      "Running xj_gamma smeared prediction with 0.19378633009684254, 0.4044667702839737, 0.9304684816229721, 0.31284840046600726\n",
      "Running xj_gamma smeared prediction with 0.7179994238618895, 0.3422120227659773, 1.4286860044052612, 0.8127322036832335\n",
      "Running xj_gamma smeared prediction with 0.4780112607052407, 0.6617935480235395, 0.015000302272810795, 0.4923651911648834\n",
      "Running xj_gamma smeared prediction with 0.7178618017085729, 0.9648249623602774, 0.09160163763841261, 0.8280934294611924\n",
      "Running xj_gamma smeared prediction with 0.9625709899416147, 0.7481210701268268, 0.35205006079540074, 0.11301968259555874\n",
      "Running xj_gamma smeared prediction with 1, 0, 0.7132575511504808, 0.8448114395492224\n",
      "Running xj_gamma smeared prediction with 1, 0, 0.6018643818586611, 0.7416165787071818\n",
      "Running xj_gamma smeared prediction with 1, 0, 0.9160296723574891, 0.5798558394314414\n",
      "Running xj_gamma smeared prediction with 1, 0, 1.1443592751329608, 0.297217935896983\n",
      "Running xj_gamma smeared prediction with 1, 0, 1.4709692114800377, 0.21570629951189652\n",
      "Running xj_gamma smeared prediction with 1, 0, 0.6826875863994895, 0.22783082354618717\n",
      "Running xj_gamma smeared prediction with 1, 0, 0.6166403111234023, 0.4961654171431369\n",
      "Running xj_gamma smeared prediction with 1, 0, 0.9664841313008198, 0.26716845946293544\n",
      "Running xj_gamma smeared prediction with 1, 0, 1.0890284158367352, 0.13180330262722162\n",
      "Running xj_gamma smeared prediction with 1, 0, 0.22293476307784327, 0.1633651060656473\n",
      "Running xj_gamma smeared prediction with 1, 0, 1.2504738195625777, 0.7296578993194167\n",
      "Running xj_gamma smeared prediction with 1, 0, 0.984092638260716, 0.5683027156699902\n",
      "Running xj_gamma smeared prediction with 1, 0, 0.49901259947095905, 0.34178822763955785\n",
      "Running xj_gamma smeared prediction with 1, 0, 0.9932890402126748, 0.969735700818648\n",
      "Running xj_gamma smeared prediction with 1, 0, 0.46610245609564016, 0.7997632206534351\n",
      "Running xj_gamma smeared prediction with 1, 0, 0.4616287671732443, 0.6956594516084214\n",
      "Running xj_gamma smeared prediction with 1, 0, 0.7830293888849497, 0.48701683802424356\n",
      "Running xj_gamma smeared prediction with 1, 0, 0.45884875260030356, 0.8218632483077202\n",
      "Running xj_gamma smeared prediction with 1, 0, 1.4393694422971621, 0.18974328381128547\n",
      "Running xj_gamma smeared prediction with 1, 0, 0.17563625120539417, 0.529849320912456\n",
      "Running xj_gamma smeared prediction with 1, 0, 1.4584093687395512, 0.9490422581447046\n",
      "Running xj_gamma smeared prediction with 1, 0, 0.6590834685592963, 0.20691581781736462\n",
      "Running xj_gamma smeared prediction with 1, 0, 0.47144883482836586, 0.7065193794371097\n",
      "Running xj_gamma smeared prediction with 1, 0, 1.063337236769269, 0.8720786458534144\n",
      "Running xj_gamma smeared prediction with 1, 0, 0.43668435968017577, 0.8227886945948035\n",
      "Running xj_gamma smeared prediction with 1, 0, 1.36271366008172, 0.26791550211117265\n",
      "Running xj_gamma smeared prediction with 1, 0, 0.2697577165222446, 0.9677092167940694\n",
      "Running xj_gamma smeared prediction with 1, 0, 0.8348333251859663, 0.4853843671916376\n",
      "Running xj_gamma smeared prediction with 1, 0, 1.3769681573241357, 0.6044083789575393\n",
      "Running xj_gamma smeared prediction with 1, 0, 1.4591156080548786, 0.8196474861245392\n",
      "Running xj_gamma smeared prediction with 1, 0, 0.6295364748808001, 0.4407580242329102\n",
      "Running xj_gamma smeared prediction with 1, 0, 0.3814449111393461, 0.48247493766521055\n",
      "Running xj_gamma smeared prediction with 1, 0, 0.07472421334211726, 0.31326969463268406\n",
      "Running xj_gamma smeared prediction with 1, 0, 1.1350346217041207, 0.2942111369413723\n",
      "Running xj_gamma smeared prediction with 1, 0, 1.4762434585256419, 0.5602123521855363\n",
      "Running xj_gamma smeared prediction with 1, 0, 0.9797668369253105, 0.813110245255692\n",
      "Running xj_gamma smeared prediction with 1, 0, 0.051799977019567234, 0.21462997200775047\n",
      "Running xj_gamma smeared prediction with 1, 0, 0.8515216978712832, 0.13065800796324878\n",
      "Running xj_gamma smeared prediction with 1, 0, 1.0817847925862272, 0.904167306533333\n",
      "Running xj_gamma smeared prediction with 1, 0, 0.1298161202557896, 0.10267634954321653\n",
      "Running xj_gamma smeared prediction with 1, 0, 1.168505480276044, 0.1893306998305173\n",
      "Running xj_gamma smeared prediction with 1, 0, 0.7050199656928104, 0.40686555372892963\n",
      "Running xj_gamma smeared prediction with 1, 0, 0.8829015424004205, 0.26020797271721285\n",
      "Running xj_gamma smeared prediction with 1, 0, 0.3535952655883991, 0.8860311401655219\n",
      "Running xj_gamma smeared prediction with 1, 0, 0.8573970939299789, 0.770707956128232\n",
      "Running xj_gamma smeared prediction with 1, 0, 1.1080604660966444, 0.7380268648883511\n",
      "Running xj_gamma smeared prediction with 1, 0, 1.3165570606526584, 0.17159052252241322\n",
      "Running xj_gamma smeared prediction with 1, 0, 1.2741248219362815, 0.6961831208279571\n",
      "Running xj_gamma smeared prediction with 1, 0, 0.9230524075795115, 0.9782454284582675\n",
      "Running xj_gamma smeared prediction with 1, 0, 1.191865464849421, 0.41847697634444736\n",
      "Running xj_gamma smeared prediction with 1, 0, 1.043333765398696, 0.32063713885517625\n",
      "Running xj_gamma smeared prediction with 1, 0, 1.075930566372684, 0.29272405697326986\n",
      "Running xj_gamma smeared prediction with 1, 0, 0.5655551673171948, 0.8594597864796095\n",
      "Running xj_gamma smeared prediction with 1, 0, 0.11734470663171703, 0.8554243579529996\n",
      "Running xj_gamma smeared prediction with 1, 0, 0.018229641519639794, 0.4578609879153347\n",
      "Running xj_gamma smeared prediction with 1, 0, 0.38953045916507223, 0.25479142037869545\n",
      "Running xj_gamma smeared prediction with 1, 0, 0.49576929368546147, 0.921977042021817\n",
      "Running xj_gamma smeared prediction with 1, 0, 1.1244530914961808, 0.6568973448994255\n",
      "Running xj_gamma smeared prediction with 1, 0, 0.6447928513545956, 0.9901183215515971\n",
      "Running xj_gamma smeared prediction with 1, 0, 0.5082500276135261, 0.8090923325403946\n",
      "Running xj_gamma smeared prediction with 1, 0, 0.14902099296452548, 0.9732804886070151\n",
      "Running xj_gamma smeared prediction with 1, 0, 1.0417405139077809, 0.8045015968052797\n",
      "Running xj_gamma smeared prediction with 1, 0, 1.1023218421283825, 0.10726017434218779\n",
      "Running xj_gamma smeared prediction with 1, 0, 0.9726941730086156, 0.16776951768824988\n",
      "Running xj_gamma smeared prediction with 1, 0, 1.0736556537150825, 0.24581315355814481\n",
      "Running xj_gamma smeared prediction with 1, 0, 0.178561241019967, 0.11383503553592501\n",
      "Running xj_gamma smeared prediction with 1, 0, 0.7525096300011478, 0.8922662249231902\n",
      "Running xj_gamma smeared prediction with 1, 0, 0.1136047042653579, 0.5053776745546018\n",
      "Running xj_gamma smeared prediction with 1, 0, 1.0755187888045292, 0.4824203463184571\n",
      "Running xj_gamma smeared prediction with 1, 0, 1.0111738152050074, 0.9336475569709428\n",
      "Running xj_gamma smeared prediction with 1, 0, 0.11786282655523028, 0.7277748358957192\n",
      "Running xj_gamma smeared prediction with 1, 0, 0.7232138301714883, 0.14213507435684414\n",
      "Running xj_gamma smeared prediction with 1, 0, 1.4330414053902396, 0.8326131306894401\n",
      "Running xj_gamma smeared prediction with 1, 0, 0.6540054521824767, 0.4436917307055611\n",
      "Running xj_gamma smeared prediction with 1, 0, 0.7943600047733144, 0.9769443225392005\n",
      "Running xj_gamma smeared prediction with 1, 0, 1.169352648246785, 0.7527425355812452\n",
      "Running xj_gamma smeared prediction with 1, 0, 1.1742199723108768, 0.6989244548216952\n",
      "Running xj_gamma smeared prediction with 1, 0, 0.06356161437292207, 0.1212057328063971\n",
      "Running xj_gamma smeared prediction with 1, 0, 0.005305476814492505, 0.7199673190308967\n",
      "Running xj_gamma smeared prediction with 1, 0, 0.9709611962404803, 0.7184933105057917\n",
      "Running xj_gamma smeared prediction with 1, 0, 0.4092308577628908, 0.3147011811512393\n",
      "Running xj_gamma smeared prediction with 1, 0, 1.3614145275075473, 0.8699412396164091\n",
      "Running xj_gamma smeared prediction with 1, 0, 1.414702119810126, 0.8241898040875899\n",
      "Running xj_gamma smeared prediction with 1, 0, 1.3958769563665148, 0.2596843825745491\n",
      "Running xj_gamma smeared prediction with 1, 0, 0.18920622205581472, 0.7231772303784713\n",
      "Running xj_gamma smeared prediction with 1, 0, 0.7620466458785494, 0.6161850459488956\n",
      "Running xj_gamma smeared prediction with 1, 0, 0.19314772091775645, 0.9206191191692452\n",
      "Running xj_gamma smeared prediction with 1, 0, 1.384776977177841, 0.2813156162097563\n",
      "Running xj_gamma smeared prediction with 1, 0, 0.11051008801641854, 0.4364402097343225\n",
      "Running xj_gamma smeared prediction with 1, 0, 0.17951206032390343, 0.3034340387178466\n",
      "Running xj_gamma smeared prediction with 1, 0, 0.8815423622257428, 0.464849743332428\n",
      "Running xj_gamma smeared prediction with 1, 0, 0.2823935348917901, 0.8791251357762031\n",
      "Running xj_gamma smeared prediction with 1, 0, 1.1563729886812317, 0.8019321743691323\n",
      "Running xj_gamma smeared prediction with 1, 0, 0.18925101712423448, 0.7300585917999585\n",
      "Running xj_gamma smeared prediction with 1, 0, 1.3568638724173985, 0.784273612332534\n",
      "Running xj_gamma smeared prediction with 1, 0, 0.9304684816229721, 0.31284840046600726\n",
      "Running xj_gamma smeared prediction with 1, 0, 1.4286860044052612, 0.8127322036832335\n",
      "Running xj_gamma smeared prediction with 1, 0, 0.015000302272810795, 0.4923651911648834\n",
      "Running xj_gamma smeared prediction with 1, 0, 0.09160163763841261, 0.8280934294611924\n",
      "Running xj_gamma smeared prediction with 1, 0, 0.35205006079540074, 0.11301968259555874\n"
     ]
    }
   ],
   "source": [
    "# Generate prediction for \"central\" data\n",
    "#Y1 = [predict_xjgamma_smeared(i[0], i[1], i[2]) for i in design]\n",
    "Y1 = np.array([\n",
    "    predict_xjgamma_smeared_fix(A=d[0], B=d[1], C=d[2], D=d[3]) for d in design\n",
    "])\n",
    "# Generate prediction for \"peripheral\" data.  Note here A and B are irrelevant.  So we set them to 0\n",
    "#Y2 = [predict_xjgamma_smeared(0, 0, i[2]) for i in design]\n",
    "Y2 = np.array([\n",
    "    # A = 1 so that the XJ cancels out to 0, and then it's just the second term that dominates\n",
    "    predict_xjgamma_smeared_fix(A=1, B=0, C=d[2], D=d[3]) for d in design\n",
    "])"
   ]
  },
  {
   "cell_type": "code",
   "execution_count": 259,
   "metadata": {},
   "outputs": [
    {
     "name": "stdout",
     "output_type": "stream",
     "text": [
      "Running xj_gamma smeared prediction with 1, 0, -0.21077368132427554, 0.027992744735200192\n"
     ]
    },
    {
     "name": "stderr",
     "output_type": "stream",
     "text": [
      "/var/folders/s4/zc_9tsr13mvbdxfpt284svpm0000gp/T/ipykernel_21164/407641116.py:51: RuntimeWarning: invalid value encountered in true_divide\n",
      "  return h / h.sum()\n"
     ]
    }
   ],
   "source": [
    "Y2 = np.array([\n",
    "    # A = 1 so that the XJ cancels out to 0, and then it's just the second term that dominates\n",
    "    predict_xjgamma_smeared_fix(A=1, B=0, C=d[2], D=d[3]) for d in design.T[32:33]\n",
    "])\n",
    "#Y2"
   ]
  },
  {
   "cell_type": "markdown",
   "metadata": {},
   "source": [
    "## Write everything out"
   ]
  },
  {
   "cell_type": "code",
   "execution_count": 280,
   "metadata": {},
   "outputs": [],
   "source": [
    "with open(folder / 'Prediction_Selection1.dat', 'w') as f:\n",
    "    f.write('# Version 1.0\\n')\n",
    "    f.write('# Data Data_Selection1.dat\\n')\n",
    "    f.write('# Design Design.dat\\n')\n",
    "    np.savetxt(f, np.transpose(Y1))"
   ]
  },
  {
   "cell_type": "code",
   "execution_count": 281,
   "metadata": {},
   "outputs": [],
   "source": [
    "with open(folder / 'Prediction_Selection2.dat', 'w') as f:\n",
    "    f.write('# Version 1.0\\n')\n",
    "    f.write('# Data Data_Selection2.dat\\n')\n",
    "    f.write('# Design Design.dat\\n')\n",
    "    np.savetxt(f, np.transpose(Y2))"
   ]
  },
  {
   "cell_type": "code",
   "execution_count": 282,
   "metadata": {},
   "outputs": [],
   "source": [
    "with open(folder / 'Design.dat', 'w') as f:\n",
    "    f.write('# Version 1.0\\n')\n",
    "    f.write(f'# Parameter {\" \".join(\"A B C D E F G H I J K L\".split()[:design.shape[1]])}\\n')\n",
    "    np.savetxt(f, design)"
   ]
  },
  {
   "cell_type": "markdown",
   "metadata": {},
   "source": [
    "## Making fake data"
   ]
  },
  {
   "cell_type": "code",
   "execution_count": 11,
   "metadata": {},
   "outputs": [
    {
     "name": "stdout",
     "output_type": "stream",
     "text": [
      "Running prediction with 0.5 0.25 0.1\n",
      "Running prediction with 0 0 0.1\n"
     ]
    }
   ],
   "source": [
    "Truth = [0.50, 0.25, 0.10]\n",
    "\n",
    "DataY1 = Predict(Truth[0], Truth[1], Truth[2], N = 100000)\n",
    "DataY2 = Predict(0, 0, Truth[2], N = 100000)"
   ]
  },
  {
   "cell_type": "code",
   "execution_count": 12,
   "metadata": {},
   "outputs": [],
   "source": [
    "XMin = np.array(range(0, DataNBin)) * DataXBin\n",
    "XMax = np.array(range(1, DataNBin + 1)) * DataXBin\n",
    "\n",
    "Stat = 0.001\n",
    "Sys = 0.010\n",
    "\n",
    "Data1 = np.zeros((DataNBin, 7))\n",
    "Data2 = np.zeros((DataNBin, 7))\n",
    "\n",
    "Data1[:,0] = XMin\n",
    "Data1[:,1] = XMax\n",
    "Data1[:,2] = DataY1\n",
    "Data1[:,3] = Stat\n",
    "Data1[:,4] = Stat\n",
    "Data1[:,5] = Sys\n",
    "Data1[:,6] = Sys\n",
    "\n",
    "Data2[:,0] = XMin\n",
    "Data2[:,1] = XMax\n",
    "Data2[:,2] = DataY2\n",
    "Data2[:,3] = Stat\n",
    "Data2[:,4] = Stat\n",
    "Data2[:,5] = Sys\n",
    "Data2[:,6] = Sys"
   ]
  },
  {
   "cell_type": "code",
   "execution_count": 13,
   "metadata": {},
   "outputs": [],
   "source": [
    "with open(Folder + 'Data_Selection1.dat', 'w') as f:\n",
    "    f.write('# Version 1.0\\n')\n",
    "    f.write('# DOI None\\n')\n",
    "    f.write('# Source None\\n')\n",
    "    f.write('# Experiment JetScape\\n')\n",
    "    f.write('# System PbPb5020\\n')\n",
    "    f.write('# Centrality 0to10\\n')\n",
    "    f.write('# XY AJ DNDAJ\\n')\n",
    "    f.write('# Label xmin xmax y stat,low stat,high sys,low sys,high\\n')\n",
    "    np.savetxt(f, Data1)\n",
    "    \n",
    "with open(Folder + 'Data_Selection2.dat', 'w') as f:\n",
    "    f.write('# Version 1.0\\n')\n",
    "    f.write('# DOI None\\n')\n",
    "    f.write('# Source None\\n')\n",
    "    f.write('# Experiment JetScape\\n')\n",
    "    f.write('# System PbPb5020\\n')\n",
    "    f.write('# Centrality 70to90\\n')\n",
    "    f.write('# XY AJ DNDAJ\\n')\n",
    "    f.write('# Label xmin xmax y stat,low stat,high sys,low sys,high\\n')\n",
    "    np.savetxt(f, Data2)"
   ]
  },
  {
   "cell_type": "code",
   "execution_count": null,
   "metadata": {},
   "outputs": [],
   "source": []
  },
  {
   "cell_type": "code",
   "execution_count": null,
   "metadata": {},
   "outputs": [],
   "source": []
  }
 ],
 "metadata": {
  "kernelspec": {
   "display_name": "Python 3.10.5 ('.venv': poetry)",
   "language": "python",
   "name": "python3"
  },
  "language_info": {
   "codemirror_mode": {
    "name": "ipython",
    "version": 3
   },
   "file_extension": ".py",
   "mimetype": "text/x-python",
   "name": "python",
   "nbconvert_exporter": "python",
   "pygments_lexer": "ipython3",
   "version": "3.10.5"
  },
  "vscode": {
   "interpreter": {
    "hash": "1d65bb7f5f25d512d5b31173bad01016a3b501790a1361b769a5765daf7b2eab"
   }
  }
 },
 "nbformat": 4,
 "nbformat_minor": 4
}
