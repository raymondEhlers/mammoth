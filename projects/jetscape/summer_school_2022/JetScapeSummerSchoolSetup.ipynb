{
 "cells": [
  {
   "cell_type": "markdown",
   "metadata": {},
   "source": [
    "# Model prediction maker"
   ]
  },
  {
   "cell_type": "markdown",
   "metadata": {},
   "source": [
    "Model setup is as follows: we have dijet asymmetry data prepared, where the asymmetry AJ is defined as the difference between the two jets divided by the sum. Specifically,\n",
    "\n",
    "$$A_{\\mathrm{j}} = \\frac{p_{\\mathrm{T, 1}} - p_{\\mathrm{T, 2}}}{p_{\\mathrm{T, 1}} + p_{\\mathrm{T, 2}}}$$\n",
    "\n",
    "We will construct a model to describe the energy loss observed in the dijet asymmetry.  For this model, we consider back-to-back dijets.  Each jet can lose energy, and the lost energy is parameterized as\n",
    "\n",
    "$$ \\Delta p_{\\mathrm{T}} / p_{\\mathrm{T}} \\sim A \\times Gaus(1, B)$$\n",
    "\n",
    "In addition to the energy loss contribution, we have extra \"apparent\" smearing on the AJ coming from the fact that we have other processes going on in the events (three jets etc).  It is parameterized as a Gaussian smearing on AJ with width C. So there are three total parameters: A, B, and C.\n",
    "\n",
    "The measurement is done in two bins of centrality.  One in central event, where (A, B, C) are all relevant, and another one in very peripheral event, where only the parameter (C) is relevant.\n",
    "\n",
    "The goal here in this notebook is to make the inputs needed for Bayesian inference to learn about A, B and C from the provided data"
   ]
  },
  {
   "cell_type": "code",
   "execution_count": 1,
   "metadata": {},
   "outputs": [],
   "source": [
    "from pathlib import Path\n",
    "\n",
    "import numpy as np\n",
    "\n",
    "folder = Path('input/XJGammaToy/')\n",
    "folder.mkdir(parents=True, exist_ok=True)"
   ]
  },
  {
   "cell_type": "code",
   "execution_count": 218,
   "metadata": {},
   "outputs": [],
   "source": [
    "# xj or Aj\n",
    "#DataXMin        = 0.000\n",
    "#DataXMax        = 1.000\n",
    "#DataXBin        = 0.050\n",
    "# xj gamma\n",
    "DataXMin        = 0.000\n",
    "DataXMax        = 2.000\n",
    "DataXBin        = 0.100\n",
    "\n",
    "DataNBin        = int((DataXMax - DataXMin) / DataXBin)\n",
    "\n",
    "# how many design points do you want to generate?\n",
    "NDesign         = 40\n",
    "\n",
    "# What is the upper parameter range (one each for A, B, C)?\n",
    "# The lower range for each parameter is 0 by construction.\n",
    "# Hint: start with a large-range guess!  Then we can come back and reduce range\n",
    "ParameterRanges = [(0, 1.0), (0.0, 1.0), (-0.5, 1.5), (0.0, 1.0)]"
   ]
  },
  {
   "cell_type": "markdown",
   "metadata": {},
   "source": [
    "## The \"prediction\" function\n",
    "\n",
    "Let's write a function, where we do the required smearing, make a histogram on the final AJ, and return the prediction"
   ]
  },
  {
   "cell_type": "code",
   "execution_count": 3,
   "metadata": {},
   "outputs": [],
   "source": [
    "\n",
    "import numpy.typing as npt\n"
   ]
  },
  {
   "cell_type": "code",
   "execution_count": 148,
   "metadata": {},
   "outputs": [],
   "source": [
    "def Predict(A, B, C, N = 100000):\n",
    "    print(\"Running prediction with\", A, B, C)\n",
    "    \n",
    "    Hist = np.zeros(DataNBin)\n",
    "    \n",
    "    for i in range(N):\n",
    "        # Jet 1 and jet 2 PT (J1 and J2) after quenching.\n",
    "        # Assuming initial energy is 100 GeV, and (delta PT / PT) ~ gaus(A, B), calculate the final energy\n",
    "        # Jet PT = 100 GeV * (?)\n",
    "        # Note that the initial energy cancels out in AJ\n",
    "        # Useful function: np.random.normal(1, 2) gives you a random sampling with gaussian mean 1 and sigma 2\n",
    "        J1 = 100 * (1 - A * np.random.normal(1, B))\n",
    "        J2 = 100 * (1 - A * np.random.normal(1, B))\n",
    "        # Calculate AJ from the PTs\n",
    "        AJ = (J1 - J2) / (J1 + J2)\n",
    "        # Adding extra gaussian smearing from parameter C\n",
    "        AJ = AJ + np.random.normal(0, C)\n",
    "        # AJ is defined to be leading - subleading -> positive!\n",
    "        AJ = np.abs(AJ)\n",
    "\n",
    "        # put things into bins\n",
    "        Bin = int((AJ - DataXMin) / DataXBin)\n",
    "        if Bin < 0:   # underflow\n",
    "            Bin = 0\n",
    "        if Bin >= DataNBin:   # overflow\n",
    "            continue\n",
    "            # Bin = DataNBin - 1\n",
    "        \n",
    "        Hist[Bin] = Hist[Bin] + 1\n",
    "        \n",
    "    return Hist / N\n",
    "\n",
    "def predict_xjgamma(A: float, B: float, C: float, D: float, E: float, F: float, N: int = 100000) -> npt.NDArray[np.float64]:\n",
    "    print(f\"Running xj_gamma prediction with {A}, {B}, {C}, {D}\")\n",
    "    \n",
    "    hist = np.zeros(DataNBin)\n",
    "    \n",
    "    for i in range(N):\n",
    "        # Jet 1 and jet 2 PT (J1 and J2) after quenching.\n",
    "        # Assuming initial energy is 100 GeV, and (delta PT / PT) ~ gaus(A, B), calculate the final energy\n",
    "        # Jet PT = 100 GeV * (?)\n",
    "        # Note that the initial energy cancels out in AJ\n",
    "        # Useful function: np.random.normal(1, 2) gives you a random sampling with gaussian mean 1 and sigma 2\n",
    "        J1 = 100 * (1 - A * np.random.normal(0.1, B))\n",
    "        #J2 = 100 * (1 - np.random.normal(A, B))\n",
    "        J2 = 100 * (1 - C * np.random.normal(0.01, D))\n",
    "        # Calculate AJ from the PTs\n",
    "        XJ = J1 / J2\n",
    "        # Adding extra gaussian smearing from parameter C\n",
    "        XJ = XJ + np.random.normal(E, F)\n",
    "        # AJ is defined to be leading - subleading -> positive!\n",
    "        #AJ = np.abs(AJ)\n",
    "\n",
    "        # put things into bins\n",
    "        Bin = int((XJ - DataXMin) / DataXBin)\n",
    "        if Bin < 0:   # underflow\n",
    "            Bin = 0\n",
    "        if Bin >= DataNBin:   # overflow\n",
    "            continue\n",
    "            # Bin = DataNBin - 1\n",
    "        \n",
    "        hist[Bin] = hist[Bin] + 1\n",
    "        \n",
    "    return hist / N\n",
    "\n",
    "def predict_xj(A: float, B: float, C: float, D: float, N: int = 100000) -> npt.NDArray[np.float64]:\n",
    "    print(f\"Running xj prediction with {A}, {B}, {C}, {D}\")\n",
    "    \n",
    "    hist = np.zeros(DataNBin)\n",
    "    \n",
    "    for i in range(N):\n",
    "        # Jet 1 and jet 2 PT (J1 and J2) after quenching.\n",
    "        # Assuming initial energy is 100 GeV, and (delta PT / PT) ~ gaus(A, B), calculate the final energy\n",
    "        # Jet PT = 100 GeV * (?)\n",
    "        # Note that the initial energy cancels out in AJ\n",
    "        # Useful function: np.random.normal(1, 2) gives you a random sampling with gaussian mean 1 and sigma 2\n",
    "        #J1 = 100 * (1 - A * np.random.normal(1, B))\n",
    "        #J2 = 100 * (1 - A * np.random.normal(1, B))\n",
    "        J1 = 100 * (1 - np.abs(np.random.normal(A, B)))\n",
    "        #J2 = 100 * (1 - np.random.normal(A, B))\n",
    "        J2 = 100 * (1 - np.abs(np.random.normal(A, B)))\n",
    "        if J1 > J2:\n",
    "            J1, J2 = J2, J1\n",
    "        # Calculate XJ from the PTs\n",
    "        XJ = J1 / J2\n",
    "        # Adding extra gaussian smearing from parameter C\n",
    "        #XJ = XJ + np.random.normal(0.7, D)\n",
    "        XJ = XJ + np.random.normal(0.8, D)\n",
    "        # AJ is defined to be leading - subleading -> positive!\n",
    "        # OVERFLOW IS THE ISSUE! Too broad!\n",
    "        if XJ > 2:\n",
    "            XJ = 2\n",
    "        if XJ > 1:\n",
    "            print(XJ)\n",
    "            XJ = XJ - 2 * (XJ - 1)\n",
    "            print(XJ)\n",
    "        #AJ = np.abs(AJ)\n",
    "\n",
    "        # put things into bins\n",
    "        Bin = int((XJ - DataXMin) / DataXBin)\n",
    "        #if Bin == 0:\n",
    "        #    print(J1, J2)\n",
    "        if Bin < 0:   # underflow\n",
    "            Bin = 0\n",
    "        if Bin >= DataNBin:   # overflow\n",
    "            continue\n",
    "            # Bin = DataNBin - 1\n",
    "        \n",
    "        hist[Bin] = hist[Bin] + 1\n",
    "        \n",
    "    return hist / N\n",
    "\n",
    "\n",
    "def predict_xjgamma_smeared(A: float, B: float, C: float, D: float, N: int = 100000) -> npt.NDArray[np.float64]:\n",
    "    print(f\"Running xj_gamma smeared prediction with {A}, {B}, {C}, {D}\")\n",
    "    \n",
    "    bins = np.linspace(DataXMin, DataXMax, int((DataXMax - DataXMin) / DataXBin) + 1)\n",
    "    hists = []\n",
    "    #hist = np.zeros(DataNBin)\n",
    "    \n",
    "    xj_values = []\n",
    "    for i in range(N):\n",
    "        # Jet 1 and jet 2 PT (J1 and J2) after quenching.\n",
    "        # Assuming initial energy is 100 GeV, and (delta PT / PT) ~ gaus(A, B), calculate the final energy\n",
    "        # Jet PT = 100 GeV * (?)\n",
    "        # Note that the initial energy cancels out in AJ\n",
    "        # Useful function: np.random.normal(1, 2) gives you a random sampling with gaussian mean 1 and sigma 2\n",
    "        #J1 = 100 * (1 - np.random.normal(A, B))\n",
    "        J1 = 100 * (1 - np.random.normal(A, B))\n",
    "        #J2 = 100 * (1 - np.random.normal(A, B))\n",
    "        J2 = 100\n",
    "        # Calculate AJ from the PTs\n",
    "        XJ = J1 / J2\n",
    "        # Adding extra gaussian smearing from parameter C\n",
    "        smear = np.random.normal(C, D)\n",
    "        xj_original = XJ\n",
    "        XJ = XJ + smear\n",
    "        # XJ must be positive definition. If the smearing is too large, set to 0\n",
    "        if XJ < 0:\n",
    "            XJ = 0\n",
    "        # AJ is defined to be leading - subleading -> positive!\n",
    "        #AJ = np.abs(AJ)\n",
    "\n",
    "        h, _ = np.histogram(a=XJ, bins=bins)\n",
    "        print(f\"{h}\")\n",
    "        hists.append(h / h.sum())\n",
    "\n",
    "        ## put things into bins\n",
    "        #Bin = int((XJ - DataXMin) / DataXBin)\n",
    "        #if Bin == 0:\n",
    "        #    pass\n",
    "        #    #print(f\"{J1=}, {J2=}, {XJ=}, {smear=}, {xj_original=}\")\n",
    "        #if Bin < 0:   # underflow\n",
    "        #    Bin = 0\n",
    "        #if Bin >= DataNBin:   # overflow\n",
    "        #    continue\n",
    "        #    # Bin = DataNBin - 1\n",
    "        \n",
    "        #hist[Bin] = hist[Bin] + 1\n",
    "        \n",
    "    #return hist / N\n",
    "    return hists[0] if len(hists) == 1 else hists"
   ]
  },
  {
   "cell_type": "code",
   "execution_count": 150,
   "metadata": {},
   "outputs": [
    {
     "ename": "SyntaxError",
     "evalue": "invalid syntax (3310563197.py, line 40)",
     "output_type": "error",
     "traceback": [
      "\u001b[0;36m  Input \u001b[0;32mIn [150]\u001b[0;36m\u001b[0m\n\u001b[0;31m    np.histogram2d(x=XJ, y=bins=(bins, ))\u001b[0m\n\u001b[0m                               ^\u001b[0m\n\u001b[0;31mSyntaxError\u001b[0m\u001b[0;31m:\u001b[0m invalid syntax\n"
     ]
    }
   ],
   "source": [
    "def predict_xjgamma_smeared_full(A: float, B: float, C: float, D: float, N: int = 100000) -> npt.NDArray[np.float64]:\n",
    "    print(f\"Running xj_gamma smeared prediction with {A}, {B}, {C}, {D}\")\n",
    "    \n",
    "    # Jet 1 and jet 2 PT (J1 and J2) after quenching.\n",
    "    # Assuming initial energy is 100 GeV, and (delta PT / PT) ~ gaus(A, B), calculate the final energy\n",
    "    # Jet PT = 100 GeV * (?)\n",
    "    # Note that the initial energy cancels out in AJ\n",
    "    # Useful function: np.random.normal(1, 2) gives you a random sampling with gaussian mean 1 and sigma 2\n",
    "    #J1 = 100 * (1 - np.random.normal(A, B))\n",
    "    J1 = 100 * (1 - np.random.normal(A, B, size=(N, len(A))))\n",
    "    #J2 = 100 * (1 - np.random.normal(A, B))\n",
    "    J2 = 100\n",
    "    # Calculate AJ from the PTs\n",
    "    XJ = J1 / J2\n",
    "    # Adding extra gaussian smearing from parameter C\n",
    "    smear = np.random.normal(C, D, size=(N, len(A)))\n",
    "    xj_original = XJ\n",
    "    XJ = XJ + smear\n",
    "    # XJ must be positive definition. If the smearing is too large, set to 0\n",
    "    _mask = (XJ < 0)\n",
    "    XJ[_mask] = 0\n",
    "    # AJ is defined to be leading - subleading -> positive!\n",
    "    #AJ = np.abs(AJ)\n",
    "\n",
    "    # put things into bins\n",
    "    bins = np.linspace(DataXMin, DataXMax, int((DataXMax - DataXMin) / DataXBin) + 1)\n",
    "    #Bin = int((XJ - DataXMin) / DataXBin)\n",
    "    #if Bin == 0:\n",
    "    #    pass\n",
    "    #    #print(f\"{J1=}, {J2=}, {XJ=}, {smear=}, {xj_original=}\")\n",
    "    #if Bin < 0:   # underflow\n",
    "    #    Bin = 0\n",
    "    #if Bin >= DataNBin:   # overflow\n",
    "    #    continue\n",
    "    #    # Bin = DataNBin - 1\n",
    "    \n",
    "    #hist[Bin] = hist[Bin] + 1\n",
    "\n",
    "    h, _ = []\n",
    "    np.histogram2d(x=XJ, y=bins=(bins, ))\n",
    "   \n",
    "    #return hist / N\n",
    "    return h / h.sum()"
   ]
  },
  {
   "cell_type": "code",
   "execution_count": 219,
   "metadata": {},
   "outputs": [],
   "source": [
    "def predict_xjgamma_smeared_fix(A: float, B: float, C: float, D: float, n_samples: int = 100000) -> npt.NDArray[np.float64]:\n",
    "    print(f\"Running xj_gamma smeared prediction with {A}, {B}, {C}, {D}\")\n",
    "    \n",
    "    bins = np.linspace(DataXMin, DataXMax, int((DataXMax - DataXMin) / DataXBin) + 1)\n",
    "    #hists = []\n",
    "    #hist = np.zeros(DataNBin)\n",
    "\n",
    "    # Jet 1 and jet 2 PT (J1 and J2) after quenching.\n",
    "    # Assuming initial energy is 100 GeV, and (delta PT / PT) ~ gaus(A, B), calculate the final energy\n",
    "    # Jet PT = 100 GeV * (?)\n",
    "    # Note that the initial energy cancels out in AJ\n",
    "    # Useful function: np.random.normal(1, 2) gives you a random sampling with gaussian mean 1 and sigma 2\n",
    "    #J1 = 100 * (1 - np.random.normal(A, B))\n",
    "    J1 = 100 * (1 - np.random.normal(A, B, size=n_samples))\n",
    "    #J2 = 100 * (1 - np.random.normal(A, B))\n",
    "    J2 = 100\n",
    "    # Calculate AJ from the PTs\n",
    "    XJ = J1 / J2\n",
    "    # Adding extra gaussian smearing from parameter C\n",
    "    smear = np.random.normal(C, D, size=n_samples)\n",
    "    xj_original = XJ\n",
    "    XJ = XJ + smear\n",
    "    # XJ must be positive definition. If the smearing is too large, we leave them below 0\n",
    "    # and they are subsequently ignored in the histogramming\n",
    "    #_mask = (XJ < 0)\n",
    "    #XJ[_mask] = 0\n",
    "    # AJ is defined to be leading - subleading -> positive!\n",
    "    #AJ = np.abs(AJ)\n",
    "\n",
    "    #print(f\"{smear=}, {xj_original=}\")\n",
    "    #return XJ\n",
    "    h, _ = np.histogram(a=XJ, bins=bins)\n",
    "    #print(f\"{h=}\")\n",
    "    #hists.append(h / h.sum())\n",
    "\n",
    "    ## put things into bins\n",
    "    #Bin = int((XJ - DataXMin) / DataXBin)\n",
    "    #if Bin == 0:\n",
    "    #    pass\n",
    "    #    #print(f\"{J1=}, {J2=}, {XJ=}, {smear=}, {xj_original=}\")\n",
    "    #if Bin < 0:   # underflow\n",
    "    #    Bin = 0\n",
    "    #if Bin >= DataNBin:   # overflow\n",
    "    #    continue\n",
    "    #    # Bin = DataNBin - 1\n",
    "    \n",
    "    #hist[Bin] = hist[Bin] + 1\n",
    "        \n",
    "    #return hist / N\n",
    "    #return hists[0] if len(hists) == 1 else hists\n",
    "    return h / h.sum()"
   ]
  },
  {
   "cell_type": "markdown",
   "metadata": {},
   "source": [
    "### Test the prediction (cross check for yourself)"
   ]
  },
  {
   "cell_type": "code",
   "execution_count": 210,
   "metadata": {},
   "outputs": [
    {
     "name": "stdout",
     "output_type": "stream",
     "text": [
      "Running xj_gamma smeared prediction with 1, 0, 1.7160803566985545, 0.142\n",
      "smear=array([1.90854052, 1.83237329, 1.6435066 , ..., 1.84719848, 1.78432658,\n",
      "       1.54402115]), xj_original=array([0., 0., 0., ..., 0., 0., 0.])\n"
     ]
    },
    {
     "data": {
      "text/plain": [
       "array([1.90854052, 1.83237329, 1.6435066 , ..., 1.84719848, 1.78432658,\n",
       "       1.54402115])"
      ]
     },
     "execution_count": 210,
     "metadata": {},
     "output_type": "execute_result"
    }
   ],
   "source": [
    "# Test predicting one point - to see if the output makes sense or not\n",
    "# Once you are happy, we move on!\n",
    "#example_prediction = predict_xjgamma(1, 0.25, 0, 0, 0, 0.3)\n",
    "#example_prediction = predict_xj(0.1, 0.3, 1, 1.5)\n",
    "example_prediction = predict_xjgamma_smeared_fix(1, 0, 1.71608035669855451, 0.142)\n",
    "example_prediction"
   ]
  },
  {
   "cell_type": "code",
   "execution_count": 207,
   "metadata": {},
   "outputs": [
    {
     "data": {
      "text/plain": [
       "2.1088952573340602"
      ]
     },
     "execution_count": 207,
     "metadata": {},
     "output_type": "execute_result"
    }
   ],
   "source": [
    "example_prediction.min()"
   ]
  },
  {
   "cell_type": "code",
   "execution_count": 169,
   "metadata": {},
   "outputs": [
    {
     "name": "stdout",
     "output_type": "stream",
     "text": [
      "Running xj_gamma smeared prediction with 0.05, 0.3, -0.1, 0.3\n"
     ]
    },
    {
     "data": {
      "text/plain": [
       "[<matplotlib.lines.Line2D at 0x168403040>]"
      ]
     },
     "execution_count": 169,
     "metadata": {},
     "output_type": "execute_result"
    },
    {
     "data": {
      "image/png": "[encoded data removed]",
      "text/plain": [
       "<Figure size 360x360 with 1 Axes>"
      ]
     },
     "metadata": {
      "needs_background": "light"
     },
     "output_type": "display_data"
    }
   ],
   "source": [
    "# Alternatively (or in addition), plot the AJ distribution for our single point\n",
    "import matplotlib.pyplot as plt\n",
    "#example_prediction = predict_xj(0.3, 0.3, 0, 0.3)\n",
    "#example_prediction = predict_xjgamma_smeared(0.2, 0.6, 0.2, 0.3)\n",
    "example_prediction = predict_xjgamma_smeared_fix(0.05, 0.3, -0.1, 0.3)\n",
    "fig, ax = plt.subplots(figsize=(5,5))\n",
    "ax.plot(np.arange(DataXMin, DataXMax, DataXBin) + (DataXBin / 2), example_prediction, marker=\"o\", linestyle=\"\")"
   ]
  },
  {
   "cell_type": "code",
   "execution_count": 20,
   "metadata": {},
   "outputs": [],
   "source": [
    "# Test"
   ]
  },
  {
   "cell_type": "code",
   "execution_count": 19,
   "metadata": {},
   "outputs": [
    {
     "name": "stdout",
     "output_type": "stream",
     "text": [
      "Requirement already satisfied: ipywidgets in /Users/REhlers/software/dev/mammoth/.venv/lib/python3.10/site-packages (7.7.1)\n",
      "Requirement already satisfied: jupyterlab-widgets>=1.0.0 in /Users/REhlers/software/dev/mammoth/.venv/lib/python3.10/site-packages (from ipywidgets) (1.1.1)\n",
      "Requirement already satisfied: ipython-genutils~=0.2.0 in /Users/REhlers/software/dev/mammoth/.venv/lib/python3.10/site-packages (from ipywidgets) (0.2.0)\n",
      "Requirement already satisfied: ipykernel>=4.5.1 in /Users/REhlers/software/dev/mammoth/.venv/lib/python3.10/site-packages (from ipywidgets) (6.15.1)\n",
      "Requirement already satisfied: widgetsnbextension~=3.6.0 in /Users/REhlers/software/dev/mammoth/.venv/lib/python3.10/site-packages (from ipywidgets) (3.6.1)\n",
      "Requirement already satisfied: traitlets>=4.3.1 in /Users/REhlers/software/dev/mammoth/.venv/lib/python3.10/site-packages (from ipywidgets) (5.3.0)\n",
      "Requirement already satisfied: ipython>=4.0.0 in /Users/REhlers/software/dev/mammoth/.venv/lib/python3.10/site-packages (from ipywidgets) (8.4.0)\n",
      "Requirement already satisfied: appnope in /Users/REhlers/software/dev/mammoth/.venv/lib/python3.10/site-packages (from ipykernel>=4.5.1->ipywidgets) (0.1.3)\n",
      "Requirement already satisfied: matplotlib-inline>=0.1 in /Users/REhlers/software/dev/mammoth/.venv/lib/python3.10/site-packages (from ipykernel>=4.5.1->ipywidgets) (0.1.3)\n",
      "Requirement already satisfied: debugpy>=1.0 in /Users/REhlers/software/dev/mammoth/.venv/lib/python3.10/site-packages (from ipykernel>=4.5.1->ipywidgets) (1.6.2)\n",
      "Requirement already satisfied: jupyter-client>=6.1.12 in /Users/REhlers/software/dev/mammoth/.venv/lib/python3.10/site-packages (from ipykernel>=4.5.1->ipywidgets) (7.3.4)\n",
      "Requirement already satisfied: nest-asyncio in /Users/REhlers/software/dev/mammoth/.venv/lib/python3.10/site-packages (from ipykernel>=4.5.1->ipywidgets) (1.5.5)\n",
      "Requirement already satisfied: tornado>=6.1 in /Users/REhlers/software/dev/mammoth/.venv/lib/python3.10/site-packages (from ipykernel>=4.5.1->ipywidgets) (6.2)\n",
      "Requirement already satisfied: packaging in /Users/REhlers/software/dev/mammoth/.venv/lib/python3.10/site-packages (from ipykernel>=4.5.1->ipywidgets) (21.3)\n",
      "Requirement already satisfied: psutil in /Users/REhlers/software/dev/mammoth/.venv/lib/python3.10/site-packages (from ipykernel>=4.5.1->ipywidgets) (5.9.1)\n",
      "Requirement already satisfied: pyzmq>=17 in /Users/REhlers/software/dev/mammoth/.venv/lib/python3.10/site-packages (from ipykernel>=4.5.1->ipywidgets) (23.2.0)\n",
      "Requirement already satisfied: backcall in /Users/REhlers/software/dev/mammoth/.venv/lib/python3.10/site-packages (from ipython>=4.0.0->ipywidgets) (0.2.0)\n",
      "Requirement already satisfied: pickleshare in /Users/REhlers/software/dev/mammoth/.venv/lib/python3.10/site-packages (from ipython>=4.0.0->ipywidgets) (0.7.5)\n",
      "Requirement already satisfied: pexpect>4.3 in /Users/REhlers/software/dev/mammoth/.venv/lib/python3.10/site-packages (from ipython>=4.0.0->ipywidgets) (4.8.0)\n",
      "Requirement already satisfied: setuptools>=18.5 in /Users/REhlers/software/dev/mammoth/.venv/lib/python3.10/site-packages (from ipython>=4.0.0->ipywidgets) (62.1.0)\n",
      "Requirement already satisfied: stack-data in /Users/REhlers/software/dev/mammoth/.venv/lib/python3.10/site-packages (from ipython>=4.0.0->ipywidgets) (0.3.0)\n",
      "Requirement already satisfied: decorator in /Users/REhlers/software/dev/mammoth/.venv/lib/python3.10/site-packages (from ipython>=4.0.0->ipywidgets) (5.1.1)\n",
      "Requirement already satisfied: pygments>=2.4.0 in /Users/REhlers/software/dev/mammoth/.venv/lib/python3.10/site-packages (from ipython>=4.0.0->ipywidgets) (2.12.0)\n",
      "Requirement already satisfied: jedi>=0.16 in /Users/REhlers/software/dev/mammoth/.venv/lib/python3.10/site-packages (from ipython>=4.0.0->ipywidgets) (0.18.1)\n",
      "Requirement already satisfied: prompt-toolkit!=3.0.0,!=3.0.1,<3.1.0,>=2.0.0 in /Users/REhlers/software/dev/mammoth/.venv/lib/python3.10/site-packages (from ipython>=4.0.0->ipywidgets) (3.0.30)\n",
      "Requirement already satisfied: notebook>=4.4.1 in /Users/REhlers/software/dev/mammoth/.venv/lib/python3.10/site-packages (from widgetsnbextension~=3.6.0->ipywidgets) (6.4.12)\n",
      "Requirement already satisfied: parso<0.9.0,>=0.8.0 in /Users/REhlers/software/dev/mammoth/.venv/lib/python3.10/site-packages (from jedi>=0.16->ipython>=4.0.0->ipywidgets) (0.8.3)\n",
      "Requirement already satisfied: python-dateutil>=2.8.2 in /Users/REhlers/software/dev/mammoth/.venv/lib/python3.10/site-packages (from jupyter-client>=6.1.12->ipykernel>=4.5.1->ipywidgets) (2.8.2)\n",
      "Requirement already satisfied: jupyter-core>=4.9.2 in /Users/REhlers/software/dev/mammoth/.venv/lib/python3.10/site-packages (from jupyter-client>=6.1.12->ipykernel>=4.5.1->ipywidgets) (4.11.1)\n",
      "Requirement already satisfied: entrypoints in /Users/REhlers/software/dev/mammoth/.venv/lib/python3.10/site-packages (from jupyter-client>=6.1.12->ipykernel>=4.5.1->ipywidgets) (0.4)\n",
      "Requirement already satisfied: nbconvert>=5 in /Users/REhlers/software/dev/mammoth/.venv/lib/python3.10/site-packages (from notebook>=4.4.1->widgetsnbextension~=3.6.0->ipywidgets) (6.5.0)\n",
      "Requirement already satisfied: argon2-cffi in /Users/REhlers/software/dev/mammoth/.venv/lib/python3.10/site-packages (from notebook>=4.4.1->widgetsnbextension~=3.6.0->ipywidgets) (21.3.0)\n",
      "Requirement already satisfied: prometheus-client in /Users/REhlers/software/dev/mammoth/.venv/lib/python3.10/site-packages (from notebook>=4.4.1->widgetsnbextension~=3.6.0->ipywidgets) (0.14.1)\n",
      "Requirement already satisfied: Send2Trash>=1.8.0 in /Users/REhlers/software/dev/mammoth/.venv/lib/python3.10/site-packages (from notebook>=4.4.1->widgetsnbextension~=3.6.0->ipywidgets) (1.8.0)\n",
      "Requirement already satisfied: jinja2 in /Users/REhlers/software/dev/mammoth/.venv/lib/python3.10/site-packages (from notebook>=4.4.1->widgetsnbextension~=3.6.0->ipywidgets) (3.1.2)\n",
      "Requirement already satisfied: nbformat in /Users/REhlers/software/dev/mammoth/.venv/lib/python3.10/site-packages (from notebook>=4.4.1->widgetsnbextension~=3.6.0->ipywidgets) (5.4.0)\n",
      "Requirement already satisfied: terminado>=0.8.3 in /Users/REhlers/software/dev/mammoth/.venv/lib/python3.10/site-packages (from notebook>=4.4.1->widgetsnbextension~=3.6.0->ipywidgets) (0.15.0)\n",
      "Requirement already satisfied: ptyprocess>=0.5 in /Users/REhlers/software/dev/mammoth/.venv/lib/python3.10/site-packages (from pexpect>4.3->ipython>=4.0.0->ipywidgets) (0.7.0)\n",
      "Requirement already satisfied: wcwidth in /Users/REhlers/software/dev/mammoth/.venv/lib/python3.10/site-packages (from prompt-toolkit!=3.0.0,!=3.0.1,<3.1.0,>=2.0.0->ipython>=4.0.0->ipywidgets) (0.2.5)\n",
      "Requirement already satisfied: pyparsing!=3.0.5,>=2.0.2 in /Users/REhlers/software/dev/mammoth/.venv/lib/python3.10/site-packages (from packaging->ipykernel>=4.5.1->ipywidgets) (3.0.9)\n",
      "Requirement already satisfied: executing in /Users/REhlers/software/dev/mammoth/.venv/lib/python3.10/site-packages (from stack-data->ipython>=4.0.0->ipywidgets) (0.8.3)\n",
      "Requirement already satisfied: asttokens in /Users/REhlers/software/dev/mammoth/.venv/lib/python3.10/site-packages (from stack-data->ipython>=4.0.0->ipywidgets) (2.0.5)\n",
      "Requirement already satisfied: pure-eval in /Users/REhlers/software/dev/mammoth/.venv/lib/python3.10/site-packages (from stack-data->ipython>=4.0.0->ipywidgets) (0.2.2)\n",
      "Requirement already satisfied: nbclient>=0.5.0 in /Users/REhlers/software/dev/mammoth/.venv/lib/python3.10/site-packages (from nbconvert>=5->notebook>=4.4.1->widgetsnbextension~=3.6.0->ipywidgets) (0.6.6)\n",
      "Requirement already satisfied: tinycss2 in /Users/REhlers/software/dev/mammoth/.venv/lib/python3.10/site-packages (from nbconvert>=5->notebook>=4.4.1->widgetsnbextension~=3.6.0->ipywidgets) (1.1.1)\n",
      "Requirement already satisfied: defusedxml in /Users/REhlers/software/dev/mammoth/.venv/lib/python3.10/site-packages (from nbconvert>=5->notebook>=4.4.1->widgetsnbextension~=3.6.0->ipywidgets) (0.7.1)\n",
      "Requirement already satisfied: bleach in /Users/REhlers/software/dev/mammoth/.venv/lib/python3.10/site-packages (from nbconvert>=5->notebook>=4.4.1->widgetsnbextension~=3.6.0->ipywidgets) (5.0.1)\n",
      "Requirement already satisfied: beautifulsoup4 in /Users/REhlers/software/dev/mammoth/.venv/lib/python3.10/site-packages (from nbconvert>=5->notebook>=4.4.1->widgetsnbextension~=3.6.0->ipywidgets) (4.11.1)\n",
      "Requirement already satisfied: mistune<2,>=0.8.1 in /Users/REhlers/software/dev/mammoth/.venv/lib/python3.10/site-packages (from nbconvert>=5->notebook>=4.4.1->widgetsnbextension~=3.6.0->ipywidgets) (0.8.4)\n",
      "Requirement already satisfied: pandocfilters>=1.4.1 in /Users/REhlers/software/dev/mammoth/.venv/lib/python3.10/site-packages (from nbconvert>=5->notebook>=4.4.1->widgetsnbextension~=3.6.0->ipywidgets) (1.5.0)\n",
      "Requirement already satisfied: MarkupSafe>=2.0 in /Users/REhlers/software/dev/mammoth/.venv/lib/python3.10/site-packages (from nbconvert>=5->notebook>=4.4.1->widgetsnbextension~=3.6.0->ipywidgets) (2.1.1)\n",
      "Requirement already satisfied: jupyterlab-pygments in /Users/REhlers/software/dev/mammoth/.venv/lib/python3.10/site-packages (from nbconvert>=5->notebook>=4.4.1->widgetsnbextension~=3.6.0->ipywidgets) (0.2.2)\n",
      "Requirement already satisfied: fastjsonschema in /Users/REhlers/software/dev/mammoth/.venv/lib/python3.10/site-packages (from nbformat->notebook>=4.4.1->widgetsnbextension~=3.6.0->ipywidgets) (2.16.1)\n",
      "Requirement already satisfied: jsonschema>=2.6 in /Users/REhlers/software/dev/mammoth/.venv/lib/python3.10/site-packages (from nbformat->notebook>=4.4.1->widgetsnbextension~=3.6.0->ipywidgets) (4.9.1)\n",
      "Requirement already satisfied: six>=1.5 in /Users/REhlers/software/dev/mammoth/.venv/lib/python3.10/site-packages (from python-dateutil>=2.8.2->jupyter-client>=6.1.12->ipykernel>=4.5.1->ipywidgets) (1.16.0)\n",
      "Requirement already satisfied: argon2-cffi-bindings in /Users/REhlers/software/dev/mammoth/.venv/lib/python3.10/site-packages (from argon2-cffi->notebook>=4.4.1->widgetsnbextension~=3.6.0->ipywidgets) (21.2.0)\n",
      "Requirement already satisfied: pyrsistent!=0.17.0,!=0.17.1,!=0.17.2,>=0.14.0 in /Users/REhlers/software/dev/mammoth/.venv/lib/python3.10/site-packages (from jsonschema>=2.6->nbformat->notebook>=4.4.1->widgetsnbextension~=3.6.0->ipywidgets) (0.18.1)\n",
      "Requirement already satisfied: attrs>=17.4.0 in /Users/REhlers/software/dev/mammoth/.venv/lib/python3.10/site-packages (from jsonschema>=2.6->nbformat->notebook>=4.4.1->widgetsnbextension~=3.6.0->ipywidgets) (21.4.0)\n",
      "Requirement already satisfied: cffi>=1.0.1 in /Users/REhlers/software/dev/mammoth/.venv/lib/python3.10/site-packages (from argon2-cffi-bindings->argon2-cffi->notebook>=4.4.1->widgetsnbextension~=3.6.0->ipywidgets) (1.15.1)\n",
      "Requirement already satisfied: soupsieve>1.2 in /Users/REhlers/software/dev/mammoth/.venv/lib/python3.10/site-packages (from beautifulsoup4->nbconvert>=5->notebook>=4.4.1->widgetsnbextension~=3.6.0->ipywidgets) (2.3.2.post1)\n",
      "Requirement already satisfied: webencodings in /Users/REhlers/software/dev/mammoth/.venv/lib/python3.10/site-packages (from bleach->nbconvert>=5->notebook>=4.4.1->widgetsnbextension~=3.6.0->ipywidgets) (0.5.1)\n",
      "Requirement already satisfied: pycparser in /Users/REhlers/software/dev/mammoth/.venv/lib/python3.10/site-packages (from cffi>=1.0.1->argon2-cffi-bindings->argon2-cffi->notebook>=4.4.1->widgetsnbextension~=3.6.0->ipywidgets) (2.21)\n",
      "\u001b[33mWARNING: Error parsing requirements for mammoth: Invalid URL: external/pachyderm\u001b[0m\u001b[33m\n",
      "\u001b[0m"
     ]
    }
   ],
   "source": [
    "!pip install ipywidgets"
   ]
  },
  {
   "cell_type": "code",
   "execution_count": 8,
   "metadata": {},
   "outputs": [
    {
     "name": "stdout",
     "output_type": "stream",
     "text": [
      "Collecting ipympl\n",
      "  Downloading ipympl-0.9.1-py2.py3-none-any.whl (508 kB)\n",
      "\u001b[2K     \u001b[90m━━━━━━━━━━━━━━━━━━━━━━━━━━━━━━━━━━━━━━━\u001b[0m \u001b[32m508.1/508.1 kB\u001b[0m \u001b[31m4.1 MB/s\u001b[0m eta \u001b[36m0:00:00\u001b[0m00:01\u001b[0m00:01\u001b[0m\n",
      "\u001b[?25hRequirement already satisfied: matplotlib<4,>=3.4.0 in /Users/REhlers/software/dev/mammoth/.venv/lib/python3.10/site-packages (from ipympl) (3.5.2)\n",
      "Requirement already satisfied: traitlets<6 in /Users/REhlers/software/dev/mammoth/.venv/lib/python3.10/site-packages (from ipympl) (5.3.0)\n",
      "Requirement already satisfied: ipython<9 in /Users/REhlers/software/dev/mammoth/.venv/lib/python3.10/site-packages (from ipympl) (8.4.0)\n",
      "Requirement already satisfied: ipython-genutils in /Users/REhlers/software/dev/mammoth/.venv/lib/python3.10/site-packages (from ipympl) (0.2.0)\n",
      "Requirement already satisfied: ipywidgets<8,>=7.6.0 in /Users/REhlers/software/dev/mammoth/.venv/lib/python3.10/site-packages (from ipympl) (7.7.1)\n",
      "Requirement already satisfied: numpy in /Users/REhlers/software/dev/mammoth/.venv/lib/python3.10/site-packages (from ipympl) (1.22.4)\n",
      "Requirement already satisfied: pillow in /Users/REhlers/software/dev/mammoth/.venv/lib/python3.10/site-packages (from ipympl) (9.2.0)\n",
      "Requirement already satisfied: appnope in /Users/REhlers/software/dev/mammoth/.venv/lib/python3.10/site-packages (from ipython<9->ipympl) (0.1.3)\n",
      "Requirement already satisfied: backcall in /Users/REhlers/software/dev/mammoth/.venv/lib/python3.10/site-packages (from ipython<9->ipympl) (0.2.0)\n",
      "Requirement already satisfied: matplotlib-inline in /Users/REhlers/software/dev/mammoth/.venv/lib/python3.10/site-packages (from ipython<9->ipympl) (0.1.3)\n",
      "Requirement already satisfied: decorator in /Users/REhlers/software/dev/mammoth/.venv/lib/python3.10/site-packages (from ipython<9->ipympl) (5.1.1)\n",
      "Requirement already satisfied: prompt-toolkit!=3.0.0,!=3.0.1,<3.1.0,>=2.0.0 in /Users/REhlers/software/dev/mammoth/.venv/lib/python3.10/site-packages (from ipython<9->ipympl) (3.0.30)\n",
      "Requirement already satisfied: stack-data in /Users/REhlers/software/dev/mammoth/.venv/lib/python3.10/site-packages (from ipython<9->ipympl) (0.3.0)\n",
      "Requirement already satisfied: pexpect>4.3 in /Users/REhlers/software/dev/mammoth/.venv/lib/python3.10/site-packages (from ipython<9->ipympl) (4.8.0)\n",
      "Requirement already satisfied: pygments>=2.4.0 in /Users/REhlers/software/dev/mammoth/.venv/lib/python3.10/site-packages (from ipython<9->ipympl) (2.12.0)\n",
      "Requirement already satisfied: pickleshare in /Users/REhlers/software/dev/mammoth/.venv/lib/python3.10/site-packages (from ipython<9->ipympl) (0.7.5)\n",
      "Requirement already satisfied: jedi>=0.16 in /Users/REhlers/software/dev/mammoth/.venv/lib/python3.10/site-packages (from ipython<9->ipympl) (0.18.1)\n",
      "Requirement already satisfied: setuptools>=18.5 in /Users/REhlers/software/dev/mammoth/.venv/lib/python3.10/site-packages (from ipython<9->ipympl) (62.1.0)\n",
      "Requirement already satisfied: ipykernel>=4.5.1 in /Users/REhlers/software/dev/mammoth/.venv/lib/python3.10/site-packages (from ipywidgets<8,>=7.6.0->ipympl) (6.15.1)\n",
      "Requirement already satisfied: jupyterlab-widgets>=1.0.0 in /Users/REhlers/software/dev/mammoth/.venv/lib/python3.10/site-packages (from ipywidgets<8,>=7.6.0->ipympl) (1.1.1)\n",
      "Requirement already satisfied: widgetsnbextension~=3.6.0 in /Users/REhlers/software/dev/mammoth/.venv/lib/python3.10/site-packages (from ipywidgets<8,>=7.6.0->ipympl) (3.6.1)\n",
      "Requirement already satisfied: pyparsing>=2.2.1 in /Users/REhlers/software/dev/mammoth/.venv/lib/python3.10/site-packages (from matplotlib<4,>=3.4.0->ipympl) (3.0.9)\n",
      "Requirement already satisfied: cycler>=0.10 in /Users/REhlers/software/dev/mammoth/.venv/lib/python3.10/site-packages (from matplotlib<4,>=3.4.0->ipympl) (0.11.0)\n",
      "Requirement already satisfied: python-dateutil>=2.7 in /Users/REhlers/software/dev/mammoth/.venv/lib/python3.10/site-packages (from matplotlib<4,>=3.4.0->ipympl) (2.8.2)\n",
      "Requirement already satisfied: fonttools>=4.22.0 in /Users/REhlers/software/dev/mammoth/.venv/lib/python3.10/site-packages (from matplotlib<4,>=3.4.0->ipympl) (4.34.4)\n",
      "Requirement already satisfied: packaging>=20.0 in /Users/REhlers/software/dev/mammoth/.venv/lib/python3.10/site-packages (from matplotlib<4,>=3.4.0->ipympl) (21.3)\n",
      "Requirement already satisfied: kiwisolver>=1.0.1 in /Users/REhlers/software/dev/mammoth/.venv/lib/python3.10/site-packages (from matplotlib<4,>=3.4.0->ipympl) (1.4.4)\n",
      "Requirement already satisfied: jupyter-client>=6.1.12 in /Users/REhlers/software/dev/mammoth/.venv/lib/python3.10/site-packages (from ipykernel>=4.5.1->ipywidgets<8,>=7.6.0->ipympl) (7.3.4)\n",
      "Requirement already satisfied: psutil in /Users/REhlers/software/dev/mammoth/.venv/lib/python3.10/site-packages (from ipykernel>=4.5.1->ipywidgets<8,>=7.6.0->ipympl) (5.9.1)\n",
      "Requirement already satisfied: tornado>=6.1 in /Users/REhlers/software/dev/mammoth/.venv/lib/python3.10/site-packages (from ipykernel>=4.5.1->ipywidgets<8,>=7.6.0->ipympl) (6.2)\n",
      "Requirement already satisfied: nest-asyncio in /Users/REhlers/software/dev/mammoth/.venv/lib/python3.10/site-packages (from ipykernel>=4.5.1->ipywidgets<8,>=7.6.0->ipympl) (1.5.5)\n",
      "Requirement already satisfied: pyzmq>=17 in /Users/REhlers/software/dev/mammoth/.venv/lib/python3.10/site-packages (from ipykernel>=4.5.1->ipywidgets<8,>=7.6.0->ipympl) (23.2.0)\n",
      "Requirement already satisfied: debugpy>=1.0 in /Users/REhlers/software/dev/mammoth/.venv/lib/python3.10/site-packages (from ipykernel>=4.5.1->ipywidgets<8,>=7.6.0->ipympl) (1.6.2)\n",
      "Requirement already satisfied: parso<0.9.0,>=0.8.0 in /Users/REhlers/software/dev/mammoth/.venv/lib/python3.10/site-packages (from jedi>=0.16->ipython<9->ipympl) (0.8.3)\n",
      "Requirement already satisfied: ptyprocess>=0.5 in /Users/REhlers/software/dev/mammoth/.venv/lib/python3.10/site-packages (from pexpect>4.3->ipython<9->ipympl) (0.7.0)\n",
      "Requirement already satisfied: wcwidth in /Users/REhlers/software/dev/mammoth/.venv/lib/python3.10/site-packages (from prompt-toolkit!=3.0.0,!=3.0.1,<3.1.0,>=2.0.0->ipython<9->ipympl) (0.2.5)\n",
      "Requirement already satisfied: six>=1.5 in /Users/REhlers/software/dev/mammoth/.venv/lib/python3.10/site-packages (from python-dateutil>=2.7->matplotlib<4,>=3.4.0->ipympl) (1.16.0)\n",
      "Requirement already satisfied: notebook>=4.4.1 in /Users/REhlers/software/dev/mammoth/.venv/lib/python3.10/site-packages (from widgetsnbextension~=3.6.0->ipywidgets<8,>=7.6.0->ipympl) (6.4.12)\n",
      "Requirement already satisfied: asttokens in /Users/REhlers/software/dev/mammoth/.venv/lib/python3.10/site-packages (from stack-data->ipython<9->ipympl) (2.0.5)\n",
      "Requirement already satisfied: pure-eval in /Users/REhlers/software/dev/mammoth/.venv/lib/python3.10/site-packages (from stack-data->ipython<9->ipympl) (0.2.2)\n",
      "Requirement already satisfied: executing in /Users/REhlers/software/dev/mammoth/.venv/lib/python3.10/site-packages (from stack-data->ipython<9->ipympl) (0.8.3)\n",
      "Requirement already satisfied: jupyter-core>=4.9.2 in /Users/REhlers/software/dev/mammoth/.venv/lib/python3.10/site-packages (from jupyter-client>=6.1.12->ipykernel>=4.5.1->ipywidgets<8,>=7.6.0->ipympl) (4.11.1)\n",
      "Requirement already satisfied: entrypoints in /Users/REhlers/software/dev/mammoth/.venv/lib/python3.10/site-packages (from jupyter-client>=6.1.12->ipykernel>=4.5.1->ipywidgets<8,>=7.6.0->ipympl) (0.4)\n",
      "Requirement already satisfied: jinja2 in /Users/REhlers/software/dev/mammoth/.venv/lib/python3.10/site-packages (from notebook>=4.4.1->widgetsnbextension~=3.6.0->ipywidgets<8,>=7.6.0->ipympl) (3.1.2)\n",
      "Requirement already satisfied: nbconvert>=5 in /Users/REhlers/software/dev/mammoth/.venv/lib/python3.10/site-packages (from notebook>=4.4.1->widgetsnbextension~=3.6.0->ipywidgets<8,>=7.6.0->ipympl) (6.5.0)\n",
      "Requirement already satisfied: argon2-cffi in /Users/REhlers/software/dev/mammoth/.venv/lib/python3.10/site-packages (from notebook>=4.4.1->widgetsnbextension~=3.6.0->ipywidgets<8,>=7.6.0->ipympl) (21.3.0)\n",
      "Requirement already satisfied: Send2Trash>=1.8.0 in /Users/REhlers/software/dev/mammoth/.venv/lib/python3.10/site-packages (from notebook>=4.4.1->widgetsnbextension~=3.6.0->ipywidgets<8,>=7.6.0->ipympl) (1.8.0)\n",
      "Requirement already satisfied: terminado>=0.8.3 in /Users/REhlers/software/dev/mammoth/.venv/lib/python3.10/site-packages (from notebook>=4.4.1->widgetsnbextension~=3.6.0->ipywidgets<8,>=7.6.0->ipympl) (0.15.0)\n",
      "Requirement already satisfied: prometheus-client in /Users/REhlers/software/dev/mammoth/.venv/lib/python3.10/site-packages (from notebook>=4.4.1->widgetsnbextension~=3.6.0->ipywidgets<8,>=7.6.0->ipympl) (0.14.1)\n",
      "Requirement already satisfied: nbformat in /Users/REhlers/software/dev/mammoth/.venv/lib/python3.10/site-packages (from notebook>=4.4.1->widgetsnbextension~=3.6.0->ipywidgets<8,>=7.6.0->ipympl) (5.4.0)\n",
      "Requirement already satisfied: pandocfilters>=1.4.1 in /Users/REhlers/software/dev/mammoth/.venv/lib/python3.10/site-packages (from nbconvert>=5->notebook>=4.4.1->widgetsnbextension~=3.6.0->ipywidgets<8,>=7.6.0->ipympl) (1.5.0)\n",
      "Requirement already satisfied: mistune<2,>=0.8.1 in /Users/REhlers/software/dev/mammoth/.venv/lib/python3.10/site-packages (from nbconvert>=5->notebook>=4.4.1->widgetsnbextension~=3.6.0->ipywidgets<8,>=7.6.0->ipympl) (0.8.4)\n",
      "Requirement already satisfied: beautifulsoup4 in /Users/REhlers/software/dev/mammoth/.venv/lib/python3.10/site-packages (from nbconvert>=5->notebook>=4.4.1->widgetsnbextension~=3.6.0->ipywidgets<8,>=7.6.0->ipympl) (4.11.1)\n",
      "Requirement already satisfied: bleach in /Users/REhlers/software/dev/mammoth/.venv/lib/python3.10/site-packages (from nbconvert>=5->notebook>=4.4.1->widgetsnbextension~=3.6.0->ipywidgets<8,>=7.6.0->ipympl) (5.0.1)\n",
      "Requirement already satisfied: tinycss2 in /Users/REhlers/software/dev/mammoth/.venv/lib/python3.10/site-packages (from nbconvert>=5->notebook>=4.4.1->widgetsnbextension~=3.6.0->ipywidgets<8,>=7.6.0->ipympl) (1.1.1)\n",
      "Requirement already satisfied: nbclient>=0.5.0 in /Users/REhlers/software/dev/mammoth/.venv/lib/python3.10/site-packages (from nbconvert>=5->notebook>=4.4.1->widgetsnbextension~=3.6.0->ipywidgets<8,>=7.6.0->ipympl) (0.6.6)\n",
      "Requirement already satisfied: MarkupSafe>=2.0 in /Users/REhlers/software/dev/mammoth/.venv/lib/python3.10/site-packages (from nbconvert>=5->notebook>=4.4.1->widgetsnbextension~=3.6.0->ipywidgets<8,>=7.6.0->ipympl) (2.1.1)\n",
      "Requirement already satisfied: defusedxml in /Users/REhlers/software/dev/mammoth/.venv/lib/python3.10/site-packages (from nbconvert>=5->notebook>=4.4.1->widgetsnbextension~=3.6.0->ipywidgets<8,>=7.6.0->ipympl) (0.7.1)\n",
      "Requirement already satisfied: jupyterlab-pygments in /Users/REhlers/software/dev/mammoth/.venv/lib/python3.10/site-packages (from nbconvert>=5->notebook>=4.4.1->widgetsnbextension~=3.6.0->ipywidgets<8,>=7.6.0->ipympl) (0.2.2)\n",
      "Requirement already satisfied: jsonschema>=2.6 in /Users/REhlers/software/dev/mammoth/.venv/lib/python3.10/site-packages (from nbformat->notebook>=4.4.1->widgetsnbextension~=3.6.0->ipywidgets<8,>=7.6.0->ipympl) (4.9.1)\n",
      "Requirement already satisfied: fastjsonschema in /Users/REhlers/software/dev/mammoth/.venv/lib/python3.10/site-packages (from nbformat->notebook>=4.4.1->widgetsnbextension~=3.6.0->ipywidgets<8,>=7.6.0->ipympl) (2.16.1)\n",
      "Requirement already satisfied: argon2-cffi-bindings in /Users/REhlers/software/dev/mammoth/.venv/lib/python3.10/site-packages (from argon2-cffi->notebook>=4.4.1->widgetsnbextension~=3.6.0->ipywidgets<8,>=7.6.0->ipympl) (21.2.0)\n",
      "Requirement already satisfied: attrs>=17.4.0 in /Users/REhlers/software/dev/mammoth/.venv/lib/python3.10/site-packages (from jsonschema>=2.6->nbformat->notebook>=4.4.1->widgetsnbextension~=3.6.0->ipywidgets<8,>=7.6.0->ipympl) (21.4.0)\n",
      "Requirement already satisfied: pyrsistent!=0.17.0,!=0.17.1,!=0.17.2,>=0.14.0 in /Users/REhlers/software/dev/mammoth/.venv/lib/python3.10/site-packages (from jsonschema>=2.6->nbformat->notebook>=4.4.1->widgetsnbextension~=3.6.0->ipywidgets<8,>=7.6.0->ipympl) (0.18.1)\n",
      "Requirement already satisfied: cffi>=1.0.1 in /Users/REhlers/software/dev/mammoth/.venv/lib/python3.10/site-packages (from argon2-cffi-bindings->argon2-cffi->notebook>=4.4.1->widgetsnbextension~=3.6.0->ipywidgets<8,>=7.6.0->ipympl) (1.15.1)\n",
      "Requirement already satisfied: soupsieve>1.2 in /Users/REhlers/software/dev/mammoth/.venv/lib/python3.10/site-packages (from beautifulsoup4->nbconvert>=5->notebook>=4.4.1->widgetsnbextension~=3.6.0->ipywidgets<8,>=7.6.0->ipympl) (2.3.2.post1)\n",
      "Requirement already satisfied: webencodings in /Users/REhlers/software/dev/mammoth/.venv/lib/python3.10/site-packages (from bleach->nbconvert>=5->notebook>=4.4.1->widgetsnbextension~=3.6.0->ipywidgets<8,>=7.6.0->ipympl) (0.5.1)\n",
      "Requirement already satisfied: pycparser in /Users/REhlers/software/dev/mammoth/.venv/lib/python3.10/site-packages (from cffi>=1.0.1->argon2-cffi-bindings->argon2-cffi->notebook>=4.4.1->widgetsnbextension~=3.6.0->ipywidgets<8,>=7.6.0->ipympl) (2.21)\n",
      "\u001b[33mWARNING: Error parsing requirements for mammoth: Invalid URL: external/pachyderm\u001b[0m\u001b[33m\n",
      "\u001b[0mInstalling collected packages: ipympl\n",
      "Successfully installed ipympl-0.9.1\n",
      "Note: you may need to restart the kernel to use updated packages.\n"
     ]
    }
   ],
   "source": [
    "%pip install ipympl"
   ]
  },
  {
   "cell_type": "code",
   "execution_count": 7,
   "metadata": {},
   "outputs": [],
   "source": [
    "_x = np.arange(DataXMin, DataXMax, DataXBin) + (DataXBin / 2)"
   ]
  },
  {
   "cell_type": "code",
   "execution_count": 9,
   "metadata": {},
   "outputs": [
    {
     "name": "stdout",
     "output_type": "stream",
     "text": [
      "Running xj prediction with 0.1, 0.3, 1, 0.3\n"
     ]
    },
    {
     "data": {
      "image/png": "[encoded data removed]",
      "text/plain": [
       "<Figure size 432x288 with 1 Axes>"
      ]
     },
     "metadata": {
      "needs_background": "light"
     },
     "output_type": "display_data"
    },
    {
     "data": {
      "application/vnd.jupyter.widget-view+json": {
       "model_id": "f7c5653ac1b54b46827b6eb7cd8b11aa",
       "version_major": 2,
       "version_minor": 0
      },
      "text/plain": [
       "interactive(children=(FloatSlider(value=1.0, description='A', max=1.0), FloatSlider(value=0.0, description='B'…"
      ]
     },
     "metadata": {},
     "output_type": "display_data"
    },
    {
     "data": {
      "text/plain": [
       "<function __main__.update(A=1, B=0, C=0)>"
      ]
     },
     "execution_count": 9,
     "metadata": {},
     "output_type": "execute_result"
    }
   ],
   "source": [
    "from ipywidgets import *\n",
    "import numpy as np\n",
    "import matplotlib.pyplot as plt\n",
    "\n",
    "fig = plt.figure()\n",
    "ax = fig.add_subplot(1, 1, 1)\n",
    "line, = ax.plot(_x, predict_xj(A=0.1, B=0.3, C=1, D=0.3))\n",
    "\n",
    "def update(A = 1, B = 0, C = 0):\n",
    "    line.set_ydata(f(x,A,B,C))\n",
    "    fig.canvas.draw_idle()\n",
    "    \n",
    "interact(update, A = (0,1,0.1), B = (0,1,0.1), C = (1,1,0.1), D = (1,1,0.1))"
   ]
  },
  {
   "cell_type": "code",
   "execution_count": 74,
   "metadata": {},
   "outputs": [],
   "source": [
    "from typing import Union\n",
    "import numpy.typing as npt\n",
    "_x = np.linspace(0, 2, 20)\n",
    "\n",
    "def gaussian(\n",
    "    x: Union[npt.NDArray[np.float64], float], mean: float, sigma: float\n",
    ") -> Union[npt.NDArray[np.float64], float]:\n",
    "     r\"\"\"Normalized gaussian.\n",
    "\n",
    "     .. math::\n",
    "\n",
    "         f = 1 / \\sqrt{2 * \\pi * \\sigma^{2}} * \\exp{-\\frac{(x - \\mu)^{2}}{(2 * \\sigma^{2}}}\n",
    "\n",
    "     Args:\n",
    "         x: Value(s) where the gaussian should be evaluated.\n",
    "         mean: Mean of the gaussian distribution.\n",
    "         sigma: Width of the gaussian distribution.\n",
    "     Returns:\n",
    "         Calculated gaussian value(s).\n",
    "     \"\"\"\n",
    "     return 1.0 / np.sqrt(2 * np.pi * np.square(sigma)) * np.exp(-1.0 / 2.0 * np.square((x - mean) / sigma))  # type: ignore\n",
    "\n",
    "def extended_gaussian(\n",
    "    x: Union[npt.NDArray[np.float64], float], mean: float, sigma: float, amplitude: float\n",
    ") -> Union[npt.NDArray[np.float64], float]:\n",
    "    r\"\"\"Extended gaussian.\n",
    "\n",
    "    .. math::\n",
    "\n",
    "        f = A / \\sqrt{2 * \\pi * \\sigma^{2}} * \\exp{-\\frac{(x - \\mu)^{2}}{(2 * \\sigma^{2}}}\n",
    "\n",
    "    Args:\n",
    "        x: Value(s) where the gaussian should be evaluated.\n",
    "        mean: Mean of the gaussian distribution.\n",
    "        sigma: Width of the gaussian distribution.\n",
    "        amplitude: Amplitude of the gaussian.\n",
    "    Returns:\n",
    "        Calculated gaussian value(s).\n",
    "    \"\"\"\n",
    "    return amplitude / np.sqrt(2 * np.pi * np.square(sigma)) * np.exp(-1.0 / 2.0 * np.square((x - mean) / sigma))  # type: ignore\n",
    "\n",
    "def test_func(x: npt.NDArray[np.float64], a: float, b: float, c: float, d: float, e: float) -> float:\n",
    "    return e*(1-gaussian(x, a, b)) - gaussian(x, c, d)"
   ]
  },
  {
   "cell_type": "code",
   "execution_count": 83,
   "metadata": {},
   "outputs": [
    {
     "data": {
      "text/plain": [
       "[<matplotlib.lines.Line2D at 0x15095d8a0>]"
      ]
     },
     "execution_count": 83,
     "metadata": {},
     "output_type": "execute_result"
    },
    {
     "data": {
      "image/png": "[encoded data removed]",
      "text/plain": [
       "<Figure size 432x288 with 1 Axes>"
      ]
     },
     "metadata": {
      "needs_background": "light"
     },
     "output_type": "display_data"
    }
   ],
   "source": [
    "_x = np.arange(DataXMin, DataXMax, DataXBin) + (DataXBin / 2)\n",
    "fig, ax = plt.subplots()\n",
    "ax.plot(_x, extended_gaussian(_x, 1, 0.1, 1) + extended_gaussian(_x, 1, 0.8, 3), marker=\"o\", alpha=0.5)\n",
    "ax.plot(_x, extended_gaussian(_x, 1, 0.1, 1), marker=\"o\", alpha=0.5)\n",
    "ax.plot(_x, extended_gaussian(_x, 1, 0.8, 3), marker=\"o\", alpha=0.5)\n",
    "#ax.plot(_x, extended_gaussian(_x, 1, 1, 5), marker=\"o\", alpha=0.5)\n",
    "ax.plot(_x, 5*gaussian(_x, 1, 1), marker=\"s\", alpha=0.5)"
   ]
  },
  {
   "cell_type": "markdown",
   "metadata": {},
   "source": [
    "## Making the design points\n",
    "\n",
    "Let's start with a very simple random array :D\n",
    "\n",
    "In reality we would use something more complicated to distribute the points better, but let's start simple.  Fancy stuff is just a better way to achieve the same purpose."
   ]
  },
  {
   "cell_type": "code",
   "execution_count": 220,
   "metadata": {},
   "outputs": [],
   "source": [
    "#Design = np.random.rand(NDesign, 3) * ParameterRanges\n",
    "design = np.array([\n",
    "    np.random.uniform(low=p[0], high=p[1], size=NDesign)\n",
    "    for p in ParameterRanges\n",
    "])"
   ]
  },
  {
   "cell_type": "code",
   "execution_count": 172,
   "metadata": {},
   "outputs": [
    {
     "data": {
      "text/plain": [
       "[1.7063460179002328,\n",
       " 1.8909038486478205,\n",
       " 1.56162609909936,\n",
       " 0.14213003955352255,\n",
       " 1.3976145075915167,\n",
       " 0.9784346815570022,\n",
       " 0.3944714376165217,\n",
       " 0.10824090511650142,\n",
       " 1.1903923737313296,\n",
       " 0.011322396477433827,\n",
       " 1.7514403372420582,\n",
       " 0.6381390777715401,\n",
       " 1.492704876464019,\n",
       " 1.5076928686950735,\n",
       " 0.03894720979591604,\n",
       " 0.25750212254924665,\n",
       " 1.1771033669244433,\n",
       " 0.3348584657398983,\n",
       " 1.093094538997483,\n",
       " 0.4685611758187189,\n",
       " 0.782302494788387,\n",
       " 0.1574209174678638,\n",
       " 0.9762278316806077,\n",
       " 1.6080987147952308,\n",
       " 1.253381017530171,\n",
       " 0.5727519786058415,\n",
       " 0.12473764855418779,\n",
       " 1.9680074101812477,\n",
       " 0.21092151459199626,\n",
       " 1.9796130552561018,\n",
       " 0.056210424487326716,\n",
       " 0.8783656724785438,\n",
       " 1.3786801582060575,\n",
       " 0.41074055341215865,\n",
       " 0.4857090608179284,\n",
       " 1.9596969631659487,\n",
       " 1.8836906096772557,\n",
       " 1.4200635431463426,\n",
       " 0.5439262875897501,\n",
       " 0.9034515381702684]"
      ]
     },
     "execution_count": 172,
     "metadata": {},
     "output_type": "execute_result"
    }
   ],
   "source": [
    "design[0, :].tolist()"
   ]
  },
  {
   "cell_type": "code",
   "execution_count": 112,
   "metadata": {},
   "outputs": [
    {
     "data": {
      "text/plain": [
       "True"
      ]
     },
     "execution_count": 112,
     "metadata": {},
     "output_type": "execute_result"
    }
   ],
   "source": [
    "def f(x, y):\n",
    "    return x + y\n",
    "\n",
    "my_x = np.random.rand(10)\n",
    "my_y = np.random.rand(10)\n",
    "np.allclose(f(my_x, my_y), my_x + my_y)"
   ]
  },
  {
   "cell_type": "code",
   "execution_count": 189,
   "metadata": {},
   "outputs": [
    {
     "name": "stdout",
     "output_type": "stream",
     "text": [
      "Running xj_gamma smeared prediction with 0.8738962830511595, 0.22552394537576326, 1.3309290665636784, 0.16876124901680922\n",
      "Running xj_gamma smeared prediction with 0.23455061024535961, 0.7321936221638388, 1.9554885747352362, 0.5707665599111862\n",
      "Running xj_gamma smeared prediction with 0.38600208435586614, 0.35407247928133634, 0.9789516483111371, 0.5806717030769735\n",
      "Running xj_gamma smeared prediction with 0.6157171038353664, 0.7080809479119221, 0.17616464498289686, 0.45505605419301\n",
      "Running xj_gamma smeared prediction with 0.6459869471336911, 0.6622992489880575, 1.5940636362653149, 0.7863611129096495\n",
      "Running xj_gamma smeared prediction with 0.5693736776322035, 0.9303509396164098, 0.38685851494283496, 0.9113680409097555\n",
      "Running xj_gamma smeared prediction with 0.6628513850892666, 0.29593943240539244, -0.824471764747082, 0.4022407870518928\n",
      "Running xj_gamma smeared prediction with 0.12598401440212859, 0.8181927236098873, -0.22644604201197793, 0.7174009621200287\n",
      "Running xj_gamma smeared prediction with 0.4157129339160679, 0.4846844319335166, 1.9841827020448588, 0.5038050441441284\n",
      "Running xj_gamma smeared prediction with 0.36122510201736224, 0.7041755842961782, 1.1774435237657221, 0.2284159950643122\n",
      "Running xj_gamma smeared prediction with 0.1400774098510924, 0.8544489495210237, 0.7291868899733971, 0.44756746849851536\n",
      "Running xj_gamma smeared prediction with 0.09099829693800221, 0.981978154668656, -0.8737173573541056, 0.7719456671915738\n",
      "Running xj_gamma smeared prediction with 0.9397952070971215, 0.4262707330443307, 1.3957990115953192, 0.9816827043290881\n",
      "Running xj_gamma smeared prediction with 0.12535363311539083, 0.45604598062544044, 0.4406353613037921, 0.20497290998744822\n",
      "Running xj_gamma smeared prediction with 0.6580934804405271, 0.7747976026078085, 1.130742068423774, 0.1976710851893616\n",
      "Running xj_gamma smeared prediction with 0.5174822793600219, 0.35459286410965085, -0.336548507783223, 0.4016640738691316\n",
      "Running xj_gamma smeared prediction with 0.7128678801121564, 0.4508604207164578, -0.8554907525525135, 0.22926926642875345\n",
      "Running xj_gamma smeared prediction with 0.06982011001420751, 0.8343713079671208, -0.44513670099324, 0.4588638805898637\n",
      "Running xj_gamma smeared prediction with 0.9198317337557508, 0.44423298416446144, -0.5061853875108644, 0.9113253855303175\n",
      "Running xj_gamma smeared prediction with 0.14184261426514055, 0.0728290102326401, 1.3813136446178298, 0.3513779773698147\n",
      "Running xj_gamma smeared prediction with 0.46510359159615045, 0.7568606632226984, 1.7160803566985545, 0.14244135165614213\n",
      "Running xj_gamma smeared prediction with 0.5092223455923228, 0.8310219193194628, 1.6005270199172372, 0.8390525047890058\n",
      "Running xj_gamma smeared prediction with 0.23839745441014804, 0.0866630827508662, -0.6924146992356676, 0.7428181450541147\n",
      "Running xj_gamma smeared prediction with 0.8571031798997982, 0.9161716398720894, -0.7858830865023578, 0.08520136082392216\n",
      "Running xj_gamma smeared prediction with 0.6116968496560886, 0.7458057326240256, 0.6512426616093023, 0.2464286030490026\n",
      "Running xj_gamma smeared prediction with 0.47798830860259656, 0.6792941003766797, 1.313161257548288, 0.8318581722272137\n",
      "Running xj_gamma smeared prediction with 0.7557776988011933, 0.8419517429210851, 0.8250936157772935, 0.06547206032778108\n",
      "Running xj_gamma smeared prediction with 0.14369068730721402, 0.24594647458477026, 1.4701285930354584, 0.36355806667951984\n",
      "Running xj_gamma smeared prediction with 0.1441352650888108, 0.11448868676794788, -0.7819920105537768, 0.5447902906385291\n",
      "Running xj_gamma smeared prediction with 0.6506073485454048, 0.3730654673793894, 0.4921835616531296, 0.8369990832322075\n",
      "Running xj_gamma smeared prediction with 0.2452746069574543, 0.8210214401656071, -0.4230971019996702, 0.5590955952153043\n",
      "Running xj_gamma smeared prediction with 0.4009669075688236, 0.6502527767948274, 0.8943813904097286, 0.8291439739219371\n",
      "Running xj_gamma smeared prediction with 0.1092189582009514, 0.34385392094081835, 1.5725985030823257, 0.15921227351289646\n",
      "Running xj_gamma smeared prediction with 0.655810942344045, 0.7342965350712187, -0.3717263985977397, 0.21427841627378008\n",
      "Running xj_gamma smeared prediction with 0.7718358259630345, 0.05188793354553134, 0.10143649676947808, 0.9223850043839738\n",
      "Running xj_gamma smeared prediction with 0.5432913437779803, 0.3924986485125507, 1.4774857294677743, 0.7522581706548283\n",
      "Running xj_gamma smeared prediction with 0.41034202993989766, 0.4522767011997042, 1.6951747882925483, 0.4834044510531821\n",
      "Running xj_gamma smeared prediction with 0.2815842241201558, 0.36993988618394447, 1.6835262987061173, 0.5735322055465921\n",
      "Running xj_gamma smeared prediction with 0.2128037080345735, 0.1785379990293754, 1.4698627461420402, 0.6938822539345179\n",
      "Running xj_gamma smeared prediction with 0.45135673034698365, 0.12448647626540532, 1.7547870087467894, 0.4451048203519856\n"
     ]
    }
   ],
   "source": [
    "Y1 = np.array([\n",
    "    #np.vectorize(predict_xjgamma_smeared_fix)(A=design[0, :], B=design[1, :], C=design[2, :], D=design[3, :]) for d in design\n",
    "    predict_xjgamma_smeared_fix(A=d[0], B=d[1], C=d[2], D=d[3]) for d in design.T\n",
    "])"
   ]
  },
  {
   "cell_type": "code",
   "execution_count": 190,
   "metadata": {},
   "outputs": [
    {
     "data": {
      "text/plain": [
       "array([0.00000000e+00, 2.05535059e-05, 1.02767530e-05, 4.11070118e-05,\n",
       "       2.05535059e-04, 7.60479719e-04, 2.44586720e-03, 6.83404072e-03,\n",
       "       1.49218453e-02, 2.83021776e-02, 5.22161818e-02, 8.00147985e-02,\n",
       "       1.10444264e-01, 1.36423896e-01, 1.44378102e-01, 1.36465003e-01,\n",
       "       1.13054559e-01, 8.48859794e-02, 5.68098903e-02, 3.17654434e-02])"
      ]
     },
     "execution_count": 190,
     "metadata": {},
     "output_type": "execute_result"
    }
   ],
   "source": [
    "Y1[0]"
   ]
  },
  {
   "cell_type": "code",
   "execution_count": 175,
   "metadata": {},
   "outputs": [
    {
     "name": "stdout",
     "output_type": "stream",
     "text": [
      "Running xj_gamma smeared prediction with 0.9034515381702684, 0.8877518505794922, -0.3858483576689772, 0.5100765333070809\n"
     ]
    },
    {
     "data": {
      "text/plain": [
       "array([0.09536756, 0.09334186, 0.09038328, 0.08547897, 0.08041473,\n",
       "       0.07615011, 0.06786076, 0.0598646 , 0.05517352, 0.05066901,\n",
       "       0.04528493, 0.03856815, 0.03313076, 0.03147822, 0.02369529,\n",
       "       0.02071006, 0.01716509, 0.01404659, 0.01252732, 0.00868916])"
      ]
     },
     "execution_count": 175,
     "metadata": {},
     "output_type": "execute_result"
    }
   ],
   "source": [
    "predict_xjgamma_smeared_fix(A=design[0, -1], B=design[1, -1], C=design[2, -1], D=design[3, -1])"
   ]
  },
  {
   "cell_type": "markdown",
   "metadata": {},
   "source": [
    "## Preparing the model predictions\n",
    "\n",
    "Let's loop over the design points, and call the predict function we just wrote to make a big table!\n",
    "\n",
    "This step takes a while, like a few minutes.  Please be patient."
   ]
  },
  {
   "cell_type": "code",
   "execution_count": 221,
   "metadata": {},
   "outputs": [
    {
     "name": "stdout",
     "output_type": "stream",
     "text": [
      "Running xj_gamma smeared prediction with 0.4410514929633199, 0.7451963690274627, -0.037110547909511515, 0.0927180982846949\n",
      "Running xj_gamma smeared prediction with 0.11585202897390601, 0.01121172301628992, 0.8361444302192895, 0.5829911397838645\n",
      "Running xj_gamma smeared prediction with 0.1654906907866608, 0.33171188406982866, -0.3562703824995648, 0.6172051428702715\n",
      "Running xj_gamma smeared prediction with 0.5136671736631058, 0.1446507750693311, 0.8040505857715559, 0.7022604004178868\n",
      "Running xj_gamma smeared prediction with 0.9509557203150758, 0.30268047769589657, 0.30475880337342276, 0.5387092459454704\n",
      "Running xj_gamma smeared prediction with 0.22160107695931652, 0.052302445958871124, -0.3314564599046623, 0.6315165815488678\n",
      "Running xj_gamma smeared prediction with 0.3861860018102351, 0.3057390550047142, 0.7989091815756741, 0.2690351768538435\n",
      "Running xj_gamma smeared prediction with 0.014814235774153084, 0.423852260340548, 0.5782970043378506, 0.19871114658120148\n",
      "Running xj_gamma smeared prediction with 0.858406925110372, 0.7800714918846399, -0.13877774360229211, 0.8288419000078894\n",
      "Running xj_gamma smeared prediction with 0.25092343024081576, 0.4427089058354381, -0.02777695188658913, 0.8774670373160458\n",
      "Running xj_gamma smeared prediction with 0.4757082600597323, 0.20565534965758836, 0.27586248388627443, 0.6736062949909706\n",
      "Running xj_gamma smeared prediction with 0.09124097158157862, 0.2819625646950038, 0.7306935618204087, 0.07682302028749755\n",
      "Running xj_gamma smeared prediction with 0.43158585157235063, 0.593760903036051, 0.7225127382492509, 0.07236346180207964\n",
      "Running xj_gamma smeared prediction with 0.187977067472765, 0.6011200942705195, 0.7657319997716603, 0.29950356752236884\n",
      "Running xj_gamma smeared prediction with 0.24836244123596118, 0.47354965625671275, 0.033763353972567245, 0.9654803816726538\n",
      "Running xj_gamma smeared prediction with 0.3606103326831628, 0.13987108982159147, -0.347579979175084, 0.2798731631316097\n",
      "Running xj_gamma smeared prediction with 0.5389656197716177, 0.8230040373659656, 1.1996720478953309, 0.09069544529687024\n",
      "Running xj_gamma smeared prediction with 0.33147457820855697, 0.07110494405352574, 0.9695447128336752, 0.5280441361724341\n",
      "Running xj_gamma smeared prediction with 0.08137103159929782, 0.3519631693358881, 0.9440896734679491, 0.4758758261466741\n",
      "Running xj_gamma smeared prediction with 0.374387053621033, 0.17417167579125437, 0.36039284833674046, 0.3331847537636279\n",
      "Running xj_gamma smeared prediction with 0.5443173207375614, 0.15929638800740065, 1.498914946195431, 0.25140125707358574\n",
      "Running xj_gamma smeared prediction with 0.03629728023867118, 0.8232958045460931, 0.9418694854256746, 0.2458803005425344\n",
      "Running xj_gamma smeared prediction with 0.39108980932095194, 0.21869337223817742, 0.4318881335085465, 0.807924718469635\n",
      "Running xj_gamma smeared prediction with 0.06945898475365164, 0.1302988175901434, 1.2265131108575418, 0.68609106437896\n",
      "Running xj_gamma smeared prediction with 0.793356896866438, 0.8678450995734264, 0.5922643176898843, 0.44187925136229644\n",
      "Running xj_gamma smeared prediction with 0.34696536627502894, 0.8535273958727334, 1.3067192715512992, 0.344321923382917\n",
      "Running xj_gamma smeared prediction with 0.8494879503530404, 0.2560638787217915, -0.07799828993307667, 0.08177128374832399\n",
      "Running xj_gamma smeared prediction with 0.37216966717171196, 0.9995912822011064, -0.0821869284560719, 0.30248093625735284\n",
      "Running xj_gamma smeared prediction with 0.8273974404661264, 0.018952813460085816, 1.383564991493289, 0.9576595803813155\n",
      "Running xj_gamma smeared prediction with 0.4952909074448224, 0.23971202616965526, 0.2093925670752288, 0.7935604422199639\n",
      "Running xj_gamma smeared prediction with 0.4166390770380064, 0.04500403181244994, 0.5686168568033243, 0.17565831376922725\n",
      "Running xj_gamma smeared prediction with 0.7233598909202112, 0.990547565581112, 0.8595905664566736, 0.09345338585009799\n",
      "Running xj_gamma smeared prediction with 0.16106229667735827, 0.7394866374849639, -0.3978525922855287, 0.13770843998736826\n",
      "Running xj_gamma smeared prediction with 0.7285053776638442, 0.24633607829208615, 1.0849801931293572, 0.6341337944129665\n",
      "Running xj_gamma smeared prediction with 0.5360127920012162, 0.08644874398503344, 0.01519512418243596, 0.5937599302784253\n",
      "Running xj_gamma smeared prediction with 0.40584675091220235, 0.8236468819648798, 1.3670713686938238, 0.9092891080186453\n",
      "Running xj_gamma smeared prediction with 0.9999875164459774, 0.652958107275941, 0.36329749360761965, 0.24932305757917572\n",
      "Running xj_gamma smeared prediction with 0.29472858683334513, 0.3825810446585526, -0.13057882672952092, 0.4282323957189019\n",
      "Running xj_gamma smeared prediction with 0.4808670357872573, 0.8115149385476556, -0.2368731832384443, 0.49319926488407606\n",
      "Running xj_gamma smeared prediction with 0.5209257443576939, 0.7180803539392167, -0.3725588220455116, 0.6394347214005887\n",
      "Running xj_gamma smeared prediction with 1, 0, -0.037110547909511515, 0.0927180982846949\n",
      "Running xj_gamma smeared prediction with 1, 0, 0.8361444302192895, 0.5829911397838645\n",
      "Running xj_gamma smeared prediction with 1, 0, -0.3562703824995648, 0.6172051428702715\n",
      "Running xj_gamma smeared prediction with 1, 0, 0.8040505857715559, 0.7022604004178868\n",
      "Running xj_gamma smeared prediction with 1, 0, 0.30475880337342276, 0.5387092459454704\n",
      "Running xj_gamma smeared prediction with 1, 0, -0.3314564599046623, 0.6315165815488678\n",
      "Running xj_gamma smeared prediction with 1, 0, 0.7989091815756741, 0.2690351768538435\n",
      "Running xj_gamma smeared prediction with 1, 0, 0.5782970043378506, 0.19871114658120148\n",
      "Running xj_gamma smeared prediction with 1, 0, -0.13877774360229211, 0.8288419000078894\n",
      "Running xj_gamma smeared prediction with 1, 0, -0.02777695188658913, 0.8774670373160458\n",
      "Running xj_gamma smeared prediction with 1, 0, 0.27586248388627443, 0.6736062949909706\n",
      "Running xj_gamma smeared prediction with 1, 0, 0.7306935618204087, 0.07682302028749755\n",
      "Running xj_gamma smeared prediction with 1, 0, 0.7225127382492509, 0.07236346180207964\n",
      "Running xj_gamma smeared prediction with 1, 0, 0.7657319997716603, 0.29950356752236884\n",
      "Running xj_gamma smeared prediction with 1, 0, 0.033763353972567245, 0.9654803816726538\n",
      "Running xj_gamma smeared prediction with 1, 0, -0.347579979175084, 0.2798731631316097\n",
      "Running xj_gamma smeared prediction with 1, 0, 1.1996720478953309, 0.09069544529687024\n",
      "Running xj_gamma smeared prediction with 1, 0, 0.9695447128336752, 0.5280441361724341\n",
      "Running xj_gamma smeared prediction with 1, 0, 0.9440896734679491, 0.4758758261466741\n",
      "Running xj_gamma smeared prediction with 1, 0, 0.36039284833674046, 0.3331847537636279\n",
      "Running xj_gamma smeared prediction with 1, 0, 1.498914946195431, 0.25140125707358574\n",
      "Running xj_gamma smeared prediction with 1, 0, 0.9418694854256746, 0.2458803005425344\n",
      "Running xj_gamma smeared prediction with 1, 0, 0.4318881335085465, 0.807924718469635\n",
      "Running xj_gamma smeared prediction with 1, 0, 1.2265131108575418, 0.68609106437896\n",
      "Running xj_gamma smeared prediction with 1, 0, 0.5922643176898843, 0.44187925136229644\n",
      "Running xj_gamma smeared prediction with 1, 0, 1.3067192715512992, 0.344321923382917\n",
      "Running xj_gamma smeared prediction with 1, 0, -0.07799828993307667, 0.08177128374832399\n",
      "Running xj_gamma smeared prediction with 1, 0, -0.0821869284560719, 0.30248093625735284\n",
      "Running xj_gamma smeared prediction with 1, 0, 1.383564991493289, 0.9576595803813155\n",
      "Running xj_gamma smeared prediction with 1, 0, 0.2093925670752288, 0.7935604422199639\n",
      "Running xj_gamma smeared prediction with 1, 0, 0.5686168568033243, 0.17565831376922725\n",
      "Running xj_gamma smeared prediction with 1, 0, 0.8595905664566736, 0.09345338585009799\n",
      "Running xj_gamma smeared prediction with 1, 0, -0.3978525922855287, 0.13770843998736826\n",
      "Running xj_gamma smeared prediction with 1, 0, 1.0849801931293572, 0.6341337944129665\n",
      "Running xj_gamma smeared prediction with 1, 0, 0.01519512418243596, 0.5937599302784253\n",
      "Running xj_gamma smeared prediction with 1, 0, 1.3670713686938238, 0.9092891080186453\n",
      "Running xj_gamma smeared prediction with 1, 0, 0.36329749360761965, 0.24932305757917572\n",
      "Running xj_gamma smeared prediction with 1, 0, -0.13057882672952092, 0.4282323957189019\n",
      "Running xj_gamma smeared prediction with 1, 0, -0.2368731832384443, 0.49319926488407606\n",
      "Running xj_gamma smeared prediction with 1, 0, -0.3725588220455116, 0.6394347214005887\n"
     ]
    }
   ],
   "source": [
    "# Generate prediction for \"central\" data\n",
    "#Y1 = [predict_xjgamma_smeared(i[0], i[1], i[2]) for i in design]\n",
    "Y1 = np.array([\n",
    "    predict_xjgamma_smeared_fix(A=d[0], B=d[1], C=d[2], D=d[3]) for d in design.T\n",
    "])\n",
    "# Generate prediction for \"peripheral\" data.  Note here A and B are irrelevant.  So we set them to 0\n",
    "#Y2 = [predict_xjgamma_smeared(0, 0, i[2]) for i in design]\n",
    "Y2 = np.array([\n",
    "    # A = 1 so that the XJ cancels out to 0, and then it's just the second term that dominates\n",
    "    predict_xjgamma_smeared_fix(A=1, B=0, C=d[2], D=d[3]) for d in design.T\n",
    "])"
   ]
  },
  {
   "cell_type": "code",
   "execution_count": 217,
   "metadata": {},
   "outputs": [
    {
     "name": "stdout",
     "output_type": "stream",
     "text": [
      "Running xj_gamma smeared prediction with 1, 0, -0.7858830865023578, 0.08520136082392216\n"
     ]
    },
    {
     "name": "stderr",
     "output_type": "stream",
     "text": [
      "/var/folders/s4/zc_9tsr13mvbdxfpt284svpm0000gp/T/ipykernel_21164/407641116.py:51: RuntimeWarning: invalid value encountered in true_divide\n",
      "  return h / h.sum()\n"
     ]
    },
    {
     "data": {
      "text/plain": [
       "array([[nan, nan, nan, nan, nan, nan, nan, nan, nan, nan, nan, nan, nan,\n",
       "        nan, nan, nan, nan, nan, nan, nan]])"
      ]
     },
     "execution_count": 217,
     "metadata": {},
     "output_type": "execute_result"
    }
   ],
   "source": [
    "Y2 = np.array([\n",
    "    # A = 1 so that the XJ cancels out to 0, and then it's just the second term that dominates\n",
    "    predict_xjgamma_smeared_fix(A=1, B=0, C=d[2], D=d[3]) for d in design.T[23:24]\n",
    "])\n",
    "Y2"
   ]
  },
  {
   "cell_type": "markdown",
   "metadata": {},
   "source": [
    "## Write everything out"
   ]
  },
  {
   "cell_type": "code",
   "execution_count": 222,
   "metadata": {},
   "outputs": [],
   "source": [
    "with open(folder / 'Prediction_Selection1.dat', 'w') as f:\n",
    "    f.write('# Version 1.0\\n')\n",
    "    f.write('# Data Data_Selection1.dat\\n')\n",
    "    f.write('# Design Design.dat\\n')\n",
    "    np.savetxt(f, np.transpose(Y1))"
   ]
  },
  {
   "cell_type": "code",
   "execution_count": 223,
   "metadata": {},
   "outputs": [],
   "source": [
    "with open(folder / 'Prediction_Selection2.dat', 'w') as f:\n",
    "    f.write('# Version 1.0\\n')\n",
    "    f.write('# Data Data_Selection2.dat\\n')\n",
    "    f.write('# Design Design.dat\\n')\n",
    "    np.savetxt(f, np.transpose(Y2))"
   ]
  },
  {
   "cell_type": "code",
   "execution_count": 224,
   "metadata": {},
   "outputs": [],
   "source": [
    "with open(folder / 'Design.dat', 'w') as f:\n",
    "    f.write('# Version 1.0\\n')\n",
    "    f.write('# Parameter A B C\\n')\n",
    "    np.savetxt(f, design)"
   ]
  },
  {
   "cell_type": "markdown",
   "metadata": {},
   "source": [
    "## Making fake data"
   ]
  },
  {
   "cell_type": "code",
   "execution_count": 11,
   "metadata": {},
   "outputs": [
    {
     "name": "stdout",
     "output_type": "stream",
     "text": [
      "Running prediction with 0.5 0.25 0.1\n",
      "Running prediction with 0 0 0.1\n"
     ]
    }
   ],
   "source": [
    "Truth = [0.50, 0.25, 0.10]\n",
    "\n",
    "DataY1 = Predict(Truth[0], Truth[1], Truth[2], N = 100000)\n",
    "DataY2 = Predict(0, 0, Truth[2], N = 100000)"
   ]
  },
  {
   "cell_type": "code",
   "execution_count": 12,
   "metadata": {},
   "outputs": [],
   "source": [
    "XMin = np.array(range(0, DataNBin)) * DataXBin\n",
    "XMax = np.array(range(1, DataNBin + 1)) * DataXBin\n",
    "\n",
    "Stat = 0.001\n",
    "Sys = 0.010\n",
    "\n",
    "Data1 = np.zeros((DataNBin, 7))\n",
    "Data2 = np.zeros((DataNBin, 7))\n",
    "\n",
    "Data1[:,0] = XMin\n",
    "Data1[:,1] = XMax\n",
    "Data1[:,2] = DataY1\n",
    "Data1[:,3] = Stat\n",
    "Data1[:,4] = Stat\n",
    "Data1[:,5] = Sys\n",
    "Data1[:,6] = Sys\n",
    "\n",
    "Data2[:,0] = XMin\n",
    "Data2[:,1] = XMax\n",
    "Data2[:,2] = DataY2\n",
    "Data2[:,3] = Stat\n",
    "Data2[:,4] = Stat\n",
    "Data2[:,5] = Sys\n",
    "Data2[:,6] = Sys"
   ]
  },
  {
   "cell_type": "code",
   "execution_count": 13,
   "metadata": {},
   "outputs": [],
   "source": [
    "with open(Folder + 'Data_Selection1.dat', 'w') as f:\n",
    "    f.write('# Version 1.0\\n')\n",
    "    f.write('# DOI None\\n')\n",
    "    f.write('# Source None\\n')\n",
    "    f.write('# Experiment JetScape\\n')\n",
    "    f.write('# System PbPb5020\\n')\n",
    "    f.write('# Centrality 0to10\\n')\n",
    "    f.write('# XY AJ DNDAJ\\n')\n",
    "    f.write('# Label xmin xmax y stat,low stat,high sys,low sys,high\\n')\n",
    "    np.savetxt(f, Data1)\n",
    "    \n",
    "with open(Folder + 'Data_Selection2.dat', 'w') as f:\n",
    "    f.write('# Version 1.0\\n')\n",
    "    f.write('# DOI None\\n')\n",
    "    f.write('# Source None\\n')\n",
    "    f.write('# Experiment JetScape\\n')\n",
    "    f.write('# System PbPb5020\\n')\n",
    "    f.write('# Centrality 70to90\\n')\n",
    "    f.write('# XY AJ DNDAJ\\n')\n",
    "    f.write('# Label xmin xmax y stat,low stat,high sys,low sys,high\\n')\n",
    "    np.savetxt(f, Data2)"
   ]
  },
  {
   "cell_type": "code",
   "execution_count": null,
   "metadata": {},
   "outputs": [],
   "source": []
  },
  {
   "cell_type": "code",
   "execution_count": null,
   "metadata": {},
   "outputs": [],
   "source": []
  }
 ],
 "metadata": {
  "kernelspec": {
   "display_name": "Python 3.10.5 ('.venv': poetry)",
   "language": "python",
   "name": "python3"
  },
  "language_info": {
   "codemirror_mode": {
    "name": "ipython",
    "version": 3
   },
   "file_extension": ".py",
   "mimetype": "text/x-python",
   "name": "python",
   "nbconvert_exporter": "python",
   "pygments_lexer": "ipython3",
   "version": "3.10.5"
  },
  "vscode": {
   "interpreter": {
    "hash": "1d65bb7f5f25d512d5b31173bad01016a3b501790a1361b769a5765daf7b2eab"
   }
  }
 },
 "nbformat": 4,
 "nbformat_minor": 4
}
