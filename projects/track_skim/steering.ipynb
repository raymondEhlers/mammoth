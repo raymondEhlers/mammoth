{
 "cells": [
  {
   "cell_type": "code",
   "execution_count": 1,
   "metadata": {},
   "outputs": [],
   "source": [
    "%load_ext rich"
   ]
  },
  {
   "attachments": {},
   "cell_type": "markdown",
   "metadata": {},
   "source": [
    "### Cross check environment"
   ]
  },
  {
   "cell_type": "code",
   "execution_count": 2,
   "metadata": {},
   "outputs": [
    {
     "name": "stdout",
     "output_type": "stream",
     "text": [
      "None\n",
      "None\n",
      "None\n",
      "/Users/REhlers/software/dev/mammoth/.venv/bin:/Users/REhlers/.pyenv/shims:/opt/homebrew/Caskroom/mambaforge/base/condabin:/opt/homebrew/opt/node@16/bin:/Users/REhlers/Library/Python/3.10/bin:/Users/REhlers/install/bin:/opt/homebrew/bin:/opt/homebrew/sbin:/usr/local/bin:/usr/bin:/bin:/usr/sbin:/sbin:/Library/TeX/texbin:/opt/X11/bin:/Users/REhlers/.local/bin\n"
     ]
    }
   ],
   "source": [
    "import logging\n",
    "import os\n",
    "\n",
    "print(os.getenv(\"CONDA_BUILD_SYSROOT\"))\n",
    "print(os.getenv(\"ROOUNFOLD_ROOT\"))\n",
    "print(os.getenv(\"LD_LIBRARY_PATH\"))\n",
    "print(os.getenv(\"PATH\"))"
   ]
  },
  {
   "attachments": {},
   "cell_type": "markdown",
   "metadata": {},
   "source": [
    "# Running jobs"
   ]
  },
  {
   "attachments": {},
   "cell_type": "markdown",
   "metadata": {},
   "source": [
    "## General setup"
   ]
  },
  {
   "cell_type": "code",
   "execution_count": 3,
   "metadata": {},
   "outputs": [],
   "source": [
    "from importlib import reload\n",
    "from pathlib import Path\n",
    "from typing import List\n",
    "\n",
    "from mammoth import job_utils\n",
    "\n",
    "from mammoth.hardest_kt import produce_flat_skim_from_track_skim"
   ]
  },
  {
   "attachments": {},
   "cell_type": "markdown",
   "metadata": {},
   "source": [
    "## Reload"
   ]
  },
  {
   "cell_type": "code",
   "execution_count": null,
   "metadata": {},
   "outputs": [],
   "source": [
    "#reload(job_utils)\n",
    "reload(produce_flat_skim_from_track_skim)"
   ]
  },
  {
   "attachments": {},
   "cell_type": "markdown",
   "metadata": {},
   "source": [
    "## Tasks"
   ]
  },
  {
   "attachments": {},
   "cell_type": "markdown",
   "metadata": {},
   "source": [
    "### Running"
   ]
  },
  {
   "cell_type": "code",
   "execution_count": 4,
   "metadata": {},
   "outputs": [],
   "source": [
    "def define_productions() -> List[produce_flat_skim_from_track_skim.production.ProductionSettings]:\n",
    "    # We want to provide the opportunity to run multiple productions at once.\n",
    "    # We'll do so by defining each production below and then iterating over them below\n",
    "    productions = []\n",
    "\n",
    "    # Create and store production information\n",
    "    _here = Path(produce_flat_skim_from_track_skim.__file__).parent\n",
    "    config_filename = Path(_here.parent / \"alice\" / \"config\" / \"track_skim_config.yaml\")\n",
    "    productions.extend(\n",
    "        [\n",
    "            # Debug\n",
    "            # production.ProductionSettings.read_config(\n",
    "            #     collision_system=\"embed_pythia\", number=3,\n",
    "            #     specialization=HardestKtProductionSpecialization(),\n",
    "            #     track_skim_config_filename=config_filename,\n",
    "            # ),\n",
    "            # Production\n",
    "            # produce_flat_skim_from_track_skim.production.ProductionSettings.read_config(\n",
    "            #     collision_system=\"pp\",\n",
    "            #     number=60,\n",
    "            #     specialization=produce_flat_skim_from_track_skim.HardestKtProductionSpecialization(),\n",
    "            #     track_skim_config_filename=config_filename,\n",
    "            # ),\n",
    "            produce_flat_skim_from_track_skim.production.ProductionSettings.read_config(\n",
    "                collision_system=\"pythia\",\n",
    "                number=60,\n",
    "                specialization=produce_flat_skim_from_track_skim.HardestKtProductionSpecialization(),\n",
    "                track_skim_config_filename=config_filename,\n",
    "            ),\n",
    "        ]\n",
    "    )\n",
    "\n",
    "    # Write out the production settings\n",
    "    for production_settings in productions:\n",
    "        production_settings.store_production_parameters()\n",
    "\n",
    "    return productions\n"
   ]
  },
  {
   "cell_type": "code",
   "execution_count": 5,
   "metadata": {},
   "outputs": [
    {
     "data": {
      "text/html": [
       "<pre style=\"white-space:pre;overflow-x:auto;line-height:normal;font-family:Menlo,'DejaVu Sans Mono',consolas,'Courier New',monospace\"><span style=\"color: #7fbfbf; text-decoration-color: #7fbfbf\">[14:44:45] </span><span style=\"color: #000080; text-decoration-color: #000080\">INFO    </span> Requesting <span style=\"color: #008080; text-decoration-color: #008080; font-weight: bold\">1</span> <span style=\"color: #800080; text-decoration-color: #800080; font-weight: bold\">core</span><span style=\"font-weight: bold\">(</span>s<span style=\"font-weight: bold\">)</span> in <span style=\"color: #008080; text-decoration-color: #008080; font-weight: bold\">8</span> <span style=\"color: #800080; text-decoration-color: #800080; font-weight: bold\">block</span><span style=\"font-weight: bold\">(</span>s<span style=\"font-weight: bold\">)</span>, with <span style=\"color: #008080; text-decoration-color: #008080; font-weight: bold\">1</span> tasks per block for <span style=\"color: #008080; text-decoration-color: #008080; font-weight: bold\">8</span> total     <a href=\"file:///Users/REhlers/software/dev/mammoth/src/mammoth/helpers.py\" target=\"_blank\"><span style=\"color: #7f7f7f; text-decoration-color: #7f7f7f\">mammoth.job_utils</span></a><span style=\"color: #7f7f7f; text-decoration-color: #7f7f7f\">:</span><a href=\"file:///Users/REhlers/software/dev/mammoth/src/mammoth/helpers.py#46\" target=\"_blank\"><span style=\"color: #7f7f7f; text-decoration-color: #7f7f7f\">46</span></a>\n",
       "<span style=\"color: #7fbfbf; text-decoration-color: #7fbfbf\">           </span>         tasks running simultaneously.                                              <span style=\"color: #7f7f7f; text-decoration-color: #7f7f7f\">                    </span>\n",
       "</pre>\n"
      ],
      "text/plain": [
       "\u001b[2;36m[14:44:45]\u001b[0m\u001b[2;36m \u001b[0m\u001b[34mINFO    \u001b[0m Requesting \u001b[1;36m1\u001b[0m \u001b[1;35mcore\u001b[0m\u001b[1m(\u001b[0ms\u001b[1m)\u001b[0m in \u001b[1;36m8\u001b[0m \u001b[1;35mblock\u001b[0m\u001b[1m(\u001b[0ms\u001b[1m)\u001b[0m, with \u001b[1;36m1\u001b[0m tasks per block for \u001b[1;36m8\u001b[0m total     \u001b]8;id=582138;file:///Users/REhlers/software/dev/mammoth/src/mammoth/helpers.py\u001b\\\u001b[2mmammoth.job_utils\u001b[0m\u001b]8;;\u001b\\\u001b[2m:\u001b[0m\u001b]8;id=697064;file:///Users/REhlers/software/dev/mammoth/src/mammoth/helpers.py#46\u001b\\\u001b[2m46\u001b[0m\u001b]8;;\u001b\\\n",
       "\u001b[2;36m           \u001b[0m         tasks running simultaneously.                                              \u001b[2m                    \u001b[0m\n"
      ]
     },
     "metadata": {},
     "output_type": "display_data"
    }
   ],
   "source": [
    "# Job execution parameters\n",
    "productions = define_productions()\n",
    "\n",
    "# Base settings\n",
    "job_framework = job_utils.JobFramework.dask_delayed\n",
    "#job_framework = job_utils.JobFramework.immediate_execution_debug\n",
    "facility: job_utils.FACILITIES = \"rehlers_mbp_m1pro\"\n",
    "#conda_environment_name = \"substructure_c_24_06\"\n",
    "conda_environment_name = \"\"\n",
    "\n",
    "# Job execution configuration\n",
    "task_name = \"hardest_kt_mammoth\"\n",
    "task_config = job_utils.TaskConfig(name=task_name, n_cores_per_task=1)\n",
    "if task_config.n_cores_per_task > 1:\n",
    "    facility = \"rehlers_mbp_m1pro_multi_core\"\n",
    "# Formerly n_cores_to_allocate, this new variable is == n_cores_to_allocate if n_cores_per_task == 1\n",
    "target_n_tasks_to_run_simultaneously = 8\n",
    "log_level = logging.INFO\n",
    "walltime = \"24:00:00\"\n",
    "debug_mode = False\n",
    "\n",
    "if debug_mode:\n",
    "    # Usually, we want to run in the short queue\n",
    "    target_n_tasks_to_run_simultaneously = 4\n",
    "    walltime = \"1:59:00\"\n",
    "\n",
    "# Keep the job executor just to keep it alive\n",
    "job_executor, job_cluster = produce_flat_skim_from_track_skim.setup_job_framework(\n",
    "    job_framework=job_framework,\n",
    "    productions=productions,\n",
    "    task_config=task_config,\n",
    "    facility=facility,\n",
    "    walltime=walltime,\n",
    "    target_n_tasks_to_run_simultaneously=target_n_tasks_to_run_simultaneously,\n",
    "    log_level=log_level,\n",
    "    conda_environment_name=conda_environment_name,\n",
    ")"
   ]
  },
  {
   "attachments": {},
   "cell_type": "markdown",
   "metadata": {},
   "source": [
    "## Status"
   ]
  },
  {
   "cell_type": "code",
   "execution_count": 6,
   "metadata": {},
   "outputs": [
    {
     "data": {
      "text/html": [
       "<div>\n",
       "    <div style=\"width: 24px; height: 24px; background-color: #e1e1e1; border: 3px solid #9D9D9D; border-radius: 5px; position: absolute;\"> </div>\n",
       "    <div style=\"margin-left: 48px;\">\n",
       "        <h3 style=\"margin-bottom: 0px;\">Client</h3>\n",
       "        <p style=\"color: #9D9D9D; margin-bottom: 0px;\">Client-04167db4-abf0-11ed-90bb-1e0b10501772</p>\n",
       "        <table style=\"width: 100%; text-align: left;\">\n",
       "\n",
       "        <tr>\n",
       "        \n",
       "            <td style=\"text-align: left;\"><strong>Connection method:</strong> Cluster object</td>\n",
       "            <td style=\"text-align: left;\"><strong>Cluster type:</strong> distributed.LocalCluster</td>\n",
       "        \n",
       "        </tr>\n",
       "\n",
       "        \n",
       "            <tr>\n",
       "                <td style=\"text-align: left;\">\n",
       "                    <strong>Dashboard: </strong> <a href=\"http://127.0.0.1:8787/status\" target=\"_blank\">http://127.0.0.1:8787/status</a>\n",
       "                </td>\n",
       "                <td style=\"text-align: left;\"></td>\n",
       "            </tr>\n",
       "        \n",
       "\n",
       "        </table>\n",
       "\n",
       "        \n",
       "\n",
       "        \n",
       "            <details>\n",
       "            <summary style=\"margin-bottom: 20px;\"><h3 style=\"display: inline;\">Cluster Info</h3></summary>\n",
       "            <div class=\"jp-RenderedHTMLCommon jp-RenderedHTML jp-mod-trusted jp-OutputArea-output\">\n",
       "    <div style=\"width: 24px; height: 24px; background-color: #e1e1e1; border: 3px solid #9D9D9D; border-radius: 5px; position: absolute;\">\n",
       "    </div>\n",
       "    <div style=\"margin-left: 48px;\">\n",
       "        <h3 style=\"margin-bottom: 0px; margin-top: 0px;\">LocalCluster</h3>\n",
       "        <p style=\"color: #9D9D9D; margin-bottom: 0px;\">81d49943</p>\n",
       "        <table style=\"width: 100%; text-align: left;\">\n",
       "            <tr>\n",
       "                <td style=\"text-align: left;\">\n",
       "                    <strong>Dashboard:</strong> <a href=\"http://127.0.0.1:8787/status\" target=\"_blank\">http://127.0.0.1:8787/status</a>\n",
       "                </td>\n",
       "                <td style=\"text-align: left;\">\n",
       "                    <strong>Workers:</strong> 8\n",
       "                </td>\n",
       "            </tr>\n",
       "            <tr>\n",
       "                <td style=\"text-align: left;\">\n",
       "                    <strong>Total threads:</strong> 8\n",
       "                </td>\n",
       "                <td style=\"text-align: left;\">\n",
       "                    <strong>Total memory:</strong> 16.00 GiB\n",
       "                </td>\n",
       "            </tr>\n",
       "            \n",
       "            <tr>\n",
       "    <td style=\"text-align: left;\"><strong>Status:</strong> running</td>\n",
       "    <td style=\"text-align: left;\"><strong>Using processes:</strong> True</td>\n",
       "</tr>\n",
       "\n",
       "            \n",
       "        </table>\n",
       "\n",
       "        <details>\n",
       "            <summary style=\"margin-bottom: 20px;\">\n",
       "                <h3 style=\"display: inline;\">Scheduler Info</h3>\n",
       "            </summary>\n",
       "\n",
       "            <div style=\"\">\n",
       "    <div>\n",
       "        <div style=\"width: 24px; height: 24px; background-color: #FFF7E5; border: 3px solid #FF6132; border-radius: 5px; position: absolute;\"> </div>\n",
       "        <div style=\"margin-left: 48px;\">\n",
       "            <h3 style=\"margin-bottom: 0px;\">Scheduler</h3>\n",
       "            <p style=\"color: #9D9D9D; margin-bottom: 0px;\">Scheduler-de809883-0417-40c5-ad88-a0b8a87b4755</p>\n",
       "            <table style=\"width: 100%; text-align: left;\">\n",
       "                <tr>\n",
       "                    <td style=\"text-align: left;\">\n",
       "                        <strong>Comm:</strong> tcp://127.0.0.1:58409\n",
       "                    </td>\n",
       "                    <td style=\"text-align: left;\">\n",
       "                        <strong>Workers:</strong> 8\n",
       "                    </td>\n",
       "                </tr>\n",
       "                <tr>\n",
       "                    <td style=\"text-align: left;\">\n",
       "                        <strong>Dashboard:</strong> <a href=\"http://127.0.0.1:8787/status\" target=\"_blank\">http://127.0.0.1:8787/status</a>\n",
       "                    </td>\n",
       "                    <td style=\"text-align: left;\">\n",
       "                        <strong>Total threads:</strong> 8\n",
       "                    </td>\n",
       "                </tr>\n",
       "                <tr>\n",
       "                    <td style=\"text-align: left;\">\n",
       "                        <strong>Started:</strong> Just now\n",
       "                    </td>\n",
       "                    <td style=\"text-align: left;\">\n",
       "                        <strong>Total memory:</strong> 16.00 GiB\n",
       "                    </td>\n",
       "                </tr>\n",
       "            </table>\n",
       "        </div>\n",
       "    </div>\n",
       "\n",
       "    <details style=\"margin-left: 48px;\">\n",
       "        <summary style=\"margin-bottom: 20px;\">\n",
       "            <h3 style=\"display: inline;\">Workers</h3>\n",
       "        </summary>\n",
       "\n",
       "        \n",
       "        <div style=\"margin-bottom: 20px;\">\n",
       "            <div style=\"width: 24px; height: 24px; background-color: #DBF5FF; border: 3px solid #4CC9FF; border-radius: 5px; position: absolute;\"> </div>\n",
       "            <div style=\"margin-left: 48px;\">\n",
       "            <details>\n",
       "                <summary>\n",
       "                    <h4 style=\"margin-bottom: 0px; display: inline;\">Worker: 0</h4>\n",
       "                </summary>\n",
       "                <table style=\"width: 100%; text-align: left;\">\n",
       "                    <tr>\n",
       "                        <td style=\"text-align: left;\">\n",
       "                            <strong>Comm: </strong> tcp://127.0.0.1:58433\n",
       "                        </td>\n",
       "                        <td style=\"text-align: left;\">\n",
       "                            <strong>Total threads: </strong> 1\n",
       "                        </td>\n",
       "                    </tr>\n",
       "                    <tr>\n",
       "                        <td style=\"text-align: left;\">\n",
       "                            <strong>Dashboard: </strong> <a href=\"http://127.0.0.1:58440/status\" target=\"_blank\">http://127.0.0.1:58440/status</a>\n",
       "                        </td>\n",
       "                        <td style=\"text-align: left;\">\n",
       "                            <strong>Memory: </strong> 2.00 GiB\n",
       "                        </td>\n",
       "                    </tr>\n",
       "                    <tr>\n",
       "                        <td style=\"text-align: left;\">\n",
       "                            <strong>Nanny: </strong> tcp://127.0.0.1:58413\n",
       "                        </td>\n",
       "                        <td style=\"text-align: left;\"></td>\n",
       "                    </tr>\n",
       "                    <tr>\n",
       "                        <td colspan=\"2\" style=\"text-align: left;\">\n",
       "                            <strong>Local directory: </strong> /var/folders/s4/zc_9tsr13mvbdxfpt284svpm0000gp/T/dask-worker-space/worker-gn7gs7oj\n",
       "                        </td>\n",
       "                    </tr>\n",
       "\n",
       "                    \n",
       "\n",
       "                    \n",
       "\n",
       "                </table>\n",
       "            </details>\n",
       "            </div>\n",
       "        </div>\n",
       "        \n",
       "        <div style=\"margin-bottom: 20px;\">\n",
       "            <div style=\"width: 24px; height: 24px; background-color: #DBF5FF; border: 3px solid #4CC9FF; border-radius: 5px; position: absolute;\"> </div>\n",
       "            <div style=\"margin-left: 48px;\">\n",
       "            <details>\n",
       "                <summary>\n",
       "                    <h4 style=\"margin-bottom: 0px; display: inline;\">Worker: 1</h4>\n",
       "                </summary>\n",
       "                <table style=\"width: 100%; text-align: left;\">\n",
       "                    <tr>\n",
       "                        <td style=\"text-align: left;\">\n",
       "                            <strong>Comm: </strong> tcp://127.0.0.1:58429\n",
       "                        </td>\n",
       "                        <td style=\"text-align: left;\">\n",
       "                            <strong>Total threads: </strong> 1\n",
       "                        </td>\n",
       "                    </tr>\n",
       "                    <tr>\n",
       "                        <td style=\"text-align: left;\">\n",
       "                            <strong>Dashboard: </strong> <a href=\"http://127.0.0.1:58438/status\" target=\"_blank\">http://127.0.0.1:58438/status</a>\n",
       "                        </td>\n",
       "                        <td style=\"text-align: left;\">\n",
       "                            <strong>Memory: </strong> 2.00 GiB\n",
       "                        </td>\n",
       "                    </tr>\n",
       "                    <tr>\n",
       "                        <td style=\"text-align: left;\">\n",
       "                            <strong>Nanny: </strong> tcp://127.0.0.1:58416\n",
       "                        </td>\n",
       "                        <td style=\"text-align: left;\"></td>\n",
       "                    </tr>\n",
       "                    <tr>\n",
       "                        <td colspan=\"2\" style=\"text-align: left;\">\n",
       "                            <strong>Local directory: </strong> /var/folders/s4/zc_9tsr13mvbdxfpt284svpm0000gp/T/dask-worker-space/worker-qvjf2pjx\n",
       "                        </td>\n",
       "                    </tr>\n",
       "\n",
       "                    \n",
       "\n",
       "                    \n",
       "\n",
       "                </table>\n",
       "            </details>\n",
       "            </div>\n",
       "        </div>\n",
       "        \n",
       "        <div style=\"margin-bottom: 20px;\">\n",
       "            <div style=\"width: 24px; height: 24px; background-color: #DBF5FF; border: 3px solid #4CC9FF; border-radius: 5px; position: absolute;\"> </div>\n",
       "            <div style=\"margin-left: 48px;\">\n",
       "            <details>\n",
       "                <summary>\n",
       "                    <h4 style=\"margin-bottom: 0px; display: inline;\">Worker: 2</h4>\n",
       "                </summary>\n",
       "                <table style=\"width: 100%; text-align: left;\">\n",
       "                    <tr>\n",
       "                        <td style=\"text-align: left;\">\n",
       "                            <strong>Comm: </strong> tcp://127.0.0.1:58449\n",
       "                        </td>\n",
       "                        <td style=\"text-align: left;\">\n",
       "                            <strong>Total threads: </strong> 1\n",
       "                        </td>\n",
       "                    </tr>\n",
       "                    <tr>\n",
       "                        <td style=\"text-align: left;\">\n",
       "                            <strong>Dashboard: </strong> <a href=\"http://127.0.0.1:58450/status\" target=\"_blank\">http://127.0.0.1:58450/status</a>\n",
       "                        </td>\n",
       "                        <td style=\"text-align: left;\">\n",
       "                            <strong>Memory: </strong> 2.00 GiB\n",
       "                        </td>\n",
       "                    </tr>\n",
       "                    <tr>\n",
       "                        <td style=\"text-align: left;\">\n",
       "                            <strong>Nanny: </strong> tcp://127.0.0.1:58419\n",
       "                        </td>\n",
       "                        <td style=\"text-align: left;\"></td>\n",
       "                    </tr>\n",
       "                    <tr>\n",
       "                        <td colspan=\"2\" style=\"text-align: left;\">\n",
       "                            <strong>Local directory: </strong> /var/folders/s4/zc_9tsr13mvbdxfpt284svpm0000gp/T/dask-worker-space/worker-zesmuy17\n",
       "                        </td>\n",
       "                    </tr>\n",
       "\n",
       "                    \n",
       "\n",
       "                    \n",
       "\n",
       "                </table>\n",
       "            </details>\n",
       "            </div>\n",
       "        </div>\n",
       "        \n",
       "        <div style=\"margin-bottom: 20px;\">\n",
       "            <div style=\"width: 24px; height: 24px; background-color: #DBF5FF; border: 3px solid #4CC9FF; border-radius: 5px; position: absolute;\"> </div>\n",
       "            <div style=\"margin-left: 48px;\">\n",
       "            <details>\n",
       "                <summary>\n",
       "                    <h4 style=\"margin-bottom: 0px; display: inline;\">Worker: 3</h4>\n",
       "                </summary>\n",
       "                <table style=\"width: 100%; text-align: left;\">\n",
       "                    <tr>\n",
       "                        <td style=\"text-align: left;\">\n",
       "                            <strong>Comm: </strong> tcp://127.0.0.1:58432\n",
       "                        </td>\n",
       "                        <td style=\"text-align: left;\">\n",
       "                            <strong>Total threads: </strong> 1\n",
       "                        </td>\n",
       "                    </tr>\n",
       "                    <tr>\n",
       "                        <td style=\"text-align: left;\">\n",
       "                            <strong>Dashboard: </strong> <a href=\"http://127.0.0.1:58439/status\" target=\"_blank\">http://127.0.0.1:58439/status</a>\n",
       "                        </td>\n",
       "                        <td style=\"text-align: left;\">\n",
       "                            <strong>Memory: </strong> 2.00 GiB\n",
       "                        </td>\n",
       "                    </tr>\n",
       "                    <tr>\n",
       "                        <td style=\"text-align: left;\">\n",
       "                            <strong>Nanny: </strong> tcp://127.0.0.1:58414\n",
       "                        </td>\n",
       "                        <td style=\"text-align: left;\"></td>\n",
       "                    </tr>\n",
       "                    <tr>\n",
       "                        <td colspan=\"2\" style=\"text-align: left;\">\n",
       "                            <strong>Local directory: </strong> /var/folders/s4/zc_9tsr13mvbdxfpt284svpm0000gp/T/dask-worker-space/worker-_x2af2ms\n",
       "                        </td>\n",
       "                    </tr>\n",
       "\n",
       "                    \n",
       "\n",
       "                    \n",
       "\n",
       "                </table>\n",
       "            </details>\n",
       "            </div>\n",
       "        </div>\n",
       "        \n",
       "        <div style=\"margin-bottom: 20px;\">\n",
       "            <div style=\"width: 24px; height: 24px; background-color: #DBF5FF; border: 3px solid #4CC9FF; border-radius: 5px; position: absolute;\"> </div>\n",
       "            <div style=\"margin-left: 48px;\">\n",
       "            <details>\n",
       "                <summary>\n",
       "                    <h4 style=\"margin-bottom: 0px; display: inline;\">Worker: 4</h4>\n",
       "                </summary>\n",
       "                <table style=\"width: 100%; text-align: left;\">\n",
       "                    <tr>\n",
       "                        <td style=\"text-align: left;\">\n",
       "                            <strong>Comm: </strong> tcp://127.0.0.1:58428\n",
       "                        </td>\n",
       "                        <td style=\"text-align: left;\">\n",
       "                            <strong>Total threads: </strong> 1\n",
       "                        </td>\n",
       "                    </tr>\n",
       "                    <tr>\n",
       "                        <td style=\"text-align: left;\">\n",
       "                            <strong>Dashboard: </strong> <a href=\"http://127.0.0.1:58437/status\" target=\"_blank\">http://127.0.0.1:58437/status</a>\n",
       "                        </td>\n",
       "                        <td style=\"text-align: left;\">\n",
       "                            <strong>Memory: </strong> 2.00 GiB\n",
       "                        </td>\n",
       "                    </tr>\n",
       "                    <tr>\n",
       "                        <td style=\"text-align: left;\">\n",
       "                            <strong>Nanny: </strong> tcp://127.0.0.1:58417\n",
       "                        </td>\n",
       "                        <td style=\"text-align: left;\"></td>\n",
       "                    </tr>\n",
       "                    <tr>\n",
       "                        <td colspan=\"2\" style=\"text-align: left;\">\n",
       "                            <strong>Local directory: </strong> /var/folders/s4/zc_9tsr13mvbdxfpt284svpm0000gp/T/dask-worker-space/worker-jp7iatip\n",
       "                        </td>\n",
       "                    </tr>\n",
       "\n",
       "                    \n",
       "\n",
       "                    \n",
       "\n",
       "                </table>\n",
       "            </details>\n",
       "            </div>\n",
       "        </div>\n",
       "        \n",
       "        <div style=\"margin-bottom: 20px;\">\n",
       "            <div style=\"width: 24px; height: 24px; background-color: #DBF5FF; border: 3px solid #4CC9FF; border-radius: 5px; position: absolute;\"> </div>\n",
       "            <div style=\"margin-left: 48px;\">\n",
       "            <details>\n",
       "                <summary>\n",
       "                    <h4 style=\"margin-bottom: 0px; display: inline;\">Worker: 5</h4>\n",
       "                </summary>\n",
       "                <table style=\"width: 100%; text-align: left;\">\n",
       "                    <tr>\n",
       "                        <td style=\"text-align: left;\">\n",
       "                            <strong>Comm: </strong> tcp://127.0.0.1:58430\n",
       "                        </td>\n",
       "                        <td style=\"text-align: left;\">\n",
       "                            <strong>Total threads: </strong> 1\n",
       "                        </td>\n",
       "                    </tr>\n",
       "                    <tr>\n",
       "                        <td style=\"text-align: left;\">\n",
       "                            <strong>Dashboard: </strong> <a href=\"http://127.0.0.1:58436/status\" target=\"_blank\">http://127.0.0.1:58436/status</a>\n",
       "                        </td>\n",
       "                        <td style=\"text-align: left;\">\n",
       "                            <strong>Memory: </strong> 2.00 GiB\n",
       "                        </td>\n",
       "                    </tr>\n",
       "                    <tr>\n",
       "                        <td style=\"text-align: left;\">\n",
       "                            <strong>Nanny: </strong> tcp://127.0.0.1:58412\n",
       "                        </td>\n",
       "                        <td style=\"text-align: left;\"></td>\n",
       "                    </tr>\n",
       "                    <tr>\n",
       "                        <td colspan=\"2\" style=\"text-align: left;\">\n",
       "                            <strong>Local directory: </strong> /var/folders/s4/zc_9tsr13mvbdxfpt284svpm0000gp/T/dask-worker-space/worker-pzdb6pr7\n",
       "                        </td>\n",
       "                    </tr>\n",
       "\n",
       "                    \n",
       "\n",
       "                    \n",
       "\n",
       "                </table>\n",
       "            </details>\n",
       "            </div>\n",
       "        </div>\n",
       "        \n",
       "        <div style=\"margin-bottom: 20px;\">\n",
       "            <div style=\"width: 24px; height: 24px; background-color: #DBF5FF; border: 3px solid #4CC9FF; border-radius: 5px; position: absolute;\"> </div>\n",
       "            <div style=\"margin-left: 48px;\">\n",
       "            <details>\n",
       "                <summary>\n",
       "                    <h4 style=\"margin-bottom: 0px; display: inline;\">Worker: 6</h4>\n",
       "                </summary>\n",
       "                <table style=\"width: 100%; text-align: left;\">\n",
       "                    <tr>\n",
       "                        <td style=\"text-align: left;\">\n",
       "                            <strong>Comm: </strong> tcp://127.0.0.1:58431\n",
       "                        </td>\n",
       "                        <td style=\"text-align: left;\">\n",
       "                            <strong>Total threads: </strong> 1\n",
       "                        </td>\n",
       "                    </tr>\n",
       "                    <tr>\n",
       "                        <td style=\"text-align: left;\">\n",
       "                            <strong>Dashboard: </strong> <a href=\"http://127.0.0.1:58435/status\" target=\"_blank\">http://127.0.0.1:58435/status</a>\n",
       "                        </td>\n",
       "                        <td style=\"text-align: left;\">\n",
       "                            <strong>Memory: </strong> 2.00 GiB\n",
       "                        </td>\n",
       "                    </tr>\n",
       "                    <tr>\n",
       "                        <td style=\"text-align: left;\">\n",
       "                            <strong>Nanny: </strong> tcp://127.0.0.1:58415\n",
       "                        </td>\n",
       "                        <td style=\"text-align: left;\"></td>\n",
       "                    </tr>\n",
       "                    <tr>\n",
       "                        <td colspan=\"2\" style=\"text-align: left;\">\n",
       "                            <strong>Local directory: </strong> /var/folders/s4/zc_9tsr13mvbdxfpt284svpm0000gp/T/dask-worker-space/worker-q7bfziyz\n",
       "                        </td>\n",
       "                    </tr>\n",
       "\n",
       "                    \n",
       "\n",
       "                    \n",
       "\n",
       "                </table>\n",
       "            </details>\n",
       "            </div>\n",
       "        </div>\n",
       "        \n",
       "        <div style=\"margin-bottom: 20px;\">\n",
       "            <div style=\"width: 24px; height: 24px; background-color: #DBF5FF; border: 3px solid #4CC9FF; border-radius: 5px; position: absolute;\"> </div>\n",
       "            <div style=\"margin-left: 48px;\">\n",
       "            <details>\n",
       "                <summary>\n",
       "                    <h4 style=\"margin-bottom: 0px; display: inline;\">Worker: 7</h4>\n",
       "                </summary>\n",
       "                <table style=\"width: 100%; text-align: left;\">\n",
       "                    <tr>\n",
       "                        <td style=\"text-align: left;\">\n",
       "                            <strong>Comm: </strong> tcp://127.0.0.1:58434\n",
       "                        </td>\n",
       "                        <td style=\"text-align: left;\">\n",
       "                            <strong>Total threads: </strong> 1\n",
       "                        </td>\n",
       "                    </tr>\n",
       "                    <tr>\n",
       "                        <td style=\"text-align: left;\">\n",
       "                            <strong>Dashboard: </strong> <a href=\"http://127.0.0.1:58447/status\" target=\"_blank\">http://127.0.0.1:58447/status</a>\n",
       "                        </td>\n",
       "                        <td style=\"text-align: left;\">\n",
       "                            <strong>Memory: </strong> 2.00 GiB\n",
       "                        </td>\n",
       "                    </tr>\n",
       "                    <tr>\n",
       "                        <td style=\"text-align: left;\">\n",
       "                            <strong>Nanny: </strong> tcp://127.0.0.1:58418\n",
       "                        </td>\n",
       "                        <td style=\"text-align: left;\"></td>\n",
       "                    </tr>\n",
       "                    <tr>\n",
       "                        <td colspan=\"2\" style=\"text-align: left;\">\n",
       "                            <strong>Local directory: </strong> /var/folders/s4/zc_9tsr13mvbdxfpt284svpm0000gp/T/dask-worker-space/worker-47_hqkup\n",
       "                        </td>\n",
       "                    </tr>\n",
       "\n",
       "                    \n",
       "\n",
       "                    \n",
       "\n",
       "                </table>\n",
       "            </details>\n",
       "            </div>\n",
       "        </div>\n",
       "        \n",
       "\n",
       "    </details>\n",
       "</div>\n",
       "\n",
       "        </details>\n",
       "    </div>\n",
       "</div>\n",
       "            </details>\n",
       "        \n",
       "\n",
       "    </div>\n",
       "</div>"
      ]
     },
     "execution_count": 6,
     "metadata": {},
     "output_type": "execute_result"
    }
   ],
   "source": [
    "job_executor"
   ]
  },
  {
   "attachments": {},
   "cell_type": "markdown",
   "metadata": {},
   "source": [
    "## Submit jobs"
   ]
  },
  {
   "cell_type": "code",
   "execution_count": 7,
   "metadata": {},
   "outputs": [
    {
     "data": {
      "text/html": [
       "<pre style=\"white-space:pre;overflow-x:auto;line-height:normal;font-family:Menlo,'DejaVu Sans Mono',consolas,'Courier New',monospace\"><span style=\"color: #7fbfbf; text-decoration-color: #7fbfbf\">[14:44:46] </span><span style=\"color: #000080; text-decoration-color: #000080\">INFO    </span> Tasks to execute:                     <a href=\"file:///Users/REhlers/software/dev/mammoth/src/mammoth/hardest_kt/produce_flat_skim_from_track_skim.py\" target=\"_blank\"><span style=\"color: #7f7f7f; text-decoration-color: #7f7f7f\">mammoth.hardest_kt.produce_flat_skim_from_track_skim</span></a><span style=\"color: #7f7f7f; text-decoration-color: #7f7f7f\">:</span><a href=\"file:///Users/REhlers/software/dev/mammoth/src/mammoth/hardest_kt/produce_flat_skim_from_track_skim.py#1157\" target=\"_blank\"><span style=\"color: #7f7f7f; text-decoration-color: #7f7f7f\">1157</span></a>\n",
       "<span style=\"color: #7fbfbf; text-decoration-color: #7fbfbf\">           </span>         <span style=\"font-weight: bold\">[</span><span style=\"color: #008000; text-decoration-color: #008000\">'calculate_data_skim'</span><span style=\"font-weight: bold\">]</span>               <span style=\"color: #7f7f7f; text-decoration-color: #7f7f7f\">                                                         </span>\n",
       "</pre>\n"
      ],
      "text/plain": [
       "\u001b[2;36m[14:44:46]\u001b[0m\u001b[2;36m \u001b[0m\u001b[34mINFO    \u001b[0m Tasks to execute:                     \u001b]8;id=168979;file:///Users/REhlers/software/dev/mammoth/src/mammoth/hardest_kt/produce_flat_skim_from_track_skim.py\u001b\\\u001b[2mmammoth.hardest_kt.produce_flat_skim_from_track_skim\u001b[0m\u001b]8;;\u001b\\\u001b[2m:\u001b[0m\u001b]8;id=267973;file:///Users/REhlers/software/dev/mammoth/src/mammoth/hardest_kt/produce_flat_skim_from_track_skim.py#1157\u001b\\\u001b[2m1157\u001b[0m\u001b]8;;\u001b\\\n",
       "\u001b[2;36m           \u001b[0m         \u001b[1m[\u001b[0m\u001b[32m'calculate_data_skim'\u001b[0m\u001b[1m]\u001b[0m               \u001b[2m                                                         \u001b[0m\n"
      ]
     },
     "metadata": {},
     "output_type": "display_data"
    },
    {
     "data": {
      "text/html": [
       "<pre style=\"white-space:pre;overflow-x:auto;line-height:normal;font-family:Menlo,'DejaVu Sans Mono',consolas,'Courier New',monospace\"><span style=\"color: #7fbfbf; text-decoration-color: #7fbfbf\">           </span><span style=\"color: #000080; text-decoration-color: #000080\">INFO    </span> Adding                                 <a href=\"file:///Users/REhlers/software/dev/mammoth/src/mammoth/hardest_kt/produce_flat_skim_from_track_skim.py\" target=\"_blank\"><span style=\"color: #7f7f7f; text-decoration-color: #7f7f7f\">mammoth.hardest_kt.produce_flat_skim_from_track_skim</span></a><span style=\"color: #7f7f7f; text-decoration-color: #7f7f7f\">:</span><a href=\"file:///Users/REhlers/software/dev/mammoth/src/mammoth/hardest_kt/produce_flat_skim_from_track_skim.py#441\" target=\"_blank\"><span style=\"color: #7f7f7f; text-decoration-color: #7f7f7f\">441</span></a>\n",
       "<span style=\"color: #7fbfbf; text-decoration-color: #7fbfbf\">           </span>         trains/pythia/<span style=\"color: #008080; text-decoration-color: #008080; font-weight: bold\">2619</span>/run_by_run/LHC18b8_ <span style=\"color: #7f7f7f; text-decoration-color: #7f7f7f\">                                                        </span>\n",
       "<span style=\"color: #7fbfbf; text-decoration-color: #7fbfbf\">           </span>         cent_woSDD/<span style=\"color: #008080; text-decoration-color: #008080; font-weight: bold\">282008</span>/<span style=\"color: #008080; text-decoration-color: #008080; font-weight: bold\">1</span>/AnalysisResults.18 <span style=\"color: #7f7f7f; text-decoration-color: #7f7f7f\">                                                        </span>\n",
       "<span style=\"color: #7fbfbf; text-decoration-color: #7fbfbf\">           </span>         b8_cent_woSDD.<span style=\"color: #008080; text-decoration-color: #008080; font-weight: bold\">001.</span>root for analysis    <span style=\"color: #7f7f7f; text-decoration-color: #7f7f7f\">                                                        </span>\n",
       "</pre>\n"
      ],
      "text/plain": [
       "\u001b[2;36m          \u001b[0m\u001b[2;36m \u001b[0m\u001b[34mINFO    \u001b[0m Adding                                 \u001b]8;id=757099;file:///Users/REhlers/software/dev/mammoth/src/mammoth/hardest_kt/produce_flat_skim_from_track_skim.py\u001b\\\u001b[2mmammoth.hardest_kt.produce_flat_skim_from_track_skim\u001b[0m\u001b]8;;\u001b\\\u001b[2m:\u001b[0m\u001b]8;id=930246;file:///Users/REhlers/software/dev/mammoth/src/mammoth/hardest_kt/produce_flat_skim_from_track_skim.py#441\u001b\\\u001b[2m441\u001b[0m\u001b]8;;\u001b\\\n",
       "\u001b[2;36m           \u001b[0m         trains/pythia/\u001b[1;36m2619\u001b[0m/run_by_run/LHC18b8_ \u001b[2m                                                        \u001b[0m\n",
       "\u001b[2;36m           \u001b[0m         cent_woSDD/\u001b[1;36m282008\u001b[0m/\u001b[1;36m1\u001b[0m/AnalysisResults.18 \u001b[2m                                                        \u001b[0m\n",
       "\u001b[2;36m           \u001b[0m         b8_cent_woSDD.\u001b[1;36m001.\u001b[0mroot for analysis    \u001b[2m                                                        \u001b[0m\n"
      ]
     },
     "metadata": {},
     "output_type": "display_data"
    },
    {
     "data": {
      "text/html": [
       "<pre style=\"white-space:pre;overflow-x:auto;line-height:normal;font-family:Menlo,'DejaVu Sans Mono',consolas,'Courier New',monospace\"><span style=\"color: #7fbfbf; text-decoration-color: #7fbfbf\">[14:44:47] </span><span style=\"color: #000080; text-decoration-color: #000080\">INFO    </span> Adding                                 <a href=\"file:///Users/REhlers/software/dev/mammoth/src/mammoth/hardest_kt/produce_flat_skim_from_track_skim.py\" target=\"_blank\"><span style=\"color: #7f7f7f; text-decoration-color: #7f7f7f\">mammoth.hardest_kt.produce_flat_skim_from_track_skim</span></a><span style=\"color: #7f7f7f; text-decoration-color: #7f7f7f\">:</span><a href=\"file:///Users/REhlers/software/dev/mammoth/src/mammoth/hardest_kt/produce_flat_skim_from_track_skim.py#441\" target=\"_blank\"><span style=\"color: #7f7f7f; text-decoration-color: #7f7f7f\">441</span></a>\n",
       "<span style=\"color: #7fbfbf; text-decoration-color: #7fbfbf\">           </span>         trains/pythia/<span style=\"color: #008080; text-decoration-color: #008080; font-weight: bold\">2619</span>/run_by_run/LHC18b8_ <span style=\"color: #7f7f7f; text-decoration-color: #7f7f7f\">                                                        </span>\n",
       "<span style=\"color: #7fbfbf; text-decoration-color: #7fbfbf\">           </span>         cent_woSDD/<span style=\"color: #008080; text-decoration-color: #008080; font-weight: bold\">282031</span>/<span style=\"color: #008080; text-decoration-color: #008080; font-weight: bold\">2</span>/AnalysisResults.18 <span style=\"color: #7f7f7f; text-decoration-color: #7f7f7f\">                                                        </span>\n",
       "<span style=\"color: #7fbfbf; text-decoration-color: #7fbfbf\">           </span>         b8_cent_woSDD.<span style=\"color: #008080; text-decoration-color: #008080; font-weight: bold\">002.</span>root for analysis    <span style=\"color: #7f7f7f; text-decoration-color: #7f7f7f\">                                                        </span>\n",
       "</pre>\n"
      ],
      "text/plain": [
       "\u001b[2;36m[14:44:47]\u001b[0m\u001b[2;36m \u001b[0m\u001b[34mINFO    \u001b[0m Adding                                 \u001b]8;id=442189;file:///Users/REhlers/software/dev/mammoth/src/mammoth/hardest_kt/produce_flat_skim_from_track_skim.py\u001b\\\u001b[2mmammoth.hardest_kt.produce_flat_skim_from_track_skim\u001b[0m\u001b]8;;\u001b\\\u001b[2m:\u001b[0m\u001b]8;id=405962;file:///Users/REhlers/software/dev/mammoth/src/mammoth/hardest_kt/produce_flat_skim_from_track_skim.py#441\u001b\\\u001b[2m441\u001b[0m\u001b]8;;\u001b\\\n",
       "\u001b[2;36m           \u001b[0m         trains/pythia/\u001b[1;36m2619\u001b[0m/run_by_run/LHC18b8_ \u001b[2m                                                        \u001b[0m\n",
       "\u001b[2;36m           \u001b[0m         cent_woSDD/\u001b[1;36m282031\u001b[0m/\u001b[1;36m2\u001b[0m/AnalysisResults.18 \u001b[2m                                                        \u001b[0m\n",
       "\u001b[2;36m           \u001b[0m         b8_cent_woSDD.\u001b[1;36m002.\u001b[0mroot for analysis    \u001b[2m                                                        \u001b[0m\n"
      ]
     },
     "metadata": {},
     "output_type": "display_data"
    },
    {
     "data": {
      "text/html": [
       "<pre style=\"white-space:pre;overflow-x:auto;line-height:normal;font-family:Menlo,'DejaVu Sans Mono',consolas,'Courier New',monospace\"><span style=\"color: #7fbfbf; text-decoration-color: #7fbfbf\">           </span><span style=\"color: #000080; text-decoration-color: #000080\">INFO    </span> Adding                                 <a href=\"file:///Users/REhlers/software/dev/mammoth/src/mammoth/hardest_kt/produce_flat_skim_from_track_skim.py\" target=\"_blank\"><span style=\"color: #7f7f7f; text-decoration-color: #7f7f7f\">mammoth.hardest_kt.produce_flat_skim_from_track_skim</span></a><span style=\"color: #7f7f7f; text-decoration-color: #7f7f7f\">:</span><a href=\"file:///Users/REhlers/software/dev/mammoth/src/mammoth/hardest_kt/produce_flat_skim_from_track_skim.py#441\" target=\"_blank\"><span style=\"color: #7f7f7f; text-decoration-color: #7f7f7f\">441</span></a>\n",
       "<span style=\"color: #7fbfbf; text-decoration-color: #7fbfbf\">           </span>         trains/pythia/<span style=\"color: #008080; text-decoration-color: #008080; font-weight: bold\">2619</span>/run_by_run/LHC18b8_ <span style=\"color: #7f7f7f; text-decoration-color: #7f7f7f\">                                                        </span>\n",
       "<span style=\"color: #7fbfbf; text-decoration-color: #7fbfbf\">           </span>         cent_woSDD/<span style=\"color: #008080; text-decoration-color: #008080; font-weight: bold\">282120</span>/<span style=\"color: #008080; text-decoration-color: #008080; font-weight: bold\">3</span>/AnalysisResults.18 <span style=\"color: #7f7f7f; text-decoration-color: #7f7f7f\">                                                        </span>\n",
       "<span style=\"color: #7fbfbf; text-decoration-color: #7fbfbf\">           </span>         b8_cent_woSDD.<span style=\"color: #008080; text-decoration-color: #008080; font-weight: bold\">003.</span>root for analysis    <span style=\"color: #7f7f7f; text-decoration-color: #7f7f7f\">                                                        </span>\n",
       "</pre>\n"
      ],
      "text/plain": [
       "\u001b[2;36m          \u001b[0m\u001b[2;36m \u001b[0m\u001b[34mINFO    \u001b[0m Adding                                 \u001b]8;id=735004;file:///Users/REhlers/software/dev/mammoth/src/mammoth/hardest_kt/produce_flat_skim_from_track_skim.py\u001b\\\u001b[2mmammoth.hardest_kt.produce_flat_skim_from_track_skim\u001b[0m\u001b]8;;\u001b\\\u001b[2m:\u001b[0m\u001b]8;id=121414;file:///Users/REhlers/software/dev/mammoth/src/mammoth/hardest_kt/produce_flat_skim_from_track_skim.py#441\u001b\\\u001b[2m441\u001b[0m\u001b]8;;\u001b\\\n",
       "\u001b[2;36m           \u001b[0m         trains/pythia/\u001b[1;36m2619\u001b[0m/run_by_run/LHC18b8_ \u001b[2m                                                        \u001b[0m\n",
       "\u001b[2;36m           \u001b[0m         cent_woSDD/\u001b[1;36m282120\u001b[0m/\u001b[1;36m3\u001b[0m/AnalysisResults.18 \u001b[2m                                                        \u001b[0m\n",
       "\u001b[2;36m           \u001b[0m         b8_cent_woSDD.\u001b[1;36m003.\u001b[0mroot for analysis    \u001b[2m                                                        \u001b[0m\n"
      ]
     },
     "metadata": {},
     "output_type": "display_data"
    },
    {
     "data": {
      "text/html": [
       "<pre style=\"white-space:pre;overflow-x:auto;line-height:normal;font-family:Menlo,'DejaVu Sans Mono',consolas,'Courier New',monospace\"><span style=\"color: #7fbfbf; text-decoration-color: #7fbfbf\">           </span><span style=\"color: #000080; text-decoration-color: #000080\">INFO    </span> Adding                                 <a href=\"file:///Users/REhlers/software/dev/mammoth/src/mammoth/hardest_kt/produce_flat_skim_from_track_skim.py\" target=\"_blank\"><span style=\"color: #7f7f7f; text-decoration-color: #7f7f7f\">mammoth.hardest_kt.produce_flat_skim_from_track_skim</span></a><span style=\"color: #7f7f7f; text-decoration-color: #7f7f7f\">:</span><a href=\"file:///Users/REhlers/software/dev/mammoth/src/mammoth/hardest_kt/produce_flat_skim_from_track_skim.py#441\" target=\"_blank\"><span style=\"color: #7f7f7f; text-decoration-color: #7f7f7f\">441</span></a>\n",
       "<span style=\"color: #7fbfbf; text-decoration-color: #7fbfbf\">           </span>         trains/pythia/<span style=\"color: #008080; text-decoration-color: #008080; font-weight: bold\">2619</span>/run_by_run/LHC18b8_ <span style=\"color: #7f7f7f; text-decoration-color: #7f7f7f\">                                                        </span>\n",
       "<span style=\"color: #7fbfbf; text-decoration-color: #7fbfbf\">           </span>         cent_woSDD/<span style=\"color: #008080; text-decoration-color: #008080; font-weight: bold\">282146</span>/<span style=\"color: #008080; text-decoration-color: #008080; font-weight: bold\">4</span>/AnalysisResults.18 <span style=\"color: #7f7f7f; text-decoration-color: #7f7f7f\">                                                        </span>\n",
       "<span style=\"color: #7fbfbf; text-decoration-color: #7fbfbf\">           </span>         b8_cent_woSDD.<span style=\"color: #008080; text-decoration-color: #008080; font-weight: bold\">003.</span>root for analysis    <span style=\"color: #7f7f7f; text-decoration-color: #7f7f7f\">                                                        </span>\n",
       "</pre>\n"
      ],
      "text/plain": [
       "\u001b[2;36m          \u001b[0m\u001b[2;36m \u001b[0m\u001b[34mINFO    \u001b[0m Adding                                 \u001b]8;id=94384;file:///Users/REhlers/software/dev/mammoth/src/mammoth/hardest_kt/produce_flat_skim_from_track_skim.py\u001b\\\u001b[2mmammoth.hardest_kt.produce_flat_skim_from_track_skim\u001b[0m\u001b]8;;\u001b\\\u001b[2m:\u001b[0m\u001b]8;id=178393;file:///Users/REhlers/software/dev/mammoth/src/mammoth/hardest_kt/produce_flat_skim_from_track_skim.py#441\u001b\\\u001b[2m441\u001b[0m\u001b]8;;\u001b\\\n",
       "\u001b[2;36m           \u001b[0m         trains/pythia/\u001b[1;36m2619\u001b[0m/run_by_run/LHC18b8_ \u001b[2m                                                        \u001b[0m\n",
       "\u001b[2;36m           \u001b[0m         cent_woSDD/\u001b[1;36m282146\u001b[0m/\u001b[1;36m4\u001b[0m/AnalysisResults.18 \u001b[2m                                                        \u001b[0m\n",
       "\u001b[2;36m           \u001b[0m         b8_cent_woSDD.\u001b[1;36m003.\u001b[0mroot for analysis    \u001b[2m                                                        \u001b[0m\n"
      ]
     },
     "metadata": {},
     "output_type": "display_data"
    },
    {
     "data": {
      "text/html": [
       "<pre style=\"white-space:pre;overflow-x:auto;line-height:normal;font-family:Menlo,'DejaVu Sans Mono',consolas,'Courier New',monospace\"><span style=\"color: #7fbfbf; text-decoration-color: #7fbfbf\">           </span><span style=\"color: #000080; text-decoration-color: #000080\">INFO    </span> Adding                                 <a href=\"file:///Users/REhlers/software/dev/mammoth/src/mammoth/hardest_kt/produce_flat_skim_from_track_skim.py\" target=\"_blank\"><span style=\"color: #7f7f7f; text-decoration-color: #7f7f7f\">mammoth.hardest_kt.produce_flat_skim_from_track_skim</span></a><span style=\"color: #7f7f7f; text-decoration-color: #7f7f7f\">:</span><a href=\"file:///Users/REhlers/software/dev/mammoth/src/mammoth/hardest_kt/produce_flat_skim_from_track_skim.py#441\" target=\"_blank\"><span style=\"color: #7f7f7f; text-decoration-color: #7f7f7f\">441</span></a>\n",
       "<span style=\"color: #7fbfbf; text-decoration-color: #7fbfbf\">           </span>         trains/pythia/<span style=\"color: #008080; text-decoration-color: #008080; font-weight: bold\">2619</span>/run_by_run/LHC18b8_ <span style=\"color: #7f7f7f; text-decoration-color: #7f7f7f\">                                                        </span>\n",
       "<span style=\"color: #7fbfbf; text-decoration-color: #7fbfbf\">           </span>         cent_woSDD/<span style=\"color: #008080; text-decoration-color: #008080; font-weight: bold\">282302</span>/<span style=\"color: #008080; text-decoration-color: #008080; font-weight: bold\">5</span>/AnalysisResults.18 <span style=\"color: #7f7f7f; text-decoration-color: #7f7f7f\">                                                        </span>\n",
       "<span style=\"color: #7fbfbf; text-decoration-color: #7fbfbf\">           </span>         b8_cent_woSDD.<span style=\"color: #008080; text-decoration-color: #008080; font-weight: bold\">005.</span>root for analysis    <span style=\"color: #7f7f7f; text-decoration-color: #7f7f7f\">                                                        </span>\n",
       "</pre>\n"
      ],
      "text/plain": [
       "\u001b[2;36m          \u001b[0m\u001b[2;36m \u001b[0m\u001b[34mINFO    \u001b[0m Adding                                 \u001b]8;id=713552;file:///Users/REhlers/software/dev/mammoth/src/mammoth/hardest_kt/produce_flat_skim_from_track_skim.py\u001b\\\u001b[2mmammoth.hardest_kt.produce_flat_skim_from_track_skim\u001b[0m\u001b]8;;\u001b\\\u001b[2m:\u001b[0m\u001b]8;id=297365;file:///Users/REhlers/software/dev/mammoth/src/mammoth/hardest_kt/produce_flat_skim_from_track_skim.py#441\u001b\\\u001b[2m441\u001b[0m\u001b]8;;\u001b\\\n",
       "\u001b[2;36m           \u001b[0m         trains/pythia/\u001b[1;36m2619\u001b[0m/run_by_run/LHC18b8_ \u001b[2m                                                        \u001b[0m\n",
       "\u001b[2;36m           \u001b[0m         cent_woSDD/\u001b[1;36m282302\u001b[0m/\u001b[1;36m5\u001b[0m/AnalysisResults.18 \u001b[2m                                                        \u001b[0m\n",
       "\u001b[2;36m           \u001b[0m         b8_cent_woSDD.\u001b[1;36m005.\u001b[0mroot for analysis    \u001b[2m                                                        \u001b[0m\n"
      ]
     },
     "metadata": {},
     "output_type": "display_data"
    },
    {
     "data": {
      "text/html": [
       "<pre style=\"white-space:pre;overflow-x:auto;line-height:normal;font-family:Menlo,'DejaVu Sans Mono',consolas,'Courier New',monospace\"><span style=\"color: #7fbfbf; text-decoration-color: #7fbfbf\">           </span><span style=\"color: #000080; text-decoration-color: #000080\">INFO    </span> Adding                                 <a href=\"file:///Users/REhlers/software/dev/mammoth/src/mammoth/hardest_kt/produce_flat_skim_from_track_skim.py\" target=\"_blank\"><span style=\"color: #7f7f7f; text-decoration-color: #7f7f7f\">mammoth.hardest_kt.produce_flat_skim_from_track_skim</span></a><span style=\"color: #7f7f7f; text-decoration-color: #7f7f7f\">:</span><a href=\"file:///Users/REhlers/software/dev/mammoth/src/mammoth/hardest_kt/produce_flat_skim_from_track_skim.py#441\" target=\"_blank\"><span style=\"color: #7f7f7f; text-decoration-color: #7f7f7f\">441</span></a>\n",
       "<span style=\"color: #7fbfbf; text-decoration-color: #7fbfbf\">           </span>         trains/pythia/<span style=\"color: #008080; text-decoration-color: #008080; font-weight: bold\">2619</span>/run_by_run/LHC18b8_ <span style=\"color: #7f7f7f; text-decoration-color: #7f7f7f\">                                                        </span>\n",
       "<span style=\"color: #7fbfbf; text-decoration-color: #7fbfbf\">           </span>         cent_woSDD/<span style=\"color: #008080; text-decoration-color: #008080; font-weight: bold\">282305</span>/<span style=\"color: #008080; text-decoration-color: #008080; font-weight: bold\">6</span>/AnalysisResults.18 <span style=\"color: #7f7f7f; text-decoration-color: #7f7f7f\">                                                        </span>\n",
       "<span style=\"color: #7fbfbf; text-decoration-color: #7fbfbf\">           </span>         b8_cent_woSDD.<span style=\"color: #008080; text-decoration-color: #008080; font-weight: bold\">001.</span>root for analysis    <span style=\"color: #7f7f7f; text-decoration-color: #7f7f7f\">                                                        </span>\n",
       "</pre>\n"
      ],
      "text/plain": [
       "\u001b[2;36m          \u001b[0m\u001b[2;36m \u001b[0m\u001b[34mINFO    \u001b[0m Adding                                 \u001b]8;id=306355;file:///Users/REhlers/software/dev/mammoth/src/mammoth/hardest_kt/produce_flat_skim_from_track_skim.py\u001b\\\u001b[2mmammoth.hardest_kt.produce_flat_skim_from_track_skim\u001b[0m\u001b]8;;\u001b\\\u001b[2m:\u001b[0m\u001b]8;id=796891;file:///Users/REhlers/software/dev/mammoth/src/mammoth/hardest_kt/produce_flat_skim_from_track_skim.py#441\u001b\\\u001b[2m441\u001b[0m\u001b]8;;\u001b\\\n",
       "\u001b[2;36m           \u001b[0m         trains/pythia/\u001b[1;36m2619\u001b[0m/run_by_run/LHC18b8_ \u001b[2m                                                        \u001b[0m\n",
       "\u001b[2;36m           \u001b[0m         cent_woSDD/\u001b[1;36m282305\u001b[0m/\u001b[1;36m6\u001b[0m/AnalysisResults.18 \u001b[2m                                                        \u001b[0m\n",
       "\u001b[2;36m           \u001b[0m         b8_cent_woSDD.\u001b[1;36m001.\u001b[0mroot for analysis    \u001b[2m                                                        \u001b[0m\n"
      ]
     },
     "metadata": {},
     "output_type": "display_data"
    },
    {
     "data": {
      "text/html": [
       "<pre style=\"white-space:pre;overflow-x:auto;line-height:normal;font-family:Menlo,'DejaVu Sans Mono',consolas,'Courier New',monospace\"><span style=\"color: #7fbfbf; text-decoration-color: #7fbfbf\">           </span><span style=\"color: #000080; text-decoration-color: #000080\">INFO    </span> Adding                                 <a href=\"file:///Users/REhlers/software/dev/mammoth/src/mammoth/hardest_kt/produce_flat_skim_from_track_skim.py\" target=\"_blank\"><span style=\"color: #7f7f7f; text-decoration-color: #7f7f7f\">mammoth.hardest_kt.produce_flat_skim_from_track_skim</span></a><span style=\"color: #7f7f7f; text-decoration-color: #7f7f7f\">:</span><a href=\"file:///Users/REhlers/software/dev/mammoth/src/mammoth/hardest_kt/produce_flat_skim_from_track_skim.py#441\" target=\"_blank\"><span style=\"color: #7f7f7f; text-decoration-color: #7f7f7f\">441</span></a>\n",
       "<span style=\"color: #7fbfbf; text-decoration-color: #7fbfbf\">           </span>         trains/pythia/<span style=\"color: #008080; text-decoration-color: #008080; font-weight: bold\">2619</span>/run_by_run/LHC18b8_ <span style=\"color: #7f7f7f; text-decoration-color: #7f7f7f\">                                                        </span>\n",
       "<span style=\"color: #7fbfbf; text-decoration-color: #7fbfbf\">           </span>         cent_woSDD/<span style=\"color: #008080; text-decoration-color: #008080; font-weight: bold\">282312</span>/<span style=\"color: #008080; text-decoration-color: #008080; font-weight: bold\">7</span>/AnalysisResults.18 <span style=\"color: #7f7f7f; text-decoration-color: #7f7f7f\">                                                        </span>\n",
       "<span style=\"color: #7fbfbf; text-decoration-color: #7fbfbf\">           </span>         b8_cent_woSDD.<span style=\"color: #008080; text-decoration-color: #008080; font-weight: bold\">003.</span>root for analysis    <span style=\"color: #7f7f7f; text-decoration-color: #7f7f7f\">                                                        </span>\n",
       "</pre>\n"
      ],
      "text/plain": [
       "\u001b[2;36m          \u001b[0m\u001b[2;36m \u001b[0m\u001b[34mINFO    \u001b[0m Adding                                 \u001b]8;id=657611;file:///Users/REhlers/software/dev/mammoth/src/mammoth/hardest_kt/produce_flat_skim_from_track_skim.py\u001b\\\u001b[2mmammoth.hardest_kt.produce_flat_skim_from_track_skim\u001b[0m\u001b]8;;\u001b\\\u001b[2m:\u001b[0m\u001b]8;id=376747;file:///Users/REhlers/software/dev/mammoth/src/mammoth/hardest_kt/produce_flat_skim_from_track_skim.py#441\u001b\\\u001b[2m441\u001b[0m\u001b]8;;\u001b\\\n",
       "\u001b[2;36m           \u001b[0m         trains/pythia/\u001b[1;36m2619\u001b[0m/run_by_run/LHC18b8_ \u001b[2m                                                        \u001b[0m\n",
       "\u001b[2;36m           \u001b[0m         cent_woSDD/\u001b[1;36m282312\u001b[0m/\u001b[1;36m7\u001b[0m/AnalysisResults.18 \u001b[2m                                                        \u001b[0m\n",
       "\u001b[2;36m           \u001b[0m         b8_cent_woSDD.\u001b[1;36m003.\u001b[0mroot for analysis    \u001b[2m                                                        \u001b[0m\n"
      ]
     },
     "metadata": {},
     "output_type": "display_data"
    },
    {
     "data": {
      "text/html": [
       "<pre style=\"white-space:pre;overflow-x:auto;line-height:normal;font-family:Menlo,'DejaVu Sans Mono',consolas,'Courier New',monospace\"><span style=\"color: #7fbfbf; text-decoration-color: #7fbfbf\">           </span><span style=\"color: #000080; text-decoration-color: #000080\">INFO    </span> Adding                                 <a href=\"file:///Users/REhlers/software/dev/mammoth/src/mammoth/hardest_kt/produce_flat_skim_from_track_skim.py\" target=\"_blank\"><span style=\"color: #7f7f7f; text-decoration-color: #7f7f7f\">mammoth.hardest_kt.produce_flat_skim_from_track_skim</span></a><span style=\"color: #7f7f7f; text-decoration-color: #7f7f7f\">:</span><a href=\"file:///Users/REhlers/software/dev/mammoth/src/mammoth/hardest_kt/produce_flat_skim_from_track_skim.py#441\" target=\"_blank\"><span style=\"color: #7f7f7f; text-decoration-color: #7f7f7f\">441</span></a>\n",
       "<span style=\"color: #7fbfbf; text-decoration-color: #7fbfbf\">           </span>         trains/pythia/<span style=\"color: #008080; text-decoration-color: #008080; font-weight: bold\">2619</span>/run_by_run/LHC18b8_ <span style=\"color: #7f7f7f; text-decoration-color: #7f7f7f\">                                                        </span>\n",
       "<span style=\"color: #7fbfbf; text-decoration-color: #7fbfbf\">           </span>         cent_woSDD/<span style=\"color: #008080; text-decoration-color: #008080; font-weight: bold\">282312</span>/<span style=\"color: #008080; text-decoration-color: #008080; font-weight: bold\">8</span>/AnalysisResults.18 <span style=\"color: #7f7f7f; text-decoration-color: #7f7f7f\">                                                        </span>\n",
       "<span style=\"color: #7fbfbf; text-decoration-color: #7fbfbf\">           </span>         b8_cent_woSDD.<span style=\"color: #008080; text-decoration-color: #008080; font-weight: bold\">008.</span>root for analysis    <span style=\"color: #7f7f7f; text-decoration-color: #7f7f7f\">                                                        </span>\n",
       "</pre>\n"
      ],
      "text/plain": [
       "\u001b[2;36m          \u001b[0m\u001b[2;36m \u001b[0m\u001b[34mINFO    \u001b[0m Adding                                 \u001b]8;id=582010;file:///Users/REhlers/software/dev/mammoth/src/mammoth/hardest_kt/produce_flat_skim_from_track_skim.py\u001b\\\u001b[2mmammoth.hardest_kt.produce_flat_skim_from_track_skim\u001b[0m\u001b]8;;\u001b\\\u001b[2m:\u001b[0m\u001b]8;id=747898;file:///Users/REhlers/software/dev/mammoth/src/mammoth/hardest_kt/produce_flat_skim_from_track_skim.py#441\u001b\\\u001b[2m441\u001b[0m\u001b]8;;\u001b\\\n",
       "\u001b[2;36m           \u001b[0m         trains/pythia/\u001b[1;36m2619\u001b[0m/run_by_run/LHC18b8_ \u001b[2m                                                        \u001b[0m\n",
       "\u001b[2;36m           \u001b[0m         cent_woSDD/\u001b[1;36m282312\u001b[0m/\u001b[1;36m8\u001b[0m/AnalysisResults.18 \u001b[2m                                                        \u001b[0m\n",
       "\u001b[2;36m           \u001b[0m         b8_cent_woSDD.\u001b[1;36m008.\u001b[0mroot for analysis    \u001b[2m                                                        \u001b[0m\n"
      ]
     },
     "metadata": {},
     "output_type": "display_data"
    },
    {
     "data": {
      "text/html": [
       "<pre style=\"white-space:pre;overflow-x:auto;line-height:normal;font-family:Menlo,'DejaVu Sans Mono',consolas,'Courier New',monospace\"><span style=\"color: #7fbfbf; text-decoration-color: #7fbfbf\">[14:44:48] </span><span style=\"color: #000080; text-decoration-color: #000080\">INFO    </span> Adding                                 <a href=\"file:///Users/REhlers/software/dev/mammoth/src/mammoth/hardest_kt/produce_flat_skim_from_track_skim.py\" target=\"_blank\"><span style=\"color: #7f7f7f; text-decoration-color: #7f7f7f\">mammoth.hardest_kt.produce_flat_skim_from_track_skim</span></a><span style=\"color: #7f7f7f; text-decoration-color: #7f7f7f\">:</span><a href=\"file:///Users/REhlers/software/dev/mammoth/src/mammoth/hardest_kt/produce_flat_skim_from_track_skim.py#441\" target=\"_blank\"><span style=\"color: #7f7f7f; text-decoration-color: #7f7f7f\">441</span></a>\n",
       "<span style=\"color: #7fbfbf; text-decoration-color: #7fbfbf\">           </span>         trains/pythia/<span style=\"color: #008080; text-decoration-color: #008080; font-weight: bold\">2619</span>/run_by_run/LHC18b8_ <span style=\"color: #7f7f7f; text-decoration-color: #7f7f7f\">                                                        </span>\n",
       "<span style=\"color: #7fbfbf; text-decoration-color: #7fbfbf\">           </span>         cent_woSDD/<span style=\"color: #008080; text-decoration-color: #008080; font-weight: bold\">282305</span>/<span style=\"color: #008080; text-decoration-color: #008080; font-weight: bold\">9</span>/AnalysisResults.18 <span style=\"color: #7f7f7f; text-decoration-color: #7f7f7f\">                                                        </span>\n",
       "<span style=\"color: #7fbfbf; text-decoration-color: #7fbfbf\">           </span>         b8_cent_woSDD.<span style=\"color: #008080; text-decoration-color: #008080; font-weight: bold\">001.</span>root for analysis    <span style=\"color: #7f7f7f; text-decoration-color: #7f7f7f\">                                                        </span>\n",
       "</pre>\n"
      ],
      "text/plain": [
       "\u001b[2;36m[14:44:48]\u001b[0m\u001b[2;36m \u001b[0m\u001b[34mINFO    \u001b[0m Adding                                 \u001b]8;id=753718;file:///Users/REhlers/software/dev/mammoth/src/mammoth/hardest_kt/produce_flat_skim_from_track_skim.py\u001b\\\u001b[2mmammoth.hardest_kt.produce_flat_skim_from_track_skim\u001b[0m\u001b]8;;\u001b\\\u001b[2m:\u001b[0m\u001b]8;id=937706;file:///Users/REhlers/software/dev/mammoth/src/mammoth/hardest_kt/produce_flat_skim_from_track_skim.py#441\u001b\\\u001b[2m441\u001b[0m\u001b]8;;\u001b\\\n",
       "\u001b[2;36m           \u001b[0m         trains/pythia/\u001b[1;36m2619\u001b[0m/run_by_run/LHC18b8_ \u001b[2m                                                        \u001b[0m\n",
       "\u001b[2;36m           \u001b[0m         cent_woSDD/\u001b[1;36m282305\u001b[0m/\u001b[1;36m9\u001b[0m/AnalysisResults.18 \u001b[2m                                                        \u001b[0m\n",
       "\u001b[2;36m           \u001b[0m         b8_cent_woSDD.\u001b[1;36m001.\u001b[0mroot for analysis    \u001b[2m                                                        \u001b[0m\n"
      ]
     },
     "metadata": {},
     "output_type": "display_data"
    },
    {
     "data": {
      "text/html": [
       "<pre style=\"white-space:pre;overflow-x:auto;line-height:normal;font-family:Menlo,'DejaVu Sans Mono',consolas,'Courier New',monospace\"><span style=\"color: #7fbfbf; text-decoration-color: #7fbfbf\">           </span><span style=\"color: #000080; text-decoration-color: #000080\">INFO    </span> Adding                                 <a href=\"file:///Users/REhlers/software/dev/mammoth/src/mammoth/hardest_kt/produce_flat_skim_from_track_skim.py\" target=\"_blank\"><span style=\"color: #7f7f7f; text-decoration-color: #7f7f7f\">mammoth.hardest_kt.produce_flat_skim_from_track_skim</span></a><span style=\"color: #7f7f7f; text-decoration-color: #7f7f7f\">:</span><a href=\"file:///Users/REhlers/software/dev/mammoth/src/mammoth/hardest_kt/produce_flat_skim_from_track_skim.py#441\" target=\"_blank\"><span style=\"color: #7f7f7f; text-decoration-color: #7f7f7f\">441</span></a>\n",
       "<span style=\"color: #7fbfbf; text-decoration-color: #7fbfbf\">           </span>         trains/pythia/<span style=\"color: #008080; text-decoration-color: #008080; font-weight: bold\">2619</span>/run_by_run/LHC18b8_ <span style=\"color: #7f7f7f; text-decoration-color: #7f7f7f\">                                                        </span>\n",
       "<span style=\"color: #7fbfbf; text-decoration-color: #7fbfbf\">           </span>         cent_woSDD/<span style=\"color: #008080; text-decoration-color: #008080; font-weight: bold\">282229</span>/<span style=\"color: #008080; text-decoration-color: #008080; font-weight: bold\">10</span>/AnalysisResults.1 <span style=\"color: #7f7f7f; text-decoration-color: #7f7f7f\">                                                        </span>\n",
       "<span style=\"color: #7fbfbf; text-decoration-color: #7fbfbf\">           </span>         8b8_cent_woSDD.<span style=\"color: #008080; text-decoration-color: #008080; font-weight: bold\">002.</span>root for analysis   <span style=\"color: #7f7f7f; text-decoration-color: #7f7f7f\">                                                        </span>\n",
       "</pre>\n"
      ],
      "text/plain": [
       "\u001b[2;36m          \u001b[0m\u001b[2;36m \u001b[0m\u001b[34mINFO    \u001b[0m Adding                                 \u001b]8;id=570124;file:///Users/REhlers/software/dev/mammoth/src/mammoth/hardest_kt/produce_flat_skim_from_track_skim.py\u001b\\\u001b[2mmammoth.hardest_kt.produce_flat_skim_from_track_skim\u001b[0m\u001b]8;;\u001b\\\u001b[2m:\u001b[0m\u001b]8;id=397653;file:///Users/REhlers/software/dev/mammoth/src/mammoth/hardest_kt/produce_flat_skim_from_track_skim.py#441\u001b\\\u001b[2m441\u001b[0m\u001b]8;;\u001b\\\n",
       "\u001b[2;36m           \u001b[0m         trains/pythia/\u001b[1;36m2619\u001b[0m/run_by_run/LHC18b8_ \u001b[2m                                                        \u001b[0m\n",
       "\u001b[2;36m           \u001b[0m         cent_woSDD/\u001b[1;36m282229\u001b[0m/\u001b[1;36m10\u001b[0m/AnalysisResults.1 \u001b[2m                                                        \u001b[0m\n",
       "\u001b[2;36m           \u001b[0m         8b8_cent_woSDD.\u001b[1;36m002.\u001b[0mroot for analysis   \u001b[2m                                                        \u001b[0m\n"
      ]
     },
     "metadata": {},
     "output_type": "display_data"
    },
    {
     "data": {
      "text/html": [
       "<pre style=\"white-space:pre;overflow-x:auto;line-height:normal;font-family:Menlo,'DejaVu Sans Mono',consolas,'Courier New',monospace\"><span style=\"color: #7fbfbf; text-decoration-color: #7fbfbf\">           </span><span style=\"color: #000080; text-decoration-color: #000080\">INFO    </span> Adding                                 <a href=\"file:///Users/REhlers/software/dev/mammoth/src/mammoth/hardest_kt/produce_flat_skim_from_track_skim.py\" target=\"_blank\"><span style=\"color: #7f7f7f; text-decoration-color: #7f7f7f\">mammoth.hardest_kt.produce_flat_skim_from_track_skim</span></a><span style=\"color: #7f7f7f; text-decoration-color: #7f7f7f\">:</span><a href=\"file:///Users/REhlers/software/dev/mammoth/src/mammoth/hardest_kt/produce_flat_skim_from_track_skim.py#441\" target=\"_blank\"><span style=\"color: #7f7f7f; text-decoration-color: #7f7f7f\">441</span></a>\n",
       "<span style=\"color: #7fbfbf; text-decoration-color: #7fbfbf\">           </span>         trains/pythia/<span style=\"color: #008080; text-decoration-color: #008080; font-weight: bold\">2619</span>/run_by_run/LHC18b8_ <span style=\"color: #7f7f7f; text-decoration-color: #7f7f7f\">                                                        </span>\n",
       "<span style=\"color: #7fbfbf; text-decoration-color: #7fbfbf\">           </span>         cent_woSDD/<span style=\"color: #008080; text-decoration-color: #008080; font-weight: bold\">282125</span>/<span style=\"color: #008080; text-decoration-color: #008080; font-weight: bold\">11</span>/AnalysisResults.1 <span style=\"color: #7f7f7f; text-decoration-color: #7f7f7f\">                                                        </span>\n",
       "<span style=\"color: #7fbfbf; text-decoration-color: #7fbfbf\">           </span>         8b8_cent_woSDD.<span style=\"color: #008080; text-decoration-color: #008080; font-weight: bold\">004.</span>root for analysis   <span style=\"color: #7f7f7f; text-decoration-color: #7f7f7f\">                                                        </span>\n",
       "</pre>\n"
      ],
      "text/plain": [
       "\u001b[2;36m          \u001b[0m\u001b[2;36m \u001b[0m\u001b[34mINFO    \u001b[0m Adding                                 \u001b]8;id=15227;file:///Users/REhlers/software/dev/mammoth/src/mammoth/hardest_kt/produce_flat_skim_from_track_skim.py\u001b\\\u001b[2mmammoth.hardest_kt.produce_flat_skim_from_track_skim\u001b[0m\u001b]8;;\u001b\\\u001b[2m:\u001b[0m\u001b]8;id=903162;file:///Users/REhlers/software/dev/mammoth/src/mammoth/hardest_kt/produce_flat_skim_from_track_skim.py#441\u001b\\\u001b[2m441\u001b[0m\u001b]8;;\u001b\\\n",
       "\u001b[2;36m           \u001b[0m         trains/pythia/\u001b[1;36m2619\u001b[0m/run_by_run/LHC18b8_ \u001b[2m                                                        \u001b[0m\n",
       "\u001b[2;36m           \u001b[0m         cent_woSDD/\u001b[1;36m282125\u001b[0m/\u001b[1;36m11\u001b[0m/AnalysisResults.1 \u001b[2m                                                        \u001b[0m\n",
       "\u001b[2;36m           \u001b[0m         8b8_cent_woSDD.\u001b[1;36m004.\u001b[0mroot for analysis   \u001b[2m                                                        \u001b[0m\n"
      ]
     },
     "metadata": {},
     "output_type": "display_data"
    },
    {
     "data": {
      "text/html": [
       "<pre style=\"white-space:pre;overflow-x:auto;line-height:normal;font-family:Menlo,'DejaVu Sans Mono',consolas,'Courier New',monospace\"><span style=\"color: #7fbfbf; text-decoration-color: #7fbfbf\">           </span><span style=\"color: #000080; text-decoration-color: #000080\">INFO    </span> Adding                                 <a href=\"file:///Users/REhlers/software/dev/mammoth/src/mammoth/hardest_kt/produce_flat_skim_from_track_skim.py\" target=\"_blank\"><span style=\"color: #7f7f7f; text-decoration-color: #7f7f7f\">mammoth.hardest_kt.produce_flat_skim_from_track_skim</span></a><span style=\"color: #7f7f7f; text-decoration-color: #7f7f7f\">:</span><a href=\"file:///Users/REhlers/software/dev/mammoth/src/mammoth/hardest_kt/produce_flat_skim_from_track_skim.py#441\" target=\"_blank\"><span style=\"color: #7f7f7f; text-decoration-color: #7f7f7f\">441</span></a>\n",
       "<span style=\"color: #7fbfbf; text-decoration-color: #7fbfbf\">           </span>         trains/pythia/<span style=\"color: #008080; text-decoration-color: #008080; font-weight: bold\">2619</span>/run_by_run/LHC18b8_ <span style=\"color: #7f7f7f; text-decoration-color: #7f7f7f\">                                                        </span>\n",
       "<span style=\"color: #7fbfbf; text-decoration-color: #7fbfbf\">           </span>         cent_woSDD/<span style=\"color: #008080; text-decoration-color: #008080; font-weight: bold\">282122</span>/<span style=\"color: #008080; text-decoration-color: #008080; font-weight: bold\">12</span>/AnalysisResults.1 <span style=\"color: #7f7f7f; text-decoration-color: #7f7f7f\">                                                        </span>\n",
       "<span style=\"color: #7fbfbf; text-decoration-color: #7fbfbf\">           </span>         8b8_cent_woSDD.<span style=\"color: #008080; text-decoration-color: #008080; font-weight: bold\">016.</span>root for analysis   <span style=\"color: #7f7f7f; text-decoration-color: #7f7f7f\">                                                        </span>\n",
       "</pre>\n"
      ],
      "text/plain": [
       "\u001b[2;36m          \u001b[0m\u001b[2;36m \u001b[0m\u001b[34mINFO    \u001b[0m Adding                                 \u001b]8;id=450380;file:///Users/REhlers/software/dev/mammoth/src/mammoth/hardest_kt/produce_flat_skim_from_track_skim.py\u001b\\\u001b[2mmammoth.hardest_kt.produce_flat_skim_from_track_skim\u001b[0m\u001b]8;;\u001b\\\u001b[2m:\u001b[0m\u001b]8;id=34904;file:///Users/REhlers/software/dev/mammoth/src/mammoth/hardest_kt/produce_flat_skim_from_track_skim.py#441\u001b\\\u001b[2m441\u001b[0m\u001b]8;;\u001b\\\n",
       "\u001b[2;36m           \u001b[0m         trains/pythia/\u001b[1;36m2619\u001b[0m/run_by_run/LHC18b8_ \u001b[2m                                                        \u001b[0m\n",
       "\u001b[2;36m           \u001b[0m         cent_woSDD/\u001b[1;36m282122\u001b[0m/\u001b[1;36m12\u001b[0m/AnalysisResults.1 \u001b[2m                                                        \u001b[0m\n",
       "\u001b[2;36m           \u001b[0m         8b8_cent_woSDD.\u001b[1;36m016.\u001b[0mroot for analysis   \u001b[2m                                                        \u001b[0m\n"
      ]
     },
     "metadata": {},
     "output_type": "display_data"
    },
    {
     "data": {
      "text/html": [
       "<pre style=\"white-space:pre;overflow-x:auto;line-height:normal;font-family:Menlo,'DejaVu Sans Mono',consolas,'Courier New',monospace\"><span style=\"color: #7fbfbf; text-decoration-color: #7fbfbf\">           </span><span style=\"color: #000080; text-decoration-color: #000080\">INFO    </span> Adding                                 <a href=\"file:///Users/REhlers/software/dev/mammoth/src/mammoth/hardest_kt/produce_flat_skim_from_track_skim.py\" target=\"_blank\"><span style=\"color: #7f7f7f; text-decoration-color: #7f7f7f\">mammoth.hardest_kt.produce_flat_skim_from_track_skim</span></a><span style=\"color: #7f7f7f; text-decoration-color: #7f7f7f\">:</span><a href=\"file:///Users/REhlers/software/dev/mammoth/src/mammoth/hardest_kt/produce_flat_skim_from_track_skim.py#441\" target=\"_blank\"><span style=\"color: #7f7f7f; text-decoration-color: #7f7f7f\">441</span></a>\n",
       "<span style=\"color: #7fbfbf; text-decoration-color: #7fbfbf\">           </span>         trains/pythia/<span style=\"color: #008080; text-decoration-color: #008080; font-weight: bold\">2619</span>/run_by_run/LHC18b8_ <span style=\"color: #7f7f7f; text-decoration-color: #7f7f7f\">                                                        </span>\n",
       "<span style=\"color: #7fbfbf; text-decoration-color: #7fbfbf\">           </span>         cent_woSDD/<span style=\"color: #008080; text-decoration-color: #008080; font-weight: bold\">282099</span>/<span style=\"color: #008080; text-decoration-color: #008080; font-weight: bold\">13</span>/AnalysisResults.1 <span style=\"color: #7f7f7f; text-decoration-color: #7f7f7f\">                                                        </span>\n",
       "<span style=\"color: #7fbfbf; text-decoration-color: #7fbfbf\">           </span>         8b8_cent_woSDD.<span style=\"color: #008080; text-decoration-color: #008080; font-weight: bold\">005.</span>root for analysis   <span style=\"color: #7f7f7f; text-decoration-color: #7f7f7f\">                                                        </span>\n",
       "</pre>\n"
      ],
      "text/plain": [
       "\u001b[2;36m          \u001b[0m\u001b[2;36m \u001b[0m\u001b[34mINFO    \u001b[0m Adding                                 \u001b]8;id=525456;file:///Users/REhlers/software/dev/mammoth/src/mammoth/hardest_kt/produce_flat_skim_from_track_skim.py\u001b\\\u001b[2mmammoth.hardest_kt.produce_flat_skim_from_track_skim\u001b[0m\u001b]8;;\u001b\\\u001b[2m:\u001b[0m\u001b]8;id=971126;file:///Users/REhlers/software/dev/mammoth/src/mammoth/hardest_kt/produce_flat_skim_from_track_skim.py#441\u001b\\\u001b[2m441\u001b[0m\u001b]8;;\u001b\\\n",
       "\u001b[2;36m           \u001b[0m         trains/pythia/\u001b[1;36m2619\u001b[0m/run_by_run/LHC18b8_ \u001b[2m                                                        \u001b[0m\n",
       "\u001b[2;36m           \u001b[0m         cent_woSDD/\u001b[1;36m282099\u001b[0m/\u001b[1;36m13\u001b[0m/AnalysisResults.1 \u001b[2m                                                        \u001b[0m\n",
       "\u001b[2;36m           \u001b[0m         8b8_cent_woSDD.\u001b[1;36m005.\u001b[0mroot for analysis   \u001b[2m                                                        \u001b[0m\n"
      ]
     },
     "metadata": {},
     "output_type": "display_data"
    },
    {
     "data": {
      "text/html": [
       "<pre style=\"white-space:pre;overflow-x:auto;line-height:normal;font-family:Menlo,'DejaVu Sans Mono',consolas,'Courier New',monospace\"><span style=\"color: #7fbfbf; text-decoration-color: #7fbfbf\">           </span><span style=\"color: #000080; text-decoration-color: #000080\">INFO    </span> Adding                                 <a href=\"file:///Users/REhlers/software/dev/mammoth/src/mammoth/hardest_kt/produce_flat_skim_from_track_skim.py\" target=\"_blank\"><span style=\"color: #7f7f7f; text-decoration-color: #7f7f7f\">mammoth.hardest_kt.produce_flat_skim_from_track_skim</span></a><span style=\"color: #7f7f7f; text-decoration-color: #7f7f7f\">:</span><a href=\"file:///Users/REhlers/software/dev/mammoth/src/mammoth/hardest_kt/produce_flat_skim_from_track_skim.py#441\" target=\"_blank\"><span style=\"color: #7f7f7f; text-decoration-color: #7f7f7f\">441</span></a>\n",
       "<span style=\"color: #7fbfbf; text-decoration-color: #7fbfbf\">           </span>         trains/pythia/<span style=\"color: #008080; text-decoration-color: #008080; font-weight: bold\">2619</span>/run_by_run/LHC18b8_ <span style=\"color: #7f7f7f; text-decoration-color: #7f7f7f\">                                                        </span>\n",
       "<span style=\"color: #7fbfbf; text-decoration-color: #7fbfbf\">           </span>         cent_woSDD/<span style=\"color: #008080; text-decoration-color: #008080; font-weight: bold\">282118</span>/<span style=\"color: #008080; text-decoration-color: #008080; font-weight: bold\">14</span>/AnalysisResults.1 <span style=\"color: #7f7f7f; text-decoration-color: #7f7f7f\">                                                        </span>\n",
       "<span style=\"color: #7fbfbf; text-decoration-color: #7fbfbf\">           </span>         8b8_cent_woSDD.<span style=\"color: #008080; text-decoration-color: #008080; font-weight: bold\">002.</span>root for analysis   <span style=\"color: #7f7f7f; text-decoration-color: #7f7f7f\">                                                        </span>\n",
       "</pre>\n"
      ],
      "text/plain": [
       "\u001b[2;36m          \u001b[0m\u001b[2;36m \u001b[0m\u001b[34mINFO    \u001b[0m Adding                                 \u001b]8;id=542596;file:///Users/REhlers/software/dev/mammoth/src/mammoth/hardest_kt/produce_flat_skim_from_track_skim.py\u001b\\\u001b[2mmammoth.hardest_kt.produce_flat_skim_from_track_skim\u001b[0m\u001b]8;;\u001b\\\u001b[2m:\u001b[0m\u001b]8;id=195897;file:///Users/REhlers/software/dev/mammoth/src/mammoth/hardest_kt/produce_flat_skim_from_track_skim.py#441\u001b\\\u001b[2m441\u001b[0m\u001b]8;;\u001b\\\n",
       "\u001b[2;36m           \u001b[0m         trains/pythia/\u001b[1;36m2619\u001b[0m/run_by_run/LHC18b8_ \u001b[2m                                                        \u001b[0m\n",
       "\u001b[2;36m           \u001b[0m         cent_woSDD/\u001b[1;36m282118\u001b[0m/\u001b[1;36m14\u001b[0m/AnalysisResults.1 \u001b[2m                                                        \u001b[0m\n",
       "\u001b[2;36m           \u001b[0m         8b8_cent_woSDD.\u001b[1;36m002.\u001b[0mroot for analysis   \u001b[2m                                                        \u001b[0m\n"
      ]
     },
     "metadata": {},
     "output_type": "display_data"
    },
    {
     "data": {
      "text/html": [
       "<pre style=\"white-space:pre;overflow-x:auto;line-height:normal;font-family:Menlo,'DejaVu Sans Mono',consolas,'Courier New',monospace\"><span style=\"color: #7fbfbf; text-decoration-color: #7fbfbf\">           </span><span style=\"color: #000080; text-decoration-color: #000080\">INFO    </span> Adding                                 <a href=\"file:///Users/REhlers/software/dev/mammoth/src/mammoth/hardest_kt/produce_flat_skim_from_track_skim.py\" target=\"_blank\"><span style=\"color: #7f7f7f; text-decoration-color: #7f7f7f\">mammoth.hardest_kt.produce_flat_skim_from_track_skim</span></a><span style=\"color: #7f7f7f; text-decoration-color: #7f7f7f\">:</span><a href=\"file:///Users/REhlers/software/dev/mammoth/src/mammoth/hardest_kt/produce_flat_skim_from_track_skim.py#441\" target=\"_blank\"><span style=\"color: #7f7f7f; text-decoration-color: #7f7f7f\">441</span></a>\n",
       "<span style=\"color: #7fbfbf; text-decoration-color: #7fbfbf\">           </span>         trains/pythia/<span style=\"color: #008080; text-decoration-color: #008080; font-weight: bold\">2619</span>/run_by_run/LHC18b8_ <span style=\"color: #7f7f7f; text-decoration-color: #7f7f7f\">                                                        </span>\n",
       "<span style=\"color: #7fbfbf; text-decoration-color: #7fbfbf\">           </span>         cent_woSDD/<span style=\"color: #008080; text-decoration-color: #008080; font-weight: bold\">282031</span>/<span style=\"color: #008080; text-decoration-color: #008080; font-weight: bold\">15</span>/AnalysisResults.1 <span style=\"color: #7f7f7f; text-decoration-color: #7f7f7f\">                                                        </span>\n",
       "<span style=\"color: #7fbfbf; text-decoration-color: #7fbfbf\">           </span>         8b8_cent_woSDD.<span style=\"color: #008080; text-decoration-color: #008080; font-weight: bold\">003.</span>root for analysis   <span style=\"color: #7f7f7f; text-decoration-color: #7f7f7f\">                                                        </span>\n",
       "</pre>\n"
      ],
      "text/plain": [
       "\u001b[2;36m          \u001b[0m\u001b[2;36m \u001b[0m\u001b[34mINFO    \u001b[0m Adding                                 \u001b]8;id=554192;file:///Users/REhlers/software/dev/mammoth/src/mammoth/hardest_kt/produce_flat_skim_from_track_skim.py\u001b\\\u001b[2mmammoth.hardest_kt.produce_flat_skim_from_track_skim\u001b[0m\u001b]8;;\u001b\\\u001b[2m:\u001b[0m\u001b]8;id=469893;file:///Users/REhlers/software/dev/mammoth/src/mammoth/hardest_kt/produce_flat_skim_from_track_skim.py#441\u001b\\\u001b[2m441\u001b[0m\u001b]8;;\u001b\\\n",
       "\u001b[2;36m           \u001b[0m         trains/pythia/\u001b[1;36m2619\u001b[0m/run_by_run/LHC18b8_ \u001b[2m                                                        \u001b[0m\n",
       "\u001b[2;36m           \u001b[0m         cent_woSDD/\u001b[1;36m282031\u001b[0m/\u001b[1;36m15\u001b[0m/AnalysisResults.1 \u001b[2m                                                        \u001b[0m\n",
       "\u001b[2;36m           \u001b[0m         8b8_cent_woSDD.\u001b[1;36m003.\u001b[0mroot for analysis   \u001b[2m                                                        \u001b[0m\n"
      ]
     },
     "metadata": {},
     "output_type": "display_data"
    },
    {
     "data": {
      "text/html": [
       "<pre style=\"white-space:pre;overflow-x:auto;line-height:normal;font-family:Menlo,'DejaVu Sans Mono',consolas,'Courier New',monospace\"><span style=\"color: #7fbfbf; text-decoration-color: #7fbfbf\">           </span><span style=\"color: #000080; text-decoration-color: #000080\">INFO    </span> Adding                                 <a href=\"file:///Users/REhlers/software/dev/mammoth/src/mammoth/hardest_kt/produce_flat_skim_from_track_skim.py\" target=\"_blank\"><span style=\"color: #7f7f7f; text-decoration-color: #7f7f7f\">mammoth.hardest_kt.produce_flat_skim_from_track_skim</span></a><span style=\"color: #7f7f7f; text-decoration-color: #7f7f7f\">:</span><a href=\"file:///Users/REhlers/software/dev/mammoth/src/mammoth/hardest_kt/produce_flat_skim_from_track_skim.py#441\" target=\"_blank\"><span style=\"color: #7f7f7f; text-decoration-color: #7f7f7f\">441</span></a>\n",
       "<span style=\"color: #7fbfbf; text-decoration-color: #7fbfbf\">           </span>         trains/pythia/<span style=\"color: #008080; text-decoration-color: #008080; font-weight: bold\">2619</span>/run_by_run/LHC18b8_ <span style=\"color: #7f7f7f; text-decoration-color: #7f7f7f\">                                                        </span>\n",
       "<span style=\"color: #7fbfbf; text-decoration-color: #7fbfbf\">           </span>         cent_woSDD/<span style=\"color: #008080; text-decoration-color: #008080; font-weight: bold\">282008</span>/<span style=\"color: #008080; text-decoration-color: #008080; font-weight: bold\">16</span>/AnalysisResults.1 <span style=\"color: #7f7f7f; text-decoration-color: #7f7f7f\">                                                        </span>\n",
       "<span style=\"color: #7fbfbf; text-decoration-color: #7fbfbf\">           </span>         8b8_cent_woSDD.<span style=\"color: #008080; text-decoration-color: #008080; font-weight: bold\">004.</span>root for analysis   <span style=\"color: #7f7f7f; text-decoration-color: #7f7f7f\">                                                        </span>\n",
       "</pre>\n"
      ],
      "text/plain": [
       "\u001b[2;36m          \u001b[0m\u001b[2;36m \u001b[0m\u001b[34mINFO    \u001b[0m Adding                                 \u001b]8;id=976960;file:///Users/REhlers/software/dev/mammoth/src/mammoth/hardest_kt/produce_flat_skim_from_track_skim.py\u001b\\\u001b[2mmammoth.hardest_kt.produce_flat_skim_from_track_skim\u001b[0m\u001b]8;;\u001b\\\u001b[2m:\u001b[0m\u001b]8;id=801216;file:///Users/REhlers/software/dev/mammoth/src/mammoth/hardest_kt/produce_flat_skim_from_track_skim.py#441\u001b\\\u001b[2m441\u001b[0m\u001b]8;;\u001b\\\n",
       "\u001b[2;36m           \u001b[0m         trains/pythia/\u001b[1;36m2619\u001b[0m/run_by_run/LHC18b8_ \u001b[2m                                                        \u001b[0m\n",
       "\u001b[2;36m           \u001b[0m         cent_woSDD/\u001b[1;36m282008\u001b[0m/\u001b[1;36m16\u001b[0m/AnalysisResults.1 \u001b[2m                                                        \u001b[0m\n",
       "\u001b[2;36m           \u001b[0m         8b8_cent_woSDD.\u001b[1;36m004.\u001b[0mroot for analysis   \u001b[2m                                                        \u001b[0m\n"
      ]
     },
     "metadata": {},
     "output_type": "display_data"
    },
    {
     "data": {
      "text/html": [
       "<pre style=\"white-space:pre;overflow-x:auto;line-height:normal;font-family:Menlo,'DejaVu Sans Mono',consolas,'Courier New',monospace\"><span style=\"color: #7fbfbf; text-decoration-color: #7fbfbf\">[14:44:49] </span><span style=\"color: #000080; text-decoration-color: #000080\">INFO    </span> Adding                                 <a href=\"file:///Users/REhlers/software/dev/mammoth/src/mammoth/hardest_kt/produce_flat_skim_from_track_skim.py\" target=\"_blank\"><span style=\"color: #7f7f7f; text-decoration-color: #7f7f7f\">mammoth.hardest_kt.produce_flat_skim_from_track_skim</span></a><span style=\"color: #7f7f7f; text-decoration-color: #7f7f7f\">:</span><a href=\"file:///Users/REhlers/software/dev/mammoth/src/mammoth/hardest_kt/produce_flat_skim_from_track_skim.py#441\" target=\"_blank\"><span style=\"color: #7f7f7f; text-decoration-color: #7f7f7f\">441</span></a>\n",
       "<span style=\"color: #7fbfbf; text-decoration-color: #7fbfbf\">           </span>         trains/pythia/<span style=\"color: #008080; text-decoration-color: #008080; font-weight: bold\">2619</span>/run_by_run/LHC18b8_ <span style=\"color: #7f7f7f; text-decoration-color: #7f7f7f\">                                                        </span>\n",
       "<span style=\"color: #7fbfbf; text-decoration-color: #7fbfbf\">           </span>         fast/<span style=\"color: #008080; text-decoration-color: #008080; font-weight: bold\">282341</span>/<span style=\"color: #008080; text-decoration-color: #008080; font-weight: bold\">16</span>/AnalysisResults.18b8_fa <span style=\"color: #7f7f7f; text-decoration-color: #7f7f7f\">                                                        </span>\n",
       "<span style=\"color: #7fbfbf; text-decoration-color: #7fbfbf\">           </span>         st.<span style=\"color: #008080; text-decoration-color: #008080; font-weight: bold\">007.</span>root for analysis               <span style=\"color: #7f7f7f; text-decoration-color: #7f7f7f\">                                                        </span>\n",
       "</pre>\n"
      ],
      "text/plain": [
       "\u001b[2;36m[14:44:49]\u001b[0m\u001b[2;36m \u001b[0m\u001b[34mINFO    \u001b[0m Adding                                 \u001b]8;id=110158;file:///Users/REhlers/software/dev/mammoth/src/mammoth/hardest_kt/produce_flat_skim_from_track_skim.py\u001b\\\u001b[2mmammoth.hardest_kt.produce_flat_skim_from_track_skim\u001b[0m\u001b]8;;\u001b\\\u001b[2m:\u001b[0m\u001b]8;id=444879;file:///Users/REhlers/software/dev/mammoth/src/mammoth/hardest_kt/produce_flat_skim_from_track_skim.py#441\u001b\\\u001b[2m441\u001b[0m\u001b]8;;\u001b\\\n",
       "\u001b[2;36m           \u001b[0m         trains/pythia/\u001b[1;36m2619\u001b[0m/run_by_run/LHC18b8_ \u001b[2m                                                        \u001b[0m\n",
       "\u001b[2;36m           \u001b[0m         fast/\u001b[1;36m282341\u001b[0m/\u001b[1;36m16\u001b[0m/AnalysisResults.18b8_fa \u001b[2m                                                        \u001b[0m\n",
       "\u001b[2;36m           \u001b[0m         st.\u001b[1;36m007.\u001b[0mroot for analysis               \u001b[2m                                                        \u001b[0m\n"
      ]
     },
     "metadata": {},
     "output_type": "display_data"
    },
    {
     "data": {
      "text/html": [
       "<pre style=\"white-space:pre;overflow-x:auto;line-height:normal;font-family:Menlo,'DejaVu Sans Mono',consolas,'Courier New',monospace\"><span style=\"color: #7fbfbf; text-decoration-color: #7fbfbf\">           </span><span style=\"color: #000080; text-decoration-color: #000080\">INFO    </span> Adding                                 <a href=\"file:///Users/REhlers/software/dev/mammoth/src/mammoth/hardest_kt/produce_flat_skim_from_track_skim.py\" target=\"_blank\"><span style=\"color: #7f7f7f; text-decoration-color: #7f7f7f\">mammoth.hardest_kt.produce_flat_skim_from_track_skim</span></a><span style=\"color: #7f7f7f; text-decoration-color: #7f7f7f\">:</span><a href=\"file:///Users/REhlers/software/dev/mammoth/src/mammoth/hardest_kt/produce_flat_skim_from_track_skim.py#441\" target=\"_blank\"><span style=\"color: #7f7f7f; text-decoration-color: #7f7f7f\">441</span></a>\n",
       "<span style=\"color: #7fbfbf; text-decoration-color: #7fbfbf\">           </span>         trains/pythia/<span style=\"color: #008080; text-decoration-color: #008080; font-weight: bold\">2619</span>/run_by_run/LHC18b8_ <span style=\"color: #7f7f7f; text-decoration-color: #7f7f7f\">                                                        </span>\n",
       "<span style=\"color: #7fbfbf; text-decoration-color: #7fbfbf\">           </span>         fast/<span style=\"color: #008080; text-decoration-color: #008080; font-weight: bold\">282306</span>/<span style=\"color: #008080; text-decoration-color: #008080; font-weight: bold\">17</span>/AnalysisResults.18b8_fa <span style=\"color: #7f7f7f; text-decoration-color: #7f7f7f\">                                                        </span>\n",
       "<span style=\"color: #7fbfbf; text-decoration-color: #7fbfbf\">           </span>         st.<span style=\"color: #008080; text-decoration-color: #008080; font-weight: bold\">006.</span>root for analysis               <span style=\"color: #7f7f7f; text-decoration-color: #7f7f7f\">                                                        </span>\n",
       "</pre>\n"
      ],
      "text/plain": [
       "\u001b[2;36m          \u001b[0m\u001b[2;36m \u001b[0m\u001b[34mINFO    \u001b[0m Adding                                 \u001b]8;id=283532;file:///Users/REhlers/software/dev/mammoth/src/mammoth/hardest_kt/produce_flat_skim_from_track_skim.py\u001b\\\u001b[2mmammoth.hardest_kt.produce_flat_skim_from_track_skim\u001b[0m\u001b]8;;\u001b\\\u001b[2m:\u001b[0m\u001b]8;id=843553;file:///Users/REhlers/software/dev/mammoth/src/mammoth/hardest_kt/produce_flat_skim_from_track_skim.py#441\u001b\\\u001b[2m441\u001b[0m\u001b]8;;\u001b\\\n",
       "\u001b[2;36m           \u001b[0m         trains/pythia/\u001b[1;36m2619\u001b[0m/run_by_run/LHC18b8_ \u001b[2m                                                        \u001b[0m\n",
       "\u001b[2;36m           \u001b[0m         fast/\u001b[1;36m282306\u001b[0m/\u001b[1;36m17\u001b[0m/AnalysisResults.18b8_fa \u001b[2m                                                        \u001b[0m\n",
       "\u001b[2;36m           \u001b[0m         st.\u001b[1;36m006.\u001b[0mroot for analysis               \u001b[2m                                                        \u001b[0m\n"
      ]
     },
     "metadata": {},
     "output_type": "display_data"
    },
    {
     "data": {
      "text/html": [
       "<pre style=\"white-space:pre;overflow-x:auto;line-height:normal;font-family:Menlo,'DejaVu Sans Mono',consolas,'Courier New',monospace\"><span style=\"color: #7fbfbf; text-decoration-color: #7fbfbf\">           </span><span style=\"color: #000080; text-decoration-color: #000080\">INFO    </span> Adding                                 <a href=\"file:///Users/REhlers/software/dev/mammoth/src/mammoth/hardest_kt/produce_flat_skim_from_track_skim.py\" target=\"_blank\"><span style=\"color: #7f7f7f; text-decoration-color: #7f7f7f\">mammoth.hardest_kt.produce_flat_skim_from_track_skim</span></a><span style=\"color: #7f7f7f; text-decoration-color: #7f7f7f\">:</span><a href=\"file:///Users/REhlers/software/dev/mammoth/src/mammoth/hardest_kt/produce_flat_skim_from_track_skim.py#441\" target=\"_blank\"><span style=\"color: #7f7f7f; text-decoration-color: #7f7f7f\">441</span></a>\n",
       "<span style=\"color: #7fbfbf; text-decoration-color: #7fbfbf\">           </span>         trains/pythia/<span style=\"color: #008080; text-decoration-color: #008080; font-weight: bold\">2619</span>/run_by_run/LHC18b8_ <span style=\"color: #7f7f7f; text-decoration-color: #7f7f7f\">                                                        </span>\n",
       "<span style=\"color: #7fbfbf; text-decoration-color: #7fbfbf\">           </span>         fast/<span style=\"color: #008080; text-decoration-color: #008080; font-weight: bold\">282146</span>/<span style=\"color: #008080; text-decoration-color: #008080; font-weight: bold\">18</span>/AnalysisResults.18b8_fa <span style=\"color: #7f7f7f; text-decoration-color: #7f7f7f\">                                                        </span>\n",
       "<span style=\"color: #7fbfbf; text-decoration-color: #7fbfbf\">           </span>         st.<span style=\"color: #008080; text-decoration-color: #008080; font-weight: bold\">007.</span>root for analysis               <span style=\"color: #7f7f7f; text-decoration-color: #7f7f7f\">                                                        </span>\n",
       "</pre>\n"
      ],
      "text/plain": [
       "\u001b[2;36m          \u001b[0m\u001b[2;36m \u001b[0m\u001b[34mINFO    \u001b[0m Adding                                 \u001b]8;id=295073;file:///Users/REhlers/software/dev/mammoth/src/mammoth/hardest_kt/produce_flat_skim_from_track_skim.py\u001b\\\u001b[2mmammoth.hardest_kt.produce_flat_skim_from_track_skim\u001b[0m\u001b]8;;\u001b\\\u001b[2m:\u001b[0m\u001b]8;id=286232;file:///Users/REhlers/software/dev/mammoth/src/mammoth/hardest_kt/produce_flat_skim_from_track_skim.py#441\u001b\\\u001b[2m441\u001b[0m\u001b]8;;\u001b\\\n",
       "\u001b[2;36m           \u001b[0m         trains/pythia/\u001b[1;36m2619\u001b[0m/run_by_run/LHC18b8_ \u001b[2m                                                        \u001b[0m\n",
       "\u001b[2;36m           \u001b[0m         fast/\u001b[1;36m282146\u001b[0m/\u001b[1;36m18\u001b[0m/AnalysisResults.18b8_fa \u001b[2m                                                        \u001b[0m\n",
       "\u001b[2;36m           \u001b[0m         st.\u001b[1;36m007.\u001b[0mroot for analysis               \u001b[2m                                                        \u001b[0m\n"
      ]
     },
     "metadata": {},
     "output_type": "display_data"
    },
    {
     "data": {
      "text/html": [
       "<pre style=\"white-space:pre;overflow-x:auto;line-height:normal;font-family:Menlo,'DejaVu Sans Mono',consolas,'Courier New',monospace\"><span style=\"color: #7fbfbf; text-decoration-color: #7fbfbf\">           </span><span style=\"color: #000080; text-decoration-color: #000080\">INFO    </span> Adding                                 <a href=\"file:///Users/REhlers/software/dev/mammoth/src/mammoth/hardest_kt/produce_flat_skim_from_track_skim.py\" target=\"_blank\"><span style=\"color: #7f7f7f; text-decoration-color: #7f7f7f\">mammoth.hardest_kt.produce_flat_skim_from_track_skim</span></a><span style=\"color: #7f7f7f; text-decoration-color: #7f7f7f\">:</span><a href=\"file:///Users/REhlers/software/dev/mammoth/src/mammoth/hardest_kt/produce_flat_skim_from_track_skim.py#441\" target=\"_blank\"><span style=\"color: #7f7f7f; text-decoration-color: #7f7f7f\">441</span></a>\n",
       "<span style=\"color: #7fbfbf; text-decoration-color: #7fbfbf\">           </span>         trains/pythia/<span style=\"color: #008080; text-decoration-color: #008080; font-weight: bold\">2619</span>/run_by_run/LHC18b8_ <span style=\"color: #7f7f7f; text-decoration-color: #7f7f7f\">                                                        </span>\n",
       "<span style=\"color: #7fbfbf; text-decoration-color: #7fbfbf\">           </span>         fast/<span style=\"color: #008080; text-decoration-color: #008080; font-weight: bold\">282123</span>/<span style=\"color: #008080; text-decoration-color: #008080; font-weight: bold\">19</span>/AnalysisResults.18b8_fa <span style=\"color: #7f7f7f; text-decoration-color: #7f7f7f\">                                                        </span>\n",
       "<span style=\"color: #7fbfbf; text-decoration-color: #7fbfbf\">           </span>         st.<span style=\"color: #008080; text-decoration-color: #008080; font-weight: bold\">012.</span>root for analysis               <span style=\"color: #7f7f7f; text-decoration-color: #7f7f7f\">                                                        </span>\n",
       "</pre>\n"
      ],
      "text/plain": [
       "\u001b[2;36m          \u001b[0m\u001b[2;36m \u001b[0m\u001b[34mINFO    \u001b[0m Adding                                 \u001b]8;id=5080;file:///Users/REhlers/software/dev/mammoth/src/mammoth/hardest_kt/produce_flat_skim_from_track_skim.py\u001b\\\u001b[2mmammoth.hardest_kt.produce_flat_skim_from_track_skim\u001b[0m\u001b]8;;\u001b\\\u001b[2m:\u001b[0m\u001b]8;id=189680;file:///Users/REhlers/software/dev/mammoth/src/mammoth/hardest_kt/produce_flat_skim_from_track_skim.py#441\u001b\\\u001b[2m441\u001b[0m\u001b]8;;\u001b\\\n",
       "\u001b[2;36m           \u001b[0m         trains/pythia/\u001b[1;36m2619\u001b[0m/run_by_run/LHC18b8_ \u001b[2m                                                        \u001b[0m\n",
       "\u001b[2;36m           \u001b[0m         fast/\u001b[1;36m282123\u001b[0m/\u001b[1;36m19\u001b[0m/AnalysisResults.18b8_fa \u001b[2m                                                        \u001b[0m\n",
       "\u001b[2;36m           \u001b[0m         st.\u001b[1;36m012.\u001b[0mroot for analysis               \u001b[2m                                                        \u001b[0m\n"
      ]
     },
     "metadata": {},
     "output_type": "display_data"
    },
    {
     "data": {
      "text/html": [
       "<pre style=\"white-space:pre;overflow-x:auto;line-height:normal;font-family:Menlo,'DejaVu Sans Mono',consolas,'Courier New',monospace\"><span style=\"color: #7fbfbf; text-decoration-color: #7fbfbf\">           </span><span style=\"color: #000080; text-decoration-color: #000080\">INFO    </span> Adding                                 <a href=\"file:///Users/REhlers/software/dev/mammoth/src/mammoth/hardest_kt/produce_flat_skim_from_track_skim.py\" target=\"_blank\"><span style=\"color: #7f7f7f; text-decoration-color: #7f7f7f\">mammoth.hardest_kt.produce_flat_skim_from_track_skim</span></a><span style=\"color: #7f7f7f; text-decoration-color: #7f7f7f\">:</span><a href=\"file:///Users/REhlers/software/dev/mammoth/src/mammoth/hardest_kt/produce_flat_skim_from_track_skim.py#441\" target=\"_blank\"><span style=\"color: #7f7f7f; text-decoration-color: #7f7f7f\">441</span></a>\n",
       "<span style=\"color: #7fbfbf; text-decoration-color: #7fbfbf\">           </span>         trains/pythia/<span style=\"color: #008080; text-decoration-color: #008080; font-weight: bold\">2619</span>/run_by_run/LHC18b8_ <span style=\"color: #7f7f7f; text-decoration-color: #7f7f7f\">                                                        </span>\n",
       "<span style=\"color: #7fbfbf; text-decoration-color: #7fbfbf\">           </span>         fast/<span style=\"color: #008080; text-decoration-color: #008080; font-weight: bold\">282031</span>/<span style=\"color: #008080; text-decoration-color: #008080; font-weight: bold\">20</span>/AnalysisResults.18b8_fa <span style=\"color: #7f7f7f; text-decoration-color: #7f7f7f\">                                                        </span>\n",
       "<span style=\"color: #7fbfbf; text-decoration-color: #7fbfbf\">           </span>         st.<span style=\"color: #008080; text-decoration-color: #008080; font-weight: bold\">005.</span>root for analysis               <span style=\"color: #7f7f7f; text-decoration-color: #7f7f7f\">                                                        </span>\n",
       "</pre>\n"
      ],
      "text/plain": [
       "\u001b[2;36m          \u001b[0m\u001b[2;36m \u001b[0m\u001b[34mINFO    \u001b[0m Adding                                 \u001b]8;id=908619;file:///Users/REhlers/software/dev/mammoth/src/mammoth/hardest_kt/produce_flat_skim_from_track_skim.py\u001b\\\u001b[2mmammoth.hardest_kt.produce_flat_skim_from_track_skim\u001b[0m\u001b]8;;\u001b\\\u001b[2m:\u001b[0m\u001b]8;id=299278;file:///Users/REhlers/software/dev/mammoth/src/mammoth/hardest_kt/produce_flat_skim_from_track_skim.py#441\u001b\\\u001b[2m441\u001b[0m\u001b]8;;\u001b\\\n",
       "\u001b[2;36m           \u001b[0m         trains/pythia/\u001b[1;36m2619\u001b[0m/run_by_run/LHC18b8_ \u001b[2m                                                        \u001b[0m\n",
       "\u001b[2;36m           \u001b[0m         fast/\u001b[1;36m282031\u001b[0m/\u001b[1;36m20\u001b[0m/AnalysisResults.18b8_fa \u001b[2m                                                        \u001b[0m\n",
       "\u001b[2;36m           \u001b[0m         st.\u001b[1;36m005.\u001b[0mroot for analysis               \u001b[2m                                                        \u001b[0m\n"
      ]
     },
     "metadata": {},
     "output_type": "display_data"
    },
    {
     "data": {
      "text/html": [
       "<pre style=\"white-space:pre;overflow-x:auto;line-height:normal;font-family:Menlo,'DejaVu Sans Mono',consolas,'Courier New',monospace\"><span style=\"color: #7fbfbf; text-decoration-color: #7fbfbf\">           </span><span style=\"color: #000080; text-decoration-color: #000080\">INFO    </span> Accumulated <span style=\"color: #008080; text-decoration-color: #008080; font-weight: bold\">10324</span> futures for pythia  <a href=\"file:///Users/REhlers/software/dev/mammoth/src/mammoth/hardest_kt/produce_flat_skim_from_track_skim.py\" target=\"_blank\"><span style=\"color: #7f7f7f; text-decoration-color: #7f7f7f\">mammoth.hardest_kt.produce_flat_skim_from_track_skim</span></a><span style=\"color: #7f7f7f; text-decoration-color: #7f7f7f\">:</span><a href=\"file:///Users/REhlers/software/dev/mammoth/src/mammoth/hardest_kt/produce_flat_skim_from_track_skim.py#1195\" target=\"_blank\"><span style=\"color: #7f7f7f; text-decoration-color: #7f7f7f\">1195</span></a>\n",
       "</pre>\n"
      ],
      "text/plain": [
       "\u001b[2;36m          \u001b[0m\u001b[2;36m \u001b[0m\u001b[34mINFO    \u001b[0m Accumulated \u001b[1;36m10324\u001b[0m futures for pythia  \u001b]8;id=472991;file:///Users/REhlers/software/dev/mammoth/src/mammoth/hardest_kt/produce_flat_skim_from_track_skim.py\u001b\\\u001b[2mmammoth.hardest_kt.produce_flat_skim_from_track_skim\u001b[0m\u001b]8;;\u001b\\\u001b[2m:\u001b[0m\u001b]8;id=513241;file:///Users/REhlers/software/dev/mammoth/src/mammoth/hardest_kt/produce_flat_skim_from_track_skim.py#1195\u001b\\\u001b[2m1195\u001b[0m\u001b]8;;\u001b\\\n"
      ]
     },
     "metadata": {},
     "output_type": "display_data"
    },
    {
     "data": {
      "text/html": [
       "<pre style=\"white-space:pre;overflow-x:auto;line-height:normal;font-family:Menlo,'DejaVu Sans Mono',consolas,'Courier New',monospace\"><span style=\"color: #7fbfbf; text-decoration-color: #7fbfbf\">           </span><span style=\"color: #000080; text-decoration-color: #000080\">INFO    </span> Accumulated <span style=\"color: #008080; text-decoration-color: #008080; font-weight: bold\">10324</span> total futures       <a href=\"file:///Users/REhlers/software/dev/mammoth/src/mammoth/hardest_kt/produce_flat_skim_from_track_skim.py\" target=\"_blank\"><span style=\"color: #7f7f7f; text-decoration-color: #7f7f7f\">mammoth.hardest_kt.produce_flat_skim_from_track_skim</span></a><span style=\"color: #7f7f7f; text-decoration-color: #7f7f7f\">:</span><a href=\"file:///Users/REhlers/software/dev/mammoth/src/mammoth/hardest_kt/produce_flat_skim_from_track_skim.py#1197\" target=\"_blank\"><span style=\"color: #7f7f7f; text-decoration-color: #7f7f7f\">1197</span></a>\n",
       "</pre>\n"
      ],
      "text/plain": [
       "\u001b[2;36m          \u001b[0m\u001b[2;36m \u001b[0m\u001b[34mINFO    \u001b[0m Accumulated \u001b[1;36m10324\u001b[0m total futures       \u001b]8;id=620726;file:///Users/REhlers/software/dev/mammoth/src/mammoth/hardest_kt/produce_flat_skim_from_track_skim.py\u001b\\\u001b[2mmammoth.hardest_kt.produce_flat_skim_from_track_skim\u001b[0m\u001b]8;;\u001b\\\u001b[2m:\u001b[0m\u001b]8;id=455836;file:///Users/REhlers/software/dev/mammoth/src/mammoth/hardest_kt/produce_flat_skim_from_track_skim.py#1197\u001b\\\u001b[2m1197\u001b[0m\u001b]8;;\u001b\\\n"
      ]
     },
     "metadata": {},
     "output_type": "display_data"
    }
   ],
   "source": [
    "futures = produce_flat_skim_from_track_skim.setup_and_submit_tasks(\n",
    "    productions=productions,\n",
    "    task_config=task_config,\n",
    "    job_framework=job_framework,\n",
    "    debug_mode=debug_mode,\n",
    "    job_executor=job_executor if job_framework == job_utils.JobFramework.dask_delayed else None,  # type: ignore[arg-type]\n",
    ")\n",
    "#futures"
   ]
  },
  {
   "cell_type": "code",
   "execution_count": 8,
   "metadata": {},
   "outputs": [
    {
     "data": {
      "text/html": [
       "<pre style=\"white-space:pre;overflow-x:auto;line-height:normal;font-family:Menlo,'DejaVu Sans Mono',consolas,'Courier New',monospace\">\n",
       "<span style=\"font-weight: bold\">[</span>\n",
       "    <span style=\"font-weight: bold\">&lt;</span><span style=\"color: #ff00ff; text-decoration-color: #ff00ff; font-weight: bold\">Future:</span><span style=\"color: #000000; text-decoration-color: #000000\"> pending, key: _run_data_skim-</span><span style=\"color: #ffff00; text-decoration-color: #ffff00\">a1d8df5e-4561-46c8-81bd-901733096c29</span><span style=\"color: #000000; text-decoration-color: #000000\">&gt;,</span>\n",
       "<span style=\"color: #000000; text-decoration-color: #000000\">    &lt;Future: pending, key: _run_data_skim-</span><span style=\"color: #ffff00; text-decoration-color: #ffff00\">fc47ad3d-e7a7-4d09-be7d-30975e014f2b</span><span style=\"color: #000000; text-decoration-color: #000000\">&gt;,</span>\n",
       "<span style=\"color: #000000; text-decoration-color: #000000\">    &lt;Future: pending, key: _run_data_skim-</span><span style=\"color: #ffff00; text-decoration-color: #ffff00\">70b46a87-c410-415d-a84e-5994a9560e40</span><span style=\"color: #000000; text-decoration-color: #000000\">&gt;,</span>\n",
       "<span style=\"color: #000000; text-decoration-color: #000000\">    &lt;Future: pending, key: _run_data_skim-</span><span style=\"color: #ffff00; text-decoration-color: #ffff00\">bcd7cd61-1277-4389-bc3a-9bec70a9c7e7</span><span style=\"color: #000000; text-decoration-color: #000000\">&gt;,</span>\n",
       "<span style=\"color: #000000; text-decoration-color: #000000\">    &lt;Future: pending, key: _run_data_skim-</span><span style=\"color: #ffff00; text-decoration-color: #ffff00\">40d9f5c5-83d2-4de5-b5ac-050554ca3670</span><span style=\"color: #000000; text-decoration-color: #000000\">&gt;,</span>\n",
       "<span style=\"color: #000000; text-decoration-color: #000000\">    &lt;Future: pending, key: _run_data_skim-</span><span style=\"color: #ffff00; text-decoration-color: #ffff00\">9d0c1c09-b16b-4e60-99e9-b6a84709435e</span><span style=\"color: #000000; text-decoration-color: #000000\">&gt;,</span>\n",
       "<span style=\"color: #000000; text-decoration-color: #000000\">    &lt;Future: pending, key: _run_data_skim-</span><span style=\"color: #ffff00; text-decoration-color: #ffff00\">5cde0770-f7bb-4391-9b1d-81d554ff11bd</span><span style=\"color: #000000; text-decoration-color: #000000\">&gt;,</span>\n",
       "<span style=\"color: #000000; text-decoration-color: #000000\">    &lt;Future: pending, key: _run_data_skim-</span><span style=\"color: #ffff00; text-decoration-color: #ffff00\">42177e36-fc38-494d-81b5-85e65a2ebe13</span><span style=\"color: #000000; text-decoration-color: #000000\">&gt;,</span>\n",
       "<span style=\"color: #000000; text-decoration-color: #000000\">    &lt;Future: pending, key: _run_data_skim-</span><span style=\"color: #ffff00; text-decoration-color: #ffff00\">a2e3156b-9a89-4c11-8c45-cfd19849e8a3</span><span style=\"color: #000000; text-decoration-color: #000000\">&gt;,</span>\n",
       "<span style=\"color: #000000; text-decoration-color: #000000\">    &lt;Future: pending, key: _run_data_skim-</span><span style=\"color: #ffff00; text-decoration-color: #ffff00\">ba911b10-fde2-42cb-b420-19c1ea8e7d9a</span><span style=\"color: #000000; text-decoration-color: #000000\">&gt;,</span>\n",
       "<span style=\"color: #000000; text-decoration-color: #000000\">    &lt;Future: pending, key: _run_data_skim-</span><span style=\"color: #ffff00; text-decoration-color: #ffff00\">34ae705f-0376-4f19-8540-7fec212d2f7c</span><span style=\"color: #000000; text-decoration-color: #000000\">&gt;,</span>\n",
       "<span style=\"color: #000000; text-decoration-color: #000000\">    &lt;Future: pending, key: _run_data_skim-</span><span style=\"color: #ffff00; text-decoration-color: #ffff00\">c98fdb94-9f97-4d31-8304-e31c73a470ea</span><span style=\"color: #000000; text-decoration-color: #000000\">&gt;,</span>\n",
       "<span style=\"color: #000000; text-decoration-color: #000000\">    &lt;Future: pending, key: _run_data_skim-</span><span style=\"color: #ffff00; text-decoration-color: #ffff00\">4fa8ce40-f6ad-4fcd-baa0-b98f4c0e23c2</span><span style=\"color: #000000; text-decoration-color: #000000\">&gt;,</span>\n",
       "<span style=\"color: #000000; text-decoration-color: #000000\">    &lt;Future: pending, key: _run_data_skim-</span><span style=\"color: #ffff00; text-decoration-color: #ffff00\">3ffeff02-4606-4c3c-9365-3477c2e4a118</span><span style=\"color: #000000; text-decoration-color: #000000\">&gt;,</span>\n",
       "<span style=\"color: #000000; text-decoration-color: #000000\">    &lt;Future: pending, key: _run_data_skim-</span><span style=\"color: #ffff00; text-decoration-color: #ffff00\">c3e5d52d-4f43-48d1-873e-29bc5d2fa79a</span><span style=\"color: #000000; text-decoration-color: #000000\">&gt;,</span>\n",
       "<span style=\"color: #000000; text-decoration-color: #000000\">    &lt;Future: pending, key: _run_data_skim-</span><span style=\"color: #ffff00; text-decoration-color: #ffff00\">96db8405-5ef9-4956-84df-1fa27719d627</span><span style=\"color: #000000; text-decoration-color: #000000\">&gt;,</span>\n",
       "<span style=\"color: #000000; text-decoration-color: #000000\">    &lt;Future: pending, key: _run_data_skim-</span><span style=\"color: #ffff00; text-decoration-color: #ffff00\">06621fb2-93da-4165-87de-55cab983e0ea</span><span style=\"color: #000000; text-decoration-color: #000000\">&gt;,</span>\n",
       "<span style=\"color: #000000; text-decoration-color: #000000\">    &lt;Future: pending, key: _run_data_skim-</span><span style=\"color: #ffff00; text-decoration-color: #ffff00\">d193e89d-71de-4386-a4fe-355ee68705da</span><span style=\"color: #000000; text-decoration-color: #000000\">&gt;,</span>\n",
       "<span style=\"color: #000000; text-decoration-color: #000000\">    &lt;Future: pending, key: _run_data_skim-</span><span style=\"color: #ffff00; text-decoration-color: #ffff00\">489458fe-bb52-416f-b958-d47df003317d</span><span style=\"color: #000000; text-decoration-color: #000000\">&gt;,</span>\n",
       "<span style=\"color: #000000; text-decoration-color: #000000\">    &lt;Future: pending, key: _run_data_skim-</span><span style=\"color: #ffff00; text-decoration-color: #ffff00\">ae3990a0-e764-46fc-9fb9-93cdac516358</span><span style=\"font-weight: bold\">&gt;</span>\n",
       "<span style=\"font-weight: bold\">]</span>\n",
       "</pre>\n"
      ],
      "text/plain": [
       "\n",
       "\u001b[1m[\u001b[0m\n",
       "    \u001b[1m<\u001b[0m\u001b[1;95mFuture:\u001b[0m\u001b[39m pending, key: _run_data_skim-\u001b[0m\u001b[93ma1d8df5e-4561-46c8-81bd-901733096c29\u001b[0m\u001b[39m>,\u001b[0m\n",
       "\u001b[39m    <Future: pending, key: _run_data_skim-\u001b[0m\u001b[93mfc47ad3d-e7a7-4d09-be7d-30975e014f2b\u001b[0m\u001b[39m>,\u001b[0m\n",
       "\u001b[39m    <Future: pending, key: _run_data_skim-\u001b[0m\u001b[93m70b46a87-c410-415d-a84e-5994a9560e40\u001b[0m\u001b[39m>,\u001b[0m\n",
       "\u001b[39m    <Future: pending, key: _run_data_skim-\u001b[0m\u001b[93mbcd7cd61-1277-4389-bc3a-9bec70a9c7e7\u001b[0m\u001b[39m>,\u001b[0m\n",
       "\u001b[39m    <Future: pending, key: _run_data_skim-\u001b[0m\u001b[93m40d9f5c5-83d2-4de5-b5ac-050554ca3670\u001b[0m\u001b[39m>,\u001b[0m\n",
       "\u001b[39m    <Future: pending, key: _run_data_skim-\u001b[0m\u001b[93m9d0c1c09-b16b-4e60-99e9-b6a84709435e\u001b[0m\u001b[39m>,\u001b[0m\n",
       "\u001b[39m    <Future: pending, key: _run_data_skim-\u001b[0m\u001b[93m5cde0770-f7bb-4391-9b1d-81d554ff11bd\u001b[0m\u001b[39m>,\u001b[0m\n",
       "\u001b[39m    <Future: pending, key: _run_data_skim-\u001b[0m\u001b[93m42177e36-fc38-494d-81b5-85e65a2ebe13\u001b[0m\u001b[39m>,\u001b[0m\n",
       "\u001b[39m    <Future: pending, key: _run_data_skim-\u001b[0m\u001b[93ma2e3156b-9a89-4c11-8c45-cfd19849e8a3\u001b[0m\u001b[39m>,\u001b[0m\n",
       "\u001b[39m    <Future: pending, key: _run_data_skim-\u001b[0m\u001b[93mba911b10-fde2-42cb-b420-19c1ea8e7d9a\u001b[0m\u001b[39m>,\u001b[0m\n",
       "\u001b[39m    <Future: pending, key: _run_data_skim-\u001b[0m\u001b[93m34ae705f-0376-4f19-8540-7fec212d2f7c\u001b[0m\u001b[39m>,\u001b[0m\n",
       "\u001b[39m    <Future: pending, key: _run_data_skim-\u001b[0m\u001b[93mc98fdb94-9f97-4d31-8304-e31c73a470ea\u001b[0m\u001b[39m>,\u001b[0m\n",
       "\u001b[39m    <Future: pending, key: _run_data_skim-\u001b[0m\u001b[93m4fa8ce40-f6ad-4fcd-baa0-b98f4c0e23c2\u001b[0m\u001b[39m>,\u001b[0m\n",
       "\u001b[39m    <Future: pending, key: _run_data_skim-\u001b[0m\u001b[93m3ffeff02-4606-4c3c-9365-3477c2e4a118\u001b[0m\u001b[39m>,\u001b[0m\n",
       "\u001b[39m    <Future: pending, key: _run_data_skim-\u001b[0m\u001b[93mc3e5d52d-4f43-48d1-873e-29bc5d2fa79a\u001b[0m\u001b[39m>,\u001b[0m\n",
       "\u001b[39m    <Future: pending, key: _run_data_skim-\u001b[0m\u001b[93m96db8405-5ef9-4956-84df-1fa27719d627\u001b[0m\u001b[39m>,\u001b[0m\n",
       "\u001b[39m    <Future: pending, key: _run_data_skim-\u001b[0m\u001b[93m06621fb2-93da-4165-87de-55cab983e0ea\u001b[0m\u001b[39m>,\u001b[0m\n",
       "\u001b[39m    <Future: pending, key: _run_data_skim-\u001b[0m\u001b[93md193e89d-71de-4386-a4fe-355ee68705da\u001b[0m\u001b[39m>,\u001b[0m\n",
       "\u001b[39m    <Future: pending, key: _run_data_skim-\u001b[0m\u001b[93m489458fe-bb52-416f-b958-d47df003317d\u001b[0m\u001b[39m>,\u001b[0m\n",
       "\u001b[39m    <Future: pending, key: _run_data_skim-\u001b[0m\u001b[93mae3990a0-e764-46fc-9fb9-93cdac516358\u001b[0m\u001b[1m>\u001b[0m\n",
       "\u001b[1m]\u001b[0m\n"
      ]
     },
     "metadata": {},
     "output_type": "display_data"
    }
   ],
   "source": [
    "futures[:20]"
   ]
  },
  {
   "cell_type": "code",
   "execution_count": null,
   "metadata": {},
   "outputs": [],
   "source": [
    "all((f.result() for f in futures[2:]))"
   ]
  },
  {
   "attachments": {},
   "cell_type": "markdown",
   "metadata": {},
   "source": [
    "## Cleanup"
   ]
  },
  {
   "cell_type": "code",
   "execution_count": 8,
   "metadata": {},
   "outputs": [
    {
     "name": "stderr",
     "output_type": "stream",
     "text": [
      "2023-02-13 14:31:16,378 - distributed.nanny - WARNING - Worker process still alive after 3.199999389648438 seconds, killing\n"
     ]
    },
    {
     "data": {
      "text/html": [
       "<pre style=\"white-space:pre;overflow-x:auto;line-height:normal;font-family:Menlo,'DejaVu Sans Mono',consolas,'Courier New',monospace\"><span style=\"color: #7fbfbf; text-decoration-color: #7fbfbf\">[14:31:16] </span><span style=\"color: #800000; text-decoration-color: #800000\">WARNING </span> Worker process still alive after <span style=\"color: #008080; text-decoration-color: #008080; font-weight: bold\">3.199999389648438</span> seconds, killing       <a href=\"file:///Users/REhlers/software/dev/mammoth/.venv/lib/python3.10/site-packages/distributed/nanny.py\" target=\"_blank\"><span style=\"color: #7f7f7f; text-decoration-color: #7f7f7f\">distributed.nanny</span></a><span style=\"color: #7f7f7f; text-decoration-color: #7f7f7f\">:</span><a href=\"file:///Users/REhlers/software/dev/mammoth/.venv/lib/python3.10/site-packages/distributed/nanny.py#831\" target=\"_blank\"><span style=\"color: #7f7f7f; text-decoration-color: #7f7f7f\">831</span></a>\n",
       "</pre>\n"
      ],
      "text/plain": [
       "\u001b[2;36m[14:31:16]\u001b[0m\u001b[2;36m \u001b[0m\u001b[31mWARNING \u001b[0m Worker process still alive after \u001b[1;36m3.199999389648438\u001b[0m seconds, killing       \u001b]8;id=21804;file:///Users/REhlers/software/dev/mammoth/.venv/lib/python3.10/site-packages/distributed/nanny.py\u001b\\\u001b[2mdistributed.nanny\u001b[0m\u001b]8;;\u001b\\\u001b[2m:\u001b[0m\u001b]8;id=205644;file:///Users/REhlers/software/dev/mammoth/.venv/lib/python3.10/site-packages/distributed/nanny.py#831\u001b\\\u001b[2m831\u001b[0m\u001b]8;;\u001b\\\n"
      ]
     },
     "metadata": {},
     "output_type": "display_data"
    },
    {
     "name": "stderr",
     "output_type": "stream",
     "text": [
      "2023-02-13 14:31:16,383 - distributed.nanny - WARNING - Worker process still alive after 3.199999389648438 seconds, killing\n"
     ]
    },
    {
     "data": {
      "text/html": [
       "<pre style=\"white-space:pre;overflow-x:auto;line-height:normal;font-family:Menlo,'DejaVu Sans Mono',consolas,'Courier New',monospace\"><span style=\"color: #7fbfbf; text-decoration-color: #7fbfbf\">           </span><span style=\"color: #800000; text-decoration-color: #800000\">WARNING </span> Worker process still alive after <span style=\"color: #008080; text-decoration-color: #008080; font-weight: bold\">3.199999389648438</span> seconds, killing       <a href=\"file:///Users/REhlers/software/dev/mammoth/.venv/lib/python3.10/site-packages/distributed/nanny.py\" target=\"_blank\"><span style=\"color: #7f7f7f; text-decoration-color: #7f7f7f\">distributed.nanny</span></a><span style=\"color: #7f7f7f; text-decoration-color: #7f7f7f\">:</span><a href=\"file:///Users/REhlers/software/dev/mammoth/.venv/lib/python3.10/site-packages/distributed/nanny.py#831\" target=\"_blank\"><span style=\"color: #7f7f7f; text-decoration-color: #7f7f7f\">831</span></a>\n",
       "</pre>\n"
      ],
      "text/plain": [
       "\u001b[2;36m          \u001b[0m\u001b[2;36m \u001b[0m\u001b[31mWARNING \u001b[0m Worker process still alive after \u001b[1;36m3.199999389648438\u001b[0m seconds, killing       \u001b]8;id=578091;file:///Users/REhlers/software/dev/mammoth/.venv/lib/python3.10/site-packages/distributed/nanny.py\u001b\\\u001b[2mdistributed.nanny\u001b[0m\u001b]8;;\u001b\\\u001b[2m:\u001b[0m\u001b]8;id=796985;file:///Users/REhlers/software/dev/mammoth/.venv/lib/python3.10/site-packages/distributed/nanny.py#831\u001b\\\u001b[2m831\u001b[0m\u001b]8;;\u001b\\\n"
      ]
     },
     "metadata": {},
     "output_type": "display_data"
    },
    {
     "name": "stderr",
     "output_type": "stream",
     "text": [
      "2023-02-13 14:31:16,389 - distributed.nanny - WARNING - Worker process still alive after 3.199999389648438 seconds, killing\n"
     ]
    },
    {
     "data": {
      "text/html": [
       "<pre style=\"white-space:pre;overflow-x:auto;line-height:normal;font-family:Menlo,'DejaVu Sans Mono',consolas,'Courier New',monospace\"><span style=\"color: #7fbfbf; text-decoration-color: #7fbfbf\">           </span><span style=\"color: #800000; text-decoration-color: #800000\">WARNING </span> Worker process still alive after <span style=\"color: #008080; text-decoration-color: #008080; font-weight: bold\">3.199999389648438</span> seconds, killing       <a href=\"file:///Users/REhlers/software/dev/mammoth/.venv/lib/python3.10/site-packages/distributed/nanny.py\" target=\"_blank\"><span style=\"color: #7f7f7f; text-decoration-color: #7f7f7f\">distributed.nanny</span></a><span style=\"color: #7f7f7f; text-decoration-color: #7f7f7f\">:</span><a href=\"file:///Users/REhlers/software/dev/mammoth/.venv/lib/python3.10/site-packages/distributed/nanny.py#831\" target=\"_blank\"><span style=\"color: #7f7f7f; text-decoration-color: #7f7f7f\">831</span></a>\n",
       "</pre>\n"
      ],
      "text/plain": [
       "\u001b[2;36m          \u001b[0m\u001b[2;36m \u001b[0m\u001b[31mWARNING \u001b[0m Worker process still alive after \u001b[1;36m3.199999389648438\u001b[0m seconds, killing       \u001b]8;id=323100;file:///Users/REhlers/software/dev/mammoth/.venv/lib/python3.10/site-packages/distributed/nanny.py\u001b\\\u001b[2mdistributed.nanny\u001b[0m\u001b]8;;\u001b\\\u001b[2m:\u001b[0m\u001b]8;id=641327;file:///Users/REhlers/software/dev/mammoth/.venv/lib/python3.10/site-packages/distributed/nanny.py#831\u001b\\\u001b[2m831\u001b[0m\u001b]8;;\u001b\\\n"
      ]
     },
     "metadata": {},
     "output_type": "display_data"
    },
    {
     "name": "stderr",
     "output_type": "stream",
     "text": [
      "2023-02-13 14:31:16,397 - distributed.nanny - WARNING - Worker process still alive after 3.199999389648438 seconds, killing\n"
     ]
    },
    {
     "data": {
      "text/html": [
       "<pre style=\"white-space:pre;overflow-x:auto;line-height:normal;font-family:Menlo,'DejaVu Sans Mono',consolas,'Courier New',monospace\"><span style=\"color: #7fbfbf; text-decoration-color: #7fbfbf\">           </span><span style=\"color: #800000; text-decoration-color: #800000\">WARNING </span> Worker process still alive after <span style=\"color: #008080; text-decoration-color: #008080; font-weight: bold\">3.199999389648438</span> seconds, killing       <a href=\"file:///Users/REhlers/software/dev/mammoth/.venv/lib/python3.10/site-packages/distributed/nanny.py\" target=\"_blank\"><span style=\"color: #7f7f7f; text-decoration-color: #7f7f7f\">distributed.nanny</span></a><span style=\"color: #7f7f7f; text-decoration-color: #7f7f7f\">:</span><a href=\"file:///Users/REhlers/software/dev/mammoth/.venv/lib/python3.10/site-packages/distributed/nanny.py#831\" target=\"_blank\"><span style=\"color: #7f7f7f; text-decoration-color: #7f7f7f\">831</span></a>\n",
       "</pre>\n"
      ],
      "text/plain": [
       "\u001b[2;36m          \u001b[0m\u001b[2;36m \u001b[0m\u001b[31mWARNING \u001b[0m Worker process still alive after \u001b[1;36m3.199999389648438\u001b[0m seconds, killing       \u001b]8;id=79699;file:///Users/REhlers/software/dev/mammoth/.venv/lib/python3.10/site-packages/distributed/nanny.py\u001b\\\u001b[2mdistributed.nanny\u001b[0m\u001b]8;;\u001b\\\u001b[2m:\u001b[0m\u001b]8;id=915372;file:///Users/REhlers/software/dev/mammoth/.venv/lib/python3.10/site-packages/distributed/nanny.py#831\u001b\\\u001b[2m831\u001b[0m\u001b]8;;\u001b\\\n"
      ]
     },
     "metadata": {},
     "output_type": "display_data"
    },
    {
     "name": "stderr",
     "output_type": "stream",
     "text": [
      "2023-02-13 14:31:16,404 - distributed.nanny - WARNING - Worker process still alive after 3.199999389648438 seconds, killing\n"
     ]
    },
    {
     "data": {
      "text/html": [
       "<pre style=\"white-space:pre;overflow-x:auto;line-height:normal;font-family:Menlo,'DejaVu Sans Mono',consolas,'Courier New',monospace\"><span style=\"color: #7fbfbf; text-decoration-color: #7fbfbf\">           </span><span style=\"color: #800000; text-decoration-color: #800000\">WARNING </span> Worker process still alive after <span style=\"color: #008080; text-decoration-color: #008080; font-weight: bold\">3.199999389648438</span> seconds, killing       <a href=\"file:///Users/REhlers/software/dev/mammoth/.venv/lib/python3.10/site-packages/distributed/nanny.py\" target=\"_blank\"><span style=\"color: #7f7f7f; text-decoration-color: #7f7f7f\">distributed.nanny</span></a><span style=\"color: #7f7f7f; text-decoration-color: #7f7f7f\">:</span><a href=\"file:///Users/REhlers/software/dev/mammoth/.venv/lib/python3.10/site-packages/distributed/nanny.py#831\" target=\"_blank\"><span style=\"color: #7f7f7f; text-decoration-color: #7f7f7f\">831</span></a>\n",
       "</pre>\n"
      ],
      "text/plain": [
       "\u001b[2;36m          \u001b[0m\u001b[2;36m \u001b[0m\u001b[31mWARNING \u001b[0m Worker process still alive after \u001b[1;36m3.199999389648438\u001b[0m seconds, killing       \u001b]8;id=915750;file:///Users/REhlers/software/dev/mammoth/.venv/lib/python3.10/site-packages/distributed/nanny.py\u001b\\\u001b[2mdistributed.nanny\u001b[0m\u001b]8;;\u001b\\\u001b[2m:\u001b[0m\u001b]8;id=801789;file:///Users/REhlers/software/dev/mammoth/.venv/lib/python3.10/site-packages/distributed/nanny.py#831\u001b\\\u001b[2m831\u001b[0m\u001b]8;;\u001b\\\n"
      ]
     },
     "metadata": {},
     "output_type": "display_data"
    },
    {
     "name": "stderr",
     "output_type": "stream",
     "text": [
      "2023-02-13 14:31:16,415 - distributed.nanny - WARNING - Worker process still alive after 3.1999992370605472 seconds, killing\n"
     ]
    },
    {
     "data": {
      "text/html": [
       "<pre style=\"white-space:pre;overflow-x:auto;line-height:normal;font-family:Menlo,'DejaVu Sans Mono',consolas,'Courier New',monospace\"><span style=\"color: #7fbfbf; text-decoration-color: #7fbfbf\">           </span><span style=\"color: #800000; text-decoration-color: #800000\">WARNING </span> Worker process still alive after <span style=\"color: #008080; text-decoration-color: #008080; font-weight: bold\">3.1999992370605472</span> seconds, killing      <a href=\"file:///Users/REhlers/software/dev/mammoth/.venv/lib/python3.10/site-packages/distributed/nanny.py\" target=\"_blank\"><span style=\"color: #7f7f7f; text-decoration-color: #7f7f7f\">distributed.nanny</span></a><span style=\"color: #7f7f7f; text-decoration-color: #7f7f7f\">:</span><a href=\"file:///Users/REhlers/software/dev/mammoth/.venv/lib/python3.10/site-packages/distributed/nanny.py#831\" target=\"_blank\"><span style=\"color: #7f7f7f; text-decoration-color: #7f7f7f\">831</span></a>\n",
       "</pre>\n"
      ],
      "text/plain": [
       "\u001b[2;36m          \u001b[0m\u001b[2;36m \u001b[0m\u001b[31mWARNING \u001b[0m Worker process still alive after \u001b[1;36m3.1999992370605472\u001b[0m seconds, killing      \u001b]8;id=775482;file:///Users/REhlers/software/dev/mammoth/.venv/lib/python3.10/site-packages/distributed/nanny.py\u001b\\\u001b[2mdistributed.nanny\u001b[0m\u001b]8;;\u001b\\\u001b[2m:\u001b[0m\u001b]8;id=852355;file:///Users/REhlers/software/dev/mammoth/.venv/lib/python3.10/site-packages/distributed/nanny.py#831\u001b\\\u001b[2m831\u001b[0m\u001b]8;;\u001b\\\n"
      ]
     },
     "metadata": {},
     "output_type": "display_data"
    },
    {
     "name": "stderr",
     "output_type": "stream",
     "text": [
      "2023-02-13 14:31:16,419 - distributed.nanny - WARNING - Worker process still alive after 3.2 seconds, killing\n"
     ]
    },
    {
     "data": {
      "text/html": [
       "<pre style=\"white-space:pre;overflow-x:auto;line-height:normal;font-family:Menlo,'DejaVu Sans Mono',consolas,'Courier New',monospace\"><span style=\"color: #7fbfbf; text-decoration-color: #7fbfbf\">           </span><span style=\"color: #800000; text-decoration-color: #800000\">WARNING </span> Worker process still alive after <span style=\"color: #008080; text-decoration-color: #008080; font-weight: bold\">3.2</span> seconds, killing                     <a href=\"file:///Users/REhlers/software/dev/mammoth/.venv/lib/python3.10/site-packages/distributed/nanny.py\" target=\"_blank\"><span style=\"color: #7f7f7f; text-decoration-color: #7f7f7f\">distributed.nanny</span></a><span style=\"color: #7f7f7f; text-decoration-color: #7f7f7f\">:</span><a href=\"file:///Users/REhlers/software/dev/mammoth/.venv/lib/python3.10/site-packages/distributed/nanny.py#831\" target=\"_blank\"><span style=\"color: #7f7f7f; text-decoration-color: #7f7f7f\">831</span></a>\n",
       "</pre>\n"
      ],
      "text/plain": [
       "\u001b[2;36m          \u001b[0m\u001b[2;36m \u001b[0m\u001b[31mWARNING \u001b[0m Worker process still alive after \u001b[1;36m3.2\u001b[0m seconds, killing                     \u001b]8;id=988334;file:///Users/REhlers/software/dev/mammoth/.venv/lib/python3.10/site-packages/distributed/nanny.py\u001b\\\u001b[2mdistributed.nanny\u001b[0m\u001b]8;;\u001b\\\u001b[2m:\u001b[0m\u001b]8;id=129160;file:///Users/REhlers/software/dev/mammoth/.venv/lib/python3.10/site-packages/distributed/nanny.py#831\u001b\\\u001b[2m831\u001b[0m\u001b]8;;\u001b\\\n"
      ]
     },
     "metadata": {},
     "output_type": "display_data"
    },
    {
     "name": "stderr",
     "output_type": "stream",
     "text": [
      "2023-02-13 14:31:16,421 - distributed.nanny - WARNING - Worker process still alive after 3.2 seconds, killing\n"
     ]
    },
    {
     "data": {
      "text/html": [
       "<pre style=\"white-space:pre;overflow-x:auto;line-height:normal;font-family:Menlo,'DejaVu Sans Mono',consolas,'Courier New',monospace\"><span style=\"color: #7fbfbf; text-decoration-color: #7fbfbf\">           </span><span style=\"color: #800000; text-decoration-color: #800000\">WARNING </span> Worker process still alive after <span style=\"color: #008080; text-decoration-color: #008080; font-weight: bold\">3.2</span> seconds, killing                     <a href=\"file:///Users/REhlers/software/dev/mammoth/.venv/lib/python3.10/site-packages/distributed/nanny.py\" target=\"_blank\"><span style=\"color: #7f7f7f; text-decoration-color: #7f7f7f\">distributed.nanny</span></a><span style=\"color: #7f7f7f; text-decoration-color: #7f7f7f\">:</span><a href=\"file:///Users/REhlers/software/dev/mammoth/.venv/lib/python3.10/site-packages/distributed/nanny.py#831\" target=\"_blank\"><span style=\"color: #7f7f7f; text-decoration-color: #7f7f7f\">831</span></a>\n",
       "</pre>\n"
      ],
      "text/plain": [
       "\u001b[2;36m          \u001b[0m\u001b[2;36m \u001b[0m\u001b[31mWARNING \u001b[0m Worker process still alive after \u001b[1;36m3.2\u001b[0m seconds, killing                     \u001b]8;id=467480;file:///Users/REhlers/software/dev/mammoth/.venv/lib/python3.10/site-packages/distributed/nanny.py\u001b\\\u001b[2mdistributed.nanny\u001b[0m\u001b]8;;\u001b\\\u001b[2m:\u001b[0m\u001b]8;id=655754;file:///Users/REhlers/software/dev/mammoth/.venv/lib/python3.10/site-packages/distributed/nanny.py#831\u001b\\\u001b[2m831\u001b[0m\u001b]8;;\u001b\\\n"
      ]
     },
     "metadata": {},
     "output_type": "display_data"
    }
   ],
   "source": [
    "job_executor.close()\n",
    "job_cluster.close()"
   ]
  },
  {
   "cell_type": "code",
   "execution_count": null,
   "metadata": {},
   "outputs": [],
   "source": []
  }
 ],
 "metadata": {
  "kernelspec": {
   "display_name": ".venv",
   "language": "python",
   "name": "python3"
  },
  "language_info": {
   "codemirror_mode": {
    "name": "ipython",
    "version": 3
   },
   "file_extension": ".py",
   "mimetype": "text/x-python",
   "name": "python",
   "nbconvert_exporter": "python",
   "pygments_lexer": "ipython3",
   "version": "3.10.8"
  },
  "orig_nbformat": 4,
  "vscode": {
   "interpreter": {
    "hash": "1d65bb7f5f25d512d5b31173bad01016a3b501790a1361b769a5765daf7b2eab"
   }
  }
 },
 "nbformat": 4,
 "nbformat_minor": 2
}
